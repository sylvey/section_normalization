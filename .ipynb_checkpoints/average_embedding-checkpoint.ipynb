{
 "cells": [
  {
   "cell_type": "code",
   "execution_count": 4,
   "metadata": {},
   "outputs": [
    {
     "name": "stderr",
     "output_type": "stream",
     "text": [
      "/jet/home/slin23/.conda/envs/pytorch/lib/python3.9/site-packages/tqdm/auto.py:21: TqdmWarning: IProgress not found. Please update jupyter and ipywidgets. See https://ipywidgets.readthedocs.io/en/stable/user_install.html\n",
      "  from .autonotebook import tqdm as notebook_tqdm\n"
     ]
    }
   ],
   "source": [
    "import torch\n",
    "from torch.utils.data import Dataset, DataLoader\n",
    "from sentence_transformers import SentenceTransformer, InputExample, losses\n",
    "import pandas"
   ]
  },
  {
   "cell_type": "code",
   "execution_count": 3,
   "metadata": {},
   "outputs": [
    {
     "name": "stdout",
     "output_type": "stream",
     "text": [
      "methods: 1492\n",
      "background: 215\n",
      "results: 314\n",
      "conclusions: 488\n",
      "objective: 523\n",
      "[[0, 1492], [1492, 1707], [1707, 2021], [2021, 2509], [2509, 3032]]\n"
     ]
    }
   ],
   "source": [
    "import pickle\n",
    "with open('structured_abstract_sections.pkl', 'rb') as f:\n",
    "    normalized_sections = pickle.load(f)\n",
    "\n",
    "sentences = []\n",
    "indices = []\n",
    "for normal_sect in normalized_sections:\n",
    "    print(f'{normal_sect}: {len(normalized_sections[normal_sect])}')\n",
    "    index = [len(sentences)]\n",
    "    sentences += normalized_sections[normal_sect]\n",
    "    index.append(len(sentences))\n",
    "    indices.append(index)\n",
    "    \n",
    "print(indices)"
   ]
  },
  {
   "cell_type": "code",
   "execution_count": null,
   "metadata": {},
   "outputs": [
    {
     "ename": "",
     "evalue": "",
     "output_type": "error",
     "traceback": [
      "\u001b[1;31mThe Kernel crashed while executing code in the current cell or a previous cell. \n",
      "\u001b[1;31mPlease review the code in the cell(s) to identify a possible cause of the failure. \n",
      "\u001b[1;31mClick <a href='https://aka.ms/vscodeJupyterKernelCrash'>here</a> for more info. \n",
      "\u001b[1;31mView Jupyter <a href='command:jupyter.viewOutput'>log</a> for further details."
     ]
    }
   ],
   "source": [
    "\n",
    "from collections import defaultdict\n",
    "from tqdm import tqdm\n",
    "fine_tuned_model = SentenceTransformer(\"models/fine_tuned_sentence_bert_model_ContrastiveLoss\")\n",
    "\n",
    "# 測試新模型\n",
    "embeddings = fine_tuned_model.encode(sentences)\n",
    "\n",
    "import numpy as np\n",
    "np.save(\"embeddings.npy\", embeddings)\n",
    "\n",
    "# 读取 embeddings\n",
    "# loaded_embeddings = np.load(\"embeddings.npy\")\n"
   ]
  }
 ],
 "metadata": {
  "kernelspec": {
   "display_name": "Python 3",
   "language": "python",
   "name": "python3"
  },
  "language_info": {
   "codemirror_mode": {
    "name": "ipython",
    "version": 3
   },
   "file_extension": ".py",
   "mimetype": "text/x-python",
   "name": "python",
   "nbconvert_exporter": "python",
   "pygments_lexer": "ipython3",
   "version": "3.9.21"
  }
 },
 "nbformat": 4,
 "nbformat_minor": 2
}
