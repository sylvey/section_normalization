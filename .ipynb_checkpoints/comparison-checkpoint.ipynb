{
 "cells": [
  {
   "cell_type": "code",
   "execution_count": 1,
   "metadata": {},
   "outputs": [
    {
     "data": {
      "text/plain": [
       "177918"
      ]
     },
     "execution_count": 1,
     "metadata": {},
     "output_type": "execute_result"
    }
   ],
   "source": [
    "import pandas as pd\n",
    "\n",
    "df = pd.read_csv('PMCXML6.tsv', delimiter='\\t')\n",
    "\n",
    "x = []\n",
    "sections = []\n",
    "data_size = 177918\n",
    "for ind, row in df.iterrows():\n",
    "    if len(x) >= data_size:\n",
    "        break\n",
    "    parts = row['title'].split('>')\n",
    "    desired_text = parts[2].strip()\n",
    "    if desired_text != \"\":\n",
    "        x.append(desired_text)\n",
    "        sections.append({row['section'], row['altsection']})\n",
    "\n",
    "len(x)\n"
   ]
  },
  {
   "cell_type": "code",
   "execution_count": null,
   "metadata": {},
   "outputs": [],
   "source": [
    "\n",
    "from sentence_transformers import SentenceTransformer, InputExample, losses\n",
    "fine_tuned_model = SentenceTransformer(\"models/fine_tuned_sentence_bert_model_ContrastiveLoss\")\n",
    "\n",
    "# 測試新模型\n",
    "embeddings = fine_tuned_model.encode(x)"
   ]
  },
  {
   "cell_type": "code",
   "execution_count": null,
   "metadata": {},
   "outputs": [],
   "source": [
    "import torch\n",
    "\n",
    "model = torch.load(\"classifier_model.pth\")\n",
    "\n",
    "model.eval()  # 設置為評估模式\n",
    "\n",
    "# 3. **定義 predict 函數**\n",
    "def predict(model, new_embeddings):\n",
    "    new_embeddings = torch.tensor(new_embeddings, dtype=torch.float32)  # 轉換成 tensor\n",
    "\n",
    "    with torch.no_grad():  # 禁用梯度計算，加速推理\n",
    "        outputs = model(new_embeddings)  # 前向傳播\n",
    "        predictions = torch.argmax(outputs, dim=1)  # 獲取每個樣本的最大索引（即預測類別）\n",
    "\n",
    "    return predictions.numpy()  # 轉回 NumPy 方便查看\n",
    "\n",
    "# 4. **測試新資料**\n",
    "import numpy as np\n",
    "\n",
    "predictions_supervised = predict(model, new_embeddings=embeddings)\n",
    "print(\"Predicted labels:\", predictions_supervised)\n"
   ]
  },
  {
   "cell_type": "code",
   "execution_count": null,
   "metadata": {},
   "outputs": [],
   "source": [
    "from sklearn.metrics.pairwise import cosine_similarity\n",
    "\n",
    "averages = np.load('averages.npy')\n",
    "\n",
    "similarity_matrix = cosine_similarity(embeddings, averages)\n",
    "predicted_averages = np.argmax(similarity_matrix, axis=1) \n",
    "print(\"Predicted labels:\", predicted_averages)\n"
   ]
  },
  {
   "cell_type": "code",
   "execution_count": null,
   "metadata": {},
   "outputs": [],
   "source": [
    "def get_acc(pred, y_test):\n",
    "    return np.sum(y_test == pred) / len(y_test) * 100\n",
    "\n",
    "get_acc(predicted_averages, predictions_supervised)"
   ]
  }
 ],
 "metadata": {
  "kernelspec": {
   "display_name": "Python 3",
   "language": "python",
   "name": "python3"
  },
  "language_info": {
   "codemirror_mode": {
    "name": "ipython",
    "version": 3
   },
   "file_extension": ".py",
   "mimetype": "text/x-python",
   "name": "python",
   "nbconvert_exporter": "python",
   "pygments_lexer": "ipython3",
   "version": "3.9.21"
  }
 },
 "nbformat": 4,
 "nbformat_minor": 2
}
