{
 "cells": [
  {
   "cell_type": "markdown",
   "metadata": {
    "jp-MarkdownHeadingCollapsed": true
   },
   "source": [
    "## whole"
   ]
  },
  {
   "cell_type": "code",
   "execution_count": 1,
   "metadata": {},
   "outputs": [],
   "source": [
    "import torch\n",
    "from torch.utils.data import Dataset, DataLoader\n",
    "from sentence_transformers import SentenceTransformer, InputExample, losses\n",
    "import pandas"
   ]
  },
  {
   "cell_type": "code",
   "execution_count": null,
   "metadata": {},
   "outputs": [
    {
     "name": "stdout",
     "output_type": "stream",
     "text": [
      "methods: 1492\n",
      "background: 215\n",
      "results: 314\n",
      "conclusions: 488\n",
      "objective: 523\n",
      "[[0, 1492], [1492, 1707], [1707, 2021], [2021, 2509], [2509, 3032]]\n"
     ]
    }
   ],
   "source": [
    "import pickle\n",
    "with open('structured_abstract_sections.pkl', 'rb') as f:\n",
    "    normalized_sections = pickle.load(f)\n",
    "\n",
    "sentences = []\n",
    "indices = []\n",
    "for normal_sect in normalized_sections:\n",
    "    print(f'{normal_sect}: {len(normalized_sections[normal_sect])}')\n",
    "    index = [len(sentences)]\n",
    "    sentences += [text.lower() for text in normalized_sections[normal_sect]]\n",
    "    index.append(len(sentences))\n",
    "    indices.append(index)\n",
    "    \n",
    "print(indices)"
   ]
  },
  {
   "cell_type": "code",
   "execution_count": null,
   "metadata": {},
   "outputs": [],
   "source": [
    "\n",
    "from collections import defaultdict\n",
    "from tqdm import tqdm\n",
    "fine_tuned_model = SentenceTransformer(\"models/fine_tuned_sentence_bert_model_ContrastiveLoss_lower\")\n",
    "\n",
    "# 測試新模型\n",
    "embeddings = fine_tuned_model.encode(sentences)\n",
    "\n",
    "import numpy as np\n",
    "# np.save(\"embeddings_lower_test.npy\", embeddings)\n",
    "\n",
    "# 读取 embeddings\n",
    "# loaded_embeddings = np.load(\"embeddings_lower.npy\")\n"
   ]
  },
  {
   "cell_type": "code",
   "execution_count": 4,
   "metadata": {},
   "outputs": [],
   "source": [
    "averages = []\n",
    "for start, end in indices:\n",
    "    embedding = embeddings[start:end]\n",
    "    averages.append(np.mean(embedding, axis=0))"
   ]
  },
  {
   "cell_type": "code",
   "execution_count": 5,
   "metadata": {},
   "outputs": [],
   "source": [
    "averages = np.array(averages)\n",
    "np.save(\"averages_lower.npy\", averages)"
   ]
  },
  {
   "cell_type": "code",
   "execution_count": 6,
   "metadata": {},
   "outputs": [
    {
     "name": "stdout",
     "output_type": "stream",
     "text": [
      "[[ 0.03558871  0.03356181 -0.06619266 ...  0.10495782  0.01723036\n",
      "   0.0366231 ]\n",
      " [-0.13124542  0.07400809 -0.09880937 ...  0.03050551 -0.00203388\n",
      "   0.02440936]\n",
      " [-0.07807221  0.11255819 -0.10282388 ...  0.00877835  0.00285315\n",
      "  -0.00887733]\n",
      " [-0.09178653  0.079993   -0.07731932 ...  0.05086267  0.01297714\n",
      "  -0.02654091]\n",
      " [-0.07913794  0.06918538 -0.09001073 ...  0.09340516 -0.0497851\n",
      "   0.01945007]]\n"
     ]
    }
   ],
   "source": [
    "print(averages)"
   ]
  },
  {
   "cell_type": "markdown",
   "metadata": {},
   "source": [
    "## test"
   ]
  },
  {
   "cell_type": "code",
   "execution_count": 1,
   "metadata": {},
   "outputs": [],
   "source": [
    "import torch\n",
    "from torch.utils.data import Dataset, DataLoader\n",
    "from sentence_transformers import SentenceTransformer, InputExample, losses\n",
    "import pandas"
   ]
  },
  {
   "cell_type": "code",
   "execution_count": 2,
   "metadata": {},
   "outputs": [
    {
     "name": "stdout",
     "output_type": "stream",
     "text": [
      "methods: 1492\n",
      "background: 215\n",
      "results: 314\n",
      "conclusions: 488\n",
      "objective: 523\n"
     ]
    }
   ],
   "source": [
    "import pickle\n",
    "import numpy as np\n",
    "with open('structured_abstract_sections.pkl', 'rb') as f:\n",
    "    normalized_sections = pickle.load(f)\n",
    "\n",
    "sentences = []\n",
    "indices = []\n",
    "for normal_sect in normalized_sections:\n",
    "    print(f'{normal_sect}: {len(normalized_sections[normal_sect])}')\n",
    "    index = [len(sentences)]\n",
    "    sentences += [text.lower() for text in normalized_sections[normal_sect]]\n",
    "    index.append(len(sentences))\n",
    "    indices.append(index)\n",
    "    \n",
    "labels = np.zeros(indices[-1][1], dtype=int)  # 創建一個與最大索引一致的 0 陣列\n",
    "\n",
    "# 根據 indices 填充標籤\n",
    "for i, (start, end) in enumerate(indices):\n",
    "    labels[start:end] = i\n"
   ]
  },
  {
   "cell_type": "code",
   "execution_count": 3,
   "metadata": {},
   "outputs": [],
   "source": [
    "from collections import defaultdict\n",
    "from tqdm import tqdm\n",
    "import torch\n",
    "from torch.utils.data import Dataset, DataLoader\n",
    "from sentence_transformers import SentenceTransformer, InputExample, losses\n",
    "import pandas\n",
    "\n",
    "fine_tuned_model = SentenceTransformer(\"models/fine_tuned_sentence_bert_model_ContrastiveLoss_test_lower\")\n",
    "\n",
    "# 測試新模型\n",
    "embeddings = fine_tuned_model.encode(sentences)\n"
   ]
  },
  {
   "cell_type": "code",
   "execution_count": 4,
   "metadata": {},
   "outputs": [],
   "source": [
    "from sklearn.model_selection import train_test_split\n",
    "\n",
    "num_samples = embeddings.shape[0]\n",
    "embedding_dim = embeddings.shape[1]\n",
    "num_classes = 5\n",
    "\n",
    "train_embeddings, test_embeddings, train_labels, test_labels = train_test_split(\n",
    "    embeddings, labels, test_size=0.1, random_state=42, shuffle=True\n",
    ")"
   ]
  },
  {
   "cell_type": "code",
   "execution_count": 5,
   "metadata": {},
   "outputs": [],
   "source": [
    "averages = []\n",
    "for i in range(5):\n",
    "    mask = train_labels == i\n",
    "    averages.append(np.mean(train_embeddings[mask], axis=0))"
   ]
  },
  {
   "cell_type": "code",
   "execution_count": 6,
   "metadata": {},
   "outputs": [
    {
     "name": "stdout",
     "output_type": "stream",
     "text": [
      "Predicted labels: [0 0 0 3 2 3 0 2 4 1 3 1 0 0 0 2 0 0 0 1 4 0 0 0 2 4 0 0 0 0 1 0 2 4 2 2 0\n",
      " 4 1 0 2 2 0 3 0 4 0 0 2 3 4 2 4 3 3 3 0 1 0 1 0 0 0 3 0 3 0 3 0 0 0 0 0 3\n",
      " 0 0 4 0 0 3 2 0 4 4 4 0 0 4 4 0 3 0 0 1 3 0 0 4 4 4 2 0 0 0 0 3 4 3 3 0 0\n",
      " 0 0 3 1 0 3 0 0 4 0 3 4 4 4 3 2 4 0 2 0 0 1 2 0 3 0 0 2 0 3 0 2 3 4 0 0 3\n",
      " 0 3 0 0 4 0 1 0 0 3 4 0 0 4 3 0 2 0 4 0 0 0 0 0 0 0 4 1 0 4 0 0 0 1 0 4 1\n",
      " 3 0 3 3 1 2 0 3 4 0 2 4 0 3 3 4 0 0 0 0 1 0 0 0 4 3 4 0 0 2 0 0 0 0 0 4 0\n",
      " 0 0 3 0 4 3 0 0 0 2 0 4 0 2 2 0 4 2 4 2 0 1 4 0 0 0 0 4 3 1 0 1 0 4 0 2 4\n",
      " 0 4 4 2 0 2 0 0 0 1 0 0 0 0 0 0 0 0 0 0 0 1 4 0 0 0 0 4 0 0 3 0 0 0 4 0 2\n",
      " 0 4 4 1 0 2 0 0]\n"
     ]
    }
   ],
   "source": [
    "import numpy as np\n",
    "from sklearn.metrics.pairwise import cosine_similarity\n",
    "\n",
    "\n",
    "averages = np.load('averages_lower.npy')\n",
    "threshold = 0.95\n",
    "similarity_matrix = cosine_similarity(test_embeddings, averages)\n",
    "predicted_averages = np.argmax(similarity_matrix, axis=1)\n",
    "print(\"Predicted labels:\", predicted_averages)"
   ]
  },
  {
   "cell_type": "code",
   "execution_count": 8,
   "metadata": {},
   "outputs": [
    {
     "name": "stdout",
     "output_type": "stream",
     "text": [
      "Precision: 0.9233\n",
      "Recall: 0.9211\n",
      "F1-score: 0.9219\n",
      "accuracy: 0.9211\n"
     ]
    }
   ],
   "source": [
    "def get_acc(pred, y_test):\n",
    "    return np.sum(y_test == pred) / len(y_test)\n",
    "\n",
    "acc = get_acc(predicted_averages, test_labels)\n",
    "\n",
    "from sklearn.metrics import precision_score, recall_score, f1_score\n",
    "precision = precision_score(test_labels, predicted_averages, average='weighted')  # 二分类\n",
    "recall = recall_score(test_labels, predicted_averages, average='weighted')\n",
    "f1 = f1_score(test_labels, predicted_averages, average='weighted')\n",
    "\n",
    "print(f\"Precision: {precision:.4f}\")\n",
    "print(f\"Recall: {recall:.4f}\")\n",
    "print(f\"F1-score: {f1:.4f}\")\n",
    "print(f\"accuracy: {acc:.4f}\")\n"
   ]
  }
 ],
 "metadata": {
  "kernelspec": {
   "display_name": "Python 3 (ipykernel)",
   "language": "python",
   "name": "python3"
  },
  "language_info": {
   "codemirror_mode": {
    "name": "ipython",
    "version": 3
   },
   "file_extension": ".py",
   "mimetype": "text/x-python",
   "name": "python",
   "nbconvert_exporter": "python",
   "pygments_lexer": "ipython3",
   "version": "3.12.7"
  }
 },
 "nbformat": 4,
 "nbformat_minor": 4
}
