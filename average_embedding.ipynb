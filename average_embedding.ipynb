{
 "cells": [
  {
   "cell_type": "markdown",
   "metadata": {},
   "source": [
    "## whole"
   ]
  },
  {
   "cell_type": "code",
   "execution_count": 1,
   "metadata": {},
   "outputs": [],
   "source": [
    "import torch\n",
    "from torch.utils.data import Dataset, DataLoader\n",
    "from sentence_transformers import SentenceTransformer, InputExample, losses\n",
    "import pandas"
   ]
  },
  {
   "cell_type": "code",
   "execution_count": 2,
   "metadata": {},
   "outputs": [
    {
     "name": "stdout",
     "output_type": "stream",
     "text": [
      "methods: 1492\n",
      "background: 215\n",
      "results: 314\n",
      "conclusions: 488\n",
      "objective: 523\n",
      "[[0, 1492], [1492, 1707], [1707, 2021], [2021, 2509], [2509, 3032]]\n"
     ]
    }
   ],
   "source": [
    "import pickle\n",
    "with open('structured_abstract_sections.pkl', 'rb') as f:\n",
    "    normalized_sections = pickle.load(f)\n",
    "\n",
    "sentences = []\n",
    "indices = []\n",
    "for normal_sect in normalized_sections:\n",
    "    print(f'{normal_sect}: {len(normalized_sections[normal_sect])}')\n",
    "    index = [len(sentences)]\n",
    "    sentences += [text.lower() for text in normalized_sections[normal_sect]]\n",
    "    index.append(len(sentences))\n",
    "    indices.append(index)\n",
    "    \n",
    "print(indices)"
   ]
  },
  {
   "cell_type": "code",
   "execution_count": 3,
   "metadata": {},
   "outputs": [],
   "source": [
    "\n",
    "from collections import defaultdict\n",
    "from tqdm import tqdm\n",
    "fine_tuned_model = SentenceTransformer(\"models/fine_tuned_sentence_bert_model_ContrastiveLoss_lower\")\n",
    "\n",
    "# 測試新模型\n",
    "embeddings = fine_tuned_model.encode(sentences)\n",
    "\n",
    "import numpy as np\n",
    "# np.save(\"embeddings_lower_test.npy\", embeddings)\n",
    "\n",
    "# 读取 embeddings\n",
    "# loaded_embeddings = np.load(\"embeddings_lower.npy\")\n"
   ]
  },
  {
   "cell_type": "code",
   "execution_count": 4,
   "metadata": {},
   "outputs": [],
   "source": [
    "averages = []\n",
    "for start, end in indices:\n",
    "    embedding = embeddings[start:end]\n",
    "    averages.append(np.mean(embedding, axis=0))"
   ]
  },
  {
   "cell_type": "code",
   "execution_count": 5,
   "metadata": {},
   "outputs": [],
   "source": [
    "averages = np.array(averages)\n",
    "np.save(\"averages_lower.npy\", averages)"
   ]
  },
  {
   "cell_type": "code",
   "execution_count": 6,
   "metadata": {},
   "outputs": [
    {
     "name": "stdout",
     "output_type": "stream",
     "text": [
      "[[ 0.03558871  0.03356181 -0.06619266 ...  0.10495782  0.01723036\n",
      "   0.0366231 ]\n",
      " [-0.13124542  0.07400809 -0.09880937 ...  0.03050551 -0.00203388\n",
      "   0.02440936]\n",
      " [-0.07807221  0.11255819 -0.10282388 ...  0.00877835  0.00285315\n",
      "  -0.00887733]\n",
      " [-0.09178653  0.079993   -0.07731932 ...  0.05086267  0.01297714\n",
      "  -0.02654091]\n",
      " [-0.07913794  0.06918538 -0.09001073 ...  0.09340516 -0.0497851\n",
      "   0.01945007]]\n"
     ]
    }
   ],
   "source": [
    "print(averages)"
   ]
  },
  {
   "cell_type": "markdown",
   "metadata": {},
   "source": [
    "## test"
   ]
  },
  {
   "cell_type": "code",
   "execution_count": 7,
   "metadata": {},
   "outputs": [],
   "source": [
    "import torch\n",
    "from torch.utils.data import Dataset, DataLoader\n",
    "from sentence_transformers import SentenceTransformer, InputExample, losses\n",
    "import pandas"
   ]
  },
  {
   "cell_type": "code",
   "execution_count": 8,
   "metadata": {},
   "outputs": [
    {
     "name": "stdout",
     "output_type": "stream",
     "text": [
      "methods: 1492\n",
      "background: 215\n",
      "results: 314\n",
      "conclusions: 488\n",
      "objective: 523\n"
     ]
    }
   ],
   "source": [
    "import pickle\n",
    "import numpy as np\n",
    "with open('structured_abstract_sections.pkl', 'rb') as f:\n",
    "    normalized_sections = pickle.load(f)\n",
    "\n",
    "sentences = []\n",
    "indices = []\n",
    "for normal_sect in normalized_sections:\n",
    "    print(f'{normal_sect}: {len(normalized_sections[normal_sect])}')\n",
    "    index = [len(sentences)]\n",
    "    sentences += [text.lower() for text in normalized_sections[normal_sect]]\n",
    "    index.append(len(sentences))\n",
    "    indices.append(index)\n",
    "    \n",
    "labels = np.zeros(indices[-1][1], dtype=int)  # 創建一個與最大索引一致的 0 陣列\n",
    "\n",
    "# 根據 indices 填充標籤\n",
    "for i, (start, end) in enumerate(indices):\n",
    "    labels[start:end] = i\n"
   ]
  },
  {
   "cell_type": "code",
   "execution_count": 9,
   "metadata": {},
   "outputs": [],
   "source": [
    "from collections import defaultdict\n",
    "from tqdm import tqdm\n",
    "import torch\n",
    "from torch.utils.data import Dataset, DataLoader\n",
    "from sentence_transformers import SentenceTransformer, InputExample, losses\n",
    "import pandas\n",
    "\n",
    "fine_tuned_model = SentenceTransformer(\"models/fine_tuned_sentence_bert_model_ContrastiveLoss_test_lower\")\n",
    "\n",
    "# 測試新模型\n",
    "embeddings = fine_tuned_model.encode(sentences)\n"
   ]
  },
  {
   "cell_type": "code",
   "execution_count": 10,
   "metadata": {},
   "outputs": [],
   "source": [
    "from sklearn.model_selection import train_test_split\n",
    "\n",
    "num_samples = embeddings.shape[0]\n",
    "embedding_dim = embeddings.shape[1]\n",
    "num_classes = 5\n",
    "\n",
    "indices = np.arange(len(labels))  # 生成原始数据的索引\n",
    "\n",
    "train_embeddings, test_embeddings, train_labels, test_labels, train_indices, test_indices = train_test_split(\n",
    "    embeddings, labels, indices, test_size=0.1, random_state=42, shuffle=True, stratify=labels\n",
    ")"
   ]
  },
  {
   "cell_type": "code",
   "execution_count": 11,
   "metadata": {},
   "outputs": [
    {
     "data": {
      "text/html": [
       "<div>\n",
       "<style scoped>\n",
       "    .dataframe tbody tr th:only-of-type {\n",
       "        vertical-align: middle;\n",
       "    }\n",
       "\n",
       "    .dataframe tbody tr th {\n",
       "        vertical-align: top;\n",
       "    }\n",
       "\n",
       "    .dataframe thead th {\n",
       "        text-align: right;\n",
       "    }\n",
       "</style>\n",
       "<table border=\"1\" class=\"dataframe\">\n",
       "  <thead>\n",
       "    <tr style=\"text-align: right;\">\n",
       "      <th></th>\n",
       "      <th>Unnamed: 0</th>\n",
       "      <th>True Label</th>\n",
       "      <th>Predicted_average</th>\n",
       "      <th>Predicted_supervised</th>\n",
       "    </tr>\n",
       "  </thead>\n",
       "  <tbody>\n",
       "    <tr>\n",
       "      <th>0</th>\n",
       "      <td>0</td>\n",
       "      <td>methods</td>\n",
       "      <td>methods</td>\n",
       "      <td>methods</td>\n",
       "    </tr>\n",
       "    <tr>\n",
       "      <th>1</th>\n",
       "      <td>1</td>\n",
       "      <td>results</td>\n",
       "      <td>results</td>\n",
       "      <td>results</td>\n",
       "    </tr>\n",
       "    <tr>\n",
       "      <th>2</th>\n",
       "      <td>2</td>\n",
       "      <td>objective</td>\n",
       "      <td>objective</td>\n",
       "      <td>objective</td>\n",
       "    </tr>\n",
       "    <tr>\n",
       "      <th>3</th>\n",
       "      <td>3</td>\n",
       "      <td>conclusions</td>\n",
       "      <td>conclusions</td>\n",
       "      <td>conclusions</td>\n",
       "    </tr>\n",
       "    <tr>\n",
       "      <th>4</th>\n",
       "      <td>4</td>\n",
       "      <td>methods</td>\n",
       "      <td>results</td>\n",
       "      <td>results</td>\n",
       "    </tr>\n",
       "    <tr>\n",
       "      <th>...</th>\n",
       "      <td>...</td>\n",
       "      <td>...</td>\n",
       "      <td>...</td>\n",
       "      <td>...</td>\n",
       "    </tr>\n",
       "    <tr>\n",
       "      <th>299</th>\n",
       "      <td>299</td>\n",
       "      <td>objective</td>\n",
       "      <td>objective</td>\n",
       "      <td>objective</td>\n",
       "    </tr>\n",
       "    <tr>\n",
       "      <th>300</th>\n",
       "      <td>300</td>\n",
       "      <td>conclusions</td>\n",
       "      <td>conclusions</td>\n",
       "      <td>conclusions</td>\n",
       "    </tr>\n",
       "    <tr>\n",
       "      <th>301</th>\n",
       "      <td>301</td>\n",
       "      <td>objective</td>\n",
       "      <td>objective</td>\n",
       "      <td>objective</td>\n",
       "    </tr>\n",
       "    <tr>\n",
       "      <th>302</th>\n",
       "      <td>302</td>\n",
       "      <td>background</td>\n",
       "      <td>background</td>\n",
       "      <td>background</td>\n",
       "    </tr>\n",
       "    <tr>\n",
       "      <th>303</th>\n",
       "      <td>303</td>\n",
       "      <td>methods</td>\n",
       "      <td>methods</td>\n",
       "      <td>methods</td>\n",
       "    </tr>\n",
       "  </tbody>\n",
       "</table>\n",
       "<p>304 rows × 4 columns</p>\n",
       "</div>"
      ],
      "text/plain": [
       "     Unnamed: 0   True Label Predicted_average Predicted_supervised\n",
       "0             0      methods           methods              methods\n",
       "1             1      results           results              results\n",
       "2             2    objective         objective            objective\n",
       "3             3  conclusions       conclusions          conclusions\n",
       "4             4      methods           results              results\n",
       "..          ...          ...               ...                  ...\n",
       "299         299    objective         objective            objective\n",
       "300         300  conclusions       conclusions          conclusions\n",
       "301         301    objective         objective            objective\n",
       "302         302   background        background           background\n",
       "303         303      methods           methods              methods\n",
       "\n",
       "[304 rows x 4 columns]"
      ]
     },
     "execution_count": 11,
     "metadata": {},
     "output_type": "execute_result"
    }
   ],
   "source": [
    "import pandas as pd\n",
    "\n",
    "df = pd.read_csv('result_on_NLM.csv')\n",
    "df"
   ]
  },
  {
   "cell_type": "code",
   "execution_count": 12,
   "metadata": {},
   "outputs": [
    {
     "data": {
      "text/html": [
       "<div>\n",
       "<style scoped>\n",
       "    .dataframe tbody tr th:only-of-type {\n",
       "        vertical-align: middle;\n",
       "    }\n",
       "\n",
       "    .dataframe tbody tr th {\n",
       "        vertical-align: top;\n",
       "    }\n",
       "\n",
       "    .dataframe thead th {\n",
       "        text-align: right;\n",
       "    }\n",
       "</style>\n",
       "<table border=\"1\" class=\"dataframe\">\n",
       "  <thead>\n",
       "    <tr style=\"text-align: right;\">\n",
       "      <th></th>\n",
       "      <th>Unnamed: 0</th>\n",
       "      <th>True Label</th>\n",
       "      <th>Predicted_average</th>\n",
       "      <th>Predicted_supervised</th>\n",
       "      <th>actual heading</th>\n",
       "    </tr>\n",
       "  </thead>\n",
       "  <tbody>\n",
       "    <tr>\n",
       "      <th>0</th>\n",
       "      <td>0</td>\n",
       "      <td>methods</td>\n",
       "      <td>methods</td>\n",
       "      <td>methods</td>\n",
       "      <td>place and duration</td>\n",
       "    </tr>\n",
       "    <tr>\n",
       "      <th>1</th>\n",
       "      <td>1</td>\n",
       "      <td>results</td>\n",
       "      <td>results</td>\n",
       "      <td>results</td>\n",
       "      <td>main outcome</td>\n",
       "    </tr>\n",
       "    <tr>\n",
       "      <th>2</th>\n",
       "      <td>2</td>\n",
       "      <td>objective</td>\n",
       "      <td>objective</td>\n",
       "      <td>objective</td>\n",
       "      <td>objective and methods</td>\n",
       "    </tr>\n",
       "    <tr>\n",
       "      <th>3</th>\n",
       "      <td>3</td>\n",
       "      <td>conclusions</td>\n",
       "      <td>conclusions</td>\n",
       "      <td>conclusions</td>\n",
       "      <td>mini-abstract</td>\n",
       "    </tr>\n",
       "    <tr>\n",
       "      <th>4</th>\n",
       "      <td>4</td>\n",
       "      <td>methods</td>\n",
       "      <td>results</td>\n",
       "      <td>results</td>\n",
       "      <td>outcomes of interest</td>\n",
       "    </tr>\n",
       "    <tr>\n",
       "      <th>...</th>\n",
       "      <td>...</td>\n",
       "      <td>...</td>\n",
       "      <td>...</td>\n",
       "      <td>...</td>\n",
       "      <td>...</td>\n",
       "    </tr>\n",
       "    <tr>\n",
       "      <th>299</th>\n",
       "      <td>299</td>\n",
       "      <td>objective</td>\n",
       "      <td>objective</td>\n",
       "      <td>objective</td>\n",
       "      <td>the aim of study</td>\n",
       "    </tr>\n",
       "    <tr>\n",
       "      <th>300</th>\n",
       "      <td>300</td>\n",
       "      <td>conclusions</td>\n",
       "      <td>conclusions</td>\n",
       "      <td>conclusions</td>\n",
       "      <td>conclusion/implications</td>\n",
       "    </tr>\n",
       "    <tr>\n",
       "      <th>301</th>\n",
       "      <td>301</td>\n",
       "      <td>objective</td>\n",
       "      <td>objective</td>\n",
       "      <td>objective</td>\n",
       "      <td>study aims</td>\n",
       "    </tr>\n",
       "    <tr>\n",
       "      <th>302</th>\n",
       "      <td>302</td>\n",
       "      <td>background</td>\n",
       "      <td>background</td>\n",
       "      <td>background</td>\n",
       "      <td>availability and supplementary information</td>\n",
       "    </tr>\n",
       "    <tr>\n",
       "      <th>303</th>\n",
       "      <td>303</td>\n",
       "      <td>methods</td>\n",
       "      <td>methods</td>\n",
       "      <td>methods</td>\n",
       "      <td>clinical study</td>\n",
       "    </tr>\n",
       "  </tbody>\n",
       "</table>\n",
       "<p>304 rows × 5 columns</p>\n",
       "</div>"
      ],
      "text/plain": [
       "     Unnamed: 0   True Label Predicted_average Predicted_supervised  \\\n",
       "0             0      methods           methods              methods   \n",
       "1             1      results           results              results   \n",
       "2             2    objective         objective            objective   \n",
       "3             3  conclusions       conclusions          conclusions   \n",
       "4             4      methods           results              results   \n",
       "..          ...          ...               ...                  ...   \n",
       "299         299    objective         objective            objective   \n",
       "300         300  conclusions       conclusions          conclusions   \n",
       "301         301    objective         objective            objective   \n",
       "302         302   background        background           background   \n",
       "303         303      methods           methods              methods   \n",
       "\n",
       "                                 actual heading  \n",
       "0                            place and duration  \n",
       "1                                  main outcome  \n",
       "2                         objective and methods  \n",
       "3                                 mini-abstract  \n",
       "4                          outcomes of interest  \n",
       "..                                          ...  \n",
       "299                            the aim of study  \n",
       "300                     conclusion/implications  \n",
       "301                                  study aims  \n",
       "302  availability and supplementary information  \n",
       "303                              clinical study  \n",
       "\n",
       "[304 rows x 5 columns]"
      ]
     },
     "execution_count": 12,
     "metadata": {},
     "output_type": "execute_result"
    }
   ],
   "source": [
    "df['actual heading'] = [sentences[i] for i in test_indices]\n",
    "df"
   ]
  },
  {
   "cell_type": "code",
   "execution_count": 13,
   "metadata": {},
   "outputs": [],
   "source": [
    "df.to_csv('result_on_NLM.csv')"
   ]
  },
  {
   "cell_type": "code",
   "execution_count": 42,
   "metadata": {},
   "outputs": [],
   "source": [
    "averages = []\n",
    "for i in range(5):\n",
    "    mask = train_labels == i\n",
    "    averages.append(np.mean(train_embeddings[mask], axis=0))"
   ]
  },
  {
   "cell_type": "code",
   "execution_count": 43,
   "metadata": {},
   "outputs": [],
   "source": [
    "np.save('average_model/average_lower_test.npy', averages)"
   ]
  },
  {
   "cell_type": "code",
   "execution_count": 44,
   "metadata": {},
   "outputs": [
    {
     "name": "stdout",
     "output_type": "stream",
     "text": [
      "Predicted labels: [0 2 4 3 2 3 3 0 3 0 0 0 3 0 1 3 0 0 3 0 0 1 2 0 4 1 1 0 3 4 1 2 2 3 4 0 4\n",
      " 0 0 0 1 0 3 0 0 3 0 2 2 0 4 0 3 3 0 4 3 3 4 0 0 0 2 0 1 0 2 3 3 4 0 1 0 2\n",
      " 0 0 2 3 0 0 0 0 2 3 0 0 0 3 4 3 1 3 1 0 0 3 2 4 0 0 1 2 4 3 4 0 2 0 3 0 0\n",
      " 2 0 0 0 0 1 0 0 3 0 2 4 3 0 0 2 0 0 4 4 0 0 4 4 0 4 0 0 0 0 4 0 0 0 0 4 1\n",
      " 0 4 0 0 3 0 0 0 3 3 0 2 0 4 3 2 0 3 0 0 0 1 0 0 3 0 0 4 0 2 0 1 0 3 2 0 2\n",
      " 2 4 0 0 4 1 4 3 0 1 4 0 0 0 4 0 0 1 0 0 3 0 3 1 0 0 0 0 4 2 3 0 3 0 1 4 0\n",
      " 0 1 0 0 0 0 1 0 4 0 4 1 4 0 4 3 0 0 4 3 3 0 0 4 0 2 0 0 3 0 3 4 0 2 0 0 0\n",
      " 3 0 0 0 0 0 4 4 4 3 3 3 3 0 0 0 4 4 3 4 0 1 4 0 0 0 0 0 3 2 3 0 0 0 0 2 0\n",
      " 1 2 4 4 3 4 1 0]\n"
     ]
    }
   ],
   "source": [
    "import numpy as np\n",
    "from sklearn.metrics.pairwise import cosine_similarity\n",
    "\n",
    "threshold = 0.8\n",
    "similarity_matrix = cosine_similarity(test_embeddings, averages)\n",
    "predicted_averages = np.argmax(similarity_matrix, axis=1)\n",
    "print(\"Predicted labels:\", predicted_averages)"
   ]
  },
  {
   "cell_type": "code",
   "execution_count": 45,
   "metadata": {},
   "outputs": [
    {
     "name": "stdout",
     "output_type": "stream",
     "text": [
      "Precision: 0.8758\n",
      "Recall: 0.8948\n",
      "F1-score: 0.8835\n",
      "accuracy: 0.9112\n"
     ]
    }
   ],
   "source": [
    "def get_acc(pred, y_test):\n",
    "    return np.sum(y_test == pred) / len(y_test)\n",
    "\n",
    "acc = get_acc(predicted_averages, test_labels)\n",
    "average = 'macro'\n",
    "from sklearn.metrics import precision_score, recall_score, f1_score\n",
    "precision = precision_score(test_labels, predicted_averages, average=average)  # 二分类\n",
    "recall = recall_score(test_labels, predicted_averages, average=average)\n",
    "f1 = f1_score(test_labels, predicted_averages, average=average)\n",
    "\n",
    "print(f\"Precision: {precision:.4f}\")\n",
    "print(f\"Recall: {recall:.4f}\")\n",
    "print(f\"F1-score: {f1:.4f}\")\n",
    "print(f\"accuracy: {acc:.4f}\")\n"
   ]
  },
  {
   "cell_type": "code",
   "execution_count": 46,
   "metadata": {},
   "outputs": [
    {
     "name": "stdout",
     "output_type": "stream",
     "text": [
      "              precision    recall  f1-score   support\n",
      "\n",
      "           0     0.9456    0.9267    0.9360       150\n",
      "           1     0.7692    0.9091    0.8333        22\n",
      "           2     0.8000    0.7742    0.7869        31\n",
      "           3     0.9057    0.9796    0.9412        49\n",
      "           4     0.9583    0.8846    0.9200        52\n",
      "\n",
      "    accuracy                         0.9112       304\n",
      "   macro avg     0.8758    0.8948    0.8835       304\n",
      "weighted avg     0.9137    0.9112    0.9115       304\n",
      "\n"
     ]
    }
   ],
   "source": [
    "from sklearn.metrics import classification_report\n",
    "\n",
    "print(classification_report(test_labels, predicted_averages, digits=4))\n"
   ]
  },
  {
   "cell_type": "code",
   "execution_count": 47,
   "metadata": {},
   "outputs": [],
   "source": [
    "mapping = {\n",
    "    -1: 'None',\n",
    "    0:'methods',\n",
    "    1:'background',\n",
    "    2:'results',\n",
    "    3:'conclusions',\n",
    "    4:'objective',\n",
    "}"
   ]
  },
  {
   "cell_type": "code",
   "execution_count": 48,
   "metadata": {},
   "outputs": [
    {
     "data": {
      "image/png": "[encoded data removed]",
      "text/plain": [
       "<Figure size 800x600 with 1 Axes>"
      ]
     },
     "metadata": {},
     "output_type": "display_data"
    }
   ],
   "source": [
    "import numpy as np\n",
    "import matplotlib.pyplot as plt\n",
    "from sklearn.metrics import roc_curve, auc\n",
    "from sklearn.preprocessing import label_binarize\n",
    "\n",
    "# 假設 test_labels 和 predicted_averages 是數值類別\n",
    "num_classes = len(np.unique(test_labels))\n",
    "\n",
    "# One-hot 編碼\n",
    "y_test_bin = label_binarize(test_labels, classes=np.arange(num_classes))\n",
    "y_score = similarity_matrix  # 這裡的 similarity_matrix 作為分數\n",
    "\n",
    "# 繪製 ROC 曲線\n",
    "plt.figure(figsize=(8, 6))\n",
    "for i in range(num_classes):\n",
    "    fpr, tpr, _ = roc_curve(y_test_bin[:, i], y_score[:, i])\n",
    "    roc_auc = auc(fpr, tpr)\n",
    "    plt.plot(fpr, tpr, label=f'Class {i} (AUC = {roc_auc:.2f})')\n",
    "\n",
    "# 繪製對角線\n",
    "plt.plot([0, 1], [0, 1], 'k--')\n",
    "\n",
    "# 設定標題和標籤\n",
    "plt.xlabel(\"False Positive Rate\")\n",
    "plt.ylabel(\"True Positive Rate\")\n",
    "plt.title(\"ROC Curve (One-vs-Rest)\")\n",
    "plt.legend(loc=\"lower right\")\n",
    "\n",
    "plt.show()\n"
   ]
  },
  {
   "cell_type": "code",
   "execution_count": 49,
   "metadata": {},
   "outputs": [
    {
     "name": "stdout",
     "output_type": "stream",
     "text": [
      "Overall Accuracy: 0.9112\n",
      "\n",
      "Per-label Performance:\n",
      "Label methods: Precision=0.9456, Recall=0.9267, F1-score=0.9360\n",
      "Label background: Precision=0.7692, Recall=0.9091, F1-score=0.8333\n",
      "Label results: Precision=0.8000, Recall=0.7742, F1-score=0.7869\n",
      "Label conclusions: Precision=0.9057, Recall=0.9796, F1-score=0.9412\n",
      "Label objective: Precision=0.9583, Recall=0.8846, F1-score=0.9200\n"
     ]
    }
   ],
   "source": [
    "precision_per_label = precision_score(test_labels, predicted_averages, average=None)\n",
    "recall_per_label = recall_score(test_labels, predicted_averages, average=None)\n",
    "f1_per_label = f1_score(test_labels, predicted_averages, average=None)\n",
    "\n",
    "# 输出整体 performance\n",
    "print(f\"Overall Accuracy: {acc:.4f}\")\n",
    "print(\"\\nPer-label Performance:\")\n",
    "for i, (p, r, f1) in enumerate(zip(precision_per_label, recall_per_label, f1_per_label)):\n",
    "    print(f\"Label {mapping[i]}: Precision={p:.4f}, Recall={r:.4f}, F1-score={f1:.4f}\")"
   ]
  },
  {
   "cell_type": "code",
   "execution_count": 50,
   "metadata": {},
   "outputs": [
    {
     "data": {
      "text/html": [
       "<div>\n",
       "<style scoped>\n",
       "    .dataframe tbody tr th:only-of-type {\n",
       "        vertical-align: middle;\n",
       "    }\n",
       "\n",
       "    .dataframe tbody tr th {\n",
       "        vertical-align: top;\n",
       "    }\n",
       "\n",
       "    .dataframe thead th {\n",
       "        text-align: right;\n",
       "    }\n",
       "</style>\n",
       "<table border=\"1\" class=\"dataframe\">\n",
       "  <thead>\n",
       "    <tr style=\"text-align: right;\">\n",
       "      <th></th>\n",
       "      <th>True Label</th>\n",
       "      <th>Predicted_average</th>\n",
       "    </tr>\n",
       "  </thead>\n",
       "  <tbody>\n",
       "    <tr>\n",
       "      <th>0</th>\n",
       "      <td>methods</td>\n",
       "      <td>methods</td>\n",
       "    </tr>\n",
       "    <tr>\n",
       "      <th>1</th>\n",
       "      <td>results</td>\n",
       "      <td>results</td>\n",
       "    </tr>\n",
       "    <tr>\n",
       "      <th>2</th>\n",
       "      <td>objective</td>\n",
       "      <td>objective</td>\n",
       "    </tr>\n",
       "    <tr>\n",
       "      <th>3</th>\n",
       "      <td>conclusions</td>\n",
       "      <td>conclusions</td>\n",
       "    </tr>\n",
       "    <tr>\n",
       "      <th>4</th>\n",
       "      <td>methods</td>\n",
       "      <td>results</td>\n",
       "    </tr>\n",
       "    <tr>\n",
       "      <th>...</th>\n",
       "      <td>...</td>\n",
       "      <td>...</td>\n",
       "    </tr>\n",
       "    <tr>\n",
       "      <th>299</th>\n",
       "      <td>objective</td>\n",
       "      <td>objective</td>\n",
       "    </tr>\n",
       "    <tr>\n",
       "      <th>300</th>\n",
       "      <td>conclusions</td>\n",
       "      <td>conclusions</td>\n",
       "    </tr>\n",
       "    <tr>\n",
       "      <th>301</th>\n",
       "      <td>objective</td>\n",
       "      <td>objective</td>\n",
       "    </tr>\n",
       "    <tr>\n",
       "      <th>302</th>\n",
       "      <td>background</td>\n",
       "      <td>background</td>\n",
       "    </tr>\n",
       "    <tr>\n",
       "      <th>303</th>\n",
       "      <td>methods</td>\n",
       "      <td>methods</td>\n",
       "    </tr>\n",
       "  </tbody>\n",
       "</table>\n",
       "<p>304 rows × 2 columns</p>\n",
       "</div>"
      ],
      "text/plain": [
       "      True Label Predicted_average\n",
       "0        methods           methods\n",
       "1        results           results\n",
       "2      objective         objective\n",
       "3    conclusions       conclusions\n",
       "4        methods           results\n",
       "..           ...               ...\n",
       "299    objective         objective\n",
       "300  conclusions       conclusions\n",
       "301    objective         objective\n",
       "302   background        background\n",
       "303      methods           methods\n",
       "\n",
       "[304 rows x 2 columns]"
      ]
     },
     "execution_count": 50,
     "metadata": {},
     "output_type": "execute_result"
    }
   ],
   "source": [
    "\n",
    "import pandas as pd\n",
    "df = pd.DataFrame({'True Label': [mapping[i] for i in test_labels], 'Predicted_average': [mapping[i] for i in predicted_averages]})\n",
    "df"
   ]
  },
  {
   "cell_type": "code",
   "execution_count": 51,
   "metadata": {},
   "outputs": [
    {
     "data": {
      "text/plain": [
       "True Label\n",
       "methods        150\n",
       "objective       52\n",
       "conclusions     49\n",
       "results         31\n",
       "background      22\n",
       "Name: count, dtype: int64"
      ]
     },
     "execution_count": 51,
     "metadata": {},
     "output_type": "execute_result"
    }
   ],
   "source": [
    "df['True Label'].value_counts()"
   ]
  },
  {
   "cell_type": "code",
   "execution_count": 52,
   "metadata": {},
   "outputs": [],
   "source": [
    "df.to_csv('result_on_NLM.csv')"
   ]
  },
  {
   "cell_type": "markdown",
   "metadata": {
    "jp-MarkdownHeadingCollapsed": true
   },
   "source": [
    "## val"
   ]
  },
  {
   "cell_type": "code",
   "execution_count": 25,
   "metadata": {},
   "outputs": [],
   "source": [
    "import torch\n",
    "from torch.utils.data import Dataset, DataLoader\n",
    "from sentence_transformers import SentenceTransformer, InputExample, losses\n",
    "import pandas"
   ]
  },
  {
   "cell_type": "code",
   "execution_count": 26,
   "metadata": {},
   "outputs": [
    {
     "name": "stdout",
     "output_type": "stream",
     "text": [
      "methods: 1492\n",
      "background: 215\n",
      "results: 314\n",
      "conclusions: 488\n",
      "objective: 523\n"
     ]
    }
   ],
   "source": [
    "import pickle\n",
    "import numpy as np\n",
    "with open('structured_abstract_sections.pkl', 'rb') as f:\n",
    "    normalized_sections = pickle.load(f)\n",
    "\n",
    "sentences = []\n",
    "indices = []\n",
    "for normal_sect in normalized_sections:\n",
    "    print(f'{normal_sect}: {len(normalized_sections[normal_sect])}')\n",
    "    index = [len(sentences)]\n",
    "    sentences += [text.lower() for text in normalized_sections[normal_sect]]\n",
    "    index.append(len(sentences))\n",
    "    indices.append(index)\n",
    "    \n",
    "labels = np.zeros(indices[-1][1], dtype=int)  # 創建一個與最大索引一致的 0 陣列\n",
    "\n",
    "# 根據 indices 填充標籤\n",
    "for i, (start, end) in enumerate(indices):\n",
    "    labels[start:end] = i\n"
   ]
  },
  {
   "cell_type": "code",
   "execution_count": 27,
   "metadata": {},
   "outputs": [],
   "source": [
    "from collections import defaultdict\n",
    "from tqdm import tqdm\n",
    "import torch\n",
    "from torch.utils.data import Dataset, DataLoader\n",
    "from sentence_transformers import SentenceTransformer, InputExample, losses\n",
    "import pandas\n",
    "\n",
    "fine_tuned_model = SentenceTransformer(\"models/fine_tuned_sentence_bert_model_ContrastiveLoss_val_lower\")\n",
    "\n",
    "# 測試新模型\n",
    "embeddings = fine_tuned_model.encode(sentences)\n"
   ]
  },
  {
   "cell_type": "code",
   "execution_count": 28,
   "metadata": {},
   "outputs": [
    {
     "name": "stdout",
     "output_type": "stream",
     "text": [
      "methods, background, results, conclusions, objective\n",
      "Train labels distribution: [1192  172  251  390  419]\n",
      "Validation labels distribution: [150  21  32  49  52]\n",
      "Test labels distribution: [150  22  31  49  52]\n"
     ]
    }
   ],
   "source": [
    "from sklearn.model_selection import train_test_split\n",
    "\n",
    "num_samples = embeddings.shape[0]\n",
    "embedding_dim = embeddings.shape[1]\n",
    "num_classes = 5\n",
    "\n",
    "train_val_embeddings, test_embeddings, train_val_labels, test_labels = train_test_split(\n",
    "    embeddings, labels, test_size=0.1, random_state=42, shuffle=True, stratify=labels\n",
    ")\n",
    "\n",
    "train_embeddings, val_embeddings, train_labels, val_labels = train_test_split(\n",
    "    train_val_embeddings, train_val_labels, test_size=1/9, random_state=42, shuffle=True, stratify=train_val_labels\n",
    ")\n",
    "print(\"methods, background, results, conclusions, objective\")\n",
    "print(\"Train labels distribution:\", np.bincount(train_labels))\n",
    "print(\"Validation labels distribution:\", np.bincount(val_labels))\n",
    "print(\"Test labels distribution:\", np.bincount(test_labels))"
   ]
  },
  {
   "cell_type": "code",
   "execution_count": 29,
   "metadata": {},
   "outputs": [],
   "source": [
    "averages = []\n",
    "for i in range(5):\n",
    "    mask = train_labels == i\n",
    "    averages.append(np.mean(train_embeddings[mask], axis=0))"
   ]
  },
  {
   "cell_type": "code",
   "execution_count": 30,
   "metadata": {},
   "outputs": [
    {
     "name": "stdout",
     "output_type": "stream",
     "text": [
      "Predicted labels: [ 0  0  3  0  2  0  0  3  2  0  2  4  3  3  0  4  0  0  0  0  3  0  2  0\n",
      "  1  4  0  0  3  0  3  1  2  0  0  3  0  0  0  0  3  4  2  0  3  0  4  2\n",
      "  0  3  3  0  4  2  0  0  4  0  0  0 -1  4  0  0  0  0  0  1  2  3  0  4\n",
      "  4  2  0  0  4  4  0  0  4  3  3  0  0  2  0  3  0  1  1  3  0  4  0  0\n",
      "  2  0  0  4  4  0  3  0  2  0  0  0  0  4  1  0  0  4  4  0  1  1  4  0\n",
      "  2  3  0  0  0 -1  3  4  2  4  0  0  3  0  0  4  0  1  4  0  4  1  3  0\n",
      "  0  0  0  0  4  0  0  4  0  0  3  0  4  0  4  4  3  0  4  3  0  0  0  3\n",
      "  0  4  1  0  2  0 -1  4  0  0  0  4  4  4  0  0  4  0  1  0  0  3  3  3\n",
      "  0  0  4  4  0  0  4  0  0  4  4  0  0  4  4  0  3 -1  0  0  0  4  2  0\n",
      "  0  0  1  0 -1  0  0  1  0  0  4  3  0  2  2  0  3  0  1  3  3  0  4  1\n",
      "  2  3  2  0  3  0  0  4  0  2  0  0  0  0  0 -1  0  2 -1  3  2  0  3 -1\n",
      "  0  0  4  0  2 -1  3  0  0  2  4  0  0 -1  3  0  4  0  2  2  2  0  3  0\n",
      "  0  1  3  3  0  0  0  0  0  0  4  0  3  0  4  4]\n"
     ]
    }
   ],
   "source": [
    "import numpy as np\n",
    "from sklearn.metrics.pairwise import cosine_similarity\n",
    "\n",
    "threshold = 0.95\n",
    "similarity_matrix = cosine_similarity(val_embeddings, averages)\n",
    "max_sim_indices = np.argmax(similarity_matrix, axis=1)\n",
    "max_sim_values = np.max(similarity_matrix, axis=1)\n",
    "predicted_averages = np.where(max_sim_values >= threshold, max_sim_indices, -1)\n",
    "print(\"Predicted labels:\", predicted_averages)"
   ]
  },
  {
   "cell_type": "code",
   "execution_count": 31,
   "metadata": {},
   "outputs": [
    {
     "name": "stdout",
     "output_type": "stream",
     "text": [
      "Precision: 0.7780\n",
      "Recall: 0.7269\n",
      "F1-score: 0.7502\n",
      "accuracy: 0.9276\n"
     ]
    },
    {
     "name": "stderr",
     "output_type": "stream",
     "text": [
      "/opt/packages/anaconda3-2024.10-1/lib/python3.12/site-packages/sklearn/metrics/_classification.py:1531: UndefinedMetricWarning: Recall is ill-defined and being set to 0.0 in labels with no true samples. Use `zero_division` parameter to control this behavior.\n",
      "  _warn_prf(average, modifier, f\"{metric.capitalize()} is\", len(result))\n"
     ]
    }
   ],
   "source": [
    "def get_acc(pred, y_test):\n",
    "    return np.sum(y_test == pred) / len(y_test)\n",
    "\n",
    "acc = get_acc(predicted_averages, val_labels)\n",
    "\n",
    "from sklearn.metrics import precision_score, recall_score, f1_score\n",
    "precision = precision_score(val_labels, predicted_averages, average='macro')  # 二分类\n",
    "recall = recall_score(val_labels, predicted_averages, average='macro')\n",
    "f1 = f1_score(val_labels, predicted_averages, average='macro')\n",
    "\n",
    "print(f\"Precision: {precision:.4f}\")\n",
    "print(f\"Recall: {recall:.4f}\")\n",
    "print(f\"F1-score: {f1:.4f}\")\n",
    "print(f\"accuracy: {acc:.4f}\")\n"
   ]
  }
 ],
 "metadata": {
  "kernelspec": {
   "display_name": "Python 3 (ipykernel)",
   "language": "python",
   "name": "python3"
  },
  "language_info": {
   "codemirror_mode": {
    "name": "ipython",
    "version": 3
   },
   "file_extension": ".py",
   "mimetype": "text/x-python",
   "name": "python",
   "nbconvert_exporter": "python",
   "pygments_lexer": "ipython3",
   "version": "3.12.7"
  }
 },
 "nbformat": 4,
 "nbformat_minor": 4
}
