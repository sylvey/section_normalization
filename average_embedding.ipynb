{
 "cells": [
  {
   "cell_type": "code",
   "execution_count": 1,
   "metadata": {},
   "outputs": [],
   "source": [
    "import torch\n",
    "from torch.utils.data import Dataset, DataLoader\n",
    "from sentence_transformers import SentenceTransformer, InputExample, losses\n",
    "import pandas"
   ]
  },
  {
   "cell_type": "code",
   "execution_count": 2,
   "metadata": {},
   "outputs": [
    {
     "name": "stdout",
     "output_type": "stream",
     "text": [
      "methods: 1492\n",
      "background: 215\n",
      "results: 314\n",
      "conclusions: 488\n",
      "objective: 523\n",
      "[[0, 1492], [1492, 1707], [1707, 2021], [2021, 2509], [2509, 3032]]\n"
     ]
    }
   ],
   "source": [
    "import pickle\n",
    "with open('structured_abstract_sections.pkl', 'rb') as f:\n",
    "    normalized_sections = pickle.load(f)\n",
    "\n",
    "sentences = []\n",
    "indices = []\n",
    "for normal_sect in normalized_sections:\n",
    "    print(f'{normal_sect}: {len(normalized_sections[normal_sect])}')\n",
    "    index = [len(sentences)]\n",
    "    sentences += normalized_sections[normal_sect]\n",
    "    index.append(len(sentences))\n",
    "    indices.append(index)\n",
    "    \n",
    "print(indices)"
   ]
  },
  {
   "cell_type": "code",
   "execution_count": 3,
   "metadata": {},
   "outputs": [],
   "source": [
    "\n",
    "from collections import defaultdict\n",
    "from tqdm import tqdm\n",
    "fine_tuned_model = SentenceTransformer(\"models/fine_tuned_sentence_bert_model_ContrastiveLoss\")\n",
    "\n",
    "# 測試新模型\n",
    "embeddings = fine_tuned_model.encode(sentences)\n",
    "\n",
    "import numpy as np\n",
    "np.save(\"embeddings.npy\", embeddings)\n",
    "\n",
    "# 读取 embeddings\n",
    "# loaded_embeddings = np.load(\"embeddings.npy\")\n"
   ]
  },
  {
   "cell_type": "code",
   "execution_count": 5,
   "metadata": {},
   "outputs": [],
   "source": [
    "averages = []\n",
    "for start, end in indices:\n",
    "    embedding = embeddings[start:end]\n",
    "    averages.append(np.mean(embedding, axis=0))"
   ]
  },
  {
   "cell_type": "code",
   "execution_count": 6,
   "metadata": {},
   "outputs": [],
   "source": [
    "averages = np.array(averages)\n",
    "np.save(\"averages.npy\", averages)"
   ]
  },
  {
   "cell_type": "code",
   "execution_count": 7,
   "metadata": {},
   "outputs": [
    {
     "name": "stdout",
     "output_type": "stream",
     "text": [
      "[[ 0.03722944  0.04391477 -0.0617225  ...  0.10955122  0.01952636\n",
      "   0.02630739]\n",
      " [-0.13393599  0.07143317 -0.08363549 ... -0.00590013  0.00304446\n",
      "   0.01104375]\n",
      " [-0.0704743   0.11191703 -0.08153783 ...  0.04731713  0.01117388\n",
      "   0.00700529]\n",
      " [-0.06703106  0.0650728  -0.07419524 ...  0.00734838  0.00929453\n",
      "  -0.05062057]\n",
      " [-0.07537291  0.10185756 -0.0992381  ...  0.09996045 -0.04192889\n",
      "   0.02330877]]\n"
     ]
    }
   ],
   "source": [
    "print(averages)"
   ]
  }
 ],
 "metadata": {
  "kernelspec": {
   "display_name": "Python 3",
   "language": "python",
   "name": "python3"
  },
  "language_info": {
   "codemirror_mode": {
    "name": "ipython",
    "version": 3
   },
   "file_extension": ".py",
   "mimetype": "text/x-python",
   "name": "python",
   "nbconvert_exporter": "python",
   "pygments_lexer": "ipython3",
   "version": "3.9.21"
  }
 },
 "nbformat": 4,
 "nbformat_minor": 4
}
