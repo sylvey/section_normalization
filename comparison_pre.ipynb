{
 "cells": [
  {
   "cell_type": "code",
   "execution_count": 1,
   "metadata": {},
   "outputs": [
    {
     "data": {
      "text/html": [
       "<div>\n",
       "<style scoped>\n",
       "    .dataframe tbody tr th:only-of-type {\n",
       "        vertical-align: middle;\n",
       "    }\n",
       "\n",
       "    .dataframe tbody tr th {\n",
       "        vertical-align: top;\n",
       "    }\n",
       "\n",
       "    .dataframe thead th {\n",
       "        text-align: right;\n",
       "    }\n",
       "</style>\n",
       "<table border=\"1\" class=\"dataframe\">\n",
       "  <thead>\n",
       "    <tr style=\"text-align: right;\">\n",
       "      <th></th>\n",
       "      <th>PMCID</th>\n",
       "      <th>PMID</th>\n",
       "      <th>sec-type</th>\n",
       "      <th>sec-title</th>\n",
       "      <th>sec-norm</th>\n",
       "    </tr>\n",
       "  </thead>\n",
       "  <tbody>\n",
       "    <tr>\n",
       "      <th>0</th>\n",
       "      <td>PMC5427117</td>\n",
       "      <td>28337662</td>\n",
       "      <td>NaN</td>\n",
       "      <td>Introduction</td>\n",
       "      <td>background</td>\n",
       "    </tr>\n",
       "    <tr>\n",
       "      <th>1</th>\n",
       "      <td>PMC5427117</td>\n",
       "      <td>28337662</td>\n",
       "      <td>NaN</td>\n",
       "      <td>Methods</td>\n",
       "      <td>methods</td>\n",
       "    </tr>\n",
       "    <tr>\n",
       "      <th>2</th>\n",
       "      <td>PMC5427117</td>\n",
       "      <td>28337662</td>\n",
       "      <td>NaN</td>\n",
       "      <td>Results</td>\n",
       "      <td>results</td>\n",
       "    </tr>\n",
       "    <tr>\n",
       "      <th>3</th>\n",
       "      <td>PMC5427117</td>\n",
       "      <td>28337662</td>\n",
       "      <td>NaN</td>\n",
       "      <td>Discussion</td>\n",
       "      <td>conclusions</td>\n",
       "    </tr>\n",
       "    <tr>\n",
       "      <th>4</th>\n",
       "      <td>PMC5427117</td>\n",
       "      <td>28337662</td>\n",
       "      <td>NaN</td>\n",
       "      <td>Electronic supplementary material</td>\n",
       "      <td>background</td>\n",
       "    </tr>\n",
       "  </tbody>\n",
       "</table>\n",
       "</div>"
      ],
      "text/plain": [
       "        PMCID      PMID sec-type                          sec-title  \\\n",
       "0  PMC5427117  28337662      NaN                       Introduction   \n",
       "1  PMC5427117  28337662      NaN                            Methods   \n",
       "2  PMC5427117  28337662      NaN                            Results   \n",
       "3  PMC5427117  28337662      NaN                         Discussion   \n",
       "4  PMC5427117  28337662      NaN  Electronic supplementary material   \n",
       "\n",
       "      sec-norm  \n",
       "0   background  \n",
       "1      methods  \n",
       "2      results  \n",
       "3  conclusions  \n",
       "4   background  "
      ]
     },
     "execution_count": 1,
     "metadata": {},
     "output_type": "execute_result"
    }
   ],
   "source": [
    "import pandas as pd\n",
    "\n",
    "df = pd.read_csv('Processed_Headings/normalized_section_data 2.csv')\n",
    "# df['sec-title'] = df.apply(lambda row: row['xmlPath'].rsplit(' > ', 1)[-1].strip(), axis=1)\n",
    "# df.to_csv('Processed_Headings/combined.csv')\n",
    "df.head()"
   ]
  },
  {
   "cell_type": "code",
   "execution_count": 2,
   "metadata": {},
   "outputs": [
    {
     "data": {
      "text/plain": [
       "37642680"
      ]
     },
     "execution_count": 2,
     "metadata": {},
     "output_type": "execute_result"
    }
   ],
   "source": [
    "len(df)"
   ]
  },
  {
   "cell_type": "code",
   "execution_count": 3,
   "metadata": {},
   "outputs": [],
   "source": [
    "\n",
    "from sentence_transformers import SentenceTransformer, InputExample, losses\n",
    "fine_tuned_model = SentenceTransformer(\"models/fine_tuned_sentence_bert_model_ContrastiveLoss_test_lower\")\n",
    "\n",
    "# 測試新模型\n",
    "embeddings = fine_tuned_model.encode([text.lower() for text in df['sec-title'][7528537*0:7528537*1]])"
   ]
  },
  {
   "cell_type": "code",
   "execution_count": 4,
   "metadata": {},
   "outputs": [],
   "source": [
    "import numpy as np\n",
    "\n",
    "np.save(\"comparison/embeddings_test_lower0.npy\", embeddings)"
   ]
  },
  {
   "cell_type": "code",
   "execution_count": 5,
   "metadata": {},
   "outputs": [],
   "source": [
    "label2id = {\n",
    "     \"methods\" : 0,\n",
    "     \"background\" : 1,\n",
    "     \"results\" : 2,\n",
    "     \"conclusions\" : 3, \n",
    "     \"objective\": 4\n",
    "}\n",
    "labels = np.array([label2id[label] if label in label2id else -1 for label in df['sec-norm'][7528537*0:7528537*1]])\n",
    "np.save(\"comparison/labels_lower0.npy\", labels)"
   ]
  }
 ],
 "metadata": {
  "kernelspec": {
   "display_name": "Python 3 (ipykernel)",
   "language": "python",
   "name": "python3"
  },
  "language_info": {
   "codemirror_mode": {
    "name": "ipython",
    "version": 3
   },
   "file_extension": ".py",
   "mimetype": "text/x-python",
   "name": "python",
   "nbconvert_exporter": "python",
   "pygments_lexer": "ipython3",
   "version": "3.12.7"
  }
 },
 "nbformat": 4,
 "nbformat_minor": 4
}
