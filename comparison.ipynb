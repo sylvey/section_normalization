{
 "cells": [
  {
   "cell_type": "code",
   "execution_count": 8,
   "metadata": {},
   "outputs": [],
   "source": [
    "import numpy as np\n",
    "\n",
    "embeddings = np.load(\"comparison/embeddings_test_lower0.npy\") \n",
    "# for i in range(1, 5):  # 从 1 开始，避免覆盖初始化的 embeddings\n",
    "#     embeddings = np.concatenate((embeddings, np.load(f'comparison/embeddings_lower{i}.npy')), axis=0)\n",
    "\n",
    "labels = np.load(\"comparison/labels0.npy\")\n",
    "# for i in range(1, 5):\n",
    "#     labels = np.concatenate((labels, np.load(f'comparison/labels_lower{i}.npy')))\n"
   ]
  },
  {
   "cell_type": "markdown",
   "metadata": {},
   "source": [
    "## Supervised model"
   ]
  },
  {
   "cell_type": "code",
   "execution_count": 9,
   "metadata": {},
   "outputs": [],
   "source": [
    "import torch\n",
    "import torch.nn as nn\n",
    "\n",
    "# 重新定義 Classifier 類別\n",
    "class Classifier(nn.Module):\n",
    "    def __init__(self, embedding_dim, num_classes):\n",
    "        super(Classifier, self).__init__()\n",
    "        self.fc1 = nn.Linear(embedding_dim, 128)\n",
    "        self.relu = nn.ReLU()\n",
    "        self.fc2 = nn.Linear(128, num_classes)\n",
    "\n",
    "    def forward(self, x):\n",
    "        x = self.fc1(x)\n",
    "        x = self.relu(x)\n",
    "        x = self.fc2(x)\n",
    "        return x  \n",
    "\n",
    "torch.serialization.add_safe_globals([Classifier])\n"
   ]
  },
  {
   "cell_type": "code",
   "execution_count": 10,
   "metadata": {},
   "outputs": [],
   "source": [
    "import torch\n",
    "import pickle\n",
    "model = torch.load(\"classifier_model_lower_test.pth\", weights_only=False)\n",
    "\n",
    "model.eval()  \n",
    "threshold = 0.4\n",
    "\n",
    "def predict(model, new_embeddings):\n",
    "    device = torch.device(\"cuda\" if torch.cuda.is_available() else \"cpu\")  # 自動選擇 GPU 或 CPU\n",
    "    model.to(device)  # 將模型移到對應設備\n",
    "    new_embeddings = torch.tensor(new_embeddings, dtype=torch.float32).to(device)  # 轉換為 tensor 並移到設備\n",
    "\n",
    "    with torch.no_grad():  # 禁用梯度計算，加速推理\n",
    "        outputs = model(new_embeddings)  # 模型輸出 logits\n",
    "        probabilities = torch.softmax(outputs, dim=1)  # 轉為機率分佈\n",
    "        \n",
    "        predictions = torch.argmax(outputs, dim=1)  # 取得預測類別\n",
    "        max_probs, max_indices = torch.max(probabilities, dim=1)  # 取得最大機率及其對應的類別索引\n",
    "        predictions = torch.where(max_probs >= threshold, max_indices, torch.tensor(-1, device=outputs.device))\n",
    "\n",
    "\n",
    "    return predictions.cpu().numpy() \n",
    "\n",
    "# 4. **測試新資料**\n",
    "predictions_supervised = predict(model, new_embeddings=embeddings)\n"
   ]
  },
  {
   "cell_type": "code",
   "execution_count": 11,
   "metadata": {},
   "outputs": [
    {
     "name": "stdout",
     "output_type": "stream",
     "text": [
      "Predicted labels: [1 0 2 ... 3 0 3]\n"
     ]
    }
   ],
   "source": [
    "import numpy as np\n",
    "\n",
    "\n",
    "print(\"Predicted labels:\", predictions_supervised)\n"
   ]
  },
  {
   "cell_type": "code",
   "execution_count": 12,
   "metadata": {},
   "outputs": [
    {
     "data": {
      "text/plain": [
       "(978, 7528537)"
      ]
     },
     "execution_count": 12,
     "metadata": {},
     "output_type": "execute_result"
    }
   ],
   "source": [
    "np.count_nonzero(predictions_supervised == -1), len(predictions_supervised)"
   ]
  },
  {
   "cell_type": "code",
   "execution_count": 13,
   "metadata": {
    "jupyter": {
     "source_hidden": true
    }
   },
   "outputs": [],
   "source": [
    "# def get_acc(pred, y_test):\n",
    "#     return np.sum(y_test == pred) / len(y_test) \n",
    "\n",
    "# acc = get_acc(predictions_supervised, labels)\n",
    "\n",
    "# from sklearn.metrics import precision_score, recall_score, f1_score\n",
    "# precision = precision_score(labels, predictions_supervised, average='weighted')  # 二分类\n",
    "# recall = recall_score(labels, predictions_supervised, average='weighted')\n",
    "# f1 = f1_score(labels, predictions_supervised, average='weighted')\n",
    "\n",
    "# print(f\"Precision: {precision:.4f}\")\n",
    "# print(f\"Recall: {recall:.4f}\")\n",
    "# print(f\"F1-score: {f1:.4f}\")\n",
    "# print(f\"accuracy: {acc:.4f}\")\n"
   ]
  },
  {
   "cell_type": "code",
   "execution_count": 14,
   "metadata": {
    "jupyter": {
     "source_hidden": true
    }
   },
   "outputs": [],
   "source": [
    "# import numpy as np\n",
    "\n",
    "# labels = np.array(labels)  # 轉換為 NumPy 陣列\n",
    "# mask = labels != -1  # 建立布林遮罩\n",
    "# filtered_labels = labels[mask]  # 取出不為 -1 的值\n",
    "# filtered_predicted_supervised = predictions_supervised[mask]\n",
    "\n",
    "# acc = get_acc(filtered_predicted_supervised, filtered_labels)\n",
    "# precision = precision_score(filtered_labels, filtered_predicted_supervised, average='weighted')  # 二分类\n",
    "# recall = recall_score(filtered_labels, filtered_predicted_supervised, average='weighted')\n",
    "# f1 = f1_score(filtered_labels, filtered_predicted_supervised, average='weighted')\n",
    "\n",
    "# print(f\"Precision: {precision:.4f}\")\n",
    "# print(f\"Recall: {recall:.4f}\")\n",
    "# print(f\"F1-score: {f1:.4f}\")\n",
    "# print(f\"accuracy: {acc:.4f}\")\n"
   ]
  },
  {
   "cell_type": "code",
   "execution_count": 15,
   "metadata": {
    "jupyter": {
     "source_hidden": true
    }
   },
   "outputs": [],
   "source": [
    "# import numpy as np\n",
    "\n",
    "# labels = np.array(labels)  # 轉換為 NumPy 陣列\n",
    "# mask = labels == -1  # 建立布林遮罩\n",
    "# filtered_labels = labels[mask]  # 取出不為 -1 的值\n",
    "# filtered_predicted_supervised = predictions_supervised[mask]\n",
    "\n",
    "# get_acc(filtered_predicted_supervised, filtered_labels)\n"
   ]
  },
  {
   "cell_type": "markdown",
   "metadata": {},
   "source": [
    "## Average model"
   ]
  },
  {
   "cell_type": "code",
   "execution_count": 16,
   "metadata": {},
   "outputs": [
    {
     "name": "stdout",
     "output_type": "stream",
     "text": [
      "Predicted labels: [1 0 2 ... 3 0 3]\n"
     ]
    }
   ],
   "source": [
    "import numpy as np\n",
    "from sklearn.metrics.pairwise import cosine_similarity\n",
    "\n",
    "\n",
    "averages = np.load('average_model/average_lower_test.npy')\n",
    "threshold = 0.95\n",
    "similarity_matrix = cosine_similarity(embeddings, averages)\n",
    "max_sim_indices = np.argmax(similarity_matrix, axis=1)\n",
    "max_sim_values = np.max(similarity_matrix, axis=1)\n",
    "predicted_averages = np.where(max_sim_values >= threshold, max_sim_indices, -1)\n",
    "print(\"Predicted labels:\", predicted_averages)"
   ]
  },
  {
   "cell_type": "code",
   "execution_count": 17,
   "metadata": {},
   "outputs": [
    {
     "data": {
      "image/png": "[encoded data removed]",
      "text/plain": [
       "<Figure size 800x600 with 2 Axes>"
      ]
     },
     "metadata": {},
     "output_type": "display_data"
    }
   ],
   "source": [
    "import matplotlib.pyplot as plt\n",
    "\n",
    "plt.figure(figsize=(8, 6))\n",
    "plt.imshow(similarity_matrix, cmap='viridis', aspect='auto')\n",
    "plt.colorbar(label='Cosine Similarity')\n",
    "plt.xlabel('Average Embeddings')\n",
    "plt.ylabel('Target Embeddings')\n",
    "plt.title('Cosine Similarity Heatmap')\n",
    "plt.show()"
   ]
  },
  {
   "cell_type": "code",
   "execution_count": 18,
   "metadata": {},
   "outputs": [
    {
     "data": {
      "text/plain": [
       "(537386, 7528537)"
      ]
     },
     "execution_count": 18,
     "metadata": {},
     "output_type": "execute_result"
    }
   ],
   "source": [
    "np.count_nonzero(predicted_averages == -1), len(predicted_averages)"
   ]
  },
  {
   "cell_type": "code",
   "execution_count": 19,
   "metadata": {
    "jupyter": {
     "source_hidden": true
    }
   },
   "outputs": [],
   "source": [
    "# def get_acc(pred, y_test):\n",
    "#     return np.sum(y_test == pred) / len(y_test) * 100\n",
    "\n",
    "# acc = get_acc(predicted_averages, labels)\n",
    "\n",
    "# from sklearn.metrics import precision_score, recall_score, f1_score\n",
    "# precision = precision_score(labels, predicted_averages, average='weighted')  # 二分类\n",
    "# recall = recall_score(labels, predicted_averages, average='weighted')\n",
    "# f1 = f1_score(labels, predicted_averages, average='weighted')\n",
    "\n",
    "# print(f\"Precision: {precision:.4f}\")\n",
    "# print(f\"Recall: {recall:.4f}\")\n",
    "# print(f\"F1-score: {f1:.4f}\")\n",
    "# print(f\"accuracy: {acc:.4f}\")\n"
   ]
  },
  {
   "cell_type": "code",
   "execution_count": 20,
   "metadata": {
    "jupyter": {
     "source_hidden": true
    }
   },
   "outputs": [],
   "source": [
    "# import numpy as np\n",
    "\n",
    "# labels = np.array(labels)  # 轉換為 NumPy 陣列\n",
    "# mask = labels != -1  # 建立布林遮罩\n",
    "# filtered_labels = labels[mask]  # 取出不為 -1 的值\n",
    "# filtered_predicted_avarage = predicted_averages[mask]\n",
    "\n",
    "# acc = get_acc(filtered_predicted_avarage, filtered_labels)\n",
    "# precision = precision_score(filtered_labels, filtered_predicted_avarage, average='weighted')  # 二分类\n",
    "# recall = recall_score(filtered_labels, filtered_predicted_avarage, average='weighted')\n",
    "# f1 = f1_score(filtered_labels, filtered_predicted_avarage, average='weighted')\n",
    "\n",
    "# print(f\"Precision: {precision:.4f}\")\n",
    "# print(f\"Recall: {recall:.4f}\")\n",
    "# print(f\"F1-score: {f1:.4f}\")\n",
    "# print(f\"accuracy: {acc:.4f}\")\n"
   ]
  },
  {
   "cell_type": "code",
   "execution_count": 21,
   "metadata": {
    "jupyter": {
     "source_hidden": true
    }
   },
   "outputs": [],
   "source": [
    "# import numpy as np\n",
    "\n",
    "# labels = np.array(labels)  # 轉換為 NumPy 陣列\n",
    "# mask = labels == -1  # 建立布林遮罩\n",
    "# filtered_labels = labels[mask]  # 取出不為 -1 的值\n",
    "# filtered_predicted_averages = predicted_averages[mask]\n",
    "\n",
    "# get_acc(filtered_predicted_averages, filtered_labels)\n"
   ]
  },
  {
   "cell_type": "markdown",
   "metadata": {},
   "source": [
    "## save"
   ]
  },
  {
   "cell_type": "code",
   "execution_count": 22,
   "metadata": {},
   "outputs": [],
   "source": [
    "# with open('Processed_Headings/predictions_supervised7528537-5.pkl', 'wb') as f:\n",
    "#     pickle.dump(predictions_supervised, f)\n",
    "# with open('Processed_Headings/predicted_averages7528537-5.pkl', 'wb') as f:\n",
    "#     pickle.dump(predicted_averages, f)"
   ]
  },
  {
   "cell_type": "code",
   "execution_count": 23,
   "metadata": {},
   "outputs": [],
   "source": [
    "# with open('Processed_Headings/predictions_supervised7528537.pkl', \"rb\") as f:\n",
    "#     data = pickle.load(f).tolist()\n",
    "# data"
   ]
  },
  {
   "cell_type": "code",
   "execution_count": 24,
   "metadata": {},
   "outputs": [],
   "source": [
    "# data = []\n",
    "\n",
    "# with open('Processed_Headings/predictions_supervised7528537.pkl', \"rb\") as f:\n",
    "#     data = pickle.load(f).tolist()\n",
    "\n",
    "# for i in range(2, 6):\n",
    "#     with open(f'Processed_Headings/predictions_supervised7528537-{i}.pkl', \"rb\") as f:\n",
    "#         data = data + pickle.load(f).tolist()\n",
    "\n",
    "# # 顯示讀取的資料\n",
    "# with open('Processed_Headings/predictions_supervised.pkl', 'wb') as f:\n",
    "#     pickle.dump(data, f)"
   ]
  },
  {
   "cell_type": "code",
   "execution_count": 25,
   "metadata": {},
   "outputs": [],
   "source": [
    "# data = []\n",
    "\n",
    "# with open('Processed_Headings/predicted_averages7528537.pkl', \"rb\") as f:\n",
    "#     data = pickle.load(f).tolist()\n",
    "\n",
    "# for i in range(2, 6):\n",
    "#     with open(f'Processed_Headings/predicted_averages7528537-{i}.pkl', \"rb\") as f:\n",
    "#         data = data + pickle.load(f).tolist()\n",
    "\n",
    "# # 顯示讀取的資料\n",
    "# with open('Processed_Headings/predicted_averages.pkl', 'wb') as f:\n",
    "#     pickle.dump(data, f)"
   ]
  },
  {
   "cell_type": "code",
   "execution_count": 26,
   "metadata": {},
   "outputs": [],
   "source": [
    "# with open('Processed_Headings/predicted_averages.pkl', \"rb\") as f:\n",
    "#     data = pickle.load(f)\n",
    "# len(data)"
   ]
  },
  {
   "cell_type": "code",
   "execution_count": 27,
   "metadata": {},
   "outputs": [],
   "source": [
    "# import pickle\n",
    "# averaged = []\n",
    "# with open('Processed_Headings/predicted_averages.pkl', \"rb\") as f:\n",
    "#     averaged = pickle.load(f)\n",
    "# len(averaged)\n",
    "\n",
    "# supervised = []\n",
    "# with open('Processed_Headings/predictions_supervised.pkl', \"rb\") as f:\n",
    "#     supervised = pickle.load(f)\n",
    "# len(supervised)"
   ]
  },
  {
   "cell_type": "code",
   "execution_count": 35,
   "metadata": {},
   "outputs": [],
   "source": [
    "mapping = {\n",
    "    -1: 'None',\n",
    "    0:'methods',\n",
    "    1:'background',\n",
    "    2:'results',\n",
    "    3:'conclusions',\n",
    "    4:'objective',\n",
    "}"
   ]
  },
  {
   "cell_type": "code",
   "execution_count": null,
   "metadata": {},
   "outputs": [],
   "source": [
    "import pandas as pd\n",
    "\n",
    "df = pd.read_csv('Processed_Headings/normalized_section_data 2.csv')\n",
    "df = df.iloc[:7528537]\n"
   ]
  },
  {
   "cell_type": "code",
   "execution_count": 42,
   "metadata": {},
   "outputs": [
    {
     "data": {
      "text/html": [
       "<div>\n",
       "<style scoped>\n",
       "    .dataframe tbody tr th:only-of-type {\n",
       "        vertical-align: middle;\n",
       "    }\n",
       "\n",
       "    .dataframe tbody tr th {\n",
       "        vertical-align: top;\n",
       "    }\n",
       "\n",
       "    .dataframe thead th {\n",
       "        text-align: right;\n",
       "    }\n",
       "</style>\n",
       "<table border=\"1\" class=\"dataframe\">\n",
       "  <thead>\n",
       "    <tr style=\"text-align: right;\">\n",
       "      <th></th>\n",
       "      <th>PMCID</th>\n",
       "      <th>PMID</th>\n",
       "      <th>sec-type</th>\n",
       "      <th>sec-title</th>\n",
       "      <th>sec-norm</th>\n",
       "      <th>average_prediction</th>\n",
       "      <th>supervised_prediction</th>\n",
       "    </tr>\n",
       "  </thead>\n",
       "  <tbody>\n",
       "    <tr>\n",
       "      <th>0</th>\n",
       "      <td>PMC5427117</td>\n",
       "      <td>28337662</td>\n",
       "      <td>NaN</td>\n",
       "      <td>Introduction</td>\n",
       "      <td>background</td>\n",
       "      <td>background</td>\n",
       "      <td>background</td>\n",
       "    </tr>\n",
       "    <tr>\n",
       "      <th>1</th>\n",
       "      <td>PMC5427117</td>\n",
       "      <td>28337662</td>\n",
       "      <td>NaN</td>\n",
       "      <td>Methods</td>\n",
       "      <td>methods</td>\n",
       "      <td>methods</td>\n",
       "      <td>methods</td>\n",
       "    </tr>\n",
       "    <tr>\n",
       "      <th>2</th>\n",
       "      <td>PMC5427117</td>\n",
       "      <td>28337662</td>\n",
       "      <td>NaN</td>\n",
       "      <td>Results</td>\n",
       "      <td>results</td>\n",
       "      <td>results</td>\n",
       "      <td>results</td>\n",
       "    </tr>\n",
       "    <tr>\n",
       "      <th>3</th>\n",
       "      <td>PMC5427117</td>\n",
       "      <td>28337662</td>\n",
       "      <td>NaN</td>\n",
       "      <td>Discussion</td>\n",
       "      <td>conclusions</td>\n",
       "      <td>conclusions</td>\n",
       "      <td>conclusions</td>\n",
       "    </tr>\n",
       "    <tr>\n",
       "      <th>4</th>\n",
       "      <td>PMC5427117</td>\n",
       "      <td>28337662</td>\n",
       "      <td>NaN</td>\n",
       "      <td>Electronic supplementary material</td>\n",
       "      <td>background</td>\n",
       "      <td>background</td>\n",
       "      <td>background</td>\n",
       "    </tr>\n",
       "    <tr>\n",
       "      <th>...</th>\n",
       "      <td>...</td>\n",
       "      <td>...</td>\n",
       "      <td>...</td>\n",
       "      <td>...</td>\n",
       "      <td>...</td>\n",
       "      <td>...</td>\n",
       "      <td>...</td>\n",
       "    </tr>\n",
       "    <tr>\n",
       "      <th>7528532</th>\n",
       "      <td>PMC6272716</td>\n",
       "      <td>25749680</td>\n",
       "      <td>NaN</td>\n",
       "      <td>4. Conclusions</td>\n",
       "      <td>NaN</td>\n",
       "      <td>conclusions</td>\n",
       "      <td>conclusions</td>\n",
       "    </tr>\n",
       "    <tr>\n",
       "      <th>7528533</th>\n",
       "      <td>PMC6272717</td>\n",
       "      <td>25546619</td>\n",
       "      <td>NaN</td>\n",
       "      <td>1. Introduction</td>\n",
       "      <td>NaN</td>\n",
       "      <td>background</td>\n",
       "      <td>background</td>\n",
       "    </tr>\n",
       "    <tr>\n",
       "      <th>7528534</th>\n",
       "      <td>PMC6272717</td>\n",
       "      <td>25546619</td>\n",
       "      <td>NaN</td>\n",
       "      <td>2. Results and Discussion</td>\n",
       "      <td>NaN</td>\n",
       "      <td>conclusions</td>\n",
       "      <td>conclusions</td>\n",
       "    </tr>\n",
       "    <tr>\n",
       "      <th>7528535</th>\n",
       "      <td>PMC6272717</td>\n",
       "      <td>25546619</td>\n",
       "      <td>NaN</td>\n",
       "      <td>3. Experimental Section</td>\n",
       "      <td>NaN</td>\n",
       "      <td>methods</td>\n",
       "      <td>methods</td>\n",
       "    </tr>\n",
       "    <tr>\n",
       "      <th>7528536</th>\n",
       "      <td>PMC6272717</td>\n",
       "      <td>25546619</td>\n",
       "      <td>NaN</td>\n",
       "      <td>4. Conclusions</td>\n",
       "      <td>NaN</td>\n",
       "      <td>conclusions</td>\n",
       "      <td>conclusions</td>\n",
       "    </tr>\n",
       "  </tbody>\n",
       "</table>\n",
       "<p>7528537 rows × 7 columns</p>\n",
       "</div>"
      ],
      "text/plain": [
       "              PMCID      PMID sec-type                          sec-title  \\\n",
       "0        PMC5427117  28337662      NaN                       Introduction   \n",
       "1        PMC5427117  28337662      NaN                            Methods   \n",
       "2        PMC5427117  28337662      NaN                            Results   \n",
       "3        PMC5427117  28337662      NaN                         Discussion   \n",
       "4        PMC5427117  28337662      NaN  Electronic supplementary material   \n",
       "...             ...       ...      ...                                ...   \n",
       "7528532  PMC6272716  25749680      NaN                     4. Conclusions   \n",
       "7528533  PMC6272717  25546619      NaN                    1. Introduction   \n",
       "7528534  PMC6272717  25546619      NaN          2. Results and Discussion   \n",
       "7528535  PMC6272717  25546619      NaN            3. Experimental Section   \n",
       "7528536  PMC6272717  25546619      NaN                     4. Conclusions   \n",
       "\n",
       "            sec-norm average_prediction supervised_prediction  \n",
       "0         background         background            background  \n",
       "1            methods            methods               methods  \n",
       "2            results            results               results  \n",
       "3        conclusions        conclusions           conclusions  \n",
       "4         background         background            background  \n",
       "...              ...                ...                   ...  \n",
       "7528532          NaN        conclusions           conclusions  \n",
       "7528533          NaN         background            background  \n",
       "7528534          NaN        conclusions           conclusions  \n",
       "7528535          NaN            methods               methods  \n",
       "7528536          NaN        conclusions           conclusions  \n",
       "\n",
       "[7528537 rows x 7 columns]"
      ]
     },
     "execution_count": 42,
     "metadata": {},
     "output_type": "execute_result"
    }
   ],
   "source": [
    "df['average_prediction'] = [mapping[x] for x in predicted_averages]\n",
    "df['supervised_prediction'] = [mapping[x] for x in predictions_supervised]\n",
    "# df.to_csv('Processed_Headings/labeled.csv')\n",
    "df"
   ]
  },
  {
   "cell_type": "code",
   "execution_count": 43,
   "metadata": {},
   "outputs": [
    {
     "data": {
      "text/html": [
       "<div>\n",
       "<style scoped>\n",
       "    .dataframe tbody tr th:only-of-type {\n",
       "        vertical-align: middle;\n",
       "    }\n",
       "\n",
       "    .dataframe tbody tr th {\n",
       "        vertical-align: top;\n",
       "    }\n",
       "\n",
       "    .dataframe thead th {\n",
       "        text-align: right;\n",
       "    }\n",
       "</style>\n",
       "<table border=\"1\" class=\"dataframe\">\n",
       "  <thead>\n",
       "    <tr style=\"text-align: right;\">\n",
       "      <th></th>\n",
       "      <th>PMCID</th>\n",
       "      <th>PMID</th>\n",
       "      <th>sec-type</th>\n",
       "      <th>sec-title</th>\n",
       "      <th>sec-norm</th>\n",
       "      <th>average_prediction</th>\n",
       "      <th>supervised_prediction</th>\n",
       "    </tr>\n",
       "  </thead>\n",
       "  <tbody>\n",
       "    <tr>\n",
       "      <th>11</th>\n",
       "      <td>PMC5496080</td>\n",
       "      <td>28640661</td>\n",
       "      <td>supplementary-material</td>\n",
       "      <td>Supplementary Material</td>\n",
       "      <td>NaN</td>\n",
       "      <td>background</td>\n",
       "      <td>background</td>\n",
       "    </tr>\n",
       "    <tr>\n",
       "      <th>12</th>\n",
       "      <td>PMC5496080</td>\n",
       "      <td>28640661</td>\n",
       "      <td>NaN</td>\n",
       "      <td>Disclosure statement</td>\n",
       "      <td>NaN</td>\n",
       "      <td>background</td>\n",
       "      <td>background</td>\n",
       "    </tr>\n",
       "    <tr>\n",
       "      <th>13</th>\n",
       "      <td>PMC5496080</td>\n",
       "      <td>28640661</td>\n",
       "      <td>NaN</td>\n",
       "      <td>Ethics and consent</td>\n",
       "      <td>NaN</td>\n",
       "      <td>methods</td>\n",
       "      <td>methods</td>\n",
       "    </tr>\n",
       "    <tr>\n",
       "      <th>14</th>\n",
       "      <td>PMC5496080</td>\n",
       "      <td>28640661</td>\n",
       "      <td>NaN</td>\n",
       "      <td>Paper context</td>\n",
       "      <td>NaN</td>\n",
       "      <td>background</td>\n",
       "      <td>background</td>\n",
       "    </tr>\n",
       "    <tr>\n",
       "      <th>15</th>\n",
       "      <td>PMC5496080</td>\n",
       "      <td>28640661</td>\n",
       "      <td>supplementary-material</td>\n",
       "      <td>Supplemental data</td>\n",
       "      <td>NaN</td>\n",
       "      <td>background</td>\n",
       "      <td>background</td>\n",
       "    </tr>\n",
       "    <tr>\n",
       "      <th>...</th>\n",
       "      <td>...</td>\n",
       "      <td>...</td>\n",
       "      <td>...</td>\n",
       "      <td>...</td>\n",
       "      <td>...</td>\n",
       "      <td>...</td>\n",
       "      <td>...</td>\n",
       "    </tr>\n",
       "    <tr>\n",
       "      <th>7528532</th>\n",
       "      <td>PMC6272716</td>\n",
       "      <td>25749680</td>\n",
       "      <td>NaN</td>\n",
       "      <td>4. Conclusions</td>\n",
       "      <td>NaN</td>\n",
       "      <td>conclusions</td>\n",
       "      <td>conclusions</td>\n",
       "    </tr>\n",
       "    <tr>\n",
       "      <th>7528533</th>\n",
       "      <td>PMC6272717</td>\n",
       "      <td>25546619</td>\n",
       "      <td>NaN</td>\n",
       "      <td>1. Introduction</td>\n",
       "      <td>NaN</td>\n",
       "      <td>background</td>\n",
       "      <td>background</td>\n",
       "    </tr>\n",
       "    <tr>\n",
       "      <th>7528534</th>\n",
       "      <td>PMC6272717</td>\n",
       "      <td>25546619</td>\n",
       "      <td>NaN</td>\n",
       "      <td>2. Results and Discussion</td>\n",
       "      <td>NaN</td>\n",
       "      <td>conclusions</td>\n",
       "      <td>conclusions</td>\n",
       "    </tr>\n",
       "    <tr>\n",
       "      <th>7528535</th>\n",
       "      <td>PMC6272717</td>\n",
       "      <td>25546619</td>\n",
       "      <td>NaN</td>\n",
       "      <td>3. Experimental Section</td>\n",
       "      <td>NaN</td>\n",
       "      <td>methods</td>\n",
       "      <td>methods</td>\n",
       "    </tr>\n",
       "    <tr>\n",
       "      <th>7528536</th>\n",
       "      <td>PMC6272717</td>\n",
       "      <td>25546619</td>\n",
       "      <td>NaN</td>\n",
       "      <td>4. Conclusions</td>\n",
       "      <td>NaN</td>\n",
       "      <td>conclusions</td>\n",
       "      <td>conclusions</td>\n",
       "    </tr>\n",
       "  </tbody>\n",
       "</table>\n",
       "<p>2897844 rows × 7 columns</p>\n",
       "</div>"
      ],
      "text/plain": [
       "              PMCID      PMID                sec-type  \\\n",
       "11       PMC5496080  28640661  supplementary-material   \n",
       "12       PMC5496080  28640661                     NaN   \n",
       "13       PMC5496080  28640661                     NaN   \n",
       "14       PMC5496080  28640661                     NaN   \n",
       "15       PMC5496080  28640661  supplementary-material   \n",
       "...             ...       ...                     ...   \n",
       "7528532  PMC6272716  25749680                     NaN   \n",
       "7528533  PMC6272717  25546619                     NaN   \n",
       "7528534  PMC6272717  25546619                     NaN   \n",
       "7528535  PMC6272717  25546619                     NaN   \n",
       "7528536  PMC6272717  25546619                     NaN   \n",
       "\n",
       "                         sec-title sec-norm average_prediction  \\\n",
       "11          Supplementary Material      NaN         background   \n",
       "12            Disclosure statement      NaN         background   \n",
       "13              Ethics and consent      NaN            methods   \n",
       "14                   Paper context      NaN         background   \n",
       "15               Supplemental data      NaN         background   \n",
       "...                            ...      ...                ...   \n",
       "7528532             4. Conclusions      NaN        conclusions   \n",
       "7528533            1. Introduction      NaN         background   \n",
       "7528534  2. Results and Discussion      NaN        conclusions   \n",
       "7528535    3. Experimental Section      NaN            methods   \n",
       "7528536             4. Conclusions      NaN        conclusions   \n",
       "\n",
       "        supervised_prediction  \n",
       "11                 background  \n",
       "12                 background  \n",
       "13                    methods  \n",
       "14                 background  \n",
       "15                 background  \n",
       "...                       ...  \n",
       "7528532           conclusions  \n",
       "7528533            background  \n",
       "7528534           conclusions  \n",
       "7528535               methods  \n",
       "7528536           conclusions  \n",
       "\n",
       "[2897844 rows x 7 columns]"
      ]
     },
     "execution_count": 43,
     "metadata": {},
     "output_type": "execute_result"
    }
   ],
   "source": [
    "df = df[df['sec-norm'].isna()]\n",
    "\n",
    "df"
   ]
  },
  {
   "cell_type": "code",
   "execution_count": 44,
   "metadata": {},
   "outputs": [],
   "source": [
    "df.to_csv('Processed_Headings/labeled.csv')"
   ]
  },
  {
   "cell_type": "code",
   "execution_count": 1,
   "metadata": {},
   "outputs": [],
   "source": [
    "import pandas as pd\n",
    "df = pd.read_csv('Processed_Headings/labeled.csv')\n",
    "df = df = df.iloc[:100]\n",
    "df.to_csv('Processed_Headings/labeled_100.csv')"
   ]
  }
 ],
 "metadata": {
  "kernelspec": {
   "display_name": "Python 3",
   "language": "python",
   "name": "python3"
  },
  "language_info": {
   "codemirror_mode": {
    "name": "ipython",
    "version": 3
   },
   "file_extension": ".py",
   "mimetype": "text/x-python",
   "name": "python",
   "nbconvert_exporter": "python",
   "pygments_lexer": "ipython3",
   "version": "3.9.21"
  }
 },
 "nbformat": 4,
 "nbformat_minor": 4
}
