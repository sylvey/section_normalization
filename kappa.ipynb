{
 "cells": [
  {
   "cell_type": "markdown",
   "id": "1e13f637",
   "metadata": {},
   "source": [
    "## all"
   ]
  },
  {
   "cell_type": "code",
   "execution_count": 1,
   "id": "8cf5003d",
   "metadata": {},
   "outputs": [
    {
     "data": {
      "text/html": [
       "<div>\n",
       "<style scoped>\n",
       "    .dataframe tbody tr th:only-of-type {\n",
       "        vertical-align: middle;\n",
       "    }\n",
       "\n",
       "    .dataframe tbody tr th {\n",
       "        vertical-align: top;\n",
       "    }\n",
       "\n",
       "    .dataframe thead th {\n",
       "        text-align: right;\n",
       "    }\n",
       "</style>\n",
       "<table border=\"1\" class=\"dataframe\">\n",
       "  <thead>\n",
       "    <tr style=\"text-align: right;\">\n",
       "      <th></th>\n",
       "      <th>PMCID</th>\n",
       "      <th>PMID</th>\n",
       "      <th>sec-title</th>\n",
       "      <th>sec-norm</th>\n",
       "    </tr>\n",
       "  </thead>\n",
       "  <tbody>\n",
       "    <tr>\n",
       "      <th>0</th>\n",
       "      <td>PMC10845090</td>\n",
       "      <td>37559243</td>\n",
       "      <td>['INTRODUCTION', 'INFLAMMATION AND MAJOR DEPRE...</td>\n",
       "      <td>['background', nan, nan, 'conclusions', 'concl...</td>\n",
       "    </tr>\n",
       "    <tr>\n",
       "      <th>1</th>\n",
       "      <td>PMC10845092</td>\n",
       "      <td>37644747</td>\n",
       "      <td>['INTRODUCTION', 'MATERIALS AND METHODS', 'RES...</td>\n",
       "      <td>['background', 'methods', 'results', 'conclusi...</td>\n",
       "    </tr>\n",
       "    <tr>\n",
       "      <th>2</th>\n",
       "      <td>PMC10845093</td>\n",
       "      <td>36815632</td>\n",
       "      <td>['INTRODUCTION', 'GENERALIZED ANXIETY DISORDER...</td>\n",
       "      <td>['background', nan, nan, nan, nan, 'conclusion...</td>\n",
       "    </tr>\n",
       "    <tr>\n",
       "      <th>3</th>\n",
       "      <td>PMC10850428</td>\n",
       "      <td>37553411</td>\n",
       "      <td>['Introduction', 'Methods', 'Results', 'Discus...</td>\n",
       "      <td>['background', 'methods', 'results', 'conclusi...</td>\n",
       "    </tr>\n",
       "    <tr>\n",
       "      <th>4</th>\n",
       "      <td>PMC1087202</td>\n",
       "      <td>15839744</td>\n",
       "      <td>['History and Epidemiology', 'Causative Organi...</td>\n",
       "      <td>[nan, nan, nan, nan, nan, nan, nan, 'conclusio...</td>\n",
       "    </tr>\n",
       "    <tr>\n",
       "      <th>...</th>\n",
       "      <td>...</td>\n",
       "      <td>...</td>\n",
       "      <td>...</td>\n",
       "      <td>...</td>\n",
       "    </tr>\n",
       "    <tr>\n",
       "      <th>95</th>\n",
       "      <td>PMC11141335</td>\n",
       "      <td>38827812</td>\n",
       "      <td>['Introduction', 'Methods and analysis', 'Disc...</td>\n",
       "      <td>['background', 'methods', 'conclusions', 'back...</td>\n",
       "    </tr>\n",
       "    <tr>\n",
       "      <th>96</th>\n",
       "      <td>PMC11142640</td>\n",
       "      <td>38819423</td>\n",
       "      <td>['Introduction', 'Results', 'Discussion', 'Mat...</td>\n",
       "      <td>['background', 'results', 'conclusions', 'meth...</td>\n",
       "    </tr>\n",
       "    <tr>\n",
       "      <th>97</th>\n",
       "      <td>PMC11143364</td>\n",
       "      <td>38822081</td>\n",
       "      <td>['Introduction', 'Results', 'Discussion', 'Mat...</td>\n",
       "      <td>['background', 'results', 'conclusions', 'meth...</td>\n",
       "    </tr>\n",
       "    <tr>\n",
       "      <th>98</th>\n",
       "      <td>PMC11144131</td>\n",
       "      <td>38822893</td>\n",
       "      <td>['Introduction', 'Participants, materials &amp; me...</td>\n",
       "      <td>['background', 'methods', 'results', 'conclusi...</td>\n",
       "    </tr>\n",
       "    <tr>\n",
       "      <th>99</th>\n",
       "      <td>PMC11144342</td>\n",
       "      <td>38824596</td>\n",
       "      <td>['Background', 'Materials and methods', 'Weste...</td>\n",
       "      <td>['background', 'methods', 'methods', 'results'...</td>\n",
       "    </tr>\n",
       "  </tbody>\n",
       "</table>\n",
       "<p>100 rows × 4 columns</p>\n",
       "</div>"
      ],
      "text/plain": [
       "          PMCID      PMID                                          sec-title  \\\n",
       "0   PMC10845090  37559243  ['INTRODUCTION', 'INFLAMMATION AND MAJOR DEPRE...   \n",
       "1   PMC10845092  37644747  ['INTRODUCTION', 'MATERIALS AND METHODS', 'RES...   \n",
       "2   PMC10845093  36815632  ['INTRODUCTION', 'GENERALIZED ANXIETY DISORDER...   \n",
       "3   PMC10850428  37553411  ['Introduction', 'Methods', 'Results', 'Discus...   \n",
       "4    PMC1087202  15839744  ['History and Epidemiology', 'Causative Organi...   \n",
       "..          ...       ...                                                ...   \n",
       "95  PMC11141335  38827812  ['Introduction', 'Methods and analysis', 'Disc...   \n",
       "96  PMC11142640  38819423  ['Introduction', 'Results', 'Discussion', 'Mat...   \n",
       "97  PMC11143364  38822081  ['Introduction', 'Results', 'Discussion', 'Mat...   \n",
       "98  PMC11144131  38822893  ['Introduction', 'Participants, materials & me...   \n",
       "99  PMC11144342  38824596  ['Background', 'Materials and methods', 'Weste...   \n",
       "\n",
       "                                             sec-norm  \n",
       "0   ['background', nan, nan, 'conclusions', 'concl...  \n",
       "1   ['background', 'methods', 'results', 'conclusi...  \n",
       "2   ['background', nan, nan, nan, nan, 'conclusion...  \n",
       "3   ['background', 'methods', 'results', 'conclusi...  \n",
       "4   [nan, nan, nan, nan, nan, nan, nan, 'conclusio...  \n",
       "..                                                ...  \n",
       "95  ['background', 'methods', 'conclusions', 'back...  \n",
       "96  ['background', 'results', 'conclusions', 'meth...  \n",
       "97  ['background', 'results', 'conclusions', 'meth...  \n",
       "98  ['background', 'methods', 'results', 'conclusi...  \n",
       "99  ['background', 'methods', 'methods', 'results'...  \n",
       "\n",
       "[100 rows x 4 columns]"
      ]
     },
     "execution_count": 1,
     "metadata": {},
     "output_type": "execute_result"
    }
   ],
   "source": [
    "import pandas as pd\n",
    "\n",
    "df_j = pd.read_csv('Processed_Headings/manual_labels_test - first_200.csv')\n",
    "df_s = pd.read_excel('Processed_Headings/seq_for_manual_labeled_removed_duplicate_sylvey100~200.xlsx')\n",
    "df_j"
   ]
  },
  {
   "cell_type": "code",
   "execution_count": 2,
   "id": "d2442e26",
   "metadata": {},
   "outputs": [
    {
     "data": {
      "text/html": [
       "<div>\n",
       "<style scoped>\n",
       "    .dataframe tbody tr th:only-of-type {\n",
       "        vertical-align: middle;\n",
       "    }\n",
       "\n",
       "    .dataframe tbody tr th {\n",
       "        vertical-align: top;\n",
       "    }\n",
       "\n",
       "    .dataframe thead th {\n",
       "        text-align: right;\n",
       "    }\n",
       "</style>\n",
       "<table border=\"1\" class=\"dataframe\">\n",
       "  <thead>\n",
       "    <tr style=\"text-align: right;\">\n",
       "      <th></th>\n",
       "      <th>PMCID</th>\n",
       "      <th>PMID</th>\n",
       "      <th>sec-title</th>\n",
       "      <th>sec-norm</th>\n",
       "      <th>sec-norm-annotation</th>\n",
       "    </tr>\n",
       "  </thead>\n",
       "  <tbody>\n",
       "    <tr>\n",
       "      <th>0</th>\n",
       "      <td>PMC10845090</td>\n",
       "      <td>37559243</td>\n",
       "      <td>['INTRODUCTION', 'INFLAMMATION AND MAJOR DEPRE...</td>\n",
       "      <td>['background', nan, nan, 'conclusions', 'concl...</td>\n",
       "      <td>['background', 'background', 'background', 'co...</td>\n",
       "    </tr>\n",
       "    <tr>\n",
       "      <th>1</th>\n",
       "      <td>PMC10845092</td>\n",
       "      <td>37644747</td>\n",
       "      <td>['INTRODUCTION', 'MATERIALS AND METHODS', 'RES...</td>\n",
       "      <td>['background', 'methods', 'results', 'conclusi...</td>\n",
       "      <td>['background', 'methods', 'results', 'conclusi...</td>\n",
       "    </tr>\n",
       "    <tr>\n",
       "      <th>2</th>\n",
       "      <td>PMC10845093</td>\n",
       "      <td>36815632</td>\n",
       "      <td>['INTRODUCTION', 'GENERALIZED ANXIETY DISORDER...</td>\n",
       "      <td>['background', nan, nan, nan, nan, nan, 'concl...</td>\n",
       "      <td>['background', 'background', 'background', 'ba...</td>\n",
       "    </tr>\n",
       "    <tr>\n",
       "      <th>3</th>\n",
       "      <td>PMC10850428</td>\n",
       "      <td>37553411</td>\n",
       "      <td>['Introduction', 'Methods', 'Results', 'Discus...</td>\n",
       "      <td>['background', 'methods', 'results', 'conclusi...</td>\n",
       "      <td>['background', 'methods', 'results', 'conclusi...</td>\n",
       "    </tr>\n",
       "    <tr>\n",
       "      <th>4</th>\n",
       "      <td>PMC1087202</td>\n",
       "      <td>15839744</td>\n",
       "      <td>['History and Epidemiology', 'Causative Organi...</td>\n",
       "      <td>[nan, nan, 'methods', 'methods', nan, nan, nan...</td>\n",
       "      <td>['background', 'background', 'methods', 'metho...</td>\n",
       "    </tr>\n",
       "    <tr>\n",
       "      <th>...</th>\n",
       "      <td>...</td>\n",
       "      <td>...</td>\n",
       "      <td>...</td>\n",
       "      <td>...</td>\n",
       "      <td>...</td>\n",
       "    </tr>\n",
       "    <tr>\n",
       "      <th>95</th>\n",
       "      <td>PMC11141335</td>\n",
       "      <td>38827812</td>\n",
       "      <td>['Introduction', 'Methods and analysis', 'Disc...</td>\n",
       "      <td>['background', 'methods', 'conclusions', 'back...</td>\n",
       "      <td>['background', 'methods', 'conclusions', 'back...</td>\n",
       "    </tr>\n",
       "    <tr>\n",
       "      <th>96</th>\n",
       "      <td>PMC11142640</td>\n",
       "      <td>38819423</td>\n",
       "      <td>['Introduction', 'Results', 'Discussion', 'Mat...</td>\n",
       "      <td>['background', 'results', 'conclusions', 'meth...</td>\n",
       "      <td>['background', 'results', 'conclusions', 'meth...</td>\n",
       "    </tr>\n",
       "    <tr>\n",
       "      <th>97</th>\n",
       "      <td>PMC11143364</td>\n",
       "      <td>38822081</td>\n",
       "      <td>['Introduction', 'Results', 'Discussion', 'Mat...</td>\n",
       "      <td>['background', 'results', 'conclusions', 'meth...</td>\n",
       "      <td>['background', 'results', 'conclusions', 'meth...</td>\n",
       "    </tr>\n",
       "    <tr>\n",
       "      <th>98</th>\n",
       "      <td>PMC11144131</td>\n",
       "      <td>38822893</td>\n",
       "      <td>['Introduction', 'Participants, materials &amp; me...</td>\n",
       "      <td>['background', nan, 'results', 'conclusions', ...</td>\n",
       "      <td>['background', 'background', 'results', 'concl...</td>\n",
       "    </tr>\n",
       "    <tr>\n",
       "      <th>99</th>\n",
       "      <td>PMC11144342</td>\n",
       "      <td>38824596</td>\n",
       "      <td>['Background', 'Materials and methods', 'Weste...</td>\n",
       "      <td>['background', 'methods', nan, 'results', 'con...</td>\n",
       "      <td>['background', 'methods', 'results', 'results'...</td>\n",
       "    </tr>\n",
       "  </tbody>\n",
       "</table>\n",
       "<p>100 rows × 5 columns</p>\n",
       "</div>"
      ],
      "text/plain": [
       "          PMCID      PMID                                          sec-title  \\\n",
       "0   PMC10845090  37559243  ['INTRODUCTION', 'INFLAMMATION AND MAJOR DEPRE...   \n",
       "1   PMC10845092  37644747  ['INTRODUCTION', 'MATERIALS AND METHODS', 'RES...   \n",
       "2   PMC10845093  36815632  ['INTRODUCTION', 'GENERALIZED ANXIETY DISORDER...   \n",
       "3   PMC10850428  37553411  ['Introduction', 'Methods', 'Results', 'Discus...   \n",
       "4    PMC1087202  15839744  ['History and Epidemiology', 'Causative Organi...   \n",
       "..          ...       ...                                                ...   \n",
       "95  PMC11141335  38827812  ['Introduction', 'Methods and analysis', 'Disc...   \n",
       "96  PMC11142640  38819423  ['Introduction', 'Results', 'Discussion', 'Mat...   \n",
       "97  PMC11143364  38822081  ['Introduction', 'Results', 'Discussion', 'Mat...   \n",
       "98  PMC11144131  38822893  ['Introduction', 'Participants, materials & me...   \n",
       "99  PMC11144342  38824596  ['Background', 'Materials and methods', 'Weste...   \n",
       "\n",
       "                                             sec-norm  \\\n",
       "0   ['background', nan, nan, 'conclusions', 'concl...   \n",
       "1   ['background', 'methods', 'results', 'conclusi...   \n",
       "2   ['background', nan, nan, nan, nan, nan, 'concl...   \n",
       "3   ['background', 'methods', 'results', 'conclusi...   \n",
       "4   [nan, nan, 'methods', 'methods', nan, nan, nan...   \n",
       "..                                                ...   \n",
       "95  ['background', 'methods', 'conclusions', 'back...   \n",
       "96  ['background', 'results', 'conclusions', 'meth...   \n",
       "97  ['background', 'results', 'conclusions', 'meth...   \n",
       "98  ['background', nan, 'results', 'conclusions', ...   \n",
       "99  ['background', 'methods', nan, 'results', 'con...   \n",
       "\n",
       "                                  sec-norm-annotation  \n",
       "0   ['background', 'background', 'background', 'co...  \n",
       "1   ['background', 'methods', 'results', 'conclusi...  \n",
       "2   ['background', 'background', 'background', 'ba...  \n",
       "3   ['background', 'methods', 'results', 'conclusi...  \n",
       "4   ['background', 'background', 'methods', 'metho...  \n",
       "..                                                ...  \n",
       "95  ['background', 'methods', 'conclusions', 'back...  \n",
       "96  ['background', 'results', 'conclusions', 'meth...  \n",
       "97  ['background', 'results', 'conclusions', 'meth...  \n",
       "98  ['background', 'background', 'results', 'concl...  \n",
       "99  ['background', 'methods', 'results', 'results'...  \n",
       "\n",
       "[100 rows x 5 columns]"
      ]
     },
     "execution_count": 2,
     "metadata": {},
     "output_type": "execute_result"
    }
   ],
   "source": [
    "df_s"
   ]
  },
  {
   "cell_type": "code",
   "execution_count": 3,
   "id": "4f8feccd",
   "metadata": {},
   "outputs": [
    {
     "data": {
      "text/html": [
       "<div>\n",
       "<style scoped>\n",
       "    .dataframe tbody tr th:only-of-type {\n",
       "        vertical-align: middle;\n",
       "    }\n",
       "\n",
       "    .dataframe tbody tr th {\n",
       "        vertical-align: top;\n",
       "    }\n",
       "\n",
       "    .dataframe thead th {\n",
       "        text-align: right;\n",
       "    }\n",
       "</style>\n",
       "<table border=\"1\" class=\"dataframe\">\n",
       "  <thead>\n",
       "    <tr style=\"text-align: right;\">\n",
       "      <th></th>\n",
       "      <th>PMCID</th>\n",
       "      <th>PMID</th>\n",
       "      <th>sec-title</th>\n",
       "      <th>sec-norm</th>\n",
       "    </tr>\n",
       "  </thead>\n",
       "  <tbody>\n",
       "    <tr>\n",
       "      <th>0</th>\n",
       "      <td>PMC10845090</td>\n",
       "      <td>37559243</td>\n",
       "      <td>['INTRODUCTION', 'INFLAMMATION AND MAJOR DEPRE...</td>\n",
       "      <td>['background', nan, nan, 'conclusions', 'concl...</td>\n",
       "    </tr>\n",
       "    <tr>\n",
       "      <th>1</th>\n",
       "      <td>PMC10845092</td>\n",
       "      <td>37644747</td>\n",
       "      <td>['INTRODUCTION', 'MATERIALS AND METHODS', 'RES...</td>\n",
       "      <td>['background', 'methods', 'results', 'conclusi...</td>\n",
       "    </tr>\n",
       "    <tr>\n",
       "      <th>2</th>\n",
       "      <td>PMC10845093</td>\n",
       "      <td>36815632</td>\n",
       "      <td>['INTRODUCTION', 'GENERALIZED ANXIETY DISORDER...</td>\n",
       "      <td>['background', nan, nan, nan, nan, 'conclusion...</td>\n",
       "    </tr>\n",
       "    <tr>\n",
       "      <th>3</th>\n",
       "      <td>PMC10850428</td>\n",
       "      <td>37553411</td>\n",
       "      <td>['Introduction', 'Methods', 'Results', 'Discus...</td>\n",
       "      <td>['background', 'methods', 'results', 'conclusi...</td>\n",
       "    </tr>\n",
       "    <tr>\n",
       "      <th>4</th>\n",
       "      <td>PMC1087202</td>\n",
       "      <td>15839744</td>\n",
       "      <td>['History and Epidemiology', 'Causative Organi...</td>\n",
       "      <td>[nan, nan, nan, nan, nan, nan, nan, 'conclusio...</td>\n",
       "    </tr>\n",
       "    <tr>\n",
       "      <th>...</th>\n",
       "      <td>...</td>\n",
       "      <td>...</td>\n",
       "      <td>...</td>\n",
       "      <td>...</td>\n",
       "    </tr>\n",
       "    <tr>\n",
       "      <th>95</th>\n",
       "      <td>PMC11141335</td>\n",
       "      <td>38827812</td>\n",
       "      <td>['Introduction', 'Methods and analysis', 'Disc...</td>\n",
       "      <td>['background', 'methods', 'conclusions', 'back...</td>\n",
       "    </tr>\n",
       "    <tr>\n",
       "      <th>96</th>\n",
       "      <td>PMC11142640</td>\n",
       "      <td>38819423</td>\n",
       "      <td>['Introduction', 'Results', 'Discussion', 'Mat...</td>\n",
       "      <td>['background', 'results', 'conclusions', 'meth...</td>\n",
       "    </tr>\n",
       "    <tr>\n",
       "      <th>97</th>\n",
       "      <td>PMC11143364</td>\n",
       "      <td>38822081</td>\n",
       "      <td>['Introduction', 'Results', 'Discussion', 'Mat...</td>\n",
       "      <td>['background', 'results', 'conclusions', 'meth...</td>\n",
       "    </tr>\n",
       "    <tr>\n",
       "      <th>98</th>\n",
       "      <td>PMC11144131</td>\n",
       "      <td>38822893</td>\n",
       "      <td>['Introduction', 'Participants, materials &amp; me...</td>\n",
       "      <td>['background', 'methods', 'results', 'conclusi...</td>\n",
       "    </tr>\n",
       "    <tr>\n",
       "      <th>99</th>\n",
       "      <td>PMC11144342</td>\n",
       "      <td>38824596</td>\n",
       "      <td>['Background', 'Materials and methods', 'Weste...</td>\n",
       "      <td>['background', 'methods', 'methods', 'results'...</td>\n",
       "    </tr>\n",
       "  </tbody>\n",
       "</table>\n",
       "<p>100 rows × 4 columns</p>\n",
       "</div>"
      ],
      "text/plain": [
       "          PMCID      PMID                                          sec-title  \\\n",
       "0   PMC10845090  37559243  ['INTRODUCTION', 'INFLAMMATION AND MAJOR DEPRE...   \n",
       "1   PMC10845092  37644747  ['INTRODUCTION', 'MATERIALS AND METHODS', 'RES...   \n",
       "2   PMC10845093  36815632  ['INTRODUCTION', 'GENERALIZED ANXIETY DISORDER...   \n",
       "3   PMC10850428  37553411  ['Introduction', 'Methods', 'Results', 'Discus...   \n",
       "4    PMC1087202  15839744  ['History and Epidemiology', 'Causative Organi...   \n",
       "..          ...       ...                                                ...   \n",
       "95  PMC11141335  38827812  ['Introduction', 'Methods and analysis', 'Disc...   \n",
       "96  PMC11142640  38819423  ['Introduction', 'Results', 'Discussion', 'Mat...   \n",
       "97  PMC11143364  38822081  ['Introduction', 'Results', 'Discussion', 'Mat...   \n",
       "98  PMC11144131  38822893  ['Introduction', 'Participants, materials & me...   \n",
       "99  PMC11144342  38824596  ['Background', 'Materials and methods', 'Weste...   \n",
       "\n",
       "                                             sec-norm  \n",
       "0   ['background', nan, nan, 'conclusions', 'concl...  \n",
       "1   ['background', 'methods', 'results', 'conclusi...  \n",
       "2   ['background', nan, nan, nan, nan, 'conclusion...  \n",
       "3   ['background', 'methods', 'results', 'conclusi...  \n",
       "4   [nan, nan, nan, nan, nan, nan, nan, 'conclusio...  \n",
       "..                                                ...  \n",
       "95  ['background', 'methods', 'conclusions', 'back...  \n",
       "96  ['background', 'results', 'conclusions', 'meth...  \n",
       "97  ['background', 'results', 'conclusions', 'meth...  \n",
       "98  ['background', 'methods', 'results', 'conclusi...  \n",
       "99  ['background', 'methods', 'methods', 'results'...  \n",
       "\n",
       "[100 rows x 4 columns]"
      ]
     },
     "execution_count": 3,
     "metadata": {},
     "output_type": "execute_result"
    }
   ],
   "source": [
    "df_j[:100]"
   ]
  },
  {
   "cell_type": "code",
   "execution_count": 4,
   "id": "e520111c",
   "metadata": {},
   "outputs": [],
   "source": [
    "import ast\n",
    "import numpy as np\n",
    "\n",
    "# import numpy as np\n",
    "\n",
    "def eval_with_nan(x):\n",
    "    if isinstance(x, list):\n",
    "        return [np.nan if (isinstance(i, float) and np.isnan(i)) else i for i in x]\n",
    "    try:\n",
    "        # 這邊直接 eval 而且給定 locals\n",
    "        val = eval(x, {\"nan\": np.nan, \"NaN\": np.nan, \"np\": np})\n",
    "        if isinstance(val, list):\n",
    "            return [np.nan if (isinstance(i, float) and np.isnan(i)) else i for i in val]\n",
    "        else:\n",
    "            return val\n",
    "    except Exception:\n",
    "        return x  # 如果 eval 還失敗就原樣保留\n",
    "\n",
    "# 用在你的 dataframe 上\n",
    "df_j['sec-norm'] = df_j['sec-norm'].apply(eval_with_nan)\n",
    "\n",
    "\n"
   ]
  },
  {
   "cell_type": "code",
   "execution_count": 5,
   "id": "21213000",
   "metadata": {},
   "outputs": [
    {
     "data": {
      "text/plain": [
       "list"
      ]
     },
     "execution_count": 5,
     "metadata": {},
     "output_type": "execute_result"
    }
   ],
   "source": [
    "type(df_j['sec-norm'][0])"
   ]
  },
  {
   "cell_type": "code",
   "execution_count": 7,
   "id": "485b2658",
   "metadata": {},
   "outputs": [],
   "source": [
    "import ast\n",
    "\n",
    "df_j['sec-title'] = df_j['sec-title'].apply(eval_with_nan)\n",
    "df_j['sec-norm'] = df_j['sec-norm'].apply(eval_with_nan)\n",
    "df_s['sec-title'] = df_s['sec-title'].apply(eval_with_nan)\n",
    "df_s['sec-norm'] = df_s['sec-norm'].apply(eval_with_nan)\n",
    "df_s['sec-norm-annotation'] = df_s['sec-norm-annotation'].apply(eval_with_nan)"
   ]
  },
  {
   "cell_type": "code",
   "execution_count": 8,
   "id": "2c2e539c",
   "metadata": {},
   "outputs": [
    {
     "data": {
      "text/plain": [
       "0     [background, nan, nan, conclusions, conclusion...\n",
       "1     [background, methods, results, conclusions, co...\n",
       "2     [background, nan, nan, nan, nan, conclusions, ...\n",
       "3     [background, methods, results, conclusions, co...\n",
       "4     [nan, nan, nan, nan, nan, nan, nan, conclusion...\n",
       "                            ...                        \n",
       "95    [background, methods, conclusions, background,...\n",
       "96    [background, results, conclusions, methods, ba...\n",
       "97    [background, results, conclusions, methods, ba...\n",
       "98    [background, methods, results, conclusions, co...\n",
       "99    [background, methods, methods, results, conclu...\n",
       "Name: sec-norm, Length: 100, dtype: object"
      ]
     },
     "execution_count": 8,
     "metadata": {},
     "output_type": "execute_result"
    }
   ],
   "source": [
    "df_j['sec-norm'][:100]"
   ]
  },
  {
   "cell_type": "code",
   "execution_count": 9,
   "id": "287207e6",
   "metadata": {},
   "outputs": [
    {
     "name": "stdout",
     "output_type": "stream",
     "text": [
      "sec-norm\n",
      "<class 'list'>    100\n",
      "Name: count, dtype: int64\n"
     ]
    }
   ],
   "source": [
    "type_counts = df_j['sec-norm'][:100].apply(type).value_counts()\n",
    "print(type_counts)\n"
   ]
  },
  {
   "cell_type": "code",
   "execution_count": 10,
   "id": "c7e856ab",
   "metadata": {},
   "outputs": [
    {
     "data": {
      "text/plain": [
       "683"
      ]
     },
     "execution_count": 10,
     "metadata": {},
     "output_type": "execute_result"
    }
   ],
   "source": [
    "reference = [item for sublist in df_s['sec-title'] for item in sublist]\n",
    "len(reference)"
   ]
  },
  {
   "cell_type": "code",
   "execution_count": 12,
   "id": "7d6c2bd7",
   "metadata": {},
   "outputs": [
    {
     "data": {
      "text/plain": [
       "(683, 683)"
      ]
     },
     "execution_count": 12,
     "metadata": {},
     "output_type": "execute_result"
    }
   ],
   "source": [
    "import numpy as np\n",
    "j_annotated = [item for sublist in df_j[:100]['sec-norm'] for item in sublist]\n",
    "s_annotated = [item for sublist in df_s['sec-norm-annotation'] for item in sublist]\n",
    "len(j_annotated), len(s_annotated)"
   ]
  },
  {
   "cell_type": "code",
   "execution_count": 13,
   "id": "f8141d84",
   "metadata": {},
   "outputs": [
    {
     "name": "stdout",
     "output_type": "stream",
     "text": [
      "np.nan in j_annotated: True\n",
      "np.nan in s_annotated: True\n"
     ]
    }
   ],
   "source": [
    "import numpy as np\n",
    "import pandas as pd  # pd.isna 需要用到 pandas\n",
    "\n",
    "# 檢查 j_annotated\n",
    "print(\"np.nan in j_annotated:\", any(pd.isna(x) for x in j_annotated))\n",
    "\n",
    "# 檢查 s_annotated\n",
    "print(\"np.nan in s_annotated:\", any(pd.isna(x) for x in s_annotated))\n"
   ]
  },
  {
   "cell_type": "code",
   "execution_count": 14,
   "id": "52d2b5ea",
   "metadata": {},
   "outputs": [
    {
     "name": "stdout",
     "output_type": "stream",
     "text": [
      "Cohen's Kappa (with nan treated as equal): 0.8613\n"
     ]
    }
   ],
   "source": [
    "import pandas as pd\n",
    "from sklearn.metrics import cohen_kappa_score\n",
    "\n",
    "# 1. 把 np.nan 轉成一個特別的字串（例如 'NAN'）\n",
    "def replace_nan(x):\n",
    "    if pd.isna(x):\n",
    "        return 'NAN'  # 注意大小寫都可以，只要一致\n",
    "    else:\n",
    "        return x\n",
    "\n",
    "# 2. 對你的兩個 list 都處理\n",
    "j_fixed = [replace_nan(x) for x in j_annotated]\n",
    "s_fixed = [replace_nan(x) for x in s_annotated]\n",
    "\n",
    "# 3. 拿乾淨版去算 Cohen's Kappa\n",
    "kappa = cohen_kappa_score(j_fixed, s_fixed)\n",
    "print(f\"Cohen's Kappa (with nan treated as equal): {kappa:.4f}\")\n"
   ]
  },
  {
   "cell_type": "code",
   "execution_count": 15,
   "id": "70cd892f",
   "metadata": {},
   "outputs": [
    {
     "name": "stdout",
     "output_type": "stream",
     "text": [
      "Cohen's Kappa: 0.8613\n"
     ]
    }
   ],
   "source": [
    "print(f\"Cohen's Kappa: {cohen_kappa_score(j_annotated, s_annotated):.4f}\")"
   ]
  },
  {
   "cell_type": "code",
   "execution_count": 16,
   "id": "fbbac2a4",
   "metadata": {},
   "outputs": [
    {
     "data": {
      "text/plain": [
       "<sklearn.metrics._plot.confusion_matrix.ConfusionMatrixDisplay at 0x7fb872ffb700>"
      ]
     },
     "execution_count": 16,
     "metadata": {},
     "output_type": "execute_result"
    },
    {
     "data": {
      "image/png": "[encoded data removed]",
      "text/plain": [
       "<Figure size 640x480 with 2 Axes>"
      ]
     },
     "metadata": {},
     "output_type": "display_data"
    }
   ],
   "source": [
    "from sklearn.metrics import confusion_matrix, ConfusionMatrixDisplay\n",
    "labels = sorted(set(j_fixed) | set(s_fixed))  # 統一所有可能的 label\n",
    "\n",
    "cm = confusion_matrix(j_fixed, s_fixed, labels=labels)\n",
    "disp = ConfusionMatrixDisplay(confusion_matrix=cm, display_labels=labels)\n",
    "disp.plot(xticks_rotation=45, cmap=\"Blues\")"
   ]
  },
  {
   "cell_type": "code",
   "execution_count": null,
   "id": "cab9b658",
   "metadata": {},
   "outputs": [],
   "source": []
  },
  {
   "cell_type": "markdown",
   "id": "3781e3d5",
   "metadata": {},
   "source": [
    "### Filter out summary"
   ]
  },
  {
   "cell_type": "code",
   "execution_count": 19,
   "id": "c9bc5fe0",
   "metadata": {},
   "outputs": [
    {
     "data": {
      "text/plain": [
       "8721504"
      ]
     },
     "execution_count": 19,
     "metadata": {},
     "output_type": "execute_result"
    }
   ],
   "source": [
    "file_path = 'Processed_Headings/section_normalizatin_ids.txt'  # 換成你的檔案路徑\n",
    "\n",
    "with open(file_path, 'r', encoding='utf-8') as f:\n",
    "    lines = [line.strip() for line in f]\n",
    "len(lines)"
   ]
  },
  {
   "cell_type": "code",
   "execution_count": 20,
   "id": "3cf2840d",
   "metadata": {},
   "outputs": [],
   "source": [
    "import pandas as pd\n",
    "\n",
    "df_j = pd.read_csv('Processed_Headings/manual_labels_test - first_200.csv')\n",
    "df_s = pd.read_excel('Processed_Headings/seq_for_manual_labeled_removed_duplicate_sylvey100~200.xlsx')\n",
    "\n",
    "lines_set = set(map(int, lines))  # 或用 str，看你的類型\n",
    "\n",
    "# 過濾出 PMID 有在 lines 裡的 row\n",
    "df_j = df_j[df_j['PMID'].isin(lines_set)].reset_index(drop=True)\n",
    "df_s = df_s[df_s['PMID'].isin(lines_set)].reset_index(drop=True)"
   ]
  },
  {
   "cell_type": "code",
   "execution_count": 21,
   "id": "97950044",
   "metadata": {},
   "outputs": [
    {
     "data": {
      "text/html": [
       "<div>\n",
       "<style scoped>\n",
       "    .dataframe tbody tr th:only-of-type {\n",
       "        vertical-align: middle;\n",
       "    }\n",
       "\n",
       "    .dataframe tbody tr th {\n",
       "        vertical-align: top;\n",
       "    }\n",
       "\n",
       "    .dataframe thead th {\n",
       "        text-align: right;\n",
       "    }\n",
       "</style>\n",
       "<table border=\"1\" class=\"dataframe\">\n",
       "  <thead>\n",
       "    <tr style=\"text-align: right;\">\n",
       "      <th></th>\n",
       "      <th>PMCID</th>\n",
       "      <th>PMID</th>\n",
       "      <th>sec-title</th>\n",
       "      <th>sec-norm</th>\n",
       "      <th>sec-norm-annotation</th>\n",
       "    </tr>\n",
       "  </thead>\n",
       "  <tbody>\n",
       "    <tr>\n",
       "      <th>0</th>\n",
       "      <td>PMC10845092</td>\n",
       "      <td>37644747</td>\n",
       "      <td>['INTRODUCTION', 'MATERIALS AND METHODS', 'RES...</td>\n",
       "      <td>['background', 'methods', 'results', 'conclusi...</td>\n",
       "      <td>['background', 'methods', 'results', 'conclusi...</td>\n",
       "    </tr>\n",
       "    <tr>\n",
       "      <th>1</th>\n",
       "      <td>PMC10850428</td>\n",
       "      <td>37553411</td>\n",
       "      <td>['Introduction', 'Methods', 'Results', 'Discus...</td>\n",
       "      <td>['background', 'methods', 'results', 'conclusi...</td>\n",
       "      <td>['background', 'methods', 'results', 'conclusi...</td>\n",
       "    </tr>\n",
       "    <tr>\n",
       "      <th>2</th>\n",
       "      <td>PMC1087202</td>\n",
       "      <td>15839744</td>\n",
       "      <td>['History and Epidemiology', 'Causative Organi...</td>\n",
       "      <td>[nan, nan, 'methods', 'methods', nan, nan, nan...</td>\n",
       "      <td>['background', 'background', 'methods', 'metho...</td>\n",
       "    </tr>\n",
       "    <tr>\n",
       "      <th>3</th>\n",
       "      <td>PMC1087213</td>\n",
       "      <td>15986512</td>\n",
       "      <td>['A World of Contrasts', 'Open Access to the M...</td>\n",
       "      <td>[nan, nan, nan, nan, nan]</td>\n",
       "      <td>['background', 'conclusions', 'conclusions', '...</td>\n",
       "    </tr>\n",
       "    <tr>\n",
       "      <th>4</th>\n",
       "      <td>PMC1087493</td>\n",
       "      <td>15804355</td>\n",
       "      <td>['Background', 'Methods', 'Results', 'Discussi...</td>\n",
       "      <td>['background', 'methods', 'results', 'conclusi...</td>\n",
       "      <td>['background', 'methods', 'results', 'conclusi...</td>\n",
       "    </tr>\n",
       "    <tr>\n",
       "      <th>...</th>\n",
       "      <td>...</td>\n",
       "      <td>...</td>\n",
       "      <td>...</td>\n",
       "      <td>...</td>\n",
       "      <td>...</td>\n",
       "    </tr>\n",
       "    <tr>\n",
       "      <th>84</th>\n",
       "      <td>PMC11141335</td>\n",
       "      <td>38827812</td>\n",
       "      <td>['Introduction', 'Methods and analysis', 'Disc...</td>\n",
       "      <td>['background', 'methods', 'conclusions', 'back...</td>\n",
       "      <td>['background', 'methods', 'conclusions', 'back...</td>\n",
       "    </tr>\n",
       "    <tr>\n",
       "      <th>85</th>\n",
       "      <td>PMC11142640</td>\n",
       "      <td>38819423</td>\n",
       "      <td>['Introduction', 'Results', 'Discussion', 'Mat...</td>\n",
       "      <td>['background', 'results', 'conclusions', 'meth...</td>\n",
       "      <td>['background', 'results', 'conclusions', 'meth...</td>\n",
       "    </tr>\n",
       "    <tr>\n",
       "      <th>86</th>\n",
       "      <td>PMC11143364</td>\n",
       "      <td>38822081</td>\n",
       "      <td>['Introduction', 'Results', 'Discussion', 'Mat...</td>\n",
       "      <td>['background', 'results', 'conclusions', 'meth...</td>\n",
       "      <td>['background', 'results', 'conclusions', 'meth...</td>\n",
       "    </tr>\n",
       "    <tr>\n",
       "      <th>87</th>\n",
       "      <td>PMC11144131</td>\n",
       "      <td>38822893</td>\n",
       "      <td>['Introduction', 'Participants, materials &amp; me...</td>\n",
       "      <td>['background', nan, 'results', 'conclusions', ...</td>\n",
       "      <td>['background', 'background', 'results', 'concl...</td>\n",
       "    </tr>\n",
       "    <tr>\n",
       "      <th>88</th>\n",
       "      <td>PMC11144342</td>\n",
       "      <td>38824596</td>\n",
       "      <td>['Background', 'Materials and methods', 'Weste...</td>\n",
       "      <td>['background', 'methods', nan, 'results', 'con...</td>\n",
       "      <td>['background', 'methods', 'results', 'results'...</td>\n",
       "    </tr>\n",
       "  </tbody>\n",
       "</table>\n",
       "<p>89 rows × 5 columns</p>\n",
       "</div>"
      ],
      "text/plain": [
       "          PMCID      PMID                                          sec-title  \\\n",
       "0   PMC10845092  37644747  ['INTRODUCTION', 'MATERIALS AND METHODS', 'RES...   \n",
       "1   PMC10850428  37553411  ['Introduction', 'Methods', 'Results', 'Discus...   \n",
       "2    PMC1087202  15839744  ['History and Epidemiology', 'Causative Organi...   \n",
       "3    PMC1087213  15986512  ['A World of Contrasts', 'Open Access to the M...   \n",
       "4    PMC1087493  15804355  ['Background', 'Methods', 'Results', 'Discussi...   \n",
       "..          ...       ...                                                ...   \n",
       "84  PMC11141335  38827812  ['Introduction', 'Methods and analysis', 'Disc...   \n",
       "85  PMC11142640  38819423  ['Introduction', 'Results', 'Discussion', 'Mat...   \n",
       "86  PMC11143364  38822081  ['Introduction', 'Results', 'Discussion', 'Mat...   \n",
       "87  PMC11144131  38822893  ['Introduction', 'Participants, materials & me...   \n",
       "88  PMC11144342  38824596  ['Background', 'Materials and methods', 'Weste...   \n",
       "\n",
       "                                             sec-norm  \\\n",
       "0   ['background', 'methods', 'results', 'conclusi...   \n",
       "1   ['background', 'methods', 'results', 'conclusi...   \n",
       "2   [nan, nan, 'methods', 'methods', nan, nan, nan...   \n",
       "3                           [nan, nan, nan, nan, nan]   \n",
       "4   ['background', 'methods', 'results', 'conclusi...   \n",
       "..                                                ...   \n",
       "84  ['background', 'methods', 'conclusions', 'back...   \n",
       "85  ['background', 'results', 'conclusions', 'meth...   \n",
       "86  ['background', 'results', 'conclusions', 'meth...   \n",
       "87  ['background', nan, 'results', 'conclusions', ...   \n",
       "88  ['background', 'methods', nan, 'results', 'con...   \n",
       "\n",
       "                                  sec-norm-annotation  \n",
       "0   ['background', 'methods', 'results', 'conclusi...  \n",
       "1   ['background', 'methods', 'results', 'conclusi...  \n",
       "2   ['background', 'background', 'methods', 'metho...  \n",
       "3   ['background', 'conclusions', 'conclusions', '...  \n",
       "4   ['background', 'methods', 'results', 'conclusi...  \n",
       "..                                                ...  \n",
       "84  ['background', 'methods', 'conclusions', 'back...  \n",
       "85  ['background', 'results', 'conclusions', 'meth...  \n",
       "86  ['background', 'results', 'conclusions', 'meth...  \n",
       "87  ['background', 'background', 'results', 'concl...  \n",
       "88  ['background', 'methods', 'results', 'results'...  \n",
       "\n",
       "[89 rows x 5 columns]"
      ]
     },
     "execution_count": 21,
     "metadata": {},
     "output_type": "execute_result"
    }
   ],
   "source": [
    "df_s"
   ]
  },
  {
   "cell_type": "code",
   "execution_count": 22,
   "id": "b2598680",
   "metadata": {},
   "outputs": [
    {
     "data": {
      "text/html": [
       "<div>\n",
       "<style scoped>\n",
       "    .dataframe tbody tr th:only-of-type {\n",
       "        vertical-align: middle;\n",
       "    }\n",
       "\n",
       "    .dataframe tbody tr th {\n",
       "        vertical-align: top;\n",
       "    }\n",
       "\n",
       "    .dataframe thead th {\n",
       "        text-align: right;\n",
       "    }\n",
       "</style>\n",
       "<table border=\"1\" class=\"dataframe\">\n",
       "  <thead>\n",
       "    <tr style=\"text-align: right;\">\n",
       "      <th></th>\n",
       "      <th>PMCID</th>\n",
       "      <th>PMID</th>\n",
       "      <th>sec-title</th>\n",
       "      <th>sec-norm</th>\n",
       "    </tr>\n",
       "  </thead>\n",
       "  <tbody>\n",
       "    <tr>\n",
       "      <th>0</th>\n",
       "      <td>PMC10845092</td>\n",
       "      <td>37644747</td>\n",
       "      <td>['INTRODUCTION', 'MATERIALS AND METHODS', 'RES...</td>\n",
       "      <td>['background', 'methods', 'results', 'conclusi...</td>\n",
       "    </tr>\n",
       "    <tr>\n",
       "      <th>1</th>\n",
       "      <td>PMC10850428</td>\n",
       "      <td>37553411</td>\n",
       "      <td>['Introduction', 'Methods', 'Results', 'Discus...</td>\n",
       "      <td>['background', 'methods', 'results', 'conclusi...</td>\n",
       "    </tr>\n",
       "    <tr>\n",
       "      <th>2</th>\n",
       "      <td>PMC1087202</td>\n",
       "      <td>15839744</td>\n",
       "      <td>['History and Epidemiology', 'Causative Organi...</td>\n",
       "      <td>[nan, nan, nan, nan, nan, nan, nan, 'conclusio...</td>\n",
       "    </tr>\n",
       "    <tr>\n",
       "      <th>3</th>\n",
       "      <td>PMC1087213</td>\n",
       "      <td>15986512</td>\n",
       "      <td>['A World of Contrasts', 'Open Access to the M...</td>\n",
       "      <td>[nan, nan, nan, nan, 'conclusions']</td>\n",
       "    </tr>\n",
       "    <tr>\n",
       "      <th>4</th>\n",
       "      <td>PMC1087493</td>\n",
       "      <td>15804355</td>\n",
       "      <td>['Background', 'Methods', 'Results', 'Discussi...</td>\n",
       "      <td>['background', 'methods', 'results', 'conclusi...</td>\n",
       "    </tr>\n",
       "    <tr>\n",
       "      <th>...</th>\n",
       "      <td>...</td>\n",
       "      <td>...</td>\n",
       "      <td>...</td>\n",
       "      <td>...</td>\n",
       "    </tr>\n",
       "    <tr>\n",
       "      <th>84</th>\n",
       "      <td>PMC11141335</td>\n",
       "      <td>38827812</td>\n",
       "      <td>['Introduction', 'Methods and analysis', 'Disc...</td>\n",
       "      <td>['background', 'methods', 'conclusions', 'back...</td>\n",
       "    </tr>\n",
       "    <tr>\n",
       "      <th>85</th>\n",
       "      <td>PMC11142640</td>\n",
       "      <td>38819423</td>\n",
       "      <td>['Introduction', 'Results', 'Discussion', 'Mat...</td>\n",
       "      <td>['background', 'results', 'conclusions', 'meth...</td>\n",
       "    </tr>\n",
       "    <tr>\n",
       "      <th>86</th>\n",
       "      <td>PMC11143364</td>\n",
       "      <td>38822081</td>\n",
       "      <td>['Introduction', 'Results', 'Discussion', 'Mat...</td>\n",
       "      <td>['background', 'results', 'conclusions', 'meth...</td>\n",
       "    </tr>\n",
       "    <tr>\n",
       "      <th>87</th>\n",
       "      <td>PMC11144131</td>\n",
       "      <td>38822893</td>\n",
       "      <td>['Introduction', 'Participants, materials &amp; me...</td>\n",
       "      <td>['background', 'methods', 'results', 'conclusi...</td>\n",
       "    </tr>\n",
       "    <tr>\n",
       "      <th>88</th>\n",
       "      <td>PMC11144342</td>\n",
       "      <td>38824596</td>\n",
       "      <td>['Background', 'Materials and methods', 'Weste...</td>\n",
       "      <td>['background', 'methods', 'methods', 'results'...</td>\n",
       "    </tr>\n",
       "  </tbody>\n",
       "</table>\n",
       "<p>89 rows × 4 columns</p>\n",
       "</div>"
      ],
      "text/plain": [
       "          PMCID      PMID                                          sec-title  \\\n",
       "0   PMC10845092  37644747  ['INTRODUCTION', 'MATERIALS AND METHODS', 'RES...   \n",
       "1   PMC10850428  37553411  ['Introduction', 'Methods', 'Results', 'Discus...   \n",
       "2    PMC1087202  15839744  ['History and Epidemiology', 'Causative Organi...   \n",
       "3    PMC1087213  15986512  ['A World of Contrasts', 'Open Access to the M...   \n",
       "4    PMC1087493  15804355  ['Background', 'Methods', 'Results', 'Discussi...   \n",
       "..          ...       ...                                                ...   \n",
       "84  PMC11141335  38827812  ['Introduction', 'Methods and analysis', 'Disc...   \n",
       "85  PMC11142640  38819423  ['Introduction', 'Results', 'Discussion', 'Mat...   \n",
       "86  PMC11143364  38822081  ['Introduction', 'Results', 'Discussion', 'Mat...   \n",
       "87  PMC11144131  38822893  ['Introduction', 'Participants, materials & me...   \n",
       "88  PMC11144342  38824596  ['Background', 'Materials and methods', 'Weste...   \n",
       "\n",
       "                                             sec-norm  \n",
       "0   ['background', 'methods', 'results', 'conclusi...  \n",
       "1   ['background', 'methods', 'results', 'conclusi...  \n",
       "2   [nan, nan, nan, nan, nan, nan, nan, 'conclusio...  \n",
       "3                 [nan, nan, nan, nan, 'conclusions']  \n",
       "4   ['background', 'methods', 'results', 'conclusi...  \n",
       "..                                                ...  \n",
       "84  ['background', 'methods', 'conclusions', 'back...  \n",
       "85  ['background', 'results', 'conclusions', 'meth...  \n",
       "86  ['background', 'results', 'conclusions', 'meth...  \n",
       "87  ['background', 'methods', 'results', 'conclusi...  \n",
       "88  ['background', 'methods', 'methods', 'results'...  \n",
       "\n",
       "[89 rows x 4 columns]"
      ]
     },
     "execution_count": 22,
     "metadata": {},
     "output_type": "execute_result"
    }
   ],
   "source": [
    "df_j[:100]"
   ]
  },
  {
   "cell_type": "code",
   "execution_count": 23,
   "id": "ca10ff30",
   "metadata": {},
   "outputs": [],
   "source": [
    "import ast\n",
    "import numpy as np\n",
    "\n",
    "# import numpy as np\n",
    "\n",
    "def eval_with_nan(x):\n",
    "    if isinstance(x, list):\n",
    "        return [np.nan if (isinstance(i, float) and np.isnan(i)) else i for i in x]\n",
    "    try:\n",
    "        # 這邊直接 eval 而且給定 locals\n",
    "        val = eval(x, {\"nan\": np.nan, \"NaN\": np.nan, \"np\": np})\n",
    "        if isinstance(val, list):\n",
    "            return [np.nan if (isinstance(i, float) and np.isnan(i)) else i for i in val]\n",
    "        else:\n",
    "            return val\n",
    "    except Exception:\n",
    "        return x  # 如果 eval 還失敗就原樣保留\n",
    "\n",
    "# 用在你的 dataframe 上\n",
    "df_j['sec-norm'] = df_j['sec-norm'].apply(eval_with_nan)\n",
    "\n",
    "\n"
   ]
  },
  {
   "cell_type": "code",
   "execution_count": 24,
   "id": "dad22c58",
   "metadata": {},
   "outputs": [
    {
     "data": {
      "text/plain": [
       "list"
      ]
     },
     "execution_count": 24,
     "metadata": {},
     "output_type": "execute_result"
    }
   ],
   "source": [
    "type(df_j['sec-norm'][0])"
   ]
  },
  {
   "cell_type": "code",
   "execution_count": 25,
   "id": "062a540e",
   "metadata": {},
   "outputs": [],
   "source": [
    "import ast\n",
    "\n",
    "df_j['sec-title'] = df_j['sec-title'].apply(eval_with_nan)\n",
    "df_j['sec-norm'] = df_j['sec-norm'].apply(eval_with_nan)\n",
    "df_s['sec-title'] = df_s['sec-title'].apply(eval_with_nan)\n",
    "df_s['sec-norm'] = df_s['sec-norm'].apply(eval_with_nan)\n",
    "df_s['sec-norm-annotation'] = df_s['sec-norm-annotation'].apply(eval_with_nan)"
   ]
  },
  {
   "cell_type": "code",
   "execution_count": 26,
   "id": "542ede09",
   "metadata": {},
   "outputs": [
    {
     "data": {
      "text/plain": [
       "0     [background, methods, results, conclusions, co...\n",
       "1     [background, methods, results, conclusions, co...\n",
       "2     [nan, nan, nan, nan, nan, nan, nan, conclusion...\n",
       "3                     [nan, nan, nan, nan, conclusions]\n",
       "4     [background, methods, results, conclusions, ba...\n",
       "                            ...                        \n",
       "84    [background, methods, conclusions, background,...\n",
       "85    [background, results, conclusions, methods, ba...\n",
       "86    [background, results, conclusions, methods, ba...\n",
       "87    [background, methods, results, conclusions, co...\n",
       "88    [background, methods, methods, results, conclu...\n",
       "Name: sec-norm, Length: 89, dtype: object"
      ]
     },
     "execution_count": 26,
     "metadata": {},
     "output_type": "execute_result"
    }
   ],
   "source": [
    "df_j['sec-norm'][:100]"
   ]
  },
  {
   "cell_type": "code",
   "execution_count": 27,
   "id": "8e58ebb8",
   "metadata": {},
   "outputs": [
    {
     "name": "stdout",
     "output_type": "stream",
     "text": [
      "sec-norm\n",
      "<class 'list'>    89\n",
      "Name: count, dtype: int64\n"
     ]
    }
   ],
   "source": [
    "type_counts = df_j['sec-norm'][:100].apply(type).value_counts()\n",
    "print(type_counts)\n"
   ]
  },
  {
   "cell_type": "code",
   "execution_count": 28,
   "id": "8419d077",
   "metadata": {},
   "outputs": [
    {
     "data": {
      "text/plain": [
       "602"
      ]
     },
     "execution_count": 28,
     "metadata": {},
     "output_type": "execute_result"
    }
   ],
   "source": [
    "reference = [item for sublist in df_s['sec-title'] for item in sublist]\n",
    "len(reference)"
   ]
  },
  {
   "cell_type": "code",
   "execution_count": 29,
   "id": "e45c02b2",
   "metadata": {},
   "outputs": [
    {
     "data": {
      "text/plain": [
       "(602, 602)"
      ]
     },
     "execution_count": 29,
     "metadata": {},
     "output_type": "execute_result"
    }
   ],
   "source": [
    "import numpy as np\n",
    "j_annotated = [item for sublist in df_j[:100]['sec-norm'] for item in sublist]\n",
    "s_annotated = [item for sublist in df_s['sec-norm-annotation'] for item in sublist]\n",
    "len(j_annotated), len(s_annotated)"
   ]
  },
  {
   "cell_type": "code",
   "execution_count": 30,
   "id": "2afee1a2",
   "metadata": {},
   "outputs": [
    {
     "name": "stdout",
     "output_type": "stream",
     "text": [
      "np.nan in j_annotated: True\n",
      "np.nan in s_annotated: True\n"
     ]
    }
   ],
   "source": [
    "import numpy as np\n",
    "import pandas as pd  # pd.isna 需要用到 pandas\n",
    "\n",
    "# 檢查 j_annotated\n",
    "print(\"np.nan in j_annotated:\", any(pd.isna(x) for x in j_annotated))\n",
    "\n",
    "# 檢查 s_annotated\n",
    "print(\"np.nan in s_annotated:\", any(pd.isna(x) for x in s_annotated))\n"
   ]
  },
  {
   "cell_type": "code",
   "execution_count": 31,
   "id": "02bce717",
   "metadata": {},
   "outputs": [
    {
     "name": "stdout",
     "output_type": "stream",
     "text": [
      "Cohen's Kappa (with nan treated as equal): 0.8966\n"
     ]
    }
   ],
   "source": [
    "import pandas as pd\n",
    "from sklearn.metrics import cohen_kappa_score\n",
    "\n",
    "# 1. 把 np.nan 轉成一個特別的字串（例如 'NAN'）\n",
    "def replace_nan(x):\n",
    "    if pd.isna(x):\n",
    "        return 'NAN'  # 注意大小寫都可以，只要一致\n",
    "    else:\n",
    "        return x\n",
    "\n",
    "# 2. 對你的兩個 list 都處理\n",
    "j_fixed = [replace_nan(x) for x in j_annotated]\n",
    "s_fixed = [replace_nan(x) for x in s_annotated]\n",
    "\n",
    "# 3. 拿乾淨版去算 Cohen's Kappa\n",
    "kappa = cohen_kappa_score(j_fixed, s_fixed)\n",
    "print(f\"Cohen's Kappa (with nan treated as equal): {kappa:.4f}\")\n"
   ]
  },
  {
   "cell_type": "code",
   "execution_count": 32,
   "id": "fba41645",
   "metadata": {},
   "outputs": [
    {
     "name": "stdout",
     "output_type": "stream",
     "text": [
      "Cohen's Kappa: 0.8966\n"
     ]
    }
   ],
   "source": [
    "print(f\"Cohen's Kappa: {cohen_kappa_score(j_annotated, s_annotated):.4f}\")"
   ]
  },
  {
   "cell_type": "code",
   "execution_count": 33,
   "id": "73a9d443",
   "metadata": {},
   "outputs": [
    {
     "data": {
      "text/plain": [
       "<sklearn.metrics._plot.confusion_matrix.ConfusionMatrixDisplay at 0x7fb77b80f2e0>"
      ]
     },
     "execution_count": 33,
     "metadata": {},
     "output_type": "execute_result"
    },
    {
     "data": {
      "image/png": "[encoded data removed]",
      "text/plain": [
       "<Figure size 640x480 with 2 Axes>"
      ]
     },
     "metadata": {},
     "output_type": "display_data"
    }
   ],
   "source": [
    "from sklearn.metrics import confusion_matrix, ConfusionMatrixDisplay\n",
    "labels = sorted(set(j_fixed) | set(s_fixed))  # 統一所有可能的 label\n",
    "\n",
    "cm = confusion_matrix(j_fixed, s_fixed, labels=labels)\n",
    "disp = ConfusionMatrixDisplay(confusion_matrix=cm, display_labels=labels)\n",
    "disp.plot(xticks_rotation=45, cmap=\"Blues\")"
   ]
  },
  {
   "cell_type": "code",
   "execution_count": null,
   "id": "181f3daa",
   "metadata": {},
   "outputs": [],
   "source": []
  }
 ],
 "metadata": {
  "kernelspec": {
   "display_name": "Python 3",
   "language": "python",
   "name": "python3"
  },
  "language_info": {
   "codemirror_mode": {
    "name": "ipython",
    "version": 3
   },
   "file_extension": ".py",
   "mimetype": "text/x-python",
   "name": "python",
   "nbconvert_exporter": "python",
   "pygments_lexer": "ipython3",
   "version": "3.9.21"
  }
 },
 "nbformat": 4,
 "nbformat_minor": 5
}
