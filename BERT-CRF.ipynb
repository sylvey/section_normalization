{
 "cells": [
  {
   "cell_type": "markdown",
   "metadata": {
    "jp-MarkdownHeadingCollapsed": true
   },
   "source": [
    "## None not added"
   ]
  },
  {
   "cell_type": "markdown",
   "metadata": {},
   "source": [
    "### Data Preprocess"
   ]
  },
  {
   "cell_type": "code",
   "execution_count": 1,
   "metadata": {},
   "outputs": [
    {
     "data": {
      "text/html": [
       "<div>\n",
       "<style scoped>\n",
       "    .dataframe tbody tr th:only-of-type {\n",
       "        vertical-align: middle;\n",
       "    }\n",
       "\n",
       "    .dataframe tbody tr th {\n",
       "        vertical-align: top;\n",
       "    }\n",
       "\n",
       "    .dataframe thead th {\n",
       "        text-align: right;\n",
       "    }\n",
       "</style>\n",
       "<table border=\"1\" class=\"dataframe\">\n",
       "  <thead>\n",
       "    <tr style=\"text-align: right;\">\n",
       "      <th></th>\n",
       "      <th>PMCID</th>\n",
       "      <th>PMID</th>\n",
       "      <th>sec-title</th>\n",
       "      <th>sec-norm</th>\n",
       "    </tr>\n",
       "  </thead>\n",
       "  <tbody>\n",
       "    <tr>\n",
       "      <th>0</th>\n",
       "      <td>PMC11191691</td>\n",
       "      <td>38842535</td>\n",
       "      <td>['Introduction', 'Results and Discussion', 'Co...</td>\n",
       "      <td>['background', 'conclusions', 'conclusions', '...</td>\n",
       "    </tr>\n",
       "    <tr>\n",
       "      <th>1</th>\n",
       "      <td>PMC11182025</td>\n",
       "      <td>38887617</td>\n",
       "      <td>['Introduction', 'Materials &amp; Methods', 'Resul...</td>\n",
       "      <td>['background', 'methods', 'results', 'conclusi...</td>\n",
       "    </tr>\n",
       "    <tr>\n",
       "      <th>2</th>\n",
       "      <td>PMC10511328</td>\n",
       "      <td>37704722</td>\n",
       "      <td>['Main', 'Pooled longitudinal analyses', 'Popu...</td>\n",
       "      <td>['background', 'results', 'results', 'results'...</td>\n",
       "    </tr>\n",
       "    <tr>\n",
       "      <th>3</th>\n",
       "      <td>PMC10632145</td>\n",
       "      <td>37914938</td>\n",
       "      <td>['Main', 'Population imaging and single-cell a...</td>\n",
       "      <td>['background', 'results', 'results', 'results'...</td>\n",
       "    </tr>\n",
       "    <tr>\n",
       "      <th>4</th>\n",
       "      <td>PMC1084334</td>\n",
       "      <td>15884974</td>\n",
       "      <td>['Introduction', 'Results', 'Discussion', 'Mat...</td>\n",
       "      <td>['background', 'results', 'conclusions', 'meth...</td>\n",
       "    </tr>\n",
       "    <tr>\n",
       "      <th>...</th>\n",
       "      <td>...</td>\n",
       "      <td>...</td>\n",
       "      <td>...</td>\n",
       "      <td>...</td>\n",
       "    </tr>\n",
       "    <tr>\n",
       "      <th>635</th>\n",
       "      <td>PMC11187391</td>\n",
       "      <td>38123960</td>\n",
       "      <td>['Ethics statements']</td>\n",
       "      <td>[nan]</td>\n",
       "    </tr>\n",
       "    <tr>\n",
       "      <th>636</th>\n",
       "      <td>PMC11187998</td>\n",
       "      <td>38903349</td>\n",
       "      <td>['Introduction', 'Case presentation', 'Discuss...</td>\n",
       "      <td>['background', 'methods', 'conclusions', 'conc...</td>\n",
       "    </tr>\n",
       "    <tr>\n",
       "      <th>637</th>\n",
       "      <td>PMC11191920</td>\n",
       "      <td>38905421</td>\n",
       "      <td>['1. Introduction', '2. Patients and methods',...</td>\n",
       "      <td>['background', 'methods', 'results', 'conclusi...</td>\n",
       "    </tr>\n",
       "    <tr>\n",
       "      <th>638</th>\n",
       "      <td>PMC10978839</td>\n",
       "      <td>38548747</td>\n",
       "      <td>['Introduction', 'Results', 'Discussion', 'Mat...</td>\n",
       "      <td>['background', 'results', 'conclusions', 'meth...</td>\n",
       "    </tr>\n",
       "    <tr>\n",
       "      <th>639</th>\n",
       "      <td>PMC11187969</td>\n",
       "      <td>38561968</td>\n",
       "      <td>['Introduction', 'Construction of Chiral Nanom...</td>\n",
       "      <td>['background', 'background', 'background', 'ba...</td>\n",
       "    </tr>\n",
       "  </tbody>\n",
       "</table>\n",
       "<p>640 rows × 4 columns</p>\n",
       "</div>"
      ],
      "text/plain": [
       "           PMCID      PMID                                          sec-title  \\\n",
       "0    PMC11191691  38842535  ['Introduction', 'Results and Discussion', 'Co...   \n",
       "1    PMC11182025  38887617  ['Introduction', 'Materials & Methods', 'Resul...   \n",
       "2    PMC10511328  37704722  ['Main', 'Pooled longitudinal analyses', 'Popu...   \n",
       "3    PMC10632145  37914938  ['Main', 'Population imaging and single-cell a...   \n",
       "4     PMC1084334  15884974  ['Introduction', 'Results', 'Discussion', 'Mat...   \n",
       "..           ...       ...                                                ...   \n",
       "635  PMC11187391  38123960                              ['Ethics statements']   \n",
       "636  PMC11187998  38903349  ['Introduction', 'Case presentation', 'Discuss...   \n",
       "637  PMC11191920  38905421  ['1. Introduction', '2. Patients and methods',...   \n",
       "638  PMC10978839  38548747  ['Introduction', 'Results', 'Discussion', 'Mat...   \n",
       "639  PMC11187969  38561968  ['Introduction', 'Construction of Chiral Nanom...   \n",
       "\n",
       "                                              sec-norm  \n",
       "0    ['background', 'conclusions', 'conclusions', '...  \n",
       "1    ['background', 'methods', 'results', 'conclusi...  \n",
       "2    ['background', 'results', 'results', 'results'...  \n",
       "3    ['background', 'results', 'results', 'results'...  \n",
       "4    ['background', 'results', 'conclusions', 'meth...  \n",
       "..                                                 ...  \n",
       "635                                              [nan]  \n",
       "636  ['background', 'methods', 'conclusions', 'conc...  \n",
       "637  ['background', 'methods', 'results', 'conclusi...  \n",
       "638  ['background', 'results', 'conclusions', 'meth...  \n",
       "639  ['background', 'background', 'background', 'ba...  \n",
       "\n",
       "[640 rows x 4 columns]"
      ]
     },
     "execution_count": 1,
     "metadata": {},
     "output_type": "execute_result"
    }
   ],
   "source": [
    "import pandas as pd\n",
    "train_df = pd.read_csv('data/train_annotated.csv')\n",
    "test_df = pd.read_csv('data/test_annotated.csv')\n",
    "train_df"
   ]
  },
  {
   "cell_type": "code",
   "execution_count": 2,
   "metadata": {},
   "outputs": [
    {
     "data": {
      "text/html": [
       "<div>\n",
       "<style scoped>\n",
       "    .dataframe tbody tr th:only-of-type {\n",
       "        vertical-align: middle;\n",
       "    }\n",
       "\n",
       "    .dataframe tbody tr th {\n",
       "        vertical-align: top;\n",
       "    }\n",
       "\n",
       "    .dataframe thead th {\n",
       "        text-align: right;\n",
       "    }\n",
       "</style>\n",
       "<table border=\"1\" class=\"dataframe\">\n",
       "  <thead>\n",
       "    <tr style=\"text-align: right;\">\n",
       "      <th></th>\n",
       "      <th>PMCID</th>\n",
       "      <th>PMID</th>\n",
       "      <th>sec-title</th>\n",
       "      <th>sec-norm</th>\n",
       "    </tr>\n",
       "  </thead>\n",
       "  <tbody>\n",
       "    <tr>\n",
       "      <th>0</th>\n",
       "      <td>PMC11184573</td>\n",
       "      <td>38888203</td>\n",
       "      <td>['INTRODUCTION', 'MATERIALS AND METHODS', 'DIS...</td>\n",
       "      <td>['background', 'methods', 'conclusions', 'conc...</td>\n",
       "    </tr>\n",
       "    <tr>\n",
       "      <th>1</th>\n",
       "      <td>PMC11183239</td>\n",
       "      <td>38886373</td>\n",
       "      <td>['Introduction', 'Subjects and methods', 'Resu...</td>\n",
       "      <td>['background', 'methods', 'results', 'conclusi...</td>\n",
       "    </tr>\n",
       "    <tr>\n",
       "      <th>2</th>\n",
       "      <td>PMC11187291</td>\n",
       "      <td>38903966</td>\n",
       "      <td>['Introduction', 'Methods', 'Results', 'Discus...</td>\n",
       "      <td>['background', 'methods', 'results', 'conclusi...</td>\n",
       "    </tr>\n",
       "    <tr>\n",
       "      <th>3</th>\n",
       "      <td>PMC11177991</td>\n",
       "      <td>38883749</td>\n",
       "      <td>['INTRODUCTION', 'MATERIALS AND METHODS', 'RES...</td>\n",
       "      <td>['background', 'methods', 'results', 'conclusi...</td>\n",
       "    </tr>\n",
       "    <tr>\n",
       "      <th>4</th>\n",
       "      <td>PMC11187304</td>\n",
       "      <td>38903638</td>\n",
       "      <td>['Introduction', 'Methods', 'Case reports', 'D...</td>\n",
       "      <td>['background', 'methods', 'methods', 'conclusi...</td>\n",
       "    </tr>\n",
       "    <tr>\n",
       "      <th>...</th>\n",
       "      <td>...</td>\n",
       "      <td>...</td>\n",
       "      <td>...</td>\n",
       "      <td>...</td>\n",
       "    </tr>\n",
       "    <tr>\n",
       "      <th>155</th>\n",
       "      <td>PMC11181322</td>\n",
       "      <td>38771959</td>\n",
       "      <td>['Introduction', 'Results and Discussion', 'Co...</td>\n",
       "      <td>['background', 'conclusions', 'conclusions', '...</td>\n",
       "    </tr>\n",
       "    <tr>\n",
       "      <th>156</th>\n",
       "      <td>PMC11186409</td>\n",
       "      <td>38899065</td>\n",
       "      <td>['Introduction', 'Materials and methods', 'Res...</td>\n",
       "      <td>['background', 'methods', 'results', 'conclusi...</td>\n",
       "    </tr>\n",
       "    <tr>\n",
       "      <th>157</th>\n",
       "      <td>PMC11185683</td>\n",
       "      <td>38895272</td>\n",
       "      <td>['Introduction', 'Results', 'Discussion', 'Mat...</td>\n",
       "      <td>['background', 'results', 'conclusions', 'meth...</td>\n",
       "    </tr>\n",
       "    <tr>\n",
       "      <th>158</th>\n",
       "      <td>PMC11161898</td>\n",
       "      <td>38854388</td>\n",
       "      <td>['METHODS', 'RESULTS', 'DISCUSSION', 'Notes']</td>\n",
       "      <td>['methods', 'results', 'conclusions', 'backgro...</td>\n",
       "    </tr>\n",
       "    <tr>\n",
       "      <th>159</th>\n",
       "      <td>PMC11183282</td>\n",
       "      <td>38895157</td>\n",
       "      <td>['1 Introduction', '2 Methods', '3 Results', '...</td>\n",
       "      <td>['background', 'methods', 'results', 'conclusi...</td>\n",
       "    </tr>\n",
       "  </tbody>\n",
       "</table>\n",
       "<p>160 rows × 4 columns</p>\n",
       "</div>"
      ],
      "text/plain": [
       "           PMCID      PMID                                          sec-title  \\\n",
       "0    PMC11184573  38888203  ['INTRODUCTION', 'MATERIALS AND METHODS', 'DIS...   \n",
       "1    PMC11183239  38886373  ['Introduction', 'Subjects and methods', 'Resu...   \n",
       "2    PMC11187291  38903966  ['Introduction', 'Methods', 'Results', 'Discus...   \n",
       "3    PMC11177991  38883749  ['INTRODUCTION', 'MATERIALS AND METHODS', 'RES...   \n",
       "4    PMC11187304  38903638  ['Introduction', 'Methods', 'Case reports', 'D...   \n",
       "..           ...       ...                                                ...   \n",
       "155  PMC11181322  38771959  ['Introduction', 'Results and Discussion', 'Co...   \n",
       "156  PMC11186409  38899065  ['Introduction', 'Materials and methods', 'Res...   \n",
       "157  PMC11185683  38895272  ['Introduction', 'Results', 'Discussion', 'Mat...   \n",
       "158  PMC11161898  38854388      ['METHODS', 'RESULTS', 'DISCUSSION', 'Notes']   \n",
       "159  PMC11183282  38895157  ['1 Introduction', '2 Methods', '3 Results', '...   \n",
       "\n",
       "                                              sec-norm  \n",
       "0    ['background', 'methods', 'conclusions', 'conc...  \n",
       "1    ['background', 'methods', 'results', 'conclusi...  \n",
       "2    ['background', 'methods', 'results', 'conclusi...  \n",
       "3    ['background', 'methods', 'results', 'conclusi...  \n",
       "4    ['background', 'methods', 'methods', 'conclusi...  \n",
       "..                                                 ...  \n",
       "155  ['background', 'conclusions', 'conclusions', '...  \n",
       "156  ['background', 'methods', 'results', 'conclusi...  \n",
       "157  ['background', 'results', 'conclusions', 'meth...  \n",
       "158  ['methods', 'results', 'conclusions', 'backgro...  \n",
       "159  ['background', 'methods', 'results', 'conclusi...  \n",
       "\n",
       "[160 rows x 4 columns]"
      ]
     },
     "execution_count": 2,
     "metadata": {},
     "output_type": "execute_result"
    }
   ],
   "source": [
    "test_df"
   ]
  },
  {
   "cell_type": "code",
   "execution_count": 3,
   "metadata": {},
   "outputs": [],
   "source": [
    "import ast\n",
    "import numpy as np\n",
    "\n",
    "# import numpy as np\n",
    "\n",
    "def eval_with_nan(x):\n",
    "    if isinstance(x, list):\n",
    "        return [np.nan if (isinstance(i, float) and np.isnan(i)) else i for i in x]\n",
    "    try:\n",
    "        # 這邊直接 eval 而且給定 locals\n",
    "        val = eval(x, {\"nan\": np.nan, \"NaN\": np.nan, \"np\": np})\n",
    "        if isinstance(val, list):\n",
    "            return [np.nan if (isinstance(i, float) and np.isnan(i)) else i for i in val]\n",
    "        else:\n",
    "            return val\n",
    "    except Exception:\n",
    "        return x  # 如果 eval 還失敗就原樣保留\n",
    "\n",
    "# 用在你的 dataframe 上\n",
    "# df_j['sec-norm'] = df_j['sec-norm'].apply(eval_with_nan)\n",
    "\n",
    "\n"
   ]
  },
  {
   "cell_type": "code",
   "execution_count": 4,
   "metadata": {},
   "outputs": [],
   "source": [
    "\n",
    "train_df['sec-title'] = train_df['sec-title'].apply(ast.literal_eval)\n",
    "test_df['sec-title'] = test_df['sec-title'].apply(ast.literal_eval)\n",
    "train_df['sec-norm'] = train_df['sec-norm'].apply(eval_with_nan)\n",
    "test_df['sec-norm'] = test_df['sec-norm'].apply(eval_with_nan)"
   ]
  },
  {
   "cell_type": "code",
   "execution_count": 5,
   "metadata": {},
   "outputs": [
    {
     "data": {
      "text/html": [
       "<div>\n",
       "<style scoped>\n",
       "    .dataframe tbody tr th:only-of-type {\n",
       "        vertical-align: middle;\n",
       "    }\n",
       "\n",
       "    .dataframe tbody tr th {\n",
       "        vertical-align: top;\n",
       "    }\n",
       "\n",
       "    .dataframe thead th {\n",
       "        text-align: right;\n",
       "    }\n",
       "</style>\n",
       "<table border=\"1\" class=\"dataframe\">\n",
       "  <thead>\n",
       "    <tr style=\"text-align: right;\">\n",
       "      <th></th>\n",
       "      <th>PMCID</th>\n",
       "      <th>PMID</th>\n",
       "      <th>sec-title</th>\n",
       "      <th>sec-norm</th>\n",
       "    </tr>\n",
       "  </thead>\n",
       "  <tbody>\n",
       "    <tr>\n",
       "      <th>0</th>\n",
       "      <td>PMC11191691</td>\n",
       "      <td>38842535</td>\n",
       "      <td>[Introduction, Results and Discussion, Conclus...</td>\n",
       "      <td>[background, conclusions, conclusions, backgro...</td>\n",
       "    </tr>\n",
       "    <tr>\n",
       "      <th>1</th>\n",
       "      <td>PMC11182025</td>\n",
       "      <td>38887617</td>\n",
       "      <td>[Introduction, Materials &amp; Methods, Results, D...</td>\n",
       "      <td>[background, methods, results, conclusions, co...</td>\n",
       "    </tr>\n",
       "    <tr>\n",
       "      <th>2</th>\n",
       "      <td>PMC10511328</td>\n",
       "      <td>37704722</td>\n",
       "      <td>[Main, Pooled longitudinal analyses, Populatio...</td>\n",
       "      <td>[background, results, results, results, result...</td>\n",
       "    </tr>\n",
       "    <tr>\n",
       "      <th>3</th>\n",
       "      <td>PMC10632145</td>\n",
       "      <td>37914938</td>\n",
       "      <td>[Main, Population imaging and single-cell acti...</td>\n",
       "      <td>[background, results, results, results, result...</td>\n",
       "    </tr>\n",
       "    <tr>\n",
       "      <th>4</th>\n",
       "      <td>PMC1084334</td>\n",
       "      <td>15884974</td>\n",
       "      <td>[Introduction, Results, Discussion, Materials ...</td>\n",
       "      <td>[background, results, conclusions, methods, ba...</td>\n",
       "    </tr>\n",
       "    <tr>\n",
       "      <th>...</th>\n",
       "      <td>...</td>\n",
       "      <td>...</td>\n",
       "      <td>...</td>\n",
       "      <td>...</td>\n",
       "    </tr>\n",
       "    <tr>\n",
       "      <th>635</th>\n",
       "      <td>PMC11187391</td>\n",
       "      <td>38123960</td>\n",
       "      <td>[Ethics statements]</td>\n",
       "      <td>[nan]</td>\n",
       "    </tr>\n",
       "    <tr>\n",
       "      <th>636</th>\n",
       "      <td>PMC11187998</td>\n",
       "      <td>38903349</td>\n",
       "      <td>[Introduction, Case presentation, Discussion, ...</td>\n",
       "      <td>[background, methods, conclusions, conclusions]</td>\n",
       "    </tr>\n",
       "    <tr>\n",
       "      <th>637</th>\n",
       "      <td>PMC11191920</td>\n",
       "      <td>38905421</td>\n",
       "      <td>[1. Introduction, 2. Patients and methods, 3. ...</td>\n",
       "      <td>[background, methods, results, conclusions, ba...</td>\n",
       "    </tr>\n",
       "    <tr>\n",
       "      <th>638</th>\n",
       "      <td>PMC10978839</td>\n",
       "      <td>38548747</td>\n",
       "      <td>[Introduction, Results, Discussion, Materials ...</td>\n",
       "      <td>[background, results, conclusions, methods, ba...</td>\n",
       "    </tr>\n",
       "    <tr>\n",
       "      <th>639</th>\n",
       "      <td>PMC11187969</td>\n",
       "      <td>38561968</td>\n",
       "      <td>[Introduction, Construction of Chiral Nanomate...</td>\n",
       "      <td>[background, background, background, backgroun...</td>\n",
       "    </tr>\n",
       "  </tbody>\n",
       "</table>\n",
       "<p>640 rows × 4 columns</p>\n",
       "</div>"
      ],
      "text/plain": [
       "           PMCID      PMID                                          sec-title  \\\n",
       "0    PMC11191691  38842535  [Introduction, Results and Discussion, Conclus...   \n",
       "1    PMC11182025  38887617  [Introduction, Materials & Methods, Results, D...   \n",
       "2    PMC10511328  37704722  [Main, Pooled longitudinal analyses, Populatio...   \n",
       "3    PMC10632145  37914938  [Main, Population imaging and single-cell acti...   \n",
       "4     PMC1084334  15884974  [Introduction, Results, Discussion, Materials ...   \n",
       "..           ...       ...                                                ...   \n",
       "635  PMC11187391  38123960                                [Ethics statements]   \n",
       "636  PMC11187998  38903349  [Introduction, Case presentation, Discussion, ...   \n",
       "637  PMC11191920  38905421  [1. Introduction, 2. Patients and methods, 3. ...   \n",
       "638  PMC10978839  38548747  [Introduction, Results, Discussion, Materials ...   \n",
       "639  PMC11187969  38561968  [Introduction, Construction of Chiral Nanomate...   \n",
       "\n",
       "                                              sec-norm  \n",
       "0    [background, conclusions, conclusions, backgro...  \n",
       "1    [background, methods, results, conclusions, co...  \n",
       "2    [background, results, results, results, result...  \n",
       "3    [background, results, results, results, result...  \n",
       "4    [background, results, conclusions, methods, ba...  \n",
       "..                                                 ...  \n",
       "635                                              [nan]  \n",
       "636    [background, methods, conclusions, conclusions]  \n",
       "637  [background, methods, results, conclusions, ba...  \n",
       "638  [background, results, conclusions, methods, ba...  \n",
       "639  [background, background, background, backgroun...  \n",
       "\n",
       "[640 rows x 4 columns]"
      ]
     },
     "execution_count": 5,
     "metadata": {},
     "output_type": "execute_result"
    }
   ],
   "source": [
    "train_df"
   ]
  },
  {
   "cell_type": "code",
   "execution_count": 6,
   "metadata": {
    "scrolled": true
   },
   "outputs": [
    {
     "data": {
      "text/html": [
       "<div>\n",
       "<style scoped>\n",
       "    .dataframe tbody tr th:only-of-type {\n",
       "        vertical-align: middle;\n",
       "    }\n",
       "\n",
       "    .dataframe tbody tr th {\n",
       "        vertical-align: top;\n",
       "    }\n",
       "\n",
       "    .dataframe thead th {\n",
       "        text-align: right;\n",
       "    }\n",
       "</style>\n",
       "<table border=\"1\" class=\"dataframe\">\n",
       "  <thead>\n",
       "    <tr style=\"text-align: right;\">\n",
       "      <th></th>\n",
       "      <th>PMCID</th>\n",
       "      <th>PMID</th>\n",
       "      <th>sec-title</th>\n",
       "      <th>sec-norm</th>\n",
       "    </tr>\n",
       "  </thead>\n",
       "  <tbody>\n",
       "    <tr>\n",
       "      <th>0</th>\n",
       "      <td>PMC11184573</td>\n",
       "      <td>38888203</td>\n",
       "      <td>[INTRODUCTION, MATERIALS AND METHODS, DISCUSSI...</td>\n",
       "      <td>[background, methods, conclusions, conclusions...</td>\n",
       "    </tr>\n",
       "    <tr>\n",
       "      <th>1</th>\n",
       "      <td>PMC11183239</td>\n",
       "      <td>38886373</td>\n",
       "      <td>[Introduction, Subjects and methods, Results, ...</td>\n",
       "      <td>[background, methods, results, conclusions, co...</td>\n",
       "    </tr>\n",
       "    <tr>\n",
       "      <th>2</th>\n",
       "      <td>PMC11187291</td>\n",
       "      <td>38903966</td>\n",
       "      <td>[Introduction, Methods, Results, Discussion, C...</td>\n",
       "      <td>[background, methods, results, conclusions, co...</td>\n",
       "    </tr>\n",
       "    <tr>\n",
       "      <th>3</th>\n",
       "      <td>PMC11177991</td>\n",
       "      <td>38883749</td>\n",
       "      <td>[INTRODUCTION, MATERIALS AND METHODS, RESULTS,...</td>\n",
       "      <td>[background, methods, results, conclusions, co...</td>\n",
       "    </tr>\n",
       "    <tr>\n",
       "      <th>4</th>\n",
       "      <td>PMC11187304</td>\n",
       "      <td>38903638</td>\n",
       "      <td>[Introduction, Methods, Case reports, Discussi...</td>\n",
       "      <td>[background, methods, methods, conclusions, co...</td>\n",
       "    </tr>\n",
       "    <tr>\n",
       "      <th>...</th>\n",
       "      <td>...</td>\n",
       "      <td>...</td>\n",
       "      <td>...</td>\n",
       "      <td>...</td>\n",
       "    </tr>\n",
       "    <tr>\n",
       "      <th>155</th>\n",
       "      <td>PMC11181322</td>\n",
       "      <td>38771959</td>\n",
       "      <td>[Introduction, Results and Discussion, Conclus...</td>\n",
       "      <td>[background, conclusions, conclusions, methods...</td>\n",
       "    </tr>\n",
       "    <tr>\n",
       "      <th>156</th>\n",
       "      <td>PMC11186409</td>\n",
       "      <td>38899065</td>\n",
       "      <td>[Introduction, Materials and methods, Results,...</td>\n",
       "      <td>[background, methods, results, conclusions, ba...</td>\n",
       "    </tr>\n",
       "    <tr>\n",
       "      <th>157</th>\n",
       "      <td>PMC11185683</td>\n",
       "      <td>38895272</td>\n",
       "      <td>[Introduction, Results, Discussion, Materials ...</td>\n",
       "      <td>[background, results, conclusions, methods]</td>\n",
       "    </tr>\n",
       "    <tr>\n",
       "      <th>158</th>\n",
       "      <td>PMC11161898</td>\n",
       "      <td>38854388</td>\n",
       "      <td>[METHODS, RESULTS, DISCUSSION, Notes]</td>\n",
       "      <td>[methods, results, conclusions, background]</td>\n",
       "    </tr>\n",
       "    <tr>\n",
       "      <th>159</th>\n",
       "      <td>PMC11183282</td>\n",
       "      <td>38895157</td>\n",
       "      <td>[1 Introduction, 2 Methods, 3 Results, 4 Discu...</td>\n",
       "      <td>[background, methods, results, conclusions, ba...</td>\n",
       "    </tr>\n",
       "  </tbody>\n",
       "</table>\n",
       "<p>160 rows × 4 columns</p>\n",
       "</div>"
      ],
      "text/plain": [
       "           PMCID      PMID                                          sec-title  \\\n",
       "0    PMC11184573  38888203  [INTRODUCTION, MATERIALS AND METHODS, DISCUSSI...   \n",
       "1    PMC11183239  38886373  [Introduction, Subjects and methods, Results, ...   \n",
       "2    PMC11187291  38903966  [Introduction, Methods, Results, Discussion, C...   \n",
       "3    PMC11177991  38883749  [INTRODUCTION, MATERIALS AND METHODS, RESULTS,...   \n",
       "4    PMC11187304  38903638  [Introduction, Methods, Case reports, Discussi...   \n",
       "..           ...       ...                                                ...   \n",
       "155  PMC11181322  38771959  [Introduction, Results and Discussion, Conclus...   \n",
       "156  PMC11186409  38899065  [Introduction, Materials and methods, Results,...   \n",
       "157  PMC11185683  38895272  [Introduction, Results, Discussion, Materials ...   \n",
       "158  PMC11161898  38854388              [METHODS, RESULTS, DISCUSSION, Notes]   \n",
       "159  PMC11183282  38895157  [1 Introduction, 2 Methods, 3 Results, 4 Discu...   \n",
       "\n",
       "                                              sec-norm  \n",
       "0    [background, methods, conclusions, conclusions...  \n",
       "1    [background, methods, results, conclusions, co...  \n",
       "2    [background, methods, results, conclusions, co...  \n",
       "3    [background, methods, results, conclusions, co...  \n",
       "4    [background, methods, methods, conclusions, co...  \n",
       "..                                                 ...  \n",
       "155  [background, conclusions, conclusions, methods...  \n",
       "156  [background, methods, results, conclusions, ba...  \n",
       "157        [background, results, conclusions, methods]  \n",
       "158        [methods, results, conclusions, background]  \n",
       "159  [background, methods, results, conclusions, ba...  \n",
       "\n",
       "[160 rows x 4 columns]"
      ]
     },
     "execution_count": 6,
     "metadata": {},
     "output_type": "execute_result"
    }
   ],
   "source": [
    "test_df"
   ]
  },
  {
   "cell_type": "code",
   "execution_count": 7,
   "metadata": {},
   "outputs": [],
   "source": [
    "import pandas as pd\n",
    "\n",
    "def convert_to_sep_format(row):\n",
    "    titles = row[\"sec-title\"]  # 取得標題列表\n",
    "    labels = row[\"sec-norm\"]   # 取得標籤列表\n",
    "\n",
    "    inputs_with_sep = []\n",
    "    labels_with_sep = []\n",
    "\n",
    "    for i, title in enumerate(titles):\n",
    "        inputs_with_sep.append(title)\n",
    "        labels_with_sep.append(\"O\")  # 一般 token 標記為 \"O\"\n",
    "        \n",
    "        # 在每個標題後面插入 [SEP]，對應標籤來自 sec-norm\n",
    "        if i < len(labels):  # 確保標籤數量正確\n",
    "            inputs_with_sep.append(\"[SEP]\")\n",
    "            if pd.isna(labels[i]):\n",
    "                labels_with_sep.append('-100') ## none labeled\n",
    "            else:\n",
    "                labels_with_sep.append(labels[i])  # 讓 [SEP] 位置承擔標籤\n",
    "\n",
    "    return pd.Series([inputs_with_sep, labels_with_sep])\n",
    "\n",
    "\n",
    "# 對 DataFrame 進行轉換\n",
    "train_df[[\"inputs_with_sep\", \"labels_with_sep\"]] = train_df.apply(convert_to_sep_format, axis=1)\n",
    "train_df = train_df[\n",
    "    train_df['labels_with_sep'].apply(len) - train_df['labels_with_sep'].apply(lambda x: x.count('O')) > 0\n",
    "]\n",
    "\n",
    "test_df[[\"inputs_with_sep\", \"labels_with_sep\"]] = test_df.apply(convert_to_sep_format, axis=1)\n",
    "test_df = test_df[\n",
    "    test_df['labels_with_sep'].apply(len) - test_df['labels_with_sep'].apply(lambda x: x.count('O')) > 0\n",
    "]"
   ]
  },
  {
   "cell_type": "code",
   "execution_count": 8,
   "metadata": {},
   "outputs": [
    {
     "data": {
      "text/html": [
       "<div>\n",
       "<style scoped>\n",
       "    .dataframe tbody tr th:only-of-type {\n",
       "        vertical-align: middle;\n",
       "    }\n",
       "\n",
       "    .dataframe tbody tr th {\n",
       "        vertical-align: top;\n",
       "    }\n",
       "\n",
       "    .dataframe thead th {\n",
       "        text-align: right;\n",
       "    }\n",
       "</style>\n",
       "<table border=\"1\" class=\"dataframe\">\n",
       "  <thead>\n",
       "    <tr style=\"text-align: right;\">\n",
       "      <th></th>\n",
       "      <th>PMCID</th>\n",
       "      <th>PMID</th>\n",
       "      <th>inputs_with_sep</th>\n",
       "      <th>labels_with_sep</th>\n",
       "    </tr>\n",
       "  </thead>\n",
       "  <tbody>\n",
       "    <tr>\n",
       "      <th>0</th>\n",
       "      <td>PMC11191691</td>\n",
       "      <td>38842535</td>\n",
       "      <td>[Introduction, [SEP], Results and Discussion, ...</td>\n",
       "      <td>[O, background, O, conclusions, O, conclusions...</td>\n",
       "    </tr>\n",
       "    <tr>\n",
       "      <th>1</th>\n",
       "      <td>PMC11182025</td>\n",
       "      <td>38887617</td>\n",
       "      <td>[Introduction, [SEP], Materials &amp; Methods, [SE...</td>\n",
       "      <td>[O, background, O, methods, O, results, O, con...</td>\n",
       "    </tr>\n",
       "    <tr>\n",
       "      <th>2</th>\n",
       "      <td>PMC10511328</td>\n",
       "      <td>37704722</td>\n",
       "      <td>[Main, [SEP], Pooled longitudinal analyses, [S...</td>\n",
       "      <td>[O, background, O, results, O, results, O, res...</td>\n",
       "    </tr>\n",
       "    <tr>\n",
       "      <th>3</th>\n",
       "      <td>PMC10632145</td>\n",
       "      <td>37914938</td>\n",
       "      <td>[Main, [SEP], Population imaging and single-ce...</td>\n",
       "      <td>[O, background, O, results, O, results, O, res...</td>\n",
       "    </tr>\n",
       "    <tr>\n",
       "      <th>4</th>\n",
       "      <td>PMC1084334</td>\n",
       "      <td>15884974</td>\n",
       "      <td>[Introduction, [SEP], Results, [SEP], Discussi...</td>\n",
       "      <td>[O, background, O, results, O, conclusions, O,...</td>\n",
       "    </tr>\n",
       "    <tr>\n",
       "      <th>...</th>\n",
       "      <td>...</td>\n",
       "      <td>...</td>\n",
       "      <td>...</td>\n",
       "      <td>...</td>\n",
       "    </tr>\n",
       "    <tr>\n",
       "      <th>635</th>\n",
       "      <td>PMC11187391</td>\n",
       "      <td>38123960</td>\n",
       "      <td>[Ethics statements, [SEP]]</td>\n",
       "      <td>[O, -100]</td>\n",
       "    </tr>\n",
       "    <tr>\n",
       "      <th>636</th>\n",
       "      <td>PMC11187998</td>\n",
       "      <td>38903349</td>\n",
       "      <td>[Introduction, [SEP], Case presentation, [SEP]...</td>\n",
       "      <td>[O, background, O, methods, O, conclusions, O,...</td>\n",
       "    </tr>\n",
       "    <tr>\n",
       "      <th>637</th>\n",
       "      <td>PMC11191920</td>\n",
       "      <td>38905421</td>\n",
       "      <td>[1. Introduction, [SEP], 2. Patients and metho...</td>\n",
       "      <td>[O, background, O, methods, O, results, O, con...</td>\n",
       "    </tr>\n",
       "    <tr>\n",
       "      <th>638</th>\n",
       "      <td>PMC10978839</td>\n",
       "      <td>38548747</td>\n",
       "      <td>[Introduction, [SEP], Results, [SEP], Discussi...</td>\n",
       "      <td>[O, background, O, results, O, conclusions, O,...</td>\n",
       "    </tr>\n",
       "    <tr>\n",
       "      <th>639</th>\n",
       "      <td>PMC11187969</td>\n",
       "      <td>38561968</td>\n",
       "      <td>[Introduction, [SEP], Construction of Chiral N...</td>\n",
       "      <td>[O, background, O, background, O, background, ...</td>\n",
       "    </tr>\n",
       "  </tbody>\n",
       "</table>\n",
       "<p>640 rows × 4 columns</p>\n",
       "</div>"
      ],
      "text/plain": [
       "           PMCID      PMID                                    inputs_with_sep  \\\n",
       "0    PMC11191691  38842535  [Introduction, [SEP], Results and Discussion, ...   \n",
       "1    PMC11182025  38887617  [Introduction, [SEP], Materials & Methods, [SE...   \n",
       "2    PMC10511328  37704722  [Main, [SEP], Pooled longitudinal analyses, [S...   \n",
       "3    PMC10632145  37914938  [Main, [SEP], Population imaging and single-ce...   \n",
       "4     PMC1084334  15884974  [Introduction, [SEP], Results, [SEP], Discussi...   \n",
       "..           ...       ...                                                ...   \n",
       "635  PMC11187391  38123960                         [Ethics statements, [SEP]]   \n",
       "636  PMC11187998  38903349  [Introduction, [SEP], Case presentation, [SEP]...   \n",
       "637  PMC11191920  38905421  [1. Introduction, [SEP], 2. Patients and metho...   \n",
       "638  PMC10978839  38548747  [Introduction, [SEP], Results, [SEP], Discussi...   \n",
       "639  PMC11187969  38561968  [Introduction, [SEP], Construction of Chiral N...   \n",
       "\n",
       "                                       labels_with_sep  \n",
       "0    [O, background, O, conclusions, O, conclusions...  \n",
       "1    [O, background, O, methods, O, results, O, con...  \n",
       "2    [O, background, O, results, O, results, O, res...  \n",
       "3    [O, background, O, results, O, results, O, res...  \n",
       "4    [O, background, O, results, O, conclusions, O,...  \n",
       "..                                                 ...  \n",
       "635                                          [O, -100]  \n",
       "636  [O, background, O, methods, O, conclusions, O,...  \n",
       "637  [O, background, O, methods, O, results, O, con...  \n",
       "638  [O, background, O, results, O, conclusions, O,...  \n",
       "639  [O, background, O, background, O, background, ...  \n",
       "\n",
       "[640 rows x 4 columns]"
      ]
     },
     "execution_count": 8,
     "metadata": {},
     "output_type": "execute_result"
    }
   ],
   "source": [
    "train_df = train_df.drop(columns=['sec-title', 'sec-norm'])\n",
    "train_df"
   ]
  },
  {
   "cell_type": "code",
   "execution_count": 9,
   "metadata": {},
   "outputs": [
    {
     "data": {
      "text/html": [
       "<div>\n",
       "<style scoped>\n",
       "    .dataframe tbody tr th:only-of-type {\n",
       "        vertical-align: middle;\n",
       "    }\n",
       "\n",
       "    .dataframe tbody tr th {\n",
       "        vertical-align: top;\n",
       "    }\n",
       "\n",
       "    .dataframe thead th {\n",
       "        text-align: right;\n",
       "    }\n",
       "</style>\n",
       "<table border=\"1\" class=\"dataframe\">\n",
       "  <thead>\n",
       "    <tr style=\"text-align: right;\">\n",
       "      <th></th>\n",
       "      <th>PMCID</th>\n",
       "      <th>PMID</th>\n",
       "      <th>inputs_with_sep</th>\n",
       "      <th>labels_with_sep</th>\n",
       "    </tr>\n",
       "  </thead>\n",
       "  <tbody>\n",
       "    <tr>\n",
       "      <th>304</th>\n",
       "      <td>PMC11189173</td>\n",
       "      <td>38900748</td>\n",
       "      <td>[Introduction, [SEP], Methods, [SEP], Result, ...</td>\n",
       "      <td>[O, background, O, methods, O, results, O, con...</td>\n",
       "    </tr>\n",
       "    <tr>\n",
       "      <th>414</th>\n",
       "      <td>PMC11180756</td>\n",
       "      <td>38887229</td>\n",
       "      <td>[Introduction, [SEP], Materials and methods, [...</td>\n",
       "      <td>[O, background, O, methods, O, results, O, con...</td>\n",
       "    </tr>\n",
       "    <tr>\n",
       "      <th>577</th>\n",
       "      <td>PMC11073751</td>\n",
       "      <td>38716403</td>\n",
       "      <td>[Background, [SEP], Methods, [SEP], Results, [...</td>\n",
       "      <td>[O, background, O, methods, O, results, O, con...</td>\n",
       "    </tr>\n",
       "    <tr>\n",
       "      <th>259</th>\n",
       "      <td>PMC10962890</td>\n",
       "      <td>38131617</td>\n",
       "      <td>[INTRODUCTION, [SEP], METHODS, [SEP], RESULTS,...</td>\n",
       "      <td>[O, background, O, methods, O, results, O, con...</td>\n",
       "    </tr>\n",
       "    <tr>\n",
       "      <th>594</th>\n",
       "      <td>PMC11152445</td>\n",
       "      <td>38896724</td>\n",
       "      <td>[INTRODUCTION, [SEP], OUTCOMES AFTER INTENSIVE...</td>\n",
       "      <td>[O, background, O, -100, O, -100, O, -100, O, ...</td>\n",
       "    </tr>\n",
       "    <tr>\n",
       "      <th>...</th>\n",
       "      <td>...</td>\n",
       "      <td>...</td>\n",
       "      <td>...</td>\n",
       "      <td>...</td>\n",
       "    </tr>\n",
       "    <tr>\n",
       "      <th>71</th>\n",
       "      <td>PMC11192717</td>\n",
       "      <td>38906906</td>\n",
       "      <td>[Introduction, [SEP], Results, [SEP], Discussi...</td>\n",
       "      <td>[O, background, O, results, O, conclusions, O,...</td>\n",
       "    </tr>\n",
       "    <tr>\n",
       "      <th>106</th>\n",
       "      <td>PMC11192365</td>\n",
       "      <td>38857285</td>\n",
       "      <td>[Introduction, [SEP], Results, [SEP], Discussi...</td>\n",
       "      <td>[O, background, O, results, O, conclusions, O,...</td>\n",
       "    </tr>\n",
       "    <tr>\n",
       "      <th>270</th>\n",
       "      <td>PMC11186357</td>\n",
       "      <td>38904030</td>\n",
       "      <td>[Introduction, [SEP], Materials and Methods, [...</td>\n",
       "      <td>[O, background, O, methods, O, results, O, con...</td>\n",
       "    </tr>\n",
       "    <tr>\n",
       "      <th>435</th>\n",
       "      <td>PMC11189877</td>\n",
       "      <td>38900377</td>\n",
       "      <td>[Background, [SEP], Case presentation, [SEP], ...</td>\n",
       "      <td>[O, background, O, methods, O, conclusions, O,...</td>\n",
       "    </tr>\n",
       "    <tr>\n",
       "      <th>102</th>\n",
       "      <td>PMC11185453</td>\n",
       "      <td>38889113</td>\n",
       "      <td>[Introduction, [SEP], Materials and methods, [...</td>\n",
       "      <td>[O, background, O, methods, O, conclusions, O,...</td>\n",
       "    </tr>\n",
       "  </tbody>\n",
       "</table>\n",
       "<p>560 rows × 4 columns</p>\n",
       "</div>"
      ],
      "text/plain": [
       "           PMCID      PMID                                    inputs_with_sep  \\\n",
       "304  PMC11189173  38900748  [Introduction, [SEP], Methods, [SEP], Result, ...   \n",
       "414  PMC11180756  38887229  [Introduction, [SEP], Materials and methods, [...   \n",
       "577  PMC11073751  38716403  [Background, [SEP], Methods, [SEP], Results, [...   \n",
       "259  PMC10962890  38131617  [INTRODUCTION, [SEP], METHODS, [SEP], RESULTS,...   \n",
       "594  PMC11152445  38896724  [INTRODUCTION, [SEP], OUTCOMES AFTER INTENSIVE...   \n",
       "..           ...       ...                                                ...   \n",
       "71   PMC11192717  38906906  [Introduction, [SEP], Results, [SEP], Discussi...   \n",
       "106  PMC11192365  38857285  [Introduction, [SEP], Results, [SEP], Discussi...   \n",
       "270  PMC11186357  38904030  [Introduction, [SEP], Materials and Methods, [...   \n",
       "435  PMC11189877  38900377  [Background, [SEP], Case presentation, [SEP], ...   \n",
       "102  PMC11185453  38889113  [Introduction, [SEP], Materials and methods, [...   \n",
       "\n",
       "                                       labels_with_sep  \n",
       "304  [O, background, O, methods, O, results, O, con...  \n",
       "414  [O, background, O, methods, O, results, O, con...  \n",
       "577  [O, background, O, methods, O, results, O, con...  \n",
       "259  [O, background, O, methods, O, results, O, con...  \n",
       "594  [O, background, O, -100, O, -100, O, -100, O, ...  \n",
       "..                                                 ...  \n",
       "71   [O, background, O, results, O, conclusions, O,...  \n",
       "106  [O, background, O, results, O, conclusions, O,...  \n",
       "270  [O, background, O, methods, O, results, O, con...  \n",
       "435  [O, background, O, methods, O, conclusions, O,...  \n",
       "102  [O, background, O, methods, O, conclusions, O,...  \n",
       "\n",
       "[560 rows x 4 columns]"
      ]
     },
     "execution_count": 9,
     "metadata": {},
     "output_type": "execute_result"
    }
   ],
   "source": [
    "from sklearn.model_selection import train_test_split\n",
    "\n",
    "# 將 train_df 拆成 87.5% 訓練資料 和 12.5% 驗證資料\n",
    "train_df, val_df = train_test_split(train_df, test_size=1/8, random_state=42, shuffle=True)\n",
    "\n",
    "train_df"
   ]
  },
  {
   "cell_type": "code",
   "execution_count": 10,
   "metadata": {},
   "outputs": [
    {
     "data": {
      "text/html": [
       "<div>\n",
       "<style scoped>\n",
       "    .dataframe tbody tr th:only-of-type {\n",
       "        vertical-align: middle;\n",
       "    }\n",
       "\n",
       "    .dataframe tbody tr th {\n",
       "        vertical-align: top;\n",
       "    }\n",
       "\n",
       "    .dataframe thead th {\n",
       "        text-align: right;\n",
       "    }\n",
       "</style>\n",
       "<table border=\"1\" class=\"dataframe\">\n",
       "  <thead>\n",
       "    <tr style=\"text-align: right;\">\n",
       "      <th></th>\n",
       "      <th>PMCID</th>\n",
       "      <th>PMID</th>\n",
       "      <th>inputs_with_sep</th>\n",
       "      <th>labels_with_sep</th>\n",
       "    </tr>\n",
       "  </thead>\n",
       "  <tbody>\n",
       "    <tr>\n",
       "      <th>570</th>\n",
       "      <td>PMC11186153</td>\n",
       "      <td>38898433</td>\n",
       "      <td>[Introduction, [SEP], Materials and methods, [...</td>\n",
       "      <td>[O, background, O, methods, O, results, O, con...</td>\n",
       "    </tr>\n",
       "    <tr>\n",
       "      <th>265</th>\n",
       "      <td>PMC11184630</td>\n",
       "      <td>38894760</td>\n",
       "      <td>[Introduction, [SEP], Case presentation, [SEP]...</td>\n",
       "      <td>[O, background, O, methods, O, conclusions, O,...</td>\n",
       "    </tr>\n",
       "    <tr>\n",
       "      <th>291</th>\n",
       "      <td>PMC1065320</td>\n",
       "      <td>15743470</td>\n",
       "      <td>[Introduction, [SEP], Materials and methods, [...</td>\n",
       "      <td>[O, background, O, methods, O, results, O, con...</td>\n",
       "    </tr>\n",
       "    <tr>\n",
       "      <th>597</th>\n",
       "      <td>PMC11180906</td>\n",
       "      <td>38887537</td>\n",
       "      <td>[Introduction, [SEP], Materials and methods, [...</td>\n",
       "      <td>[O, background, O, methods, O, results, O, con...</td>\n",
       "    </tr>\n",
       "    <tr>\n",
       "      <th>174</th>\n",
       "      <td>PMC11184868</td>\n",
       "      <td>38886767</td>\n",
       "      <td>[Background, [SEP], Stem-cell derived ECs, [SE...</td>\n",
       "      <td>[O, background, O, -100, O, -100, O, -100, O, ...</td>\n",
       "    </tr>\n",
       "    <tr>\n",
       "      <th>...</th>\n",
       "      <td>...</td>\n",
       "      <td>...</td>\n",
       "      <td>...</td>\n",
       "      <td>...</td>\n",
       "    </tr>\n",
       "    <tr>\n",
       "      <th>527</th>\n",
       "      <td>PMC11190884</td>\n",
       "      <td>38842026</td>\n",
       "      <td>[Introduction, [SEP], Nucleic Acid, [SEP], Bio...</td>\n",
       "      <td>[O, background, O, results, O, results, O, res...</td>\n",
       "    </tr>\n",
       "    <tr>\n",
       "      <th>86</th>\n",
       "      <td>PMC11188041</td>\n",
       "      <td>36347335</td>\n",
       "      <td>[Introduction, [SEP], Materials and methods, [...</td>\n",
       "      <td>[O, background, O, methods, O, results, O, con...</td>\n",
       "    </tr>\n",
       "    <tr>\n",
       "      <th>369</th>\n",
       "      <td>PMC11186168</td>\n",
       "      <td>38890641</td>\n",
       "      <td>[Introduction, [SEP], Methods, [SEP], Results,...</td>\n",
       "      <td>[O, background, O, methods, O, results, O, con...</td>\n",
       "    </tr>\n",
       "    <tr>\n",
       "      <th>636</th>\n",
       "      <td>PMC11187998</td>\n",
       "      <td>38903349</td>\n",
       "      <td>[Introduction, [SEP], Case presentation, [SEP]...</td>\n",
       "      <td>[O, background, O, methods, O, conclusions, O,...</td>\n",
       "    </tr>\n",
       "    <tr>\n",
       "      <th>260</th>\n",
       "      <td>PMC11156234</td>\n",
       "      <td>38846778</td>\n",
       "      <td>[Introduction, [SEP], Results, [SEP], Material...</td>\n",
       "      <td>[O, background, O, results, O, methods, O, bac...</td>\n",
       "    </tr>\n",
       "  </tbody>\n",
       "</table>\n",
       "<p>80 rows × 4 columns</p>\n",
       "</div>"
      ],
      "text/plain": [
       "           PMCID      PMID                                    inputs_with_sep  \\\n",
       "570  PMC11186153  38898433  [Introduction, [SEP], Materials and methods, [...   \n",
       "265  PMC11184630  38894760  [Introduction, [SEP], Case presentation, [SEP]...   \n",
       "291   PMC1065320  15743470  [Introduction, [SEP], Materials and methods, [...   \n",
       "597  PMC11180906  38887537  [Introduction, [SEP], Materials and methods, [...   \n",
       "174  PMC11184868  38886767  [Background, [SEP], Stem-cell derived ECs, [SE...   \n",
       "..           ...       ...                                                ...   \n",
       "527  PMC11190884  38842026  [Introduction, [SEP], Nucleic Acid, [SEP], Bio...   \n",
       "86   PMC11188041  36347335  [Introduction, [SEP], Materials and methods, [...   \n",
       "369  PMC11186168  38890641  [Introduction, [SEP], Methods, [SEP], Results,...   \n",
       "636  PMC11187998  38903349  [Introduction, [SEP], Case presentation, [SEP]...   \n",
       "260  PMC11156234  38846778  [Introduction, [SEP], Results, [SEP], Material...   \n",
       "\n",
       "                                       labels_with_sep  \n",
       "570  [O, background, O, methods, O, results, O, con...  \n",
       "265  [O, background, O, methods, O, conclusions, O,...  \n",
       "291  [O, background, O, methods, O, results, O, con...  \n",
       "597  [O, background, O, methods, O, results, O, con...  \n",
       "174  [O, background, O, -100, O, -100, O, -100, O, ...  \n",
       "..                                                 ...  \n",
       "527  [O, background, O, results, O, results, O, res...  \n",
       "86   [O, background, O, methods, O, results, O, con...  \n",
       "369  [O, background, O, methods, O, results, O, con...  \n",
       "636  [O, background, O, methods, O, conclusions, O,...  \n",
       "260  [O, background, O, results, O, methods, O, bac...  \n",
       "\n",
       "[80 rows x 4 columns]"
      ]
     },
     "execution_count": 10,
     "metadata": {},
     "output_type": "execute_result"
    }
   ],
   "source": [
    "val_df"
   ]
  },
  {
   "cell_type": "markdown",
   "metadata": {},
   "source": [
    "### model"
   ]
  },
  {
   "cell_type": "code",
   "execution_count": 11,
   "metadata": {},
   "outputs": [],
   "source": [
    "from torch.utils.data import DataLoader\n",
    "from transformers import BertTokenizerFast\n",
    "\n",
    "from transformers import AutoTokenizer, AutoModel\n",
    "\n",
    "\n",
    "\n",
    "tokenizer = AutoTokenizer.from_pretrained(\"microsoft/BiomedNLP-BiomedBERT-base-uncased-abstract-fulltext\")\n",
    "\n",
    "MAX_LENGTH = 20  # 你希望的最大序列長度\n",
    "\n",
    "def collate_fn(batch):\n",
    "    input_ids, attention_masks, labels, word_lists, word_id_lists = zip(*batch)\n",
    "    return (\n",
    "        torch.stack(input_ids),\n",
    "        torch.stack(attention_masks),\n",
    "        torch.stack(labels),\n",
    "        list(word_lists),\n",
    "        list(word_id_lists)  # list of lists，不要 stack\n",
    "    )\n",
    "\n"
   ]
  },
  {
   "cell_type": "code",
   "execution_count": 12,
   "metadata": {},
   "outputs": [],
   "source": [
    "import torch\n",
    "from transformers import BertTokenizer\n",
    "from torch.utils.data import Dataset, DataLoader\n",
    "from collections import defaultdict\n",
    "\n",
    "# 載入 BERT Tokenizer\n",
    "# tokenizer = BertTokenizer.from_pretrained(\"bert-base-uncased\")\n",
    "\n",
    "# 建立標籤映射表\n",
    "\n",
    "label2id = {\"O\": 0, \"objective\": 1, \"background\": 2, \"methods\": 3, \"results\": 4, \"conclusions\": 5}\n",
    "# label2id = defaultdict(int, label2id)\n",
    "id2label = {v: k for k, v in label2id.items()}\n",
    "\n",
    "class SectionDataset(Dataset):\n",
    "    def __init__(self, df, tokenizer, max_length=MAX_LENGTH):\n",
    "        self.df = df\n",
    "        self.tokenizer = tokenizer\n",
    "        self.max_length = max_length\n",
    "\n",
    "    def __len__(self):\n",
    "        return len(self.df)\n",
    "\n",
    "    def __getitem__(self, idx):\n",
    "        row = self.df.iloc[idx]\n",
    "        inputs_with_sep = ['[CLS]'] + row[\"inputs_with_sep\"]  # 原始詞列表\n",
    "        label_with_sep = [0] + row[\"labels_with_sep\"]\n",
    "\n",
    "        # Tokenize\n",
    "        encoded = self.tokenizer(\n",
    "            inputs_with_sep,\n",
    "            is_split_into_words=True,\n",
    "            padding=\"max_length\",\n",
    "            truncation=True,\n",
    "            max_length=self.max_length,\n",
    "            return_tensors=\"pt\"\n",
    "        )\n",
    "\n",
    "        input_ids = encoded[\"input_ids\"].squeeze(0)\n",
    "        attention_mask = encoded[\"attention_mask\"].squeeze(0)\n",
    "\n",
    "        # 根據 word_ids 展開 label 給每個 token\n",
    "        word_ids = encoded.word_ids(batch_index=0)\n",
    "        labels_per_token = []\n",
    "\n",
    "        for word_idx in word_ids:\n",
    "            if word_idx is None:\n",
    "                labels_per_token.append(0)  # special tokens\n",
    "            else:\n",
    "                label_name = label_with_sep[word_idx]\n",
    "                label_id = label2id.get(label_name, 0)  # fallback 用 \"O\"\n",
    "                labels_per_token.append(label_id)\n",
    "\n",
    "        labels = torch.tensor(labels_per_token, dtype=torch.long)\n",
    "\n",
    "        return input_ids, attention_mask, labels, inputs_with_sep, word_ids\n",
    "\n",
    "\n",
    "from sklearn.model_selection import train_test_split\n",
    "\n",
    "train_dataset = SectionDataset(train_df, tokenizer)\n",
    "val_dataset = SectionDataset(val_df, tokenizer)\n",
    "test_dataset = SectionDataset(test_df, tokenizer)\n",
    "\n",
    "train_loader = DataLoader(train_dataset, batch_size=10, shuffle=True, collate_fn=collate_fn)\n",
    "val_loader = DataLoader(val_dataset, batch_size=10, shuffle=True, collate_fn=collate_fn)\n",
    "test_loader = DataLoader(test_dataset, batch_size=10, shuffle=True, collate_fn=collate_fn)\n",
    "\n"
   ]
  },
  {
   "cell_type": "code",
   "execution_count": 13,
   "metadata": {},
   "outputs": [
    {
     "name": "stdout",
     "output_type": "stream",
     "text": [
      "(tensor([   2,    2, 6935,    3, 2860,    3, 3211,    3, 7248,    3, 6184, 2988,\n",
      "           3,    3,    0,    0,    0,    0,    0,    0]), tensor([1, 1, 1, 1, 1, 1, 1, 1, 1, 1, 1, 1, 1, 1, 0, 0, 0, 0, 0, 0]), tensor([0, 0, 0, 2, 0, 3, 0, 4, 0, 5, 0, 0, 2, 0, 0, 0, 0, 0, 0, 0]), ['[CLS]', 'Introduction', '[SEP]', 'Methods', '[SEP]', 'Result', '[SEP]', 'Discussion', '[SEP]', 'Supporting information', '[SEP]'], [None, 0, 1, 2, 3, 4, 5, 6, 7, 8, 9, 9, 10, None, None, None, None, None, None, None])\n"
     ]
    }
   ],
   "source": [
    "sample = train_dataset[0]\n",
    "print(sample)"
   ]
  },
  {
   "cell_type": "code",
   "execution_count": 14,
   "metadata": {},
   "outputs": [],
   "source": [
    "# !pip uninstall TorchCRF\n",
    "# !pip install transformers==4.30.2\n"
   ]
  },
  {
   "cell_type": "code",
   "execution_count": 15,
   "metadata": {},
   "outputs": [],
   "source": [
    "import torch.nn as nn\n",
    "from transformers import BertModel\n",
    "from torchcrf import CRF\n",
    "\n",
    "class BERT_CRF(nn.Module):\n",
    "    def __init__(self, num_labels):\n",
    "        super(BERT_CRF, self).__init__()\n",
    "        self.bert = AutoModel.from_pretrained(\"microsoft/BiomedNLP-BiomedBERT-base-uncased-abstract-fulltext\")\n",
    "        self.hidden_dim = self.bert.config.hidden_size\n",
    "        self.fc = nn.Linear(self.hidden_dim, num_labels)  # 轉換為標籤 logits\n",
    "        self.crf = CRF(num_labels, batch_first=True)  # CRF 層\n",
    "\n",
    "    def forward(self, input_ids, attention_mask, labels=None):\n",
    "        outputs = self.bert(input_ids, attention_mask=attention_mask)\n",
    "        sequence_output = outputs.last_hidden_state  # (batch_size, seq_len, hidden_dim)\n",
    "        emissions = self.fc(sequence_output)  # (batch_size, seq_len, num_labels)\n",
    "\n",
    "        if labels is not None:\n",
    "            loss = -self.crf(emissions, labels, mask=attention_mask.byte(), reduction=\"mean\")\n",
    "            return loss\n",
    "        else:\n",
    "            predictions = self.crf.decode(emissions, mask=attention_mask.byte())\n",
    "            return predictions\n"
   ]
  },
  {
   "cell_type": "code",
   "execution_count": 16,
   "metadata": {},
   "outputs": [
    {
     "name": "stderr",
     "output_type": "stream",
     "text": [
      "Epoch 1:   0%|          | 0/56 [00:00<?, ?it/s]/jet/home/slin23/.local/lib/python3.12/site-packages/torchcrf/__init__.py:249: UserWarning: where received a uint8 condition tensor. This behavior is deprecated and will be removed in a future version of PyTorch. Use a boolean condition instead. (Triggered internally at /pytorch/aten/src/ATen/native/TensorCompare.cpp:529.)\n",
      "  score = torch.where(mask[i].unsqueeze(1), next_score, score)\n",
      "Epoch 1: 100%|██████████| 56/56 [00:03<00:00, 16.19it/s]\n"
     ]
    },
    {
     "name": "stdout",
     "output_type": "stream",
     "text": [
      "Epoch 1/100 | Train Loss: 632.4920 | Val Loss: 72.4447\n"
     ]
    },
    {
     "name": "stderr",
     "output_type": "stream",
     "text": [
      "Epoch 2: 100%|██████████| 56/56 [00:02<00:00, 20.09it/s]\n"
     ]
    },
    {
     "name": "stdout",
     "output_type": "stream",
     "text": [
      "Epoch 2/100 | Train Loss: 440.2149 | Val Loss: 63.7904\n"
     ]
    },
    {
     "name": "stderr",
     "output_type": "stream",
     "text": [
      "Epoch 3: 100%|██████████| 56/56 [00:02<00:00, 20.11it/s]\n"
     ]
    },
    {
     "name": "stdout",
     "output_type": "stream",
     "text": [
      "Epoch 3/100 | Train Loss: 432.8525 | Val Loss: 50.9620\n"
     ]
    },
    {
     "name": "stderr",
     "output_type": "stream",
     "text": [
      "Epoch 4: 100%|██████████| 56/56 [00:02<00:00, 20.31it/s]\n"
     ]
    },
    {
     "name": "stdout",
     "output_type": "stream",
     "text": [
      "Epoch 4/100 | Train Loss: 335.6571 | Val Loss: 42.5481\n"
     ]
    },
    {
     "name": "stderr",
     "output_type": "stream",
     "text": [
      "Epoch 5: 100%|██████████| 56/56 [00:02<00:00, 20.08it/s]\n"
     ]
    },
    {
     "name": "stdout",
     "output_type": "stream",
     "text": [
      "Epoch 5/100 | Train Loss: 224.8407 | Val Loss: 26.2626\n"
     ]
    },
    {
     "name": "stderr",
     "output_type": "stream",
     "text": [
      "Epoch 6: 100%|██████████| 56/56 [00:02<00:00, 20.14it/s]\n"
     ]
    },
    {
     "name": "stdout",
     "output_type": "stream",
     "text": [
      "Epoch 6/100 | Train Loss: 203.0043 | Val Loss: 27.6378\n"
     ]
    },
    {
     "name": "stderr",
     "output_type": "stream",
     "text": [
      "Epoch 7: 100%|██████████| 56/56 [00:02<00:00, 19.99it/s]\n"
     ]
    },
    {
     "name": "stdout",
     "output_type": "stream",
     "text": [
      "Epoch 7/100 | Train Loss: 260.1519 | Val Loss: 28.1864\n"
     ]
    },
    {
     "name": "stderr",
     "output_type": "stream",
     "text": [
      "Epoch 8: 100%|██████████| 56/56 [00:02<00:00, 20.25it/s]\n"
     ]
    },
    {
     "name": "stdout",
     "output_type": "stream",
     "text": [
      "Epoch 8/100 | Train Loss: 163.7312 | Val Loss: 24.0276\n"
     ]
    },
    {
     "name": "stderr",
     "output_type": "stream",
     "text": [
      "Epoch 9: 100%|██████████| 56/56 [00:02<00:00, 20.04it/s]\n"
     ]
    },
    {
     "name": "stdout",
     "output_type": "stream",
     "text": [
      "Epoch 9/100 | Train Loss: 151.1770 | Val Loss: 23.4684\n"
     ]
    },
    {
     "name": "stderr",
     "output_type": "stream",
     "text": [
      "Epoch 10: 100%|██████████| 56/56 [00:02<00:00, 20.20it/s]\n"
     ]
    },
    {
     "name": "stdout",
     "output_type": "stream",
     "text": [
      "Epoch 10/100 | Train Loss: 117.7236 | Val Loss: 11.2823\n"
     ]
    },
    {
     "name": "stderr",
     "output_type": "stream",
     "text": [
      "Epoch 11: 100%|██████████| 56/56 [00:02<00:00, 20.19it/s]\n"
     ]
    },
    {
     "name": "stdout",
     "output_type": "stream",
     "text": [
      "Epoch 11/100 | Train Loss: 77.6244 | Val Loss: 13.4121\n"
     ]
    },
    {
     "name": "stderr",
     "output_type": "stream",
     "text": [
      "Epoch 12: 100%|██████████| 56/56 [00:02<00:00, 20.25it/s]\n"
     ]
    },
    {
     "name": "stdout",
     "output_type": "stream",
     "text": [
      "Epoch 12/100 | Train Loss: 56.8583 | Val Loss: 8.5937\n"
     ]
    },
    {
     "name": "stderr",
     "output_type": "stream",
     "text": [
      "Epoch 13: 100%|██████████| 56/56 [00:02<00:00, 20.32it/s]\n"
     ]
    },
    {
     "name": "stdout",
     "output_type": "stream",
     "text": [
      "Epoch 13/100 | Train Loss: 29.4678 | Val Loss: 7.8402\n"
     ]
    },
    {
     "name": "stderr",
     "output_type": "stream",
     "text": [
      "Epoch 14: 100%|██████████| 56/56 [00:02<00:00, 20.14it/s]\n"
     ]
    },
    {
     "name": "stdout",
     "output_type": "stream",
     "text": [
      "Epoch 14/100 | Train Loss: 23.6868 | Val Loss: 8.1313\n"
     ]
    },
    {
     "name": "stderr",
     "output_type": "stream",
     "text": [
      "Epoch 15: 100%|██████████| 56/56 [00:02<00:00, 20.08it/s]\n"
     ]
    },
    {
     "name": "stdout",
     "output_type": "stream",
     "text": [
      "Epoch 15/100 | Train Loss: 18.7526 | Val Loss: 8.7371\n"
     ]
    },
    {
     "name": "stderr",
     "output_type": "stream",
     "text": [
      "Epoch 16: 100%|██████████| 56/56 [00:02<00:00, 20.14it/s]\n"
     ]
    },
    {
     "name": "stdout",
     "output_type": "stream",
     "text": [
      "Epoch 16/100 | Train Loss: 17.3439 | Val Loss: 8.1305\n"
     ]
    },
    {
     "name": "stderr",
     "output_type": "stream",
     "text": [
      "Epoch 17: 100%|██████████| 56/56 [00:02<00:00, 20.06it/s]\n"
     ]
    },
    {
     "name": "stdout",
     "output_type": "stream",
     "text": [
      "Epoch 17/100 | Train Loss: 36.3377 | Val Loss: 8.4581\n"
     ]
    },
    {
     "name": "stderr",
     "output_type": "stream",
     "text": [
      "Epoch 18: 100%|██████████| 56/56 [00:02<00:00, 20.18it/s]\n"
     ]
    },
    {
     "name": "stdout",
     "output_type": "stream",
     "text": [
      "Epoch 18/100 | Train Loss: 19.6985 | Val Loss: 10.8375\n"
     ]
    },
    {
     "name": "stderr",
     "output_type": "stream",
     "text": [
      "Epoch 19: 100%|██████████| 56/56 [00:02<00:00, 20.20it/s]\n"
     ]
    },
    {
     "name": "stdout",
     "output_type": "stream",
     "text": [
      "Epoch 19/100 | Train Loss: 16.5100 | Val Loss: 7.9577\n"
     ]
    },
    {
     "name": "stderr",
     "output_type": "stream",
     "text": [
      "Epoch 20: 100%|██████████| 56/56 [00:02<00:00, 20.33it/s]\n"
     ]
    },
    {
     "name": "stdout",
     "output_type": "stream",
     "text": [
      "Epoch 20/100 | Train Loss: 12.3570 | Val Loss: 9.2278\n"
     ]
    },
    {
     "name": "stderr",
     "output_type": "stream",
     "text": [
      "Epoch 21: 100%|██████████| 56/56 [00:02<00:00, 20.23it/s]\n"
     ]
    },
    {
     "name": "stdout",
     "output_type": "stream",
     "text": [
      "Epoch 21/100 | Train Loss: 11.9517 | Val Loss: 9.3681\n"
     ]
    },
    {
     "name": "stderr",
     "output_type": "stream",
     "text": [
      "Epoch 22: 100%|██████████| 56/56 [00:02<00:00, 20.26it/s]\n"
     ]
    },
    {
     "name": "stdout",
     "output_type": "stream",
     "text": [
      "Epoch 22/100 | Train Loss: 8.4249 | Val Loss: 8.8836\n"
     ]
    },
    {
     "name": "stderr",
     "output_type": "stream",
     "text": [
      "Epoch 23: 100%|██████████| 56/56 [00:02<00:00, 20.12it/s]\n"
     ]
    },
    {
     "name": "stdout",
     "output_type": "stream",
     "text": [
      "Epoch 23/100 | Train Loss: 10.5208 | Val Loss: 7.3981\n"
     ]
    },
    {
     "name": "stderr",
     "output_type": "stream",
     "text": [
      "Epoch 24: 100%|██████████| 56/56 [00:02<00:00, 20.21it/s]\n"
     ]
    },
    {
     "name": "stdout",
     "output_type": "stream",
     "text": [
      "Epoch 24/100 | Train Loss: 9.3793 | Val Loss: 6.6072\n"
     ]
    },
    {
     "name": "stderr",
     "output_type": "stream",
     "text": [
      "Epoch 25: 100%|██████████| 56/56 [00:02<00:00, 20.16it/s]\n"
     ]
    },
    {
     "name": "stdout",
     "output_type": "stream",
     "text": [
      "Epoch 25/100 | Train Loss: 5.1119 | Val Loss: 7.6915\n"
     ]
    },
    {
     "name": "stderr",
     "output_type": "stream",
     "text": [
      "Epoch 26: 100%|██████████| 56/56 [00:02<00:00, 20.13it/s]\n"
     ]
    },
    {
     "name": "stdout",
     "output_type": "stream",
     "text": [
      "Epoch 26/100 | Train Loss: 6.3405 | Val Loss: 6.6203\n"
     ]
    },
    {
     "name": "stderr",
     "output_type": "stream",
     "text": [
      "Epoch 27: 100%|██████████| 56/56 [00:02<00:00, 20.14it/s]\n"
     ]
    },
    {
     "name": "stdout",
     "output_type": "stream",
     "text": [
      "Epoch 27/100 | Train Loss: 9.5834 | Val Loss: 7.3431\n"
     ]
    },
    {
     "name": "stderr",
     "output_type": "stream",
     "text": [
      "Epoch 28: 100%|██████████| 56/56 [00:02<00:00, 19.98it/s]\n"
     ]
    },
    {
     "name": "stdout",
     "output_type": "stream",
     "text": [
      "Epoch 28/100 | Train Loss: 6.8764 | Val Loss: 9.9966\n"
     ]
    },
    {
     "name": "stderr",
     "output_type": "stream",
     "text": [
      "Epoch 29: 100%|██████████| 56/56 [00:02<00:00, 20.24it/s]\n"
     ]
    },
    {
     "name": "stdout",
     "output_type": "stream",
     "text": [
      "Epoch 29/100 | Train Loss: 9.2462 | Val Loss: 10.5164\n"
     ]
    },
    {
     "name": "stderr",
     "output_type": "stream",
     "text": [
      "Epoch 30: 100%|██████████| 56/56 [00:02<00:00, 20.19it/s]\n"
     ]
    },
    {
     "name": "stdout",
     "output_type": "stream",
     "text": [
      "Epoch 30/100 | Train Loss: 11.3332 | Val Loss: 9.2755\n"
     ]
    },
    {
     "name": "stderr",
     "output_type": "stream",
     "text": [
      "Epoch 31: 100%|██████████| 56/56 [00:02<00:00, 20.23it/s]\n"
     ]
    },
    {
     "name": "stdout",
     "output_type": "stream",
     "text": [
      "Epoch 31/100 | Train Loss: 6.0270 | Val Loss: 7.3531\n"
     ]
    },
    {
     "name": "stderr",
     "output_type": "stream",
     "text": [
      "Epoch 32: 100%|██████████| 56/56 [00:02<00:00, 20.22it/s]\n"
     ]
    },
    {
     "name": "stdout",
     "output_type": "stream",
     "text": [
      "Epoch 32/100 | Train Loss: 8.7544 | Val Loss: 10.3852\n"
     ]
    },
    {
     "name": "stderr",
     "output_type": "stream",
     "text": [
      "Epoch 33: 100%|██████████| 56/56 [00:02<00:00, 20.31it/s]\n"
     ]
    },
    {
     "name": "stdout",
     "output_type": "stream",
     "text": [
      "Epoch 33/100 | Train Loss: 6.7612 | Val Loss: 7.6847\n"
     ]
    },
    {
     "name": "stderr",
     "output_type": "stream",
     "text": [
      "Epoch 34: 100%|██████████| 56/56 [00:02<00:00, 20.31it/s]\n"
     ]
    },
    {
     "name": "stdout",
     "output_type": "stream",
     "text": [
      "Epoch 34/100 | Train Loss: 5.2605 | Val Loss: 9.7915\n"
     ]
    },
    {
     "name": "stderr",
     "output_type": "stream",
     "text": [
      "Epoch 35: 100%|██████████| 56/56 [00:02<00:00, 20.26it/s]\n"
     ]
    },
    {
     "name": "stdout",
     "output_type": "stream",
     "text": [
      "Epoch 35/100 | Train Loss: 4.7765 | Val Loss: 7.9213\n"
     ]
    },
    {
     "name": "stderr",
     "output_type": "stream",
     "text": [
      "Epoch 36: 100%|██████████| 56/56 [00:02<00:00, 20.33it/s]\n"
     ]
    },
    {
     "name": "stdout",
     "output_type": "stream",
     "text": [
      "Epoch 36/100 | Train Loss: 3.6007 | Val Loss: 7.2012\n"
     ]
    },
    {
     "name": "stderr",
     "output_type": "stream",
     "text": [
      "Epoch 37: 100%|██████████| 56/56 [00:02<00:00, 20.22it/s]\n"
     ]
    },
    {
     "name": "stdout",
     "output_type": "stream",
     "text": [
      "Epoch 37/100 | Train Loss: 3.1106 | Val Loss: 9.5624\n"
     ]
    },
    {
     "name": "stderr",
     "output_type": "stream",
     "text": [
      "Epoch 38: 100%|██████████| 56/56 [00:02<00:00, 20.25it/s]\n"
     ]
    },
    {
     "name": "stdout",
     "output_type": "stream",
     "text": [
      "Epoch 38/100 | Train Loss: 2.5042 | Val Loss: 8.2785\n"
     ]
    },
    {
     "name": "stderr",
     "output_type": "stream",
     "text": [
      "Epoch 39: 100%|██████████| 56/56 [00:02<00:00, 20.43it/s]\n"
     ]
    },
    {
     "name": "stdout",
     "output_type": "stream",
     "text": [
      "Epoch 39/100 | Train Loss: 3.8850 | Val Loss: 10.0732\n"
     ]
    },
    {
     "name": "stderr",
     "output_type": "stream",
     "text": [
      "Epoch 40: 100%|██████████| 56/56 [00:02<00:00, 20.15it/s]\n"
     ]
    },
    {
     "name": "stdout",
     "output_type": "stream",
     "text": [
      "Epoch 40/100 | Train Loss: 4.4536 | Val Loss: 8.2148\n"
     ]
    },
    {
     "name": "stderr",
     "output_type": "stream",
     "text": [
      "Epoch 41: 100%|██████████| 56/56 [00:02<00:00, 20.23it/s]\n"
     ]
    },
    {
     "name": "stdout",
     "output_type": "stream",
     "text": [
      "Epoch 41/100 | Train Loss: 2.6284 | Val Loss: 8.1697\n"
     ]
    },
    {
     "name": "stderr",
     "output_type": "stream",
     "text": [
      "Epoch 42: 100%|██████████| 56/56 [00:02<00:00, 20.16it/s]\n"
     ]
    },
    {
     "name": "stdout",
     "output_type": "stream",
     "text": [
      "Epoch 42/100 | Train Loss: 7.3318 | Val Loss: 8.9407\n"
     ]
    },
    {
     "name": "stderr",
     "output_type": "stream",
     "text": [
      "Epoch 43: 100%|██████████| 56/56 [00:02<00:00, 20.34it/s]\n"
     ]
    },
    {
     "name": "stdout",
     "output_type": "stream",
     "text": [
      "Epoch 43/100 | Train Loss: 3.9045 | Val Loss: 10.1796\n"
     ]
    },
    {
     "name": "stderr",
     "output_type": "stream",
     "text": [
      "Epoch 44: 100%|██████████| 56/56 [00:02<00:00, 20.52it/s]\n"
     ]
    },
    {
     "name": "stdout",
     "output_type": "stream",
     "text": [
      "Epoch 44/100 | Train Loss: 2.7078 | Val Loss: 11.4003\n"
     ]
    },
    {
     "name": "stderr",
     "output_type": "stream",
     "text": [
      "Epoch 45: 100%|██████████| 56/56 [00:02<00:00, 20.16it/s]\n"
     ]
    },
    {
     "name": "stdout",
     "output_type": "stream",
     "text": [
      "Epoch 45/100 | Train Loss: 9.9218 | Val Loss: 11.3383\n"
     ]
    },
    {
     "name": "stderr",
     "output_type": "stream",
     "text": [
      "Epoch 46: 100%|██████████| 56/56 [00:02<00:00, 20.29it/s]\n"
     ]
    },
    {
     "name": "stdout",
     "output_type": "stream",
     "text": [
      "Epoch 46/100 | Train Loss: 7.6213 | Val Loss: 10.1214\n"
     ]
    },
    {
     "name": "stderr",
     "output_type": "stream",
     "text": [
      "Epoch 47: 100%|██████████| 56/56 [00:02<00:00, 20.23it/s]\n"
     ]
    },
    {
     "name": "stdout",
     "output_type": "stream",
     "text": [
      "Epoch 47/100 | Train Loss: 9.3518 | Val Loss: 11.6238\n"
     ]
    },
    {
     "name": "stderr",
     "output_type": "stream",
     "text": [
      "Epoch 48: 100%|██████████| 56/56 [00:02<00:00, 20.15it/s]\n"
     ]
    },
    {
     "name": "stdout",
     "output_type": "stream",
     "text": [
      "Epoch 48/100 | Train Loss: 15.2100 | Val Loss: 7.8260\n"
     ]
    },
    {
     "name": "stderr",
     "output_type": "stream",
     "text": [
      "Epoch 49: 100%|██████████| 56/56 [00:02<00:00, 20.29it/s]\n"
     ]
    },
    {
     "name": "stdout",
     "output_type": "stream",
     "text": [
      "Epoch 49/100 | Train Loss: 9.3532 | Val Loss: 8.1688\n"
     ]
    },
    {
     "name": "stderr",
     "output_type": "stream",
     "text": [
      "Epoch 50: 100%|██████████| 56/56 [00:02<00:00, 20.26it/s]\n"
     ]
    },
    {
     "name": "stdout",
     "output_type": "stream",
     "text": [
      "Epoch 50/100 | Train Loss: 5.1073 | Val Loss: 7.4790\n"
     ]
    },
    {
     "name": "stderr",
     "output_type": "stream",
     "text": [
      "Epoch 51: 100%|██████████| 56/56 [00:02<00:00, 20.16it/s]\n"
     ]
    },
    {
     "name": "stdout",
     "output_type": "stream",
     "text": [
      "Epoch 51/100 | Train Loss: 2.7017 | Val Loss: 9.4925\n"
     ]
    },
    {
     "name": "stderr",
     "output_type": "stream",
     "text": [
      "Epoch 52: 100%|██████████| 56/56 [00:02<00:00, 20.39it/s]\n"
     ]
    },
    {
     "name": "stdout",
     "output_type": "stream",
     "text": [
      "Epoch 52/100 | Train Loss: 3.3324 | Val Loss: 10.2324\n"
     ]
    },
    {
     "name": "stderr",
     "output_type": "stream",
     "text": [
      "Epoch 53: 100%|██████████| 56/56 [00:02<00:00, 20.33it/s]\n"
     ]
    },
    {
     "name": "stdout",
     "output_type": "stream",
     "text": [
      "Epoch 53/100 | Train Loss: 2.4102 | Val Loss: 8.7472\n"
     ]
    },
    {
     "name": "stderr",
     "output_type": "stream",
     "text": [
      "Epoch 54: 100%|██████████| 56/56 [00:02<00:00, 20.18it/s]\n"
     ]
    },
    {
     "name": "stdout",
     "output_type": "stream",
     "text": [
      "Epoch 54/100 | Train Loss: 3.4311 | Val Loss: 8.7994\n"
     ]
    },
    {
     "name": "stderr",
     "output_type": "stream",
     "text": [
      "Epoch 55: 100%|██████████| 56/56 [00:02<00:00, 20.33it/s]\n"
     ]
    },
    {
     "name": "stdout",
     "output_type": "stream",
     "text": [
      "Epoch 55/100 | Train Loss: 5.6330 | Val Loss: 9.1026\n"
     ]
    },
    {
     "name": "stderr",
     "output_type": "stream",
     "text": [
      "Epoch 56: 100%|██████████| 56/56 [00:02<00:00, 20.20it/s]\n"
     ]
    },
    {
     "name": "stdout",
     "output_type": "stream",
     "text": [
      "Epoch 56/100 | Train Loss: 4.3930 | Val Loss: 10.6470\n"
     ]
    },
    {
     "name": "stderr",
     "output_type": "stream",
     "text": [
      "Epoch 57: 100%|██████████| 56/56 [00:02<00:00, 20.18it/s]\n"
     ]
    },
    {
     "name": "stdout",
     "output_type": "stream",
     "text": [
      "Epoch 57/100 | Train Loss: 2.5120 | Val Loss: 8.3566\n"
     ]
    },
    {
     "name": "stderr",
     "output_type": "stream",
     "text": [
      "Epoch 58: 100%|██████████| 56/56 [00:02<00:00, 20.26it/s]\n"
     ]
    },
    {
     "name": "stdout",
     "output_type": "stream",
     "text": [
      "Epoch 58/100 | Train Loss: 1.5344 | Val Loss: 8.9833\n"
     ]
    },
    {
     "name": "stderr",
     "output_type": "stream",
     "text": [
      "Epoch 59: 100%|██████████| 56/56 [00:02<00:00, 20.16it/s]\n"
     ]
    },
    {
     "name": "stdout",
     "output_type": "stream",
     "text": [
      "Epoch 59/100 | Train Loss: 1.4176 | Val Loss: 8.5577\n"
     ]
    },
    {
     "name": "stderr",
     "output_type": "stream",
     "text": [
      "Epoch 60: 100%|██████████| 56/56 [00:02<00:00, 20.16it/s]\n"
     ]
    },
    {
     "name": "stdout",
     "output_type": "stream",
     "text": [
      "Epoch 60/100 | Train Loss: 1.5782 | Val Loss: 9.0830\n"
     ]
    },
    {
     "name": "stderr",
     "output_type": "stream",
     "text": [
      "Epoch 61: 100%|██████████| 56/56 [00:02<00:00, 20.14it/s]\n"
     ]
    },
    {
     "name": "stdout",
     "output_type": "stream",
     "text": [
      "Epoch 61/100 | Train Loss: 1.3875 | Val Loss: 8.1221\n"
     ]
    },
    {
     "name": "stderr",
     "output_type": "stream",
     "text": [
      "Epoch 62: 100%|██████████| 56/56 [00:02<00:00, 20.11it/s]\n"
     ]
    },
    {
     "name": "stdout",
     "output_type": "stream",
     "text": [
      "Epoch 62/100 | Train Loss: 1.6678 | Val Loss: 8.6751\n"
     ]
    },
    {
     "name": "stderr",
     "output_type": "stream",
     "text": [
      "Epoch 63: 100%|██████████| 56/56 [00:02<00:00, 20.26it/s]\n"
     ]
    },
    {
     "name": "stdout",
     "output_type": "stream",
     "text": [
      "Epoch 63/100 | Train Loss: 1.9104 | Val Loss: 9.5023\n"
     ]
    },
    {
     "name": "stderr",
     "output_type": "stream",
     "text": [
      "Epoch 64: 100%|██████████| 56/56 [00:02<00:00, 20.19it/s]\n"
     ]
    },
    {
     "name": "stdout",
     "output_type": "stream",
     "text": [
      "Epoch 64/100 | Train Loss: 1.7381 | Val Loss: 11.2326\n"
     ]
    },
    {
     "name": "stderr",
     "output_type": "stream",
     "text": [
      "Epoch 65: 100%|██████████| 56/56 [00:02<00:00, 20.19it/s]\n"
     ]
    },
    {
     "name": "stdout",
     "output_type": "stream",
     "text": [
      "Epoch 65/100 | Train Loss: 1.4370 | Val Loss: 10.7811\n"
     ]
    },
    {
     "name": "stderr",
     "output_type": "stream",
     "text": [
      "Epoch 66: 100%|██████████| 56/56 [00:02<00:00, 20.33it/s]\n"
     ]
    },
    {
     "name": "stdout",
     "output_type": "stream",
     "text": [
      "Epoch 66/100 | Train Loss: 1.2955 | Val Loss: 9.6817\n"
     ]
    },
    {
     "name": "stderr",
     "output_type": "stream",
     "text": [
      "Epoch 67: 100%|██████████| 56/56 [00:02<00:00, 20.37it/s]\n"
     ]
    },
    {
     "name": "stdout",
     "output_type": "stream",
     "text": [
      "Epoch 67/100 | Train Loss: 7.3095 | Val Loss: 10.0182\n"
     ]
    },
    {
     "name": "stderr",
     "output_type": "stream",
     "text": [
      "Epoch 68: 100%|██████████| 56/56 [00:02<00:00, 20.25it/s]\n"
     ]
    },
    {
     "name": "stdout",
     "output_type": "stream",
     "text": [
      "Epoch 68/100 | Train Loss: 35.8292 | Val Loss: 9.8231\n"
     ]
    },
    {
     "name": "stderr",
     "output_type": "stream",
     "text": [
      "Epoch 69: 100%|██████████| 56/56 [00:02<00:00, 20.20it/s]\n"
     ]
    },
    {
     "name": "stdout",
     "output_type": "stream",
     "text": [
      "Epoch 69/100 | Train Loss: 24.3065 | Val Loss: 7.8261\n"
     ]
    },
    {
     "name": "stderr",
     "output_type": "stream",
     "text": [
      "Epoch 70: 100%|██████████| 56/56 [00:02<00:00, 20.14it/s]\n"
     ]
    },
    {
     "name": "stdout",
     "output_type": "stream",
     "text": [
      "Epoch 70/100 | Train Loss: 9.3040 | Val Loss: 8.8699\n"
     ]
    },
    {
     "name": "stderr",
     "output_type": "stream",
     "text": [
      "Epoch 71: 100%|██████████| 56/56 [00:02<00:00, 20.28it/s]\n"
     ]
    },
    {
     "name": "stdout",
     "output_type": "stream",
     "text": [
      "Epoch 71/100 | Train Loss: 2.5847 | Val Loss: 8.5363\n"
     ]
    },
    {
     "name": "stderr",
     "output_type": "stream",
     "text": [
      "Epoch 72: 100%|██████████| 56/56 [00:02<00:00, 20.06it/s]\n"
     ]
    },
    {
     "name": "stdout",
     "output_type": "stream",
     "text": [
      "Epoch 72/100 | Train Loss: 2.5693 | Val Loss: 7.8383\n"
     ]
    },
    {
     "name": "stderr",
     "output_type": "stream",
     "text": [
      "Epoch 73: 100%|██████████| 56/56 [00:02<00:00, 20.23it/s]\n"
     ]
    },
    {
     "name": "stdout",
     "output_type": "stream",
     "text": [
      "Epoch 73/100 | Train Loss: 4.3827 | Val Loss: 7.6965\n"
     ]
    },
    {
     "name": "stderr",
     "output_type": "stream",
     "text": [
      "Epoch 74: 100%|██████████| 56/56 [00:02<00:00, 20.31it/s]\n"
     ]
    },
    {
     "name": "stdout",
     "output_type": "stream",
     "text": [
      "Epoch 74/100 | Train Loss: 4.1121 | Val Loss: 8.8413\n"
     ]
    },
    {
     "name": "stderr",
     "output_type": "stream",
     "text": [
      "Epoch 75: 100%|██████████| 56/56 [00:02<00:00, 20.27it/s]\n"
     ]
    },
    {
     "name": "stdout",
     "output_type": "stream",
     "text": [
      "Epoch 75/100 | Train Loss: 2.7305 | Val Loss: 8.9638\n"
     ]
    },
    {
     "name": "stderr",
     "output_type": "stream",
     "text": [
      "Epoch 76: 100%|██████████| 56/56 [00:02<00:00, 19.84it/s]\n"
     ]
    },
    {
     "name": "stdout",
     "output_type": "stream",
     "text": [
      "Epoch 76/100 | Train Loss: 4.3133 | Val Loss: 9.7679\n"
     ]
    },
    {
     "name": "stderr",
     "output_type": "stream",
     "text": [
      "Epoch 77: 100%|██████████| 56/56 [00:02<00:00, 19.94it/s]\n"
     ]
    },
    {
     "name": "stdout",
     "output_type": "stream",
     "text": [
      "Epoch 77/100 | Train Loss: 5.9329 | Val Loss: 7.8253\n"
     ]
    },
    {
     "name": "stderr",
     "output_type": "stream",
     "text": [
      "Epoch 78: 100%|██████████| 56/56 [00:02<00:00, 20.11it/s]\n"
     ]
    },
    {
     "name": "stdout",
     "output_type": "stream",
     "text": [
      "Epoch 78/100 | Train Loss: 4.5993 | Val Loss: 8.4900\n"
     ]
    },
    {
     "name": "stderr",
     "output_type": "stream",
     "text": [
      "Epoch 79: 100%|██████████| 56/56 [00:02<00:00, 19.84it/s]\n"
     ]
    },
    {
     "name": "stdout",
     "output_type": "stream",
     "text": [
      "Epoch 79/100 | Train Loss: 9.7753 | Val Loss: 6.8165\n"
     ]
    },
    {
     "name": "stderr",
     "output_type": "stream",
     "text": [
      "Epoch 80: 100%|██████████| 56/56 [00:02<00:00, 19.91it/s]\n"
     ]
    },
    {
     "name": "stdout",
     "output_type": "stream",
     "text": [
      "Epoch 80/100 | Train Loss: 3.0488 | Val Loss: 7.7318\n"
     ]
    },
    {
     "name": "stderr",
     "output_type": "stream",
     "text": [
      "Epoch 81: 100%|██████████| 56/56 [00:02<00:00, 19.48it/s]\n"
     ]
    },
    {
     "name": "stdout",
     "output_type": "stream",
     "text": [
      "Epoch 81/100 | Train Loss: 1.5082 | Val Loss: 8.6280\n"
     ]
    },
    {
     "name": "stderr",
     "output_type": "stream",
     "text": [
      "Epoch 82: 100%|██████████| 56/56 [00:02<00:00, 19.68it/s]\n"
     ]
    },
    {
     "name": "stdout",
     "output_type": "stream",
     "text": [
      "Epoch 82/100 | Train Loss: 1.2676 | Val Loss: 8.6100\n"
     ]
    },
    {
     "name": "stderr",
     "output_type": "stream",
     "text": [
      "Epoch 83: 100%|██████████| 56/56 [00:02<00:00, 19.69it/s]\n"
     ]
    },
    {
     "name": "stdout",
     "output_type": "stream",
     "text": [
      "Epoch 83/100 | Train Loss: 1.7546 | Val Loss: 8.2615\n"
     ]
    },
    {
     "name": "stderr",
     "output_type": "stream",
     "text": [
      "Epoch 84: 100%|██████████| 56/56 [00:02<00:00, 20.01it/s]\n"
     ]
    },
    {
     "name": "stdout",
     "output_type": "stream",
     "text": [
      "Epoch 84/100 | Train Loss: 1.9376 | Val Loss: 7.8705\n"
     ]
    },
    {
     "name": "stderr",
     "output_type": "stream",
     "text": [
      "Epoch 85: 100%|██████████| 56/56 [00:02<00:00, 19.55it/s]\n"
     ]
    },
    {
     "name": "stdout",
     "output_type": "stream",
     "text": [
      "Epoch 85/100 | Train Loss: 1.2375 | Val Loss: 7.9988\n"
     ]
    },
    {
     "name": "stderr",
     "output_type": "stream",
     "text": [
      "Epoch 86: 100%|██████████| 56/56 [00:02<00:00, 19.92it/s]\n"
     ]
    },
    {
     "name": "stdout",
     "output_type": "stream",
     "text": [
      "Epoch 86/100 | Train Loss: 1.2203 | Val Loss: 9.1385\n"
     ]
    },
    {
     "name": "stderr",
     "output_type": "stream",
     "text": [
      "Epoch 87: 100%|██████████| 56/56 [00:02<00:00, 20.04it/s]\n"
     ]
    },
    {
     "name": "stdout",
     "output_type": "stream",
     "text": [
      "Epoch 87/100 | Train Loss: 3.0036 | Val Loss: 11.9971\n"
     ]
    },
    {
     "name": "stderr",
     "output_type": "stream",
     "text": [
      "Epoch 88: 100%|██████████| 56/56 [00:02<00:00, 19.87it/s]\n"
     ]
    },
    {
     "name": "stdout",
     "output_type": "stream",
     "text": [
      "Epoch 88/100 | Train Loss: 4.0982 | Val Loss: 8.1554\n"
     ]
    },
    {
     "name": "stderr",
     "output_type": "stream",
     "text": [
      "Epoch 89: 100%|██████████| 56/56 [00:02<00:00, 19.84it/s]\n"
     ]
    },
    {
     "name": "stdout",
     "output_type": "stream",
     "text": [
      "Epoch 89/100 | Train Loss: 2.2526 | Val Loss: 9.2705\n"
     ]
    },
    {
     "name": "stderr",
     "output_type": "stream",
     "text": [
      "Epoch 90: 100%|██████████| 56/56 [00:02<00:00, 19.90it/s]\n"
     ]
    },
    {
     "name": "stdout",
     "output_type": "stream",
     "text": [
      "Epoch 90/100 | Train Loss: 3.8116 | Val Loss: 8.1196\n"
     ]
    },
    {
     "name": "stderr",
     "output_type": "stream",
     "text": [
      "Epoch 91: 100%|██████████| 56/56 [00:02<00:00, 20.23it/s]\n"
     ]
    },
    {
     "name": "stdout",
     "output_type": "stream",
     "text": [
      "Epoch 91/100 | Train Loss: 4.9109 | Val Loss: 11.8830\n"
     ]
    },
    {
     "name": "stderr",
     "output_type": "stream",
     "text": [
      "Epoch 92: 100%|██████████| 56/56 [00:02<00:00, 20.73it/s]\n"
     ]
    },
    {
     "name": "stdout",
     "output_type": "stream",
     "text": [
      "Epoch 92/100 | Train Loss: 2.4249 | Val Loss: 8.6929\n"
     ]
    },
    {
     "name": "stderr",
     "output_type": "stream",
     "text": [
      "Epoch 93: 100%|██████████| 56/56 [00:02<00:00, 18.86it/s]\n"
     ]
    },
    {
     "name": "stdout",
     "output_type": "stream",
     "text": [
      "Epoch 93/100 | Train Loss: 5.1905 | Val Loss: 9.5672\n"
     ]
    },
    {
     "name": "stderr",
     "output_type": "stream",
     "text": [
      "Epoch 94: 100%|██████████| 56/56 [00:02<00:00, 18.96it/s]\n"
     ]
    },
    {
     "name": "stdout",
     "output_type": "stream",
     "text": [
      "Epoch 94/100 | Train Loss: 5.0313 | Val Loss: 9.0611\n"
     ]
    },
    {
     "name": "stderr",
     "output_type": "stream",
     "text": [
      "Epoch 95: 100%|██████████| 56/56 [00:02<00:00, 19.12it/s]\n"
     ]
    },
    {
     "name": "stdout",
     "output_type": "stream",
     "text": [
      "Epoch 95/100 | Train Loss: 9.5343 | Val Loss: 13.1326\n"
     ]
    },
    {
     "name": "stderr",
     "output_type": "stream",
     "text": [
      "Epoch 96: 100%|██████████| 56/56 [00:02<00:00, 19.08it/s]\n"
     ]
    },
    {
     "name": "stdout",
     "output_type": "stream",
     "text": [
      "Epoch 96/100 | Train Loss: 10.9128 | Val Loss: 11.0577\n"
     ]
    },
    {
     "name": "stderr",
     "output_type": "stream",
     "text": [
      "Epoch 97: 100%|██████████| 56/56 [00:02<00:00, 19.00it/s]\n"
     ]
    },
    {
     "name": "stdout",
     "output_type": "stream",
     "text": [
      "Epoch 97/100 | Train Loss: 16.8387 | Val Loss: 24.7546\n"
     ]
    },
    {
     "name": "stderr",
     "output_type": "stream",
     "text": [
      "Epoch 98: 100%|██████████| 56/56 [00:02<00:00, 20.07it/s]\n"
     ]
    },
    {
     "name": "stdout",
     "output_type": "stream",
     "text": [
      "Epoch 98/100 | Train Loss: 15.5371 | Val Loss: 7.7318\n"
     ]
    },
    {
     "name": "stderr",
     "output_type": "stream",
     "text": [
      "Epoch 99: 100%|██████████| 56/56 [00:02<00:00, 19.21it/s]\n"
     ]
    },
    {
     "name": "stdout",
     "output_type": "stream",
     "text": [
      "Epoch 99/100 | Train Loss: 7.1980 | Val Loss: 11.8228\n"
     ]
    },
    {
     "name": "stderr",
     "output_type": "stream",
     "text": [
      "Epoch 100: 100%|██████████| 56/56 [00:02<00:00, 19.16it/s]\n"
     ]
    },
    {
     "name": "stdout",
     "output_type": "stream",
     "text": [
      "Epoch 100/100 | Train Loss: 9.4006 | Val Loss: 8.3564\n"
     ]
    },
    {
     "data": {
      "image/png": "[encoded data removed]",
      "text/plain": [
       "<Figure size 640x480 with 1 Axes>"
      ]
     },
     "metadata": {},
     "output_type": "display_data"
    }
   ],
   "source": [
    "import torch.optim as optim\n",
    "from tqdm import tqdm\n",
    "\n",
    "import matplotlib.pyplot as plt\n",
    "\n",
    "# 初始化模型\n",
    "device = torch.device(\"cuda\" if torch.cuda.is_available() else \"cpu\")\n",
    "model = BERT_CRF(num_labels=len(label2id)).to(device)\n",
    "\n",
    "optimizer = optim.AdamW(model.parameters(), lr=5e-5)\n",
    "\n",
    "num_epochs = 100\n",
    "train_losses = []\n",
    "val_losses = []\n",
    "\n",
    "for epoch in range(num_epochs):\n",
    "    model.train()\n",
    "    total_loss = 0\n",
    "\n",
    "    for batch in tqdm(train_loader, desc=f'Epoch {epoch+1}'):\n",
    "        input_ids, attention_mask, labels = [x.to(device) for x in batch[:3]]\n",
    "\n",
    "        optimizer.zero_grad()\n",
    "        loss = model(input_ids, attention_mask, labels)\n",
    "        loss.backward()\n",
    "        optimizer.step()\n",
    "\n",
    "        total_loss += loss.item()\n",
    "    \n",
    "    # === Validation ===\n",
    "    model.eval()\n",
    "    total_val_loss = 0\n",
    "    with torch.no_grad():\n",
    "        for batch in val_loader:\n",
    "            input_ids, attention_mask, labels = [x.to(device) for x in batch[:3]]\n",
    "            val_loss = model(input_ids, attention_mask, labels)\n",
    "            total_val_loss += val_loss.item()\n",
    "\n",
    "    train_losses.append(total_loss)\n",
    "    val_losses.append(total_val_loss)\n",
    "\n",
    "    print(f\"Epoch {epoch+1}/{num_epochs} | Train Loss: {total_loss:.4f} | Val Loss: {total_val_loss:.4f}\")\n",
    "\n",
    "plt.plot(range(1, num_epochs+1), train_losses, label='Train Loss')\n",
    "plt.plot(range(1, num_epochs+1), val_losses, label='Validation Loss')\n",
    "plt.xlabel('Epoch')\n",
    "plt.ylabel('Loss')\n",
    "plt.title('Training and Validation Loss')\n",
    "plt.legend()\n",
    "plt.grid(True)\n",
    "plt.tight_layout()\n",
    "plt.show()"
   ]
  },
  {
   "cell_type": "code",
   "execution_count": 17,
   "metadata": {},
   "outputs": [
    {
     "name": "stdout",
     "output_type": "stream",
     "text": [
      "True Labels: 781, Pred Labels: 781\n",
      "Unique True Labels: {'conclusions', 'O', 'background', 'methods', 'objective', 'results'}\n",
      "Unique Pred Labels: {'conclusions', 'O', 'background', 'methods', 'objective', 'results'}\n",
      "Test Precision: 0.7736\n",
      "Test Recall: 0.8016\n",
      "Test F1 Score: 0.7845\n"
     ]
    }
   ],
   "source": [
    "from sklearn.metrics import precision_recall_fscore_support\n",
    "\n",
    "model.eval()\n",
    "all_true_labels = []\n",
    "all_pred_labels = []\n",
    "\n",
    "with torch.no_grad():\n",
    "    for batch in test_loader:\n",
    "        input_ids, attention_mask, labels = [x.to(device) for x in batch[:3]]\n",
    "        word_lists, word_id_lists = batch[3], batch[4]\n",
    "        # sep_none_type = [x.to(device) for x in batch[5]]\n",
    "        predictions = model(input_ids, attention_mask)\n",
    "\n",
    "        for i in range(len(word_lists)):\n",
    "            word_list = word_lists[i]          # 原始詞 list\n",
    "            word_ids = word_id_lists[i]        # token 對應的 word index\n",
    "            preds = predictions[i]\n",
    "            trues = labels[i]\n",
    "            tokens = input_ids[i]\n",
    "\n",
    "            for idx, word_idx in enumerate(word_ids):\n",
    "                if word_idx is None:\n",
    "                    continue\n",
    "                word = word_list[word_idx]\n",
    "                if word == \"[SEP]\" and trues[idx].item() != -1:\n",
    "                    all_true_labels.append(id2label[trues[idx].item()])\n",
    "                    all_pred_labels.append(id2label[preds[idx]])\n",
    "\n",
    "print(f\"True Labels: {len(all_true_labels)}, Pred Labels: {len(all_pred_labels)}\")\n",
    "print(f\"Unique True Labels: {set(all_true_labels)}\")\n",
    "print(f\"Unique Pred Labels: {set(all_pred_labels)}\")\n",
    "\n",
    "precision, recall, f1, _ = precision_recall_fscore_support(\n",
    "    all_true_labels, all_pred_labels, average=\"macro\"\n",
    ")\n",
    "\n",
    "print(f\"Test Precision: {precision:.4f}\")\n",
    "print(f\"Test Recall: {recall:.4f}\")\n",
    "print(f\"Test F1 Score: {f1:.4f}\")\n"
   ]
  },
  {
   "cell_type": "code",
   "execution_count": 18,
   "metadata": {},
   "outputs": [
    {
     "name": "stdout",
     "output_type": "stream",
     "text": [
      "Test Precision: 0.9655\n",
      "Test Recall: 0.9603\n",
      "Test F1 Score: 0.9624\n",
      "Test Accuracy: 0.9603072983354674\n"
     ]
    }
   ],
   "source": [
    "from sklearn.metrics import accuracy_score\n",
    "precision, recall, f1, _ = precision_recall_fscore_support(\n",
    "    all_true_labels, all_pred_labels, average=\"weighted\"\n",
    ")\n",
    "\n",
    "print(f\"Test Precision: {precision:.4f}\")\n",
    "print(f\"Test Recall: {recall:.4f}\")\n",
    "print(f\"Test F1 Score: {f1:.4f}\")\n",
    "\n",
    "print(f\"Test Accuracy: {accuracy_score(all_true_labels, all_pred_labels)}\")"
   ]
  },
  {
   "cell_type": "code",
   "execution_count": 19,
   "metadata": {},
   "outputs": [
    {
     "name": "stdout",
     "output_type": "stream",
     "text": [
      "              precision    recall  f1-score   support\n",
      "\n",
      "           O     0.2857    0.4444    0.3478         9\n",
      "  background     0.9902    0.9620    0.9759       316\n",
      " conclusions     1.0000    0.9950    0.9975       202\n",
      "     methods     0.9552    0.9343    0.9446       137\n",
      "   objective     0.5000    0.5000    0.5000         2\n",
      "     results     0.9106    0.9739    0.9412       115\n",
      "\n",
      "    accuracy                         0.9603       781\n",
      "   macro avg     0.7736    0.8016    0.7845       781\n",
      "weighted avg     0.9655    0.9603    0.9624       781\n",
      "\n"
     ]
    }
   ],
   "source": [
    "from sklearn.metrics import classification_report\n",
    "\n",
    "print(classification_report(all_true_labels, all_pred_labels, digits=4))\n"
   ]
  },
  {
   "cell_type": "code",
   "execution_count": 20,
   "metadata": {},
   "outputs": [
    {
     "name": "stdout",
     "output_type": "stream",
     "text": [
      "Test Precision: 0.9603\n",
      "Test Recall: 0.9603\n",
      "Test F1 Score: 0.9603\n",
      "Test Accuracy: 0.9603072983354674\n"
     ]
    }
   ],
   "source": [
    "from sklearn.metrics import accuracy_score\n",
    "precision, recall, f1, _ = precision_recall_fscore_support(\n",
    "    all_true_labels, all_pred_labels, average=\"micro\"\n",
    ")\n",
    "\n",
    "print(f\"Test Precision: {precision:.4f}\")\n",
    "print(f\"Test Recall: {recall:.4f}\")\n",
    "print(f\"Test F1 Score: {f1:.4f}\")\n",
    "\n",
    "print(f\"Test Accuracy: {accuracy_score(all_true_labels, all_pred_labels)}\")"
   ]
  },
  {
   "cell_type": "code",
   "execution_count": 21,
   "metadata": {},
   "outputs": [],
   "source": [
    "torch.save(model.state_dict(), \"models/bert_crf_pubMed_pretrained_300seed.pth\")"
   ]
  },
  {
   "cell_type": "code",
   "execution_count": 22,
   "metadata": {},
   "outputs": [
    {
     "data": {
      "text/plain": [
       "<sklearn.metrics._plot.confusion_matrix.ConfusionMatrixDisplay at 0x14e575da4e00>"
      ]
     },
     "execution_count": 22,
     "metadata": {},
     "output_type": "execute_result"
    },
    {
     "data": {
      "image/png": "[encoded data removed]",
      "text/plain": [
       "<Figure size 640x480 with 2 Axes>"
      ]
     },
     "metadata": {},
     "output_type": "display_data"
    }
   ],
   "source": [
    "from sklearn.metrics import confusion_matrix, ConfusionMatrixDisplay\n",
    "labels = sorted(set(all_true_labels) | set(all_pred_labels))  # 統一所有可能的 label\n",
    "\n",
    "cm = confusion_matrix(all_true_labels, all_pred_labels, labels=labels)\n",
    "disp = ConfusionMatrixDisplay(confusion_matrix=cm, display_labels=labels)\n",
    "disp.plot(xticks_rotation=45, cmap=\"Blues\")"
   ]
  },
  {
   "cell_type": "markdown",
   "metadata": {},
   "source": [
    "## MixText"
   ]
  },
  {
   "cell_type": "markdown",
   "metadata": {
    "jp-MarkdownHeadingCollapsed": true
   },
   "source": [
    "### pre-process"
   ]
  },
  {
   "cell_type": "code",
   "execution_count": null,
   "metadata": {},
   "outputs": [],
   "source": [
    "import pandas as pd\n",
    "\n",
    "df = pd.read_csv('Processed_Headings/normalized_section_data 2.csv')\n",
    "df.head()"
   ]
  },
  {
   "cell_type": "code",
   "execution_count": null,
   "metadata": {},
   "outputs": [],
   "source": [
    "# df = df.dropna(subset=['sec-norm'])"
   ]
  },
  {
   "cell_type": "code",
   "execution_count": null,
   "metadata": {},
   "outputs": [],
   "source": [
    "df_grouped = df.groupby([\"PMCID\", \"PMID\"]).agg(list)\n",
    "df_grouped"
   ]
  },
  {
   "cell_type": "code",
   "execution_count": null,
   "metadata": {},
   "outputs": [],
   "source": [
    "from sklearn.model_selection import train_test_split\n",
    "train_df, test_df = train_test_split(df_grouped, test_size=0.1, random_state=49, shuffle=True)\n",
    "len(train_df), len(test_df)"
   ]
  },
  {
   "cell_type": "code",
   "execution_count": null,
   "metadata": {},
   "outputs": [],
   "source": [
    "test_pmc_list = [tup[0] for tup in test_df.index.tolist()]"
   ]
  },
  {
   "cell_type": "code",
   "execution_count": null,
   "metadata": {},
   "outputs": [],
   "source": [
    "# df_test = df.dropna(subset=['sec-norm'])\n",
    "df_test = df"
   ]
  },
  {
   "cell_type": "code",
   "execution_count": null,
   "metadata": {},
   "outputs": [],
   "source": [
    "df_test = df_test[df_test['PMCID'].isin(test_pmc_list)]\n",
    "df_test = df_test[(df_test['PMCID'] != 0) \n",
    "                    & (df_test['PMCID'].notna())\n",
    "                    & (df_test['PMID'] != 0) \n",
    "                    & (df_test['PMID'].notna()) ]\n",
    "df_test = df_test.drop_duplicates(subset=['PMCID', 'PMID', 'sec-title'])\n",
    "df_test"
   ]
  },
  {
   "cell_type": "code",
   "execution_count": null,
   "metadata": {},
   "outputs": [],
   "source": [
    "df_test = df_test.drop(columns=['sec-type'])\n",
    "df_test"
   ]
  },
  {
   "cell_type": "code",
   "execution_count": null,
   "metadata": {},
   "outputs": [],
   "source": [
    "test_df = df_test.groupby([\"PMCID\", \"PMID\"]).agg(list)\n",
    "test_df"
   ]
  },
  {
   "cell_type": "code",
   "execution_count": null,
   "metadata": {},
   "outputs": [],
   "source": [
    "test_df = test_df.reset_index()\n",
    "test_df = test_df.drop_duplicates(subset=['PMCID'])"
   ]
  },
  {
   "cell_type": "code",
   "execution_count": null,
   "metadata": {},
   "outputs": [],
   "source": [
    "test_df"
   ]
  },
  {
   "cell_type": "code",
   "execution_count": null,
   "metadata": {},
   "outputs": [],
   "source": [
    "test_df[500:800].to_csv('seq_for_manual_labeled_removed_duplicate3.csv')"
   ]
  },
  {
   "cell_type": "markdown",
   "metadata": {
    "jp-MarkdownHeadingCollapsed": true
   },
   "source": [
    "### get test from annotation"
   ]
  },
  {
   "cell_type": "code",
   "execution_count": 18,
   "metadata": {},
   "outputs": [
    {
     "data": {
      "text/html": [
       "<div>\n",
       "<style scoped>\n",
       "    .dataframe tbody tr th:only-of-type {\n",
       "        vertical-align: middle;\n",
       "    }\n",
       "\n",
       "    .dataframe tbody tr th {\n",
       "        vertical-align: top;\n",
       "    }\n",
       "\n",
       "    .dataframe thead th {\n",
       "        text-align: right;\n",
       "    }\n",
       "</style>\n",
       "<table border=\"1\" class=\"dataframe\">\n",
       "  <thead>\n",
       "    <tr style=\"text-align: right;\">\n",
       "      <th></th>\n",
       "      <th>PMCID</th>\n",
       "      <th>PMID</th>\n",
       "      <th>sec-title</th>\n",
       "      <th>sec-norm</th>\n",
       "    </tr>\n",
       "  </thead>\n",
       "  <tbody>\n",
       "    <tr>\n",
       "      <th>0</th>\n",
       "      <td>PMC11184573</td>\n",
       "      <td>38888203</td>\n",
       "      <td>['INTRODUCTION', 'MATERIALS AND METHODS', 'DIS...</td>\n",
       "      <td>['background', 'methods', 'conclusions', 'conc...</td>\n",
       "    </tr>\n",
       "    <tr>\n",
       "      <th>1</th>\n",
       "      <td>PMC11183239</td>\n",
       "      <td>38886373</td>\n",
       "      <td>['Introduction', 'Subjects and methods', 'Resu...</td>\n",
       "      <td>['background', 'methods', 'results', 'conclusi...</td>\n",
       "    </tr>\n",
       "    <tr>\n",
       "      <th>2</th>\n",
       "      <td>PMC11187291</td>\n",
       "      <td>38903966</td>\n",
       "      <td>['Introduction', 'Methods', 'Results', 'Discus...</td>\n",
       "      <td>['background', 'methods', 'results', 'conclusi...</td>\n",
       "    </tr>\n",
       "    <tr>\n",
       "      <th>3</th>\n",
       "      <td>PMC11177991</td>\n",
       "      <td>38883749</td>\n",
       "      <td>['INTRODUCTION', 'MATERIALS AND METHODS', 'RES...</td>\n",
       "      <td>['background', 'methods', 'results', 'conclusi...</td>\n",
       "    </tr>\n",
       "    <tr>\n",
       "      <th>4</th>\n",
       "      <td>PMC11187304</td>\n",
       "      <td>38903638</td>\n",
       "      <td>['Introduction', 'Methods', 'Case reports', 'D...</td>\n",
       "      <td>['background', 'methods', 'methods', 'conclusi...</td>\n",
       "    </tr>\n",
       "    <tr>\n",
       "      <th>...</th>\n",
       "      <td>...</td>\n",
       "      <td>...</td>\n",
       "      <td>...</td>\n",
       "      <td>...</td>\n",
       "    </tr>\n",
       "    <tr>\n",
       "      <th>155</th>\n",
       "      <td>PMC11181322</td>\n",
       "      <td>38771959</td>\n",
       "      <td>['Introduction', 'Results and Discussion', 'Co...</td>\n",
       "      <td>['background', 'conclusions', 'conclusions', '...</td>\n",
       "    </tr>\n",
       "    <tr>\n",
       "      <th>156</th>\n",
       "      <td>PMC11186409</td>\n",
       "      <td>38899065</td>\n",
       "      <td>['Introduction', 'Materials and methods', 'Res...</td>\n",
       "      <td>['background', 'methods', 'results', 'conclusi...</td>\n",
       "    </tr>\n",
       "    <tr>\n",
       "      <th>157</th>\n",
       "      <td>PMC11185683</td>\n",
       "      <td>38895272</td>\n",
       "      <td>['Introduction', 'Results', 'Discussion', 'Mat...</td>\n",
       "      <td>['background', 'results', 'conclusions', 'meth...</td>\n",
       "    </tr>\n",
       "    <tr>\n",
       "      <th>158</th>\n",
       "      <td>PMC11161898</td>\n",
       "      <td>38854388</td>\n",
       "      <td>['METHODS', 'RESULTS', 'DISCUSSION', 'Notes']</td>\n",
       "      <td>['methods', 'results', 'conclusions', 'backgro...</td>\n",
       "    </tr>\n",
       "    <tr>\n",
       "      <th>159</th>\n",
       "      <td>PMC11183282</td>\n",
       "      <td>38895157</td>\n",
       "      <td>['1 Introduction', '2 Methods', '3 Results', '...</td>\n",
       "      <td>['background', 'methods', 'results', 'conclusi...</td>\n",
       "    </tr>\n",
       "  </tbody>\n",
       "</table>\n",
       "<p>160 rows × 4 columns</p>\n",
       "</div>"
      ],
      "text/plain": [
       "           PMCID      PMID                                          sec-title  \\\n",
       "0    PMC11184573  38888203  ['INTRODUCTION', 'MATERIALS AND METHODS', 'DIS...   \n",
       "1    PMC11183239  38886373  ['Introduction', 'Subjects and methods', 'Resu...   \n",
       "2    PMC11187291  38903966  ['Introduction', 'Methods', 'Results', 'Discus...   \n",
       "3    PMC11177991  38883749  ['INTRODUCTION', 'MATERIALS AND METHODS', 'RES...   \n",
       "4    PMC11187304  38903638  ['Introduction', 'Methods', 'Case reports', 'D...   \n",
       "..           ...       ...                                                ...   \n",
       "155  PMC11181322  38771959  ['Introduction', 'Results and Discussion', 'Co...   \n",
       "156  PMC11186409  38899065  ['Introduction', 'Materials and methods', 'Res...   \n",
       "157  PMC11185683  38895272  ['Introduction', 'Results', 'Discussion', 'Mat...   \n",
       "158  PMC11161898  38854388      ['METHODS', 'RESULTS', 'DISCUSSION', 'Notes']   \n",
       "159  PMC11183282  38895157  ['1 Introduction', '2 Methods', '3 Results', '...   \n",
       "\n",
       "                                              sec-norm  \n",
       "0    ['background', 'methods', 'conclusions', 'conc...  \n",
       "1    ['background', 'methods', 'results', 'conclusi...  \n",
       "2    ['background', 'methods', 'results', 'conclusi...  \n",
       "3    ['background', 'methods', 'results', 'conclusi...  \n",
       "4    ['background', 'methods', 'methods', 'conclusi...  \n",
       "..                                                 ...  \n",
       "155  ['background', 'conclusions', 'conclusions', '...  \n",
       "156  ['background', 'methods', 'results', 'conclusi...  \n",
       "157  ['background', 'results', 'conclusions', 'meth...  \n",
       "158  ['methods', 'results', 'conclusions', 'backgro...  \n",
       "159  ['background', 'methods', 'results', 'conclusi...  \n",
       "\n",
       "[160 rows x 4 columns]"
      ]
     },
     "execution_count": 18,
     "metadata": {},
     "output_type": "execute_result"
    }
   ],
   "source": [
    "import pandas as pd\n",
    "test_df = pd.read_csv('data/test_annotated.csv')\n",
    "test_df"
   ]
  },
  {
   "cell_type": "code",
   "execution_count": 19,
   "metadata": {},
   "outputs": [],
   "source": [
    "import ast\n",
    "import numpy as np\n",
    "\n",
    "# import numpy as np\n",
    "\n",
    "def eval_with_nan(x):\n",
    "    if isinstance(x, list):\n",
    "        return [np.nan if (isinstance(i, float) and np.isnan(i)) else i for i in x]\n",
    "    try:\n",
    "        # 這邊直接 eval 而且給定 locals\n",
    "        val = eval(x, {\"nan\": np.nan, \"NaN\": np.nan, \"np\": np})\n",
    "        if isinstance(val, list):\n",
    "            return [np.nan if (isinstance(i, float) and np.isnan(i)) else i for i in val]\n",
    "        else:\n",
    "            return val\n",
    "    except Exception:\n",
    "        return x  # 如果 eval 還失敗就原樣保留\n",
    "\n",
    "# 用在你的 dataframe 上\n",
    "# df_j['sec-norm'] = df_j['sec-norm'].apply(eval_with_nan)\n",
    "\n",
    "\n"
   ]
  },
  {
   "cell_type": "code",
   "execution_count": 20,
   "metadata": {},
   "outputs": [],
   "source": [
    "test_df['sec-title'] = test_df['sec-title'].apply(ast.literal_eval)\n",
    "test_df['sec-norm'] = test_df['sec-norm'].apply(eval_with_nan)"
   ]
  },
  {
   "cell_type": "code",
   "execution_count": 21,
   "metadata": {},
   "outputs": [
    {
     "data": {
      "text/html": [
       "<div>\n",
       "<style scoped>\n",
       "    .dataframe tbody tr th:only-of-type {\n",
       "        vertical-align: middle;\n",
       "    }\n",
       "\n",
       "    .dataframe tbody tr th {\n",
       "        vertical-align: top;\n",
       "    }\n",
       "\n",
       "    .dataframe thead th {\n",
       "        text-align: right;\n",
       "    }\n",
       "</style>\n",
       "<table border=\"1\" class=\"dataframe\">\n",
       "  <thead>\n",
       "    <tr style=\"text-align: right;\">\n",
       "      <th></th>\n",
       "      <th>PMCID</th>\n",
       "      <th>PMID</th>\n",
       "      <th>sec-title</th>\n",
       "      <th>sec-norm</th>\n",
       "    </tr>\n",
       "  </thead>\n",
       "  <tbody>\n",
       "    <tr>\n",
       "      <th>0</th>\n",
       "      <td>PMC11184573</td>\n",
       "      <td>38888203</td>\n",
       "      <td>[INTRODUCTION, MATERIALS AND METHODS, DISCUSSI...</td>\n",
       "      <td>[background, methods, conclusions, conclusions...</td>\n",
       "    </tr>\n",
       "    <tr>\n",
       "      <th>1</th>\n",
       "      <td>PMC11183239</td>\n",
       "      <td>38886373</td>\n",
       "      <td>[Introduction, Subjects and methods, Results, ...</td>\n",
       "      <td>[background, methods, results, conclusions, co...</td>\n",
       "    </tr>\n",
       "    <tr>\n",
       "      <th>2</th>\n",
       "      <td>PMC11187291</td>\n",
       "      <td>38903966</td>\n",
       "      <td>[Introduction, Methods, Results, Discussion, C...</td>\n",
       "      <td>[background, methods, results, conclusions, co...</td>\n",
       "    </tr>\n",
       "    <tr>\n",
       "      <th>3</th>\n",
       "      <td>PMC11177991</td>\n",
       "      <td>38883749</td>\n",
       "      <td>[INTRODUCTION, MATERIALS AND METHODS, RESULTS,...</td>\n",
       "      <td>[background, methods, results, conclusions, co...</td>\n",
       "    </tr>\n",
       "    <tr>\n",
       "      <th>4</th>\n",
       "      <td>PMC11187304</td>\n",
       "      <td>38903638</td>\n",
       "      <td>[Introduction, Methods, Case reports, Discussi...</td>\n",
       "      <td>[background, methods, methods, conclusions, co...</td>\n",
       "    </tr>\n",
       "    <tr>\n",
       "      <th>...</th>\n",
       "      <td>...</td>\n",
       "      <td>...</td>\n",
       "      <td>...</td>\n",
       "      <td>...</td>\n",
       "    </tr>\n",
       "    <tr>\n",
       "      <th>155</th>\n",
       "      <td>PMC11181322</td>\n",
       "      <td>38771959</td>\n",
       "      <td>[Introduction, Results and Discussion, Conclus...</td>\n",
       "      <td>[background, conclusions, conclusions, methods...</td>\n",
       "    </tr>\n",
       "    <tr>\n",
       "      <th>156</th>\n",
       "      <td>PMC11186409</td>\n",
       "      <td>38899065</td>\n",
       "      <td>[Introduction, Materials and methods, Results,...</td>\n",
       "      <td>[background, methods, results, conclusions, ba...</td>\n",
       "    </tr>\n",
       "    <tr>\n",
       "      <th>157</th>\n",
       "      <td>PMC11185683</td>\n",
       "      <td>38895272</td>\n",
       "      <td>[Introduction, Results, Discussion, Materials ...</td>\n",
       "      <td>[background, results, conclusions, methods]</td>\n",
       "    </tr>\n",
       "    <tr>\n",
       "      <th>158</th>\n",
       "      <td>PMC11161898</td>\n",
       "      <td>38854388</td>\n",
       "      <td>[METHODS, RESULTS, DISCUSSION, Notes]</td>\n",
       "      <td>[methods, results, conclusions, background]</td>\n",
       "    </tr>\n",
       "    <tr>\n",
       "      <th>159</th>\n",
       "      <td>PMC11183282</td>\n",
       "      <td>38895157</td>\n",
       "      <td>[1 Introduction, 2 Methods, 3 Results, 4 Discu...</td>\n",
       "      <td>[background, methods, results, conclusions, ba...</td>\n",
       "    </tr>\n",
       "  </tbody>\n",
       "</table>\n",
       "<p>160 rows × 4 columns</p>\n",
       "</div>"
      ],
      "text/plain": [
       "           PMCID      PMID                                          sec-title  \\\n",
       "0    PMC11184573  38888203  [INTRODUCTION, MATERIALS AND METHODS, DISCUSSI...   \n",
       "1    PMC11183239  38886373  [Introduction, Subjects and methods, Results, ...   \n",
       "2    PMC11187291  38903966  [Introduction, Methods, Results, Discussion, C...   \n",
       "3    PMC11177991  38883749  [INTRODUCTION, MATERIALS AND METHODS, RESULTS,...   \n",
       "4    PMC11187304  38903638  [Introduction, Methods, Case reports, Discussi...   \n",
       "..           ...       ...                                                ...   \n",
       "155  PMC11181322  38771959  [Introduction, Results and Discussion, Conclus...   \n",
       "156  PMC11186409  38899065  [Introduction, Materials and methods, Results,...   \n",
       "157  PMC11185683  38895272  [Introduction, Results, Discussion, Materials ...   \n",
       "158  PMC11161898  38854388              [METHODS, RESULTS, DISCUSSION, Notes]   \n",
       "159  PMC11183282  38895157  [1 Introduction, 2 Methods, 3 Results, 4 Discu...   \n",
       "\n",
       "                                              sec-norm  \n",
       "0    [background, methods, conclusions, conclusions...  \n",
       "1    [background, methods, results, conclusions, co...  \n",
       "2    [background, methods, results, conclusions, co...  \n",
       "3    [background, methods, results, conclusions, co...  \n",
       "4    [background, methods, methods, conclusions, co...  \n",
       "..                                                 ...  \n",
       "155  [background, conclusions, conclusions, methods...  \n",
       "156  [background, methods, results, conclusions, ba...  \n",
       "157        [background, results, conclusions, methods]  \n",
       "158        [methods, results, conclusions, background]  \n",
       "159  [background, methods, results, conclusions, ba...  \n",
       "\n",
       "[160 rows x 4 columns]"
      ]
     },
     "execution_count": 21,
     "metadata": {},
     "output_type": "execute_result"
    }
   ],
   "source": [
    "test_df"
   ]
  },
  {
   "cell_type": "code",
   "execution_count": 22,
   "metadata": {},
   "outputs": [
    {
     "data": {
      "text/html": [
       "<div>\n",
       "<style scoped>\n",
       "    .dataframe tbody tr th:only-of-type {\n",
       "        vertical-align: middle;\n",
       "    }\n",
       "\n",
       "    .dataframe tbody tr th {\n",
       "        vertical-align: top;\n",
       "    }\n",
       "\n",
       "    .dataframe thead th {\n",
       "        text-align: right;\n",
       "    }\n",
       "</style>\n",
       "<table border=\"1\" class=\"dataframe\">\n",
       "  <thead>\n",
       "    <tr style=\"text-align: right;\">\n",
       "      <th></th>\n",
       "      <th>PMCID</th>\n",
       "      <th>PMID</th>\n",
       "      <th>sec-title</th>\n",
       "      <th>sec-norm</th>\n",
       "      <th>inputs_with_sep</th>\n",
       "      <th>labels_with_sep</th>\n",
       "    </tr>\n",
       "  </thead>\n",
       "  <tbody>\n",
       "    <tr>\n",
       "      <th>0</th>\n",
       "      <td>PMC11184573</td>\n",
       "      <td>38888203</td>\n",
       "      <td>[INTRODUCTION, MATERIALS AND METHODS, DISCUSSI...</td>\n",
       "      <td>[background, methods, conclusions, conclusions...</td>\n",
       "      <td>[INTRODUCTION, [SEP], MATERIALS AND METHODS, [...</td>\n",
       "      <td>[O, background, O, methods, O, conclusions, O,...</td>\n",
       "    </tr>\n",
       "    <tr>\n",
       "      <th>1</th>\n",
       "      <td>PMC11183239</td>\n",
       "      <td>38886373</td>\n",
       "      <td>[Introduction, Subjects and methods, Results, ...</td>\n",
       "      <td>[background, methods, results, conclusions, co...</td>\n",
       "      <td>[Introduction, [SEP], Subjects and methods, [S...</td>\n",
       "      <td>[O, background, O, methods, O, results, O, con...</td>\n",
       "    </tr>\n",
       "    <tr>\n",
       "      <th>2</th>\n",
       "      <td>PMC11187291</td>\n",
       "      <td>38903966</td>\n",
       "      <td>[Introduction, Methods, Results, Discussion, C...</td>\n",
       "      <td>[background, methods, results, conclusions, co...</td>\n",
       "      <td>[Introduction, [SEP], Methods, [SEP], Results,...</td>\n",
       "      <td>[O, background, O, methods, O, results, O, con...</td>\n",
       "    </tr>\n",
       "    <tr>\n",
       "      <th>3</th>\n",
       "      <td>PMC11177991</td>\n",
       "      <td>38883749</td>\n",
       "      <td>[INTRODUCTION, MATERIALS AND METHODS, RESULTS,...</td>\n",
       "      <td>[background, methods, results, conclusions, co...</td>\n",
       "      <td>[INTRODUCTION, [SEP], MATERIALS AND METHODS, [...</td>\n",
       "      <td>[O, background, O, methods, O, results, O, con...</td>\n",
       "    </tr>\n",
       "    <tr>\n",
       "      <th>4</th>\n",
       "      <td>PMC11187304</td>\n",
       "      <td>38903638</td>\n",
       "      <td>[Introduction, Methods, Case reports, Discussi...</td>\n",
       "      <td>[background, methods, methods, conclusions, co...</td>\n",
       "      <td>[Introduction, [SEP], Methods, [SEP], Case rep...</td>\n",
       "      <td>[O, background, O, methods, O, methods, O, con...</td>\n",
       "    </tr>\n",
       "    <tr>\n",
       "      <th>...</th>\n",
       "      <td>...</td>\n",
       "      <td>...</td>\n",
       "      <td>...</td>\n",
       "      <td>...</td>\n",
       "      <td>...</td>\n",
       "      <td>...</td>\n",
       "    </tr>\n",
       "    <tr>\n",
       "      <th>155</th>\n",
       "      <td>PMC11181322</td>\n",
       "      <td>38771959</td>\n",
       "      <td>[Introduction, Results and Discussion, Conclus...</td>\n",
       "      <td>[background, conclusions, conclusions, methods...</td>\n",
       "      <td>[Introduction, [SEP], Results and Discussion, ...</td>\n",
       "      <td>[O, background, O, conclusions, O, conclusions...</td>\n",
       "    </tr>\n",
       "    <tr>\n",
       "      <th>156</th>\n",
       "      <td>PMC11186409</td>\n",
       "      <td>38899065</td>\n",
       "      <td>[Introduction, Materials and methods, Results,...</td>\n",
       "      <td>[background, methods, results, conclusions, ba...</td>\n",
       "      <td>[Introduction, [SEP], Materials and methods, [...</td>\n",
       "      <td>[O, background, O, methods, O, results, O, con...</td>\n",
       "    </tr>\n",
       "    <tr>\n",
       "      <th>157</th>\n",
       "      <td>PMC11185683</td>\n",
       "      <td>38895272</td>\n",
       "      <td>[Introduction, Results, Discussion, Materials ...</td>\n",
       "      <td>[background, results, conclusions, methods]</td>\n",
       "      <td>[Introduction, [SEP], Results, [SEP], Discussi...</td>\n",
       "      <td>[O, background, O, results, O, conclusions, O,...</td>\n",
       "    </tr>\n",
       "    <tr>\n",
       "      <th>158</th>\n",
       "      <td>PMC11161898</td>\n",
       "      <td>38854388</td>\n",
       "      <td>[METHODS, RESULTS, DISCUSSION, Notes]</td>\n",
       "      <td>[methods, results, conclusions, background]</td>\n",
       "      <td>[METHODS, [SEP], RESULTS, [SEP], DISCUSSION, [...</td>\n",
       "      <td>[O, methods, O, results, O, conclusions, O, ba...</td>\n",
       "    </tr>\n",
       "    <tr>\n",
       "      <th>159</th>\n",
       "      <td>PMC11183282</td>\n",
       "      <td>38895157</td>\n",
       "      <td>[1 Introduction, 2 Methods, 3 Results, 4 Discu...</td>\n",
       "      <td>[background, methods, results, conclusions, ba...</td>\n",
       "      <td>[1 Introduction, [SEP], 2 Methods, [SEP], 3 Re...</td>\n",
       "      <td>[O, background, O, methods, O, results, O, con...</td>\n",
       "    </tr>\n",
       "  </tbody>\n",
       "</table>\n",
       "<p>160 rows × 6 columns</p>\n",
       "</div>"
      ],
      "text/plain": [
       "           PMCID      PMID                                          sec-title  \\\n",
       "0    PMC11184573  38888203  [INTRODUCTION, MATERIALS AND METHODS, DISCUSSI...   \n",
       "1    PMC11183239  38886373  [Introduction, Subjects and methods, Results, ...   \n",
       "2    PMC11187291  38903966  [Introduction, Methods, Results, Discussion, C...   \n",
       "3    PMC11177991  38883749  [INTRODUCTION, MATERIALS AND METHODS, RESULTS,...   \n",
       "4    PMC11187304  38903638  [Introduction, Methods, Case reports, Discussi...   \n",
       "..           ...       ...                                                ...   \n",
       "155  PMC11181322  38771959  [Introduction, Results and Discussion, Conclus...   \n",
       "156  PMC11186409  38899065  [Introduction, Materials and methods, Results,...   \n",
       "157  PMC11185683  38895272  [Introduction, Results, Discussion, Materials ...   \n",
       "158  PMC11161898  38854388              [METHODS, RESULTS, DISCUSSION, Notes]   \n",
       "159  PMC11183282  38895157  [1 Introduction, 2 Methods, 3 Results, 4 Discu...   \n",
       "\n",
       "                                              sec-norm  \\\n",
       "0    [background, methods, conclusions, conclusions...   \n",
       "1    [background, methods, results, conclusions, co...   \n",
       "2    [background, methods, results, conclusions, co...   \n",
       "3    [background, methods, results, conclusions, co...   \n",
       "4    [background, methods, methods, conclusions, co...   \n",
       "..                                                 ...   \n",
       "155  [background, conclusions, conclusions, methods...   \n",
       "156  [background, methods, results, conclusions, ba...   \n",
       "157        [background, results, conclusions, methods]   \n",
       "158        [methods, results, conclusions, background]   \n",
       "159  [background, methods, results, conclusions, ba...   \n",
       "\n",
       "                                       inputs_with_sep  \\\n",
       "0    [INTRODUCTION, [SEP], MATERIALS AND METHODS, [...   \n",
       "1    [Introduction, [SEP], Subjects and methods, [S...   \n",
       "2    [Introduction, [SEP], Methods, [SEP], Results,...   \n",
       "3    [INTRODUCTION, [SEP], MATERIALS AND METHODS, [...   \n",
       "4    [Introduction, [SEP], Methods, [SEP], Case rep...   \n",
       "..                                                 ...   \n",
       "155  [Introduction, [SEP], Results and Discussion, ...   \n",
       "156  [Introduction, [SEP], Materials and methods, [...   \n",
       "157  [Introduction, [SEP], Results, [SEP], Discussi...   \n",
       "158  [METHODS, [SEP], RESULTS, [SEP], DISCUSSION, [...   \n",
       "159  [1 Introduction, [SEP], 2 Methods, [SEP], 3 Re...   \n",
       "\n",
       "                                       labels_with_sep  \n",
       "0    [O, background, O, methods, O, conclusions, O,...  \n",
       "1    [O, background, O, methods, O, results, O, con...  \n",
       "2    [O, background, O, methods, O, results, O, con...  \n",
       "3    [O, background, O, methods, O, results, O, con...  \n",
       "4    [O, background, O, methods, O, methods, O, con...  \n",
       "..                                                 ...  \n",
       "155  [O, background, O, conclusions, O, conclusions...  \n",
       "156  [O, background, O, methods, O, results, O, con...  \n",
       "157  [O, background, O, results, O, conclusions, O,...  \n",
       "158  [O, methods, O, results, O, conclusions, O, ba...  \n",
       "159  [O, background, O, methods, O, results, O, con...  \n",
       "\n",
       "[160 rows x 6 columns]"
      ]
     },
     "execution_count": 22,
     "metadata": {},
     "output_type": "execute_result"
    }
   ],
   "source": [
    "import pandas as pd\n",
    "\n",
    "def convert_to_sep_format(row):\n",
    "    titles = row[\"sec-title\"]  # 取得標題列表\n",
    "    labels = row[\"sec-norm\"]   # 取得標籤列表\n",
    "\n",
    "    inputs_with_sep = []\n",
    "    labels_with_sep = []\n",
    "\n",
    "    for i, title in enumerate(titles):\n",
    "        inputs_with_sep.append(title)\n",
    "        labels_with_sep.append(\"O\")  # 一般 token 標記為 \"O\"\n",
    "        \n",
    "        # 在每個標題後面插入 [SEP]，對應標籤來自 sec-norm\n",
    "        if i < len(labels):  # 確保標籤數量正確\n",
    "            inputs_with_sep.append(\"[SEP]\")\n",
    "            if pd.isna(labels[i]):\n",
    "                labels_with_sep.append('-100') ## none labeled\n",
    "            else:\n",
    "                labels_with_sep.append(labels[i])  # 讓 [SEP] 位置承擔標籤\n",
    "\n",
    "    return pd.Series([inputs_with_sep, labels_with_sep])\n",
    "\n",
    "\n",
    "# 對 DataFrame 進行轉換\n",
    "# train_df[[\"inputs_with_sep\", \"labels_with_sep\"]] = train_df.apply(convert_to_sep_format, axis=1)\n",
    "test_df[[\"inputs_with_sep\", \"labels_with_sep\"]] = test_df.apply(convert_to_sep_format, axis=1)\n",
    "\n",
    "\n",
    "# train_df = train_df[\n",
    "#     train_df['labels_with_sep'].apply(len) - train_df['labels_with_sep'].apply(lambda x: x.count('O')) > 0\n",
    "# ]\n",
    "test_df = test_df[\n",
    "    test_df['labels_with_sep'].apply(len) - test_df['labels_with_sep'].apply(lambda x: x.count('O')) > 0\n",
    "]\n",
    "test_df"
   ]
  },
  {
   "cell_type": "code",
   "execution_count": 23,
   "metadata": {},
   "outputs": [],
   "source": [
    "# train_df = train_df.drop(columns=['sec-type', 'sec-title', 'sec-norm'])\n",
    "test_df = test_df.drop(columns=[ 'sec-title', 'sec-norm'])"
   ]
  },
  {
   "cell_type": "code",
   "execution_count": null,
   "metadata": {},
   "outputs": [],
   "source": [
    "# train_df"
   ]
  },
  {
   "cell_type": "code",
   "execution_count": 24,
   "metadata": {},
   "outputs": [
    {
     "data": {
      "text/html": [
       "<div>\n",
       "<style scoped>\n",
       "    .dataframe tbody tr th:only-of-type {\n",
       "        vertical-align: middle;\n",
       "    }\n",
       "\n",
       "    .dataframe tbody tr th {\n",
       "        vertical-align: top;\n",
       "    }\n",
       "\n",
       "    .dataframe thead th {\n",
       "        text-align: right;\n",
       "    }\n",
       "</style>\n",
       "<table border=\"1\" class=\"dataframe\">\n",
       "  <thead>\n",
       "    <tr style=\"text-align: right;\">\n",
       "      <th></th>\n",
       "      <th>PMCID</th>\n",
       "      <th>PMID</th>\n",
       "      <th>inputs_with_sep</th>\n",
       "      <th>labels_with_sep</th>\n",
       "    </tr>\n",
       "  </thead>\n",
       "  <tbody>\n",
       "    <tr>\n",
       "      <th>0</th>\n",
       "      <td>PMC11184573</td>\n",
       "      <td>38888203</td>\n",
       "      <td>[INTRODUCTION, [SEP], MATERIALS AND METHODS, [...</td>\n",
       "      <td>[O, background, O, methods, O, conclusions, O,...</td>\n",
       "    </tr>\n",
       "    <tr>\n",
       "      <th>1</th>\n",
       "      <td>PMC11183239</td>\n",
       "      <td>38886373</td>\n",
       "      <td>[Introduction, [SEP], Subjects and methods, [S...</td>\n",
       "      <td>[O, background, O, methods, O, results, O, con...</td>\n",
       "    </tr>\n",
       "    <tr>\n",
       "      <th>2</th>\n",
       "      <td>PMC11187291</td>\n",
       "      <td>38903966</td>\n",
       "      <td>[Introduction, [SEP], Methods, [SEP], Results,...</td>\n",
       "      <td>[O, background, O, methods, O, results, O, con...</td>\n",
       "    </tr>\n",
       "    <tr>\n",
       "      <th>3</th>\n",
       "      <td>PMC11177991</td>\n",
       "      <td>38883749</td>\n",
       "      <td>[INTRODUCTION, [SEP], MATERIALS AND METHODS, [...</td>\n",
       "      <td>[O, background, O, methods, O, results, O, con...</td>\n",
       "    </tr>\n",
       "    <tr>\n",
       "      <th>4</th>\n",
       "      <td>PMC11187304</td>\n",
       "      <td>38903638</td>\n",
       "      <td>[Introduction, [SEP], Methods, [SEP], Case rep...</td>\n",
       "      <td>[O, background, O, methods, O, methods, O, con...</td>\n",
       "    </tr>\n",
       "    <tr>\n",
       "      <th>...</th>\n",
       "      <td>...</td>\n",
       "      <td>...</td>\n",
       "      <td>...</td>\n",
       "      <td>...</td>\n",
       "    </tr>\n",
       "    <tr>\n",
       "      <th>155</th>\n",
       "      <td>PMC11181322</td>\n",
       "      <td>38771959</td>\n",
       "      <td>[Introduction, [SEP], Results and Discussion, ...</td>\n",
       "      <td>[O, background, O, conclusions, O, conclusions...</td>\n",
       "    </tr>\n",
       "    <tr>\n",
       "      <th>156</th>\n",
       "      <td>PMC11186409</td>\n",
       "      <td>38899065</td>\n",
       "      <td>[Introduction, [SEP], Materials and methods, [...</td>\n",
       "      <td>[O, background, O, methods, O, results, O, con...</td>\n",
       "    </tr>\n",
       "    <tr>\n",
       "      <th>157</th>\n",
       "      <td>PMC11185683</td>\n",
       "      <td>38895272</td>\n",
       "      <td>[Introduction, [SEP], Results, [SEP], Discussi...</td>\n",
       "      <td>[O, background, O, results, O, conclusions, O,...</td>\n",
       "    </tr>\n",
       "    <tr>\n",
       "      <th>158</th>\n",
       "      <td>PMC11161898</td>\n",
       "      <td>38854388</td>\n",
       "      <td>[METHODS, [SEP], RESULTS, [SEP], DISCUSSION, [...</td>\n",
       "      <td>[O, methods, O, results, O, conclusions, O, ba...</td>\n",
       "    </tr>\n",
       "    <tr>\n",
       "      <th>159</th>\n",
       "      <td>PMC11183282</td>\n",
       "      <td>38895157</td>\n",
       "      <td>[1 Introduction, [SEP], 2 Methods, [SEP], 3 Re...</td>\n",
       "      <td>[O, background, O, methods, O, results, O, con...</td>\n",
       "    </tr>\n",
       "  </tbody>\n",
       "</table>\n",
       "<p>160 rows × 4 columns</p>\n",
       "</div>"
      ],
      "text/plain": [
       "           PMCID      PMID                                    inputs_with_sep  \\\n",
       "0    PMC11184573  38888203  [INTRODUCTION, [SEP], MATERIALS AND METHODS, [...   \n",
       "1    PMC11183239  38886373  [Introduction, [SEP], Subjects and methods, [S...   \n",
       "2    PMC11187291  38903966  [Introduction, [SEP], Methods, [SEP], Results,...   \n",
       "3    PMC11177991  38883749  [INTRODUCTION, [SEP], MATERIALS AND METHODS, [...   \n",
       "4    PMC11187304  38903638  [Introduction, [SEP], Methods, [SEP], Case rep...   \n",
       "..           ...       ...                                                ...   \n",
       "155  PMC11181322  38771959  [Introduction, [SEP], Results and Discussion, ...   \n",
       "156  PMC11186409  38899065  [Introduction, [SEP], Materials and methods, [...   \n",
       "157  PMC11185683  38895272  [Introduction, [SEP], Results, [SEP], Discussi...   \n",
       "158  PMC11161898  38854388  [METHODS, [SEP], RESULTS, [SEP], DISCUSSION, [...   \n",
       "159  PMC11183282  38895157  [1 Introduction, [SEP], 2 Methods, [SEP], 3 Re...   \n",
       "\n",
       "                                       labels_with_sep  \n",
       "0    [O, background, O, methods, O, conclusions, O,...  \n",
       "1    [O, background, O, methods, O, results, O, con...  \n",
       "2    [O, background, O, methods, O, results, O, con...  \n",
       "3    [O, background, O, methods, O, results, O, con...  \n",
       "4    [O, background, O, methods, O, methods, O, con...  \n",
       "..                                                 ...  \n",
       "155  [O, background, O, conclusions, O, conclusions...  \n",
       "156  [O, background, O, methods, O, results, O, con...  \n",
       "157  [O, background, O, results, O, conclusions, O,...  \n",
       "158  [O, methods, O, results, O, conclusions, O, ba...  \n",
       "159  [O, background, O, methods, O, results, O, con...  \n",
       "\n",
       "[160 rows x 4 columns]"
      ]
     },
     "execution_count": 24,
     "metadata": {},
     "output_type": "execute_result"
    }
   ],
   "source": [
    "test_df"
   ]
  },
  {
   "cell_type": "code",
   "execution_count": 25,
   "metadata": {},
   "outputs": [],
   "source": [
    "# train_df.to_csv('Processed_Headings/train_df.csv')\n",
    "test_df.to_csv('Processed_Headings/test_df.csv')"
   ]
  },
  {
   "cell_type": "markdown",
   "metadata": {
    "jp-MarkdownHeadingCollapsed": true
   },
   "source": [
    "### val split"
   ]
  },
  {
   "cell_type": "code",
   "execution_count": 1,
   "metadata": {},
   "outputs": [],
   "source": [
    "import pandas as pd\n",
    "train_df = pd.read_csv('data/train_annotated.csv')\n"
   ]
  },
  {
   "cell_type": "code",
   "execution_count": 2,
   "metadata": {},
   "outputs": [],
   "source": [
    "import ast\n",
    "import numpy as np\n",
    "\n",
    "def eval_with_nan(x):\n",
    "    if isinstance(x, list):\n",
    "        return [np.nan if (isinstance(i, float) and np.isnan(i)) else i for i in x]\n",
    "    try:\n",
    "        # 這邊直接 eval 而且給定 locals\n",
    "        val = eval(x, {\"nan\": np.nan, \"NaN\": np.nan, \"np\": np})\n",
    "        if isinstance(val, list):\n",
    "            return [np.nan if (isinstance(i, float) and np.isnan(i)) else i for i in val]\n",
    "        else:\n",
    "            return val\n",
    "    except Exception:\n",
    "        return x  # 如果 eval 還失敗就原樣保留\n"
   ]
  },
  {
   "cell_type": "code",
   "execution_count": 3,
   "metadata": {},
   "outputs": [],
   "source": [
    "train_df['sec-title'] = train_df['sec-title'].apply(ast.literal_eval)\n",
    "train_df['sec-norm'] = train_df['sec-norm'].apply(eval_with_nan)"
   ]
  },
  {
   "cell_type": "code",
   "execution_count": 4,
   "metadata": {},
   "outputs": [
    {
     "data": {
      "text/html": [
       "<div>\n",
       "<style scoped>\n",
       "    .dataframe tbody tr th:only-of-type {\n",
       "        vertical-align: middle;\n",
       "    }\n",
       "\n",
       "    .dataframe tbody tr th {\n",
       "        vertical-align: top;\n",
       "    }\n",
       "\n",
       "    .dataframe thead th {\n",
       "        text-align: right;\n",
       "    }\n",
       "</style>\n",
       "<table border=\"1\" class=\"dataframe\">\n",
       "  <thead>\n",
       "    <tr style=\"text-align: right;\">\n",
       "      <th></th>\n",
       "      <th>PMCID</th>\n",
       "      <th>PMID</th>\n",
       "      <th>sec-title</th>\n",
       "      <th>sec-norm</th>\n",
       "    </tr>\n",
       "  </thead>\n",
       "  <tbody>\n",
       "    <tr>\n",
       "      <th>0</th>\n",
       "      <td>PMC11191691</td>\n",
       "      <td>38842535</td>\n",
       "      <td>[Introduction, Results and Discussion, Conclus...</td>\n",
       "      <td>[background, conclusions, conclusions, backgro...</td>\n",
       "    </tr>\n",
       "    <tr>\n",
       "      <th>1</th>\n",
       "      <td>PMC11182025</td>\n",
       "      <td>38887617</td>\n",
       "      <td>[Introduction, Materials &amp; Methods, Results, D...</td>\n",
       "      <td>[background, methods, results, conclusions, co...</td>\n",
       "    </tr>\n",
       "    <tr>\n",
       "      <th>2</th>\n",
       "      <td>PMC10511328</td>\n",
       "      <td>37704722</td>\n",
       "      <td>[Main, Pooled longitudinal analyses, Populatio...</td>\n",
       "      <td>[background, results, results, results, result...</td>\n",
       "    </tr>\n",
       "    <tr>\n",
       "      <th>3</th>\n",
       "      <td>PMC10632145</td>\n",
       "      <td>37914938</td>\n",
       "      <td>[Main, Population imaging and single-cell acti...</td>\n",
       "      <td>[background, results, results, results, result...</td>\n",
       "    </tr>\n",
       "    <tr>\n",
       "      <th>4</th>\n",
       "      <td>PMC1084334</td>\n",
       "      <td>15884974</td>\n",
       "      <td>[Introduction, Results, Discussion, Materials ...</td>\n",
       "      <td>[background, results, conclusions, methods, ba...</td>\n",
       "    </tr>\n",
       "    <tr>\n",
       "      <th>...</th>\n",
       "      <td>...</td>\n",
       "      <td>...</td>\n",
       "      <td>...</td>\n",
       "      <td>...</td>\n",
       "    </tr>\n",
       "    <tr>\n",
       "      <th>635</th>\n",
       "      <td>PMC11187391</td>\n",
       "      <td>38123960</td>\n",
       "      <td>[Ethics statements]</td>\n",
       "      <td>[nan]</td>\n",
       "    </tr>\n",
       "    <tr>\n",
       "      <th>636</th>\n",
       "      <td>PMC11187998</td>\n",
       "      <td>38903349</td>\n",
       "      <td>[Introduction, Case presentation, Discussion, ...</td>\n",
       "      <td>[background, methods, conclusions, conclusions]</td>\n",
       "    </tr>\n",
       "    <tr>\n",
       "      <th>637</th>\n",
       "      <td>PMC11191920</td>\n",
       "      <td>38905421</td>\n",
       "      <td>[1. Introduction, 2. Patients and methods, 3. ...</td>\n",
       "      <td>[background, methods, results, conclusions, ba...</td>\n",
       "    </tr>\n",
       "    <tr>\n",
       "      <th>638</th>\n",
       "      <td>PMC10978839</td>\n",
       "      <td>38548747</td>\n",
       "      <td>[Introduction, Results, Discussion, Materials ...</td>\n",
       "      <td>[background, results, conclusions, methods, ba...</td>\n",
       "    </tr>\n",
       "    <tr>\n",
       "      <th>639</th>\n",
       "      <td>PMC11187969</td>\n",
       "      <td>38561968</td>\n",
       "      <td>[Introduction, Construction of Chiral Nanomate...</td>\n",
       "      <td>[background, background, background, backgroun...</td>\n",
       "    </tr>\n",
       "  </tbody>\n",
       "</table>\n",
       "<p>640 rows × 4 columns</p>\n",
       "</div>"
      ],
      "text/plain": [
       "           PMCID      PMID                                          sec-title  \\\n",
       "0    PMC11191691  38842535  [Introduction, Results and Discussion, Conclus...   \n",
       "1    PMC11182025  38887617  [Introduction, Materials & Methods, Results, D...   \n",
       "2    PMC10511328  37704722  [Main, Pooled longitudinal analyses, Populatio...   \n",
       "3    PMC10632145  37914938  [Main, Population imaging and single-cell acti...   \n",
       "4     PMC1084334  15884974  [Introduction, Results, Discussion, Materials ...   \n",
       "..           ...       ...                                                ...   \n",
       "635  PMC11187391  38123960                                [Ethics statements]   \n",
       "636  PMC11187998  38903349  [Introduction, Case presentation, Discussion, ...   \n",
       "637  PMC11191920  38905421  [1. Introduction, 2. Patients and methods, 3. ...   \n",
       "638  PMC10978839  38548747  [Introduction, Results, Discussion, Materials ...   \n",
       "639  PMC11187969  38561968  [Introduction, Construction of Chiral Nanomate...   \n",
       "\n",
       "                                              sec-norm  \n",
       "0    [background, conclusions, conclusions, backgro...  \n",
       "1    [background, methods, results, conclusions, co...  \n",
       "2    [background, results, results, results, result...  \n",
       "3    [background, results, results, results, result...  \n",
       "4    [background, results, conclusions, methods, ba...  \n",
       "..                                                 ...  \n",
       "635                                              [nan]  \n",
       "636    [background, methods, conclusions, conclusions]  \n",
       "637  [background, methods, results, conclusions, ba...  \n",
       "638  [background, results, conclusions, methods, ba...  \n",
       "639  [background, background, background, backgroun...  \n",
       "\n",
       "[640 rows x 4 columns]"
      ]
     },
     "execution_count": 4,
     "metadata": {},
     "output_type": "execute_result"
    }
   ],
   "source": [
    "train_df"
   ]
  },
  {
   "cell_type": "code",
   "execution_count": 5,
   "metadata": {},
   "outputs": [],
   "source": [
    "import pandas as pd\n",
    "\n",
    "def convert_to_sep_format(row):\n",
    "    titles = row[\"sec-title\"]  # 取得標題列表\n",
    "    labels = row[\"sec-norm\"]   # 取得標籤列表\n",
    "\n",
    "    inputs_with_sep = []\n",
    "    labels_with_sep = []\n",
    "\n",
    "    for i, title in enumerate(titles):\n",
    "        inputs_with_sep.append(title)\n",
    "        labels_with_sep.append(\"O\")  # 一般 token 標記為 \"O\"\n",
    "        \n",
    "        # 在每個標題後面插入 [SEP]，對應標籤來自 sec-norm\n",
    "        if i < len(labels):  # 確保標籤數量正確\n",
    "            inputs_with_sep.append(\"[SEP]\")\n",
    "            if pd.isna(labels[i]):\n",
    "                labels_with_sep.append('-100') ## none labeled\n",
    "            else:\n",
    "                labels_with_sep.append(labels[i])  # 讓 [SEP] 位置承擔標籤\n",
    "\n",
    "    return pd.Series([inputs_with_sep, labels_with_sep])\n",
    "\n",
    "\n",
    "# 對 DataFrame 進行轉換\n",
    "train_df[[\"inputs_with_sep\", \"labels_with_sep\"]] = train_df.apply(convert_to_sep_format, axis=1)\n",
    "train_df = train_df[\n",
    "    train_df['labels_with_sep'].apply(len) - train_df['labels_with_sep'].apply(lambda x: x.count('O')) > 0\n",
    "]\n"
   ]
  },
  {
   "cell_type": "code",
   "execution_count": 6,
   "metadata": {},
   "outputs": [
    {
     "data": {
      "text/html": [
       "<div>\n",
       "<style scoped>\n",
       "    .dataframe tbody tr th:only-of-type {\n",
       "        vertical-align: middle;\n",
       "    }\n",
       "\n",
       "    .dataframe tbody tr th {\n",
       "        vertical-align: top;\n",
       "    }\n",
       "\n",
       "    .dataframe thead th {\n",
       "        text-align: right;\n",
       "    }\n",
       "</style>\n",
       "<table border=\"1\" class=\"dataframe\">\n",
       "  <thead>\n",
       "    <tr style=\"text-align: right;\">\n",
       "      <th></th>\n",
       "      <th>PMCID</th>\n",
       "      <th>PMID</th>\n",
       "      <th>inputs_with_sep</th>\n",
       "      <th>labels_with_sep</th>\n",
       "    </tr>\n",
       "  </thead>\n",
       "  <tbody>\n",
       "    <tr>\n",
       "      <th>0</th>\n",
       "      <td>PMC11191691</td>\n",
       "      <td>38842535</td>\n",
       "      <td>[Introduction, [SEP], Results and Discussion, ...</td>\n",
       "      <td>[O, background, O, conclusions, O, conclusions...</td>\n",
       "    </tr>\n",
       "    <tr>\n",
       "      <th>1</th>\n",
       "      <td>PMC11182025</td>\n",
       "      <td>38887617</td>\n",
       "      <td>[Introduction, [SEP], Materials &amp; Methods, [SE...</td>\n",
       "      <td>[O, background, O, methods, O, results, O, con...</td>\n",
       "    </tr>\n",
       "    <tr>\n",
       "      <th>2</th>\n",
       "      <td>PMC10511328</td>\n",
       "      <td>37704722</td>\n",
       "      <td>[Main, [SEP], Pooled longitudinal analyses, [S...</td>\n",
       "      <td>[O, background, O, results, O, results, O, res...</td>\n",
       "    </tr>\n",
       "    <tr>\n",
       "      <th>3</th>\n",
       "      <td>PMC10632145</td>\n",
       "      <td>37914938</td>\n",
       "      <td>[Main, [SEP], Population imaging and single-ce...</td>\n",
       "      <td>[O, background, O, results, O, results, O, res...</td>\n",
       "    </tr>\n",
       "    <tr>\n",
       "      <th>4</th>\n",
       "      <td>PMC1084334</td>\n",
       "      <td>15884974</td>\n",
       "      <td>[Introduction, [SEP], Results, [SEP], Discussi...</td>\n",
       "      <td>[O, background, O, results, O, conclusions, O,...</td>\n",
       "    </tr>\n",
       "    <tr>\n",
       "      <th>...</th>\n",
       "      <td>...</td>\n",
       "      <td>...</td>\n",
       "      <td>...</td>\n",
       "      <td>...</td>\n",
       "    </tr>\n",
       "    <tr>\n",
       "      <th>635</th>\n",
       "      <td>PMC11187391</td>\n",
       "      <td>38123960</td>\n",
       "      <td>[Ethics statements, [SEP]]</td>\n",
       "      <td>[O, -100]</td>\n",
       "    </tr>\n",
       "    <tr>\n",
       "      <th>636</th>\n",
       "      <td>PMC11187998</td>\n",
       "      <td>38903349</td>\n",
       "      <td>[Introduction, [SEP], Case presentation, [SEP]...</td>\n",
       "      <td>[O, background, O, methods, O, conclusions, O,...</td>\n",
       "    </tr>\n",
       "    <tr>\n",
       "      <th>637</th>\n",
       "      <td>PMC11191920</td>\n",
       "      <td>38905421</td>\n",
       "      <td>[1. Introduction, [SEP], 2. Patients and metho...</td>\n",
       "      <td>[O, background, O, methods, O, results, O, con...</td>\n",
       "    </tr>\n",
       "    <tr>\n",
       "      <th>638</th>\n",
       "      <td>PMC10978839</td>\n",
       "      <td>38548747</td>\n",
       "      <td>[Introduction, [SEP], Results, [SEP], Discussi...</td>\n",
       "      <td>[O, background, O, results, O, conclusions, O,...</td>\n",
       "    </tr>\n",
       "    <tr>\n",
       "      <th>639</th>\n",
       "      <td>PMC11187969</td>\n",
       "      <td>38561968</td>\n",
       "      <td>[Introduction, [SEP], Construction of Chiral N...</td>\n",
       "      <td>[O, background, O, background, O, background, ...</td>\n",
       "    </tr>\n",
       "  </tbody>\n",
       "</table>\n",
       "<p>640 rows × 4 columns</p>\n",
       "</div>"
      ],
      "text/plain": [
       "           PMCID      PMID                                    inputs_with_sep  \\\n",
       "0    PMC11191691  38842535  [Introduction, [SEP], Results and Discussion, ...   \n",
       "1    PMC11182025  38887617  [Introduction, [SEP], Materials & Methods, [SE...   \n",
       "2    PMC10511328  37704722  [Main, [SEP], Pooled longitudinal analyses, [S...   \n",
       "3    PMC10632145  37914938  [Main, [SEP], Population imaging and single-ce...   \n",
       "4     PMC1084334  15884974  [Introduction, [SEP], Results, [SEP], Discussi...   \n",
       "..           ...       ...                                                ...   \n",
       "635  PMC11187391  38123960                         [Ethics statements, [SEP]]   \n",
       "636  PMC11187998  38903349  [Introduction, [SEP], Case presentation, [SEP]...   \n",
       "637  PMC11191920  38905421  [1. Introduction, [SEP], 2. Patients and metho...   \n",
       "638  PMC10978839  38548747  [Introduction, [SEP], Results, [SEP], Discussi...   \n",
       "639  PMC11187969  38561968  [Introduction, [SEP], Construction of Chiral N...   \n",
       "\n",
       "                                       labels_with_sep  \n",
       "0    [O, background, O, conclusions, O, conclusions...  \n",
       "1    [O, background, O, methods, O, results, O, con...  \n",
       "2    [O, background, O, results, O, results, O, res...  \n",
       "3    [O, background, O, results, O, results, O, res...  \n",
       "4    [O, background, O, results, O, conclusions, O,...  \n",
       "..                                                 ...  \n",
       "635                                          [O, -100]  \n",
       "636  [O, background, O, methods, O, conclusions, O,...  \n",
       "637  [O, background, O, methods, O, results, O, con...  \n",
       "638  [O, background, O, results, O, conclusions, O,...  \n",
       "639  [O, background, O, background, O, background, ...  \n",
       "\n",
       "[640 rows x 4 columns]"
      ]
     },
     "execution_count": 6,
     "metadata": {},
     "output_type": "execute_result"
    }
   ],
   "source": [
    "train_df = train_df.drop(columns=['sec-title', 'sec-norm'])\n",
    "train_df"
   ]
  },
  {
   "cell_type": "code",
   "execution_count": 7,
   "metadata": {},
   "outputs": [
    {
     "data": {
      "text/html": [
       "<div>\n",
       "<style scoped>\n",
       "    .dataframe tbody tr th:only-of-type {\n",
       "        vertical-align: middle;\n",
       "    }\n",
       "\n",
       "    .dataframe tbody tr th {\n",
       "        vertical-align: top;\n",
       "    }\n",
       "\n",
       "    .dataframe thead th {\n",
       "        text-align: right;\n",
       "    }\n",
       "</style>\n",
       "<table border=\"1\" class=\"dataframe\">\n",
       "  <thead>\n",
       "    <tr style=\"text-align: right;\">\n",
       "      <th></th>\n",
       "      <th>PMCID</th>\n",
       "      <th>PMID</th>\n",
       "      <th>inputs_with_sep</th>\n",
       "      <th>labels_with_sep</th>\n",
       "    </tr>\n",
       "  </thead>\n",
       "  <tbody>\n",
       "    <tr>\n",
       "      <th>304</th>\n",
       "      <td>PMC11189173</td>\n",
       "      <td>38900748</td>\n",
       "      <td>[Introduction, [SEP], Methods, [SEP], Result, ...</td>\n",
       "      <td>[O, background, O, methods, O, results, O, con...</td>\n",
       "    </tr>\n",
       "    <tr>\n",
       "      <th>414</th>\n",
       "      <td>PMC11180756</td>\n",
       "      <td>38887229</td>\n",
       "      <td>[Introduction, [SEP], Materials and methods, [...</td>\n",
       "      <td>[O, background, O, methods, O, results, O, con...</td>\n",
       "    </tr>\n",
       "    <tr>\n",
       "      <th>577</th>\n",
       "      <td>PMC11073751</td>\n",
       "      <td>38716403</td>\n",
       "      <td>[Background, [SEP], Methods, [SEP], Results, [...</td>\n",
       "      <td>[O, background, O, methods, O, results, O, con...</td>\n",
       "    </tr>\n",
       "    <tr>\n",
       "      <th>259</th>\n",
       "      <td>PMC10962890</td>\n",
       "      <td>38131617</td>\n",
       "      <td>[INTRODUCTION, [SEP], METHODS, [SEP], RESULTS,...</td>\n",
       "      <td>[O, background, O, methods, O, results, O, con...</td>\n",
       "    </tr>\n",
       "    <tr>\n",
       "      <th>594</th>\n",
       "      <td>PMC11152445</td>\n",
       "      <td>38896724</td>\n",
       "      <td>[INTRODUCTION, [SEP], OUTCOMES AFTER INTENSIVE...</td>\n",
       "      <td>[O, background, O, -100, O, -100, O, -100, O, ...</td>\n",
       "    </tr>\n",
       "    <tr>\n",
       "      <th>...</th>\n",
       "      <td>...</td>\n",
       "      <td>...</td>\n",
       "      <td>...</td>\n",
       "      <td>...</td>\n",
       "    </tr>\n",
       "    <tr>\n",
       "      <th>71</th>\n",
       "      <td>PMC11192717</td>\n",
       "      <td>38906906</td>\n",
       "      <td>[Introduction, [SEP], Results, [SEP], Discussi...</td>\n",
       "      <td>[O, background, O, results, O, conclusions, O,...</td>\n",
       "    </tr>\n",
       "    <tr>\n",
       "      <th>106</th>\n",
       "      <td>PMC11192365</td>\n",
       "      <td>38857285</td>\n",
       "      <td>[Introduction, [SEP], Results, [SEP], Discussi...</td>\n",
       "      <td>[O, background, O, results, O, conclusions, O,...</td>\n",
       "    </tr>\n",
       "    <tr>\n",
       "      <th>270</th>\n",
       "      <td>PMC11186357</td>\n",
       "      <td>38904030</td>\n",
       "      <td>[Introduction, [SEP], Materials and Methods, [...</td>\n",
       "      <td>[O, background, O, methods, O, results, O, con...</td>\n",
       "    </tr>\n",
       "    <tr>\n",
       "      <th>435</th>\n",
       "      <td>PMC11189877</td>\n",
       "      <td>38900377</td>\n",
       "      <td>[Background, [SEP], Case presentation, [SEP], ...</td>\n",
       "      <td>[O, background, O, methods, O, conclusions, O,...</td>\n",
       "    </tr>\n",
       "    <tr>\n",
       "      <th>102</th>\n",
       "      <td>PMC11185453</td>\n",
       "      <td>38889113</td>\n",
       "      <td>[Introduction, [SEP], Materials and methods, [...</td>\n",
       "      <td>[O, background, O, methods, O, conclusions, O,...</td>\n",
       "    </tr>\n",
       "  </tbody>\n",
       "</table>\n",
       "<p>560 rows × 4 columns</p>\n",
       "</div>"
      ],
      "text/plain": [
       "           PMCID      PMID                                    inputs_with_sep  \\\n",
       "304  PMC11189173  38900748  [Introduction, [SEP], Methods, [SEP], Result, ...   \n",
       "414  PMC11180756  38887229  [Introduction, [SEP], Materials and methods, [...   \n",
       "577  PMC11073751  38716403  [Background, [SEP], Methods, [SEP], Results, [...   \n",
       "259  PMC10962890  38131617  [INTRODUCTION, [SEP], METHODS, [SEP], RESULTS,...   \n",
       "594  PMC11152445  38896724  [INTRODUCTION, [SEP], OUTCOMES AFTER INTENSIVE...   \n",
       "..           ...       ...                                                ...   \n",
       "71   PMC11192717  38906906  [Introduction, [SEP], Results, [SEP], Discussi...   \n",
       "106  PMC11192365  38857285  [Introduction, [SEP], Results, [SEP], Discussi...   \n",
       "270  PMC11186357  38904030  [Introduction, [SEP], Materials and Methods, [...   \n",
       "435  PMC11189877  38900377  [Background, [SEP], Case presentation, [SEP], ...   \n",
       "102  PMC11185453  38889113  [Introduction, [SEP], Materials and methods, [...   \n",
       "\n",
       "                                       labels_with_sep  \n",
       "304  [O, background, O, methods, O, results, O, con...  \n",
       "414  [O, background, O, methods, O, results, O, con...  \n",
       "577  [O, background, O, methods, O, results, O, con...  \n",
       "259  [O, background, O, methods, O, results, O, con...  \n",
       "594  [O, background, O, -100, O, -100, O, -100, O, ...  \n",
       "..                                                 ...  \n",
       "71   [O, background, O, results, O, conclusions, O,...  \n",
       "106  [O, background, O, results, O, conclusions, O,...  \n",
       "270  [O, background, O, methods, O, results, O, con...  \n",
       "435  [O, background, O, methods, O, conclusions, O,...  \n",
       "102  [O, background, O, methods, O, conclusions, O,...  \n",
       "\n",
       "[560 rows x 4 columns]"
      ]
     },
     "execution_count": 7,
     "metadata": {},
     "output_type": "execute_result"
    }
   ],
   "source": [
    "from sklearn.model_selection import train_test_split\n",
    "\n",
    "# 將 train_df 拆成 87.5% 訓練資料 和 12.5% 驗證資料\n",
    "train_df, val_df = train_test_split(train_df, test_size=1/8, random_state=42, shuffle=True)\n",
    "\n",
    "train_df"
   ]
  },
  {
   "cell_type": "code",
   "execution_count": 8,
   "metadata": {},
   "outputs": [
    {
     "data": {
      "text/html": [
       "<div>\n",
       "<style scoped>\n",
       "    .dataframe tbody tr th:only-of-type {\n",
       "        vertical-align: middle;\n",
       "    }\n",
       "\n",
       "    .dataframe tbody tr th {\n",
       "        vertical-align: top;\n",
       "    }\n",
       "\n",
       "    .dataframe thead th {\n",
       "        text-align: right;\n",
       "    }\n",
       "</style>\n",
       "<table border=\"1\" class=\"dataframe\">\n",
       "  <thead>\n",
       "    <tr style=\"text-align: right;\">\n",
       "      <th></th>\n",
       "      <th>PMCID</th>\n",
       "      <th>PMID</th>\n",
       "      <th>inputs_with_sep</th>\n",
       "      <th>labels_with_sep</th>\n",
       "    </tr>\n",
       "  </thead>\n",
       "  <tbody>\n",
       "    <tr>\n",
       "      <th>570</th>\n",
       "      <td>PMC11186153</td>\n",
       "      <td>38898433</td>\n",
       "      <td>[Introduction, [SEP], Materials and methods, [...</td>\n",
       "      <td>[O, background, O, methods, O, results, O, con...</td>\n",
       "    </tr>\n",
       "    <tr>\n",
       "      <th>265</th>\n",
       "      <td>PMC11184630</td>\n",
       "      <td>38894760</td>\n",
       "      <td>[Introduction, [SEP], Case presentation, [SEP]...</td>\n",
       "      <td>[O, background, O, methods, O, conclusions, O,...</td>\n",
       "    </tr>\n",
       "    <tr>\n",
       "      <th>291</th>\n",
       "      <td>PMC1065320</td>\n",
       "      <td>15743470</td>\n",
       "      <td>[Introduction, [SEP], Materials and methods, [...</td>\n",
       "      <td>[O, background, O, methods, O, results, O, con...</td>\n",
       "    </tr>\n",
       "    <tr>\n",
       "      <th>597</th>\n",
       "      <td>PMC11180906</td>\n",
       "      <td>38887537</td>\n",
       "      <td>[Introduction, [SEP], Materials and methods, [...</td>\n",
       "      <td>[O, background, O, methods, O, results, O, con...</td>\n",
       "    </tr>\n",
       "    <tr>\n",
       "      <th>174</th>\n",
       "      <td>PMC11184868</td>\n",
       "      <td>38886767</td>\n",
       "      <td>[Background, [SEP], Stem-cell derived ECs, [SE...</td>\n",
       "      <td>[O, background, O, -100, O, -100, O, -100, O, ...</td>\n",
       "    </tr>\n",
       "    <tr>\n",
       "      <th>...</th>\n",
       "      <td>...</td>\n",
       "      <td>...</td>\n",
       "      <td>...</td>\n",
       "      <td>...</td>\n",
       "    </tr>\n",
       "    <tr>\n",
       "      <th>527</th>\n",
       "      <td>PMC11190884</td>\n",
       "      <td>38842026</td>\n",
       "      <td>[Introduction, [SEP], Nucleic Acid, [SEP], Bio...</td>\n",
       "      <td>[O, background, O, results, O, results, O, res...</td>\n",
       "    </tr>\n",
       "    <tr>\n",
       "      <th>86</th>\n",
       "      <td>PMC11188041</td>\n",
       "      <td>36347335</td>\n",
       "      <td>[Introduction, [SEP], Materials and methods, [...</td>\n",
       "      <td>[O, background, O, methods, O, results, O, con...</td>\n",
       "    </tr>\n",
       "    <tr>\n",
       "      <th>369</th>\n",
       "      <td>PMC11186168</td>\n",
       "      <td>38890641</td>\n",
       "      <td>[Introduction, [SEP], Methods, [SEP], Results,...</td>\n",
       "      <td>[O, background, O, methods, O, results, O, con...</td>\n",
       "    </tr>\n",
       "    <tr>\n",
       "      <th>636</th>\n",
       "      <td>PMC11187998</td>\n",
       "      <td>38903349</td>\n",
       "      <td>[Introduction, [SEP], Case presentation, [SEP]...</td>\n",
       "      <td>[O, background, O, methods, O, conclusions, O,...</td>\n",
       "    </tr>\n",
       "    <tr>\n",
       "      <th>260</th>\n",
       "      <td>PMC11156234</td>\n",
       "      <td>38846778</td>\n",
       "      <td>[Introduction, [SEP], Results, [SEP], Material...</td>\n",
       "      <td>[O, background, O, results, O, methods, O, bac...</td>\n",
       "    </tr>\n",
       "  </tbody>\n",
       "</table>\n",
       "<p>80 rows × 4 columns</p>\n",
       "</div>"
      ],
      "text/plain": [
       "           PMCID      PMID                                    inputs_with_sep  \\\n",
       "570  PMC11186153  38898433  [Introduction, [SEP], Materials and methods, [...   \n",
       "265  PMC11184630  38894760  [Introduction, [SEP], Case presentation, [SEP]...   \n",
       "291   PMC1065320  15743470  [Introduction, [SEP], Materials and methods, [...   \n",
       "597  PMC11180906  38887537  [Introduction, [SEP], Materials and methods, [...   \n",
       "174  PMC11184868  38886767  [Background, [SEP], Stem-cell derived ECs, [SE...   \n",
       "..           ...       ...                                                ...   \n",
       "527  PMC11190884  38842026  [Introduction, [SEP], Nucleic Acid, [SEP], Bio...   \n",
       "86   PMC11188041  36347335  [Introduction, [SEP], Materials and methods, [...   \n",
       "369  PMC11186168  38890641  [Introduction, [SEP], Methods, [SEP], Results,...   \n",
       "636  PMC11187998  38903349  [Introduction, [SEP], Case presentation, [SEP]...   \n",
       "260  PMC11156234  38846778  [Introduction, [SEP], Results, [SEP], Material...   \n",
       "\n",
       "                                       labels_with_sep  \n",
       "570  [O, background, O, methods, O, results, O, con...  \n",
       "265  [O, background, O, methods, O, conclusions, O,...  \n",
       "291  [O, background, O, methods, O, results, O, con...  \n",
       "597  [O, background, O, methods, O, results, O, con...  \n",
       "174  [O, background, O, -100, O, -100, O, -100, O, ...  \n",
       "..                                                 ...  \n",
       "527  [O, background, O, results, O, results, O, res...  \n",
       "86   [O, background, O, methods, O, results, O, con...  \n",
       "369  [O, background, O, methods, O, results, O, con...  \n",
       "636  [O, background, O, methods, O, conclusions, O,...  \n",
       "260  [O, background, O, results, O, methods, O, bac...  \n",
       "\n",
       "[80 rows x 4 columns]"
      ]
     },
     "execution_count": 8,
     "metadata": {},
     "output_type": "execute_result"
    }
   ],
   "source": [
    "val_df"
   ]
  },
  {
   "cell_type": "code",
   "execution_count": 9,
   "metadata": {},
   "outputs": [],
   "source": [
    "val_df.to_csv('Processed_Headings/val_df.csv')"
   ]
  },
  {
   "cell_type": "markdown",
   "metadata": {},
   "source": [
    "### from here"
   ]
  },
  {
   "cell_type": "code",
   "execution_count": 1,
   "metadata": {},
   "outputs": [],
   "source": [
    "import pandas as pd\n",
    "train_df = pd.read_csv('Processed_Headings/train_df.csv')\n",
    "val_df = pd.read_csv('Processed_Headings/val_df.csv')\n",
    "test_df = pd.read_csv('Processed_Headings/test_df.csv')"
   ]
  },
  {
   "cell_type": "code",
   "execution_count": 2,
   "metadata": {},
   "outputs": [],
   "source": [
    "import ast\n",
    "\n",
    "train_df['inputs_with_sep'] = train_df['inputs_with_sep'].apply(ast.literal_eval)\n",
    "train_df['labels_with_sep'] = train_df['labels_with_sep'].apply(ast.literal_eval)\n",
    "\n",
    "val_df['inputs_with_sep'] = val_df['inputs_with_sep'].apply(ast.literal_eval)\n",
    "val_df['labels_with_sep'] = val_df['labels_with_sep'].apply(ast.literal_eval)\n",
    "\n",
    "test_df['inputs_with_sep'] = test_df['inputs_with_sep'].apply(ast.literal_eval)\n",
    "test_df['labels_with_sep'] = test_df['labels_with_sep'].apply(ast.literal_eval)"
   ]
  },
  {
   "cell_type": "code",
   "execution_count": 3,
   "metadata": {},
   "outputs": [
    {
     "data": {
      "text/html": [
       "<div>\n",
       "<style scoped>\n",
       "    .dataframe tbody tr th:only-of-type {\n",
       "        vertical-align: middle;\n",
       "    }\n",
       "\n",
       "    .dataframe tbody tr th {\n",
       "        vertical-align: top;\n",
       "    }\n",
       "\n",
       "    .dataframe thead th {\n",
       "        text-align: right;\n",
       "    }\n",
       "</style>\n",
       "<table border=\"1\" class=\"dataframe\">\n",
       "  <thead>\n",
       "    <tr style=\"text-align: right;\">\n",
       "      <th></th>\n",
       "      <th>PMCID</th>\n",
       "      <th>PMID</th>\n",
       "      <th>inputs_with_sep</th>\n",
       "      <th>labels_with_sep</th>\n",
       "    </tr>\n",
       "  </thead>\n",
       "  <tbody>\n",
       "    <tr>\n",
       "      <th>0</th>\n",
       "      <td>PMC6254157</td>\n",
       "      <td>19384281</td>\n",
       "      <td>[1. Introduction, [SEP], 2. Results and Discus...</td>\n",
       "      <td>[O, -100, O, -100, O, -100, O, -100]</td>\n",
       "    </tr>\n",
       "    <tr>\n",
       "      <th>1</th>\n",
       "      <td>PMC4032680</td>\n",
       "      <td>24955383</td>\n",
       "      <td>[1. Introduction, [SEP], 2. Model Hypotheses, ...</td>\n",
       "      <td>[O, -100, O, -100, O, -100, O, -100, O, -100, ...</td>\n",
       "    </tr>\n",
       "    <tr>\n",
       "      <th>2</th>\n",
       "      <td>PMC6723279</td>\n",
       "      <td>31349708</td>\n",
       "      <td>[1. Introduction, [SEP], 2. Materials and Meth...</td>\n",
       "      <td>[O, -100, O, -100, O, -100, O, -100, O, -100]</td>\n",
       "    </tr>\n",
       "    <tr>\n",
       "      <th>3</th>\n",
       "      <td>PMC5290626</td>\n",
       "      <td>28159004</td>\n",
       "      <td>[Introduction, [SEP], Large scale visualizatio...</td>\n",
       "      <td>[O, background, O, -100, O, -100, O, -100, O, ...</td>\n",
       "    </tr>\n",
       "    <tr>\n",
       "      <th>4</th>\n",
       "      <td>PMC4172818</td>\n",
       "      <td>25193322</td>\n",
       "      <td>[Background, [SEP], Methods, [SEP], Results, [...</td>\n",
       "      <td>[O, background, O, methods, O, results, O, con...</td>\n",
       "    </tr>\n",
       "    <tr>\n",
       "      <th>...</th>\n",
       "      <td>...</td>\n",
       "      <td>...</td>\n",
       "      <td>...</td>\n",
       "      <td>...</td>\n",
       "    </tr>\n",
       "    <tr>\n",
       "      <th>1922647</th>\n",
       "      <td>PMC3786481</td>\n",
       "      <td>24155782</td>\n",
       "      <td>[Introduction, [SEP], Conclusions, [SEP]]</td>\n",
       "      <td>[O, background, O, conclusions]</td>\n",
       "    </tr>\n",
       "    <tr>\n",
       "      <th>1922648</th>\n",
       "      <td>PMC7926844</td>\n",
       "      <td>33671592</td>\n",
       "      <td>[1. Introduction, [SEP], 2. Materials and Meth...</td>\n",
       "      <td>[O, -100, O, -100, O, -100, O, -100, O, -100]</td>\n",
       "    </tr>\n",
       "    <tr>\n",
       "      <th>1922649</th>\n",
       "      <td>PMC11190545</td>\n",
       "      <td>0</td>\n",
       "      <td>[Introduction, [SEP], Dataset description, [SE...</td>\n",
       "      <td>[O, background, O, -100, O, methods, O, -100, ...</td>\n",
       "    </tr>\n",
       "    <tr>\n",
       "      <th>1922650</th>\n",
       "      <td>PMC3952259</td>\n",
       "      <td>0</td>\n",
       "      <td>[Introduction, [SEP], Objectives, [SEP], Metho...</td>\n",
       "      <td>[O, background, O, objective, O, methods, O, r...</td>\n",
       "    </tr>\n",
       "    <tr>\n",
       "      <th>1922651</th>\n",
       "      <td>PMC4857381</td>\n",
       "      <td>27152122</td>\n",
       "      <td>[Background, [SEP], Methods, [SEP], Results, [...</td>\n",
       "      <td>[O, background, O, methods, O, results, O, -10...</td>\n",
       "    </tr>\n",
       "  </tbody>\n",
       "</table>\n",
       "<p>1922652 rows × 4 columns</p>\n",
       "</div>"
      ],
      "text/plain": [
       "               PMCID      PMID  \\\n",
       "0         PMC6254157  19384281   \n",
       "1         PMC4032680  24955383   \n",
       "2         PMC6723279  31349708   \n",
       "3         PMC5290626  28159004   \n",
       "4         PMC4172818  25193322   \n",
       "...              ...       ...   \n",
       "1922647   PMC3786481  24155782   \n",
       "1922648   PMC7926844  33671592   \n",
       "1922649  PMC11190545         0   \n",
       "1922650   PMC3952259         0   \n",
       "1922651   PMC4857381  27152122   \n",
       "\n",
       "                                           inputs_with_sep  \\\n",
       "0        [1. Introduction, [SEP], 2. Results and Discus...   \n",
       "1        [1. Introduction, [SEP], 2. Model Hypotheses, ...   \n",
       "2        [1. Introduction, [SEP], 2. Materials and Meth...   \n",
       "3        [Introduction, [SEP], Large scale visualizatio...   \n",
       "4        [Background, [SEP], Methods, [SEP], Results, [...   \n",
       "...                                                    ...   \n",
       "1922647          [Introduction, [SEP], Conclusions, [SEP]]   \n",
       "1922648  [1. Introduction, [SEP], 2. Materials and Meth...   \n",
       "1922649  [Introduction, [SEP], Dataset description, [SE...   \n",
       "1922650  [Introduction, [SEP], Objectives, [SEP], Metho...   \n",
       "1922651  [Background, [SEP], Methods, [SEP], Results, [...   \n",
       "\n",
       "                                           labels_with_sep  \n",
       "0                     [O, -100, O, -100, O, -100, O, -100]  \n",
       "1        [O, -100, O, -100, O, -100, O, -100, O, -100, ...  \n",
       "2            [O, -100, O, -100, O, -100, O, -100, O, -100]  \n",
       "3        [O, background, O, -100, O, -100, O, -100, O, ...  \n",
       "4        [O, background, O, methods, O, results, O, con...  \n",
       "...                                                    ...  \n",
       "1922647                    [O, background, O, conclusions]  \n",
       "1922648      [O, -100, O, -100, O, -100, O, -100, O, -100]  \n",
       "1922649  [O, background, O, -100, O, methods, O, -100, ...  \n",
       "1922650  [O, background, O, objective, O, methods, O, r...  \n",
       "1922651  [O, background, O, methods, O, results, O, -10...  \n",
       "\n",
       "[1922652 rows x 4 columns]"
      ]
     },
     "execution_count": 3,
     "metadata": {},
     "output_type": "execute_result"
    }
   ],
   "source": [
    "train_df"
   ]
  },
  {
   "cell_type": "code",
   "execution_count": 4,
   "metadata": {},
   "outputs": [
    {
     "data": {
      "text/html": [
       "<div>\n",
       "<style scoped>\n",
       "    .dataframe tbody tr th:only-of-type {\n",
       "        vertical-align: middle;\n",
       "    }\n",
       "\n",
       "    .dataframe tbody tr th {\n",
       "        vertical-align: top;\n",
       "    }\n",
       "\n",
       "    .dataframe thead th {\n",
       "        text-align: right;\n",
       "    }\n",
       "</style>\n",
       "<table border=\"1\" class=\"dataframe\">\n",
       "  <thead>\n",
       "    <tr style=\"text-align: right;\">\n",
       "      <th></th>\n",
       "      <th>Unnamed: 0</th>\n",
       "      <th>PMCID</th>\n",
       "      <th>PMID</th>\n",
       "      <th>inputs_with_sep</th>\n",
       "      <th>labels_with_sep</th>\n",
       "    </tr>\n",
       "  </thead>\n",
       "  <tbody>\n",
       "    <tr>\n",
       "      <th>0</th>\n",
       "      <td>570</td>\n",
       "      <td>PMC11186153</td>\n",
       "      <td>38898433</td>\n",
       "      <td>[Introduction, [SEP], Materials and methods, [...</td>\n",
       "      <td>[O, background, O, methods, O, results, O, con...</td>\n",
       "    </tr>\n",
       "    <tr>\n",
       "      <th>1</th>\n",
       "      <td>265</td>\n",
       "      <td>PMC11184630</td>\n",
       "      <td>38894760</td>\n",
       "      <td>[Introduction, [SEP], Case presentation, [SEP]...</td>\n",
       "      <td>[O, background, O, methods, O, conclusions, O,...</td>\n",
       "    </tr>\n",
       "    <tr>\n",
       "      <th>2</th>\n",
       "      <td>291</td>\n",
       "      <td>PMC1065320</td>\n",
       "      <td>15743470</td>\n",
       "      <td>[Introduction, [SEP], Materials and methods, [...</td>\n",
       "      <td>[O, background, O, methods, O, results, O, con...</td>\n",
       "    </tr>\n",
       "    <tr>\n",
       "      <th>3</th>\n",
       "      <td>597</td>\n",
       "      <td>PMC11180906</td>\n",
       "      <td>38887537</td>\n",
       "      <td>[Introduction, [SEP], Materials and methods, [...</td>\n",
       "      <td>[O, background, O, methods, O, results, O, con...</td>\n",
       "    </tr>\n",
       "    <tr>\n",
       "      <th>4</th>\n",
       "      <td>174</td>\n",
       "      <td>PMC11184868</td>\n",
       "      <td>38886767</td>\n",
       "      <td>[Background, [SEP], Stem-cell derived ECs, [SE...</td>\n",
       "      <td>[O, background, O, -100, O, -100, O, -100, O, ...</td>\n",
       "    </tr>\n",
       "    <tr>\n",
       "      <th>...</th>\n",
       "      <td>...</td>\n",
       "      <td>...</td>\n",
       "      <td>...</td>\n",
       "      <td>...</td>\n",
       "      <td>...</td>\n",
       "    </tr>\n",
       "    <tr>\n",
       "      <th>75</th>\n",
       "      <td>527</td>\n",
       "      <td>PMC11190884</td>\n",
       "      <td>38842026</td>\n",
       "      <td>[Introduction, [SEP], Nucleic Acid, [SEP], Bio...</td>\n",
       "      <td>[O, background, O, results, O, results, O, res...</td>\n",
       "    </tr>\n",
       "    <tr>\n",
       "      <th>76</th>\n",
       "      <td>86</td>\n",
       "      <td>PMC11188041</td>\n",
       "      <td>36347335</td>\n",
       "      <td>[Introduction, [SEP], Materials and methods, [...</td>\n",
       "      <td>[O, background, O, methods, O, results, O, con...</td>\n",
       "    </tr>\n",
       "    <tr>\n",
       "      <th>77</th>\n",
       "      <td>369</td>\n",
       "      <td>PMC11186168</td>\n",
       "      <td>38890641</td>\n",
       "      <td>[Introduction, [SEP], Methods, [SEP], Results,...</td>\n",
       "      <td>[O, background, O, methods, O, results, O, con...</td>\n",
       "    </tr>\n",
       "    <tr>\n",
       "      <th>78</th>\n",
       "      <td>636</td>\n",
       "      <td>PMC11187998</td>\n",
       "      <td>38903349</td>\n",
       "      <td>[Introduction, [SEP], Case presentation, [SEP]...</td>\n",
       "      <td>[O, background, O, methods, O, conclusions, O,...</td>\n",
       "    </tr>\n",
       "    <tr>\n",
       "      <th>79</th>\n",
       "      <td>260</td>\n",
       "      <td>PMC11156234</td>\n",
       "      <td>38846778</td>\n",
       "      <td>[Introduction, [SEP], Results, [SEP], Material...</td>\n",
       "      <td>[O, background, O, results, O, methods, O, bac...</td>\n",
       "    </tr>\n",
       "  </tbody>\n",
       "</table>\n",
       "<p>80 rows × 5 columns</p>\n",
       "</div>"
      ],
      "text/plain": [
       "    Unnamed: 0        PMCID      PMID  \\\n",
       "0          570  PMC11186153  38898433   \n",
       "1          265  PMC11184630  38894760   \n",
       "2          291   PMC1065320  15743470   \n",
       "3          597  PMC11180906  38887537   \n",
       "4          174  PMC11184868  38886767   \n",
       "..         ...          ...       ...   \n",
       "75         527  PMC11190884  38842026   \n",
       "76          86  PMC11188041  36347335   \n",
       "77         369  PMC11186168  38890641   \n",
       "78         636  PMC11187998  38903349   \n",
       "79         260  PMC11156234  38846778   \n",
       "\n",
       "                                      inputs_with_sep  \\\n",
       "0   [Introduction, [SEP], Materials and methods, [...   \n",
       "1   [Introduction, [SEP], Case presentation, [SEP]...   \n",
       "2   [Introduction, [SEP], Materials and methods, [...   \n",
       "3   [Introduction, [SEP], Materials and methods, [...   \n",
       "4   [Background, [SEP], Stem-cell derived ECs, [SE...   \n",
       "..                                                ...   \n",
       "75  [Introduction, [SEP], Nucleic Acid, [SEP], Bio...   \n",
       "76  [Introduction, [SEP], Materials and methods, [...   \n",
       "77  [Introduction, [SEP], Methods, [SEP], Results,...   \n",
       "78  [Introduction, [SEP], Case presentation, [SEP]...   \n",
       "79  [Introduction, [SEP], Results, [SEP], Material...   \n",
       "\n",
       "                                      labels_with_sep  \n",
       "0   [O, background, O, methods, O, results, O, con...  \n",
       "1   [O, background, O, methods, O, conclusions, O,...  \n",
       "2   [O, background, O, methods, O, results, O, con...  \n",
       "3   [O, background, O, methods, O, results, O, con...  \n",
       "4   [O, background, O, -100, O, -100, O, -100, O, ...  \n",
       "..                                                ...  \n",
       "75  [O, background, O, results, O, results, O, res...  \n",
       "76  [O, background, O, methods, O, results, O, con...  \n",
       "77  [O, background, O, methods, O, results, O, con...  \n",
       "78  [O, background, O, methods, O, conclusions, O,...  \n",
       "79  [O, background, O, results, O, methods, O, bac...  \n",
       "\n",
       "[80 rows x 5 columns]"
      ]
     },
     "execution_count": 4,
     "metadata": {},
     "output_type": "execute_result"
    }
   ],
   "source": [
    "val_df"
   ]
  },
  {
   "cell_type": "code",
   "execution_count": 5,
   "metadata": {},
   "outputs": [
    {
     "data": {
      "text/html": [
       "<div>\n",
       "<style scoped>\n",
       "    .dataframe tbody tr th:only-of-type {\n",
       "        vertical-align: middle;\n",
       "    }\n",
       "\n",
       "    .dataframe tbody tr th {\n",
       "        vertical-align: top;\n",
       "    }\n",
       "\n",
       "    .dataframe thead th {\n",
       "        text-align: right;\n",
       "    }\n",
       "</style>\n",
       "<table border=\"1\" class=\"dataframe\">\n",
       "  <thead>\n",
       "    <tr style=\"text-align: right;\">\n",
       "      <th></th>\n",
       "      <th>Unnamed: 0</th>\n",
       "      <th>PMCID</th>\n",
       "      <th>PMID</th>\n",
       "      <th>inputs_with_sep</th>\n",
       "      <th>labels_with_sep</th>\n",
       "    </tr>\n",
       "  </thead>\n",
       "  <tbody>\n",
       "    <tr>\n",
       "      <th>0</th>\n",
       "      <td>0</td>\n",
       "      <td>PMC11184573</td>\n",
       "      <td>38888203</td>\n",
       "      <td>[INTRODUCTION, [SEP], MATERIALS AND METHODS, [...</td>\n",
       "      <td>[O, background, O, methods, O, conclusions, O,...</td>\n",
       "    </tr>\n",
       "    <tr>\n",
       "      <th>1</th>\n",
       "      <td>1</td>\n",
       "      <td>PMC11183239</td>\n",
       "      <td>38886373</td>\n",
       "      <td>[Introduction, [SEP], Subjects and methods, [S...</td>\n",
       "      <td>[O, background, O, methods, O, results, O, con...</td>\n",
       "    </tr>\n",
       "    <tr>\n",
       "      <th>2</th>\n",
       "      <td>2</td>\n",
       "      <td>PMC11187291</td>\n",
       "      <td>38903966</td>\n",
       "      <td>[Introduction, [SEP], Methods, [SEP], Results,...</td>\n",
       "      <td>[O, background, O, methods, O, results, O, con...</td>\n",
       "    </tr>\n",
       "    <tr>\n",
       "      <th>3</th>\n",
       "      <td>3</td>\n",
       "      <td>PMC11177991</td>\n",
       "      <td>38883749</td>\n",
       "      <td>[INTRODUCTION, [SEP], MATERIALS AND METHODS, [...</td>\n",
       "      <td>[O, background, O, methods, O, results, O, con...</td>\n",
       "    </tr>\n",
       "    <tr>\n",
       "      <th>4</th>\n",
       "      <td>4</td>\n",
       "      <td>PMC11187304</td>\n",
       "      <td>38903638</td>\n",
       "      <td>[Introduction, [SEP], Methods, [SEP], Case rep...</td>\n",
       "      <td>[O, background, O, methods, O, methods, O, con...</td>\n",
       "    </tr>\n",
       "    <tr>\n",
       "      <th>...</th>\n",
       "      <td>...</td>\n",
       "      <td>...</td>\n",
       "      <td>...</td>\n",
       "      <td>...</td>\n",
       "      <td>...</td>\n",
       "    </tr>\n",
       "    <tr>\n",
       "      <th>155</th>\n",
       "      <td>155</td>\n",
       "      <td>PMC11181322</td>\n",
       "      <td>38771959</td>\n",
       "      <td>[Introduction, [SEP], Results and Discussion, ...</td>\n",
       "      <td>[O, background, O, conclusions, O, conclusions...</td>\n",
       "    </tr>\n",
       "    <tr>\n",
       "      <th>156</th>\n",
       "      <td>156</td>\n",
       "      <td>PMC11186409</td>\n",
       "      <td>38899065</td>\n",
       "      <td>[Introduction, [SEP], Materials and methods, [...</td>\n",
       "      <td>[O, background, O, methods, O, results, O, con...</td>\n",
       "    </tr>\n",
       "    <tr>\n",
       "      <th>157</th>\n",
       "      <td>157</td>\n",
       "      <td>PMC11185683</td>\n",
       "      <td>38895272</td>\n",
       "      <td>[Introduction, [SEP], Results, [SEP], Discussi...</td>\n",
       "      <td>[O, background, O, results, O, conclusions, O,...</td>\n",
       "    </tr>\n",
       "    <tr>\n",
       "      <th>158</th>\n",
       "      <td>158</td>\n",
       "      <td>PMC11161898</td>\n",
       "      <td>38854388</td>\n",
       "      <td>[METHODS, [SEP], RESULTS, [SEP], DISCUSSION, [...</td>\n",
       "      <td>[O, methods, O, results, O, conclusions, O, ba...</td>\n",
       "    </tr>\n",
       "    <tr>\n",
       "      <th>159</th>\n",
       "      <td>159</td>\n",
       "      <td>PMC11183282</td>\n",
       "      <td>38895157</td>\n",
       "      <td>[1 Introduction, [SEP], 2 Methods, [SEP], 3 Re...</td>\n",
       "      <td>[O, background, O, methods, O, results, O, con...</td>\n",
       "    </tr>\n",
       "  </tbody>\n",
       "</table>\n",
       "<p>160 rows × 5 columns</p>\n",
       "</div>"
      ],
      "text/plain": [
       "     Unnamed: 0        PMCID      PMID  \\\n",
       "0             0  PMC11184573  38888203   \n",
       "1             1  PMC11183239  38886373   \n",
       "2             2  PMC11187291  38903966   \n",
       "3             3  PMC11177991  38883749   \n",
       "4             4  PMC11187304  38903638   \n",
       "..          ...          ...       ...   \n",
       "155         155  PMC11181322  38771959   \n",
       "156         156  PMC11186409  38899065   \n",
       "157         157  PMC11185683  38895272   \n",
       "158         158  PMC11161898  38854388   \n",
       "159         159  PMC11183282  38895157   \n",
       "\n",
       "                                       inputs_with_sep  \\\n",
       "0    [INTRODUCTION, [SEP], MATERIALS AND METHODS, [...   \n",
       "1    [Introduction, [SEP], Subjects and methods, [S...   \n",
       "2    [Introduction, [SEP], Methods, [SEP], Results,...   \n",
       "3    [INTRODUCTION, [SEP], MATERIALS AND METHODS, [...   \n",
       "4    [Introduction, [SEP], Methods, [SEP], Case rep...   \n",
       "..                                                 ...   \n",
       "155  [Introduction, [SEP], Results and Discussion, ...   \n",
       "156  [Introduction, [SEP], Materials and methods, [...   \n",
       "157  [Introduction, [SEP], Results, [SEP], Discussi...   \n",
       "158  [METHODS, [SEP], RESULTS, [SEP], DISCUSSION, [...   \n",
       "159  [1 Introduction, [SEP], 2 Methods, [SEP], 3 Re...   \n",
       "\n",
       "                                       labels_with_sep  \n",
       "0    [O, background, O, methods, O, conclusions, O,...  \n",
       "1    [O, background, O, methods, O, results, O, con...  \n",
       "2    [O, background, O, methods, O, results, O, con...  \n",
       "3    [O, background, O, methods, O, results, O, con...  \n",
       "4    [O, background, O, methods, O, methods, O, con...  \n",
       "..                                                 ...  \n",
       "155  [O, background, O, conclusions, O, conclusions...  \n",
       "156  [O, background, O, methods, O, results, O, con...  \n",
       "157  [O, background, O, results, O, conclusions, O,...  \n",
       "158  [O, methods, O, results, O, conclusions, O, ba...  \n",
       "159  [O, background, O, methods, O, results, O, con...  \n",
       "\n",
       "[160 rows x 5 columns]"
      ]
     },
     "execution_count": 5,
     "metadata": {},
     "output_type": "execute_result"
    }
   ],
   "source": [
    "test_df"
   ]
  },
  {
   "cell_type": "code",
   "execution_count": 6,
   "metadata": {},
   "outputs": [],
   "source": [
    "# df_grouped"
   ]
  },
  {
   "cell_type": "code",
   "execution_count": 7,
   "metadata": {},
   "outputs": [],
   "source": [
    "# type(df_grouped[\"labels_with_sep\"][0])"
   ]
  },
  {
   "cell_type": "code",
   "execution_count": 8,
   "metadata": {},
   "outputs": [],
   "source": [
    "\n",
    "\n",
    "import os\n",
    "os.environ[\"CUDA_LAUNCH_BLOCKING\"] = \"1\"\n",
    "os.environ[\"TORCH_USE_CUDA_DSA\"] = \"1\"\n",
    "\n",
    "import torch\n",
    "\n",
    "device = torch.device(\"cuda\" if torch.cuda.is_available() else \"cpu\")"
   ]
  },
  {
   "cell_type": "code",
   "execution_count": 9,
   "metadata": {},
   "outputs": [],
   "source": [
    "\n",
    "\n",
    "# torch_pad = pad_sequence(sep_none_type, batch_first=True, padding_value=-1)"
   ]
  },
  {
   "cell_type": "code",
   "execution_count": 10,
   "metadata": {},
   "outputs": [],
   "source": [
    "from torch.utils.data import DataLoader\n",
    "from transformers import BertTokenizerFast\n",
    "\n",
    "\n",
    "\n",
    "tokenizer = BertTokenizerFast.from_pretrained(\"bert-base-uncased\")\n",
    "\n",
    "MAX_LENGTH = 20  # 你希望的最大序列長度\n",
    "\n",
    "def collate_fn(batch):\n",
    "    input_ids, attention_masks, labels, word_lists, word_id_lists, sep_none_type = zip(*batch)\n",
    "    return (\n",
    "        torch.stack(input_ids),\n",
    "        torch.stack(attention_masks),\n",
    "        torch.stack(labels),\n",
    "        list(word_lists),\n",
    "        list(word_id_lists),  # list of lists，不要 stack\n",
    "        torch.stack(sep_none_type)\n",
    "    )\n"
   ]
  },
  {
   "cell_type": "code",
   "execution_count": 11,
   "metadata": {},
   "outputs": [],
   "source": [
    "import torch\n",
    "torch.backends.cudnn.deterministic = True\n",
    "torch.backends.cudnn.benchmark = False"
   ]
  },
  {
   "cell_type": "code",
   "execution_count": 12,
   "metadata": {},
   "outputs": [],
   "source": [
    "\n",
    "from transformers import BertTokenizer\n",
    "from torch.utils.data import Dataset, DataLoader\n",
    "from collections import defaultdict\n",
    "\n",
    "# 載入 BERT Tokenizer\n",
    "# tokenizer = BertTokenizer.from_pretrained(\"bert-base-uncased\")\n",
    "\n",
    "# 建立標籤映射表\n",
    "\n",
    "label2id = {\"-100\": 0, \"O\": 0, \"objective\": 1, \"background\": 2, \"methods\": 3, \"results\": 4, \"conclusions\": 5}\n",
    "# label2id = defaultdict(int, label2id)\n",
    "id2label = {v: k for k, v in label2id.items()}\n",
    "class SectionDataset(Dataset):\n",
    "    def __init__(self, df, tokenizer, max_length=MAX_LENGTH):\n",
    "        self.df = df\n",
    "        self.tokenizer = tokenizer\n",
    "        self.max_length = max_length\n",
    "\n",
    "    def __len__(self):\n",
    "        return len(self.df)\n",
    "\n",
    "    def __getitem__(self, idx):\n",
    "        row = self.df.iloc[idx]\n",
    "        inputs_with_sep = ['[CLS]'] + row[\"inputs_with_sep\"]  # 原始詞列表\n",
    "        label_with_sep = ['0'] + row[\"labels_with_sep\"]\n",
    "        sep_none_type = [1 if label == \"-100\" else 0 for label in label_with_sep]\n",
    "\n",
    "        # Tokenize\n",
    "        encoded = self.tokenizer(\n",
    "            inputs_with_sep,\n",
    "            is_split_into_words=True,\n",
    "            padding=\"max_length\",\n",
    "            truncation=True,\n",
    "            max_length=self.max_length,\n",
    "            return_tensors=\"pt\"\n",
    "        )\n",
    "\n",
    "        input_ids = encoded[\"input_ids\"].squeeze(0)\n",
    "        attention_mask = encoded[\"attention_mask\"].squeeze(0)\n",
    "\n",
    "        # 根據 word_ids 展開 label 給每個 token\n",
    "        word_ids = encoded.word_ids(batch_index=0)\n",
    "        labels_per_token = []\n",
    "        sep_none_type_per_token = []\n",
    "\n",
    "        for word_idx in word_ids:\n",
    "            if word_idx is None:\n",
    "                labels_per_token.append(0)  # special tokens\n",
    "                sep_none_type_per_token.append(0)\n",
    "            else:\n",
    "                label_name = label_with_sep[word_idx]\n",
    "                label_id = label2id.get(label_name, 0)  # fallback 用 \"O\"\n",
    "                labels_per_token.append(label_id)\n",
    "                sep_none_type_per_token.append(sep_none_type[word_idx])\n",
    "\n",
    "        labels = torch.tensor(labels_per_token, dtype=torch.long)\n",
    "        sep_none_type = torch.tensor(sep_none_type_per_token, dtype=torch.long)\n",
    "\n",
    "        return input_ids, attention_mask, labels, inputs_with_sep, word_ids, sep_none_type\n",
    "\n",
    "\n",
    "\n",
    "\n",
    "\n",
    "\n",
    "train_dataset = SectionDataset(train_df, tokenizer)\n",
    "val_dataset = SectionDataset(val_df, tokenizer)\n",
    "test_dataset = SectionDataset(test_df, tokenizer)\n",
    "\n",
    "train_loader = DataLoader(train_dataset, batch_size=100, shuffle=True, collate_fn=collate_fn)\n",
    "val_loader = DataLoader(val_dataset, batch_size=100, shuffle=True, collate_fn=collate_fn)\n",
    "test_loader = DataLoader(test_dataset, batch_size=100, shuffle=True, collate_fn=collate_fn)\n",
    "\n"
   ]
  },
  {
   "cell_type": "code",
   "execution_count": 13,
   "metadata": {},
   "outputs": [],
   "source": [
    "# num_tags = 6  # 你模型輸出的類別數，請替換成正確的值\n",
    "\n",
    "# for i, batch in tqdm(enumerate(train_loader)):\n",
    "#     input_ids, attention_mask, labels, word_lists, word_id_lists, sep_none_type = batch\n",
    "    \n",
    "#     # 把資料移到 CPU 來看清楚錯誤\n",
    "#     labels_cpu = labels.cpu()\n",
    "\n",
    "#     # 檢查 label 是否越界\n",
    "#     if labels_cpu.min() < 0 or labels_cpu.max() >= num_tags:\n",
    "#         print(f\"🚨 Label Error in Batch {i}\")\n",
    "#         print(\"labels.shape:\", labels.shape)\n",
    "#         print(\"labels.min():\", labels_cpu.min().item())\n",
    "#         print(\"labels.max():\", labels_cpu.max().item())\n",
    "#         print(\"labels:\", labels_cpu)\n",
    "#         break  # 可以先中止程式跑，或改成 continue 繼續印出所有有問題的 batch"
   ]
  },
  {
   "cell_type": "code",
   "execution_count": 14,
   "metadata": {},
   "outputs": [],
   "source": [
    "# !pip uninstall TorchCRF\n",
    "# !pip install transformers==4.30.2\n"
   ]
  },
  {
   "cell_type": "code",
   "execution_count": 15,
   "metadata": {},
   "outputs": [],
   "source": [
    "import os\n",
    "os.environ[\"TORCH_USE_CUDA_DSA\"] = \"1\""
   ]
  },
  {
   "cell_type": "code",
   "execution_count": 16,
   "metadata": {},
   "outputs": [],
   "source": [
    "import torch\n",
    "import torch.nn as nn\n",
    "from torchcrf import CRF\n",
    "from transformers import BertModel\n",
    "\n",
    "class MixTextCRF(CRF):\n",
    "    def __init__(self, num_tags, batch_first=True):\n",
    "        super().__init__(num_tags=num_tags, batch_first=batch_first)\n",
    "        # 初始化 transition matrix\n",
    "        nn.init.xavier_normal_(self.transitions)\n",
    "        \n",
    "    def forward(self, emissions, tags, psuedo_tags=None, mask=None, reduction='mean', none_type=None, threshold=0.85):\n",
    "        lambda_val = torch.distributions.Beta(0.3, 0.3).sample()\n",
    "        if reduction == 'mix':\n",
    "            log_p_true = self.token_level_log_prob(emissions, tags)           # shape: [B, L]\n",
    "            log_p_pseudo = self.token_level_log_prob(emissions, psuedo_tags)  # shape: [B, L]\n",
    "            none_type = torch.stack(none_type)\n",
    "\n",
    "            with torch.no_grad():\n",
    "                log_probs = torch.log_softmax(emissions, dim=-1)\n",
    "                max_probs, _ = torch.max(log_probs, dim=-1)\n",
    "                confidence_mask = (max_probs > threshold)\n",
    "            # print(type(none_type))\n",
    "            # 建立 mask\n",
    "            mask = mask.float()\n",
    "            true_mask = ((none_type == 0).float()) * mask\n",
    "            pseudo_mask = ((none_type == 1).float()) * mask * confidence_mask.float()\n",
    "            \n",
    "            # lambda 可從 Beta 分布，也可以是 N_true / N_total\n",
    "            # lambda_val = \n",
    "            \n",
    "            # 最後做 mix\n",
    "            mixed_log_p = lambda_val * log_p_true * true_mask + (1 - lambda_val) * log_p_pseudo * pseudo_mask\n",
    "            \n",
    "            loss = - mixed_log_p.sum() / mask.sum()\n",
    "            return loss\n",
    "\n",
    "        else:\n",
    "            loss = super().forward(emissions, tags, mask=mask, reduction=reduction)\n",
    "            loss = loss / mask.sum()\n",
    "            return loss\n",
    "\n",
    "    def token_level_log_prob(self, emissions, tags):\n",
    "        # emissions: [B, L, C]  -- logits\n",
    "        # tags: [B, L] -- gold or pseudo labels\n",
    "        log_probs = torch.log_softmax(emissions, dim=-1)  # shape: [B, L, C]\n",
    "        selected = log_probs.gather(2, tags.unsqueeze(-1)).squeeze(-1)  # shape: [B, L]\n",
    "        return selected\n"
   ]
  },
  {
   "cell_type": "code",
   "execution_count": 17,
   "metadata": {},
   "outputs": [],
   "source": [
    "\n",
    "class BERT_CRF(nn.Module):\n",
    "    def __init__(self, num_labels):\n",
    "        super(BERT_CRF, self).__init__()\n",
    "        self.bert = BertModel.from_pretrained(\"bert-base-uncased\")\n",
    "        if hasattr(self.bert.embeddings, 'token_type_ids'):\n",
    "            del self.bert.embeddings.token_type_ids  # 移除有毒 buffer\n",
    "\n",
    "        self.hidden_dim = self.bert.config.hidden_size\n",
    "        self.fc = nn.Linear(self.hidden_dim, num_labels)\n",
    "        self.crf = MixTextCRF(num_labels, batch_first=True)\n",
    "\n",
    "    def forward(self, input_ids, attention_mask, labels=None, sep_none_type=None):\n",
    "        \n",
    "        outputs = self.bert(input_ids, attention_mask=attention_mask)\n",
    "        sequence_output = outputs.last_hidden_state\n",
    "        emissions = self.fc(sequence_output)\n",
    "        # print(emissions.shape)\n",
    "        # print(sep_none_type)\n",
    "        \n",
    "        if labels is not None:\n",
    "            if sep_none_type is not None and sum(t.sum() for t in sep_none_type) > 0:\n",
    "                with torch.no_grad():\n",
    "                    decoded = self.crf.decode(emissions, mask=attention_mask.bool())\n",
    "                    psuedo_labels = []\n",
    "                    for i, seq in enumerate(decoded):\n",
    "                        label_tensor = torch.zeros_like(labels[i])  # 全為 0\n",
    "                        valid_mask = ((labels[i] != 0) | (sep_none_type[i] == 1)) & (attention_mask[i] == 1)\n",
    "                        valid_indices = valid_mask.nonzero(as_tuple=True)[0]\n",
    "\n",
    "                        # 按順序填入 decode 的值\n",
    "                        for j, idx in enumerate(valid_indices):\n",
    "                            if j < len(seq):\n",
    "                                label_tensor[idx] = seq[idx]\n",
    "                \n",
    "                        psuedo_labels.append(label_tensor)\n",
    "                \n",
    "                    psuedo_labels = torch.stack(psuedo_labels, dim=0)\n",
    "\n",
    "                loss = self.crf(\n",
    "                    emissions,\n",
    "                    labels,\n",
    "                    psuedo_tags=psuedo_labels,\n",
    "                    mask=attention_mask.bool(),\n",
    "                    reduction=\"mix\",\n",
    "                    none_type=sep_none_type\n",
    "                )\n",
    "                return loss\n",
    "            \n",
    "            else:\n",
    "                loss = -self.crf(\n",
    "                    emissions,\n",
    "                    labels,\n",
    "                    mask=attention_mask.bool(),\n",
    "                    reduction=\"mean\"\n",
    "                )\n",
    "                return loss\n",
    "        else:\n",
    "            return self.crf.decode(emissions, mask=attention_mask.bool())"
   ]
  },
  {
   "cell_type": "code",
   "execution_count": 18,
   "metadata": {},
   "outputs": [
    {
     "name": "stderr",
     "output_type": "stream",
     "text": [
      "Epoch 1:   5%|▌         | 1000/19227 [03:44<1:21:29,  3.73it/s]"
     ]
    },
    {
     "name": "stdout",
     "output_type": "stream",
     "text": [
      "[Step 1000] Train Loss: 0.00274961 | Val Loss: 0.00031406\n"
     ]
    },
    {
     "name": "stderr",
     "output_type": "stream",
     "text": [
      "Epoch 1:  10%|█         | 2000/19227 [07:29<1:10:53,  4.05it/s]"
     ]
    },
    {
     "name": "stdout",
     "output_type": "stream",
     "text": [
      "[Step 2000] Train Loss: 0.00195579 | Val Loss: 0.00044157\n"
     ]
    },
    {
     "name": "stderr",
     "output_type": "stream",
     "text": [
      "Epoch 1:  16%|█▌        | 3000/19227 [11:12<1:04:17,  4.21it/s]"
     ]
    },
    {
     "name": "stdout",
     "output_type": "stream",
     "text": [
      "[Step 3000] Train Loss: 0.00131856 | Val Loss: 0.00099529\n"
     ]
    },
    {
     "name": "stderr",
     "output_type": "stream",
     "text": [
      "Epoch 1:  21%|██        | 4000/19227 [14:54<1:02:07,  4.08it/s]"
     ]
    },
    {
     "name": "stdout",
     "output_type": "stream",
     "text": [
      "[Step 4000] Train Loss: 0.00088305 | Val Loss: 0.00102249\n"
     ]
    },
    {
     "name": "stderr",
     "output_type": "stream",
     "text": [
      "Epoch 1:  26%|██▌       | 5000/19227 [18:35<56:16,  4.21it/s]  "
     ]
    },
    {
     "name": "stdout",
     "output_type": "stream",
     "text": [
      "[Step 5000] Train Loss: 0.00067674 | Val Loss: 0.00094290\n"
     ]
    },
    {
     "name": "stderr",
     "output_type": "stream",
     "text": [
      "Epoch 1:  31%|███       | 6000/19227 [22:17<52:20,  4.21it/s]"
     ]
    },
    {
     "name": "stdout",
     "output_type": "stream",
     "text": [
      "[Step 6000] Train Loss: 0.00094588 | Val Loss: 0.00119872\n"
     ]
    },
    {
     "name": "stderr",
     "output_type": "stream",
     "text": [
      "Epoch 1:  36%|███▋      | 7000/19227 [25:58<48:15,  4.22it/s]"
     ]
    },
    {
     "name": "stdout",
     "output_type": "stream",
     "text": [
      "[Step 7000] Train Loss: 0.00055470 | Val Loss: 0.00107260\n"
     ]
    },
    {
     "name": "stderr",
     "output_type": "stream",
     "text": [
      "Epoch 1:  42%|████▏     | 8000/19227 [29:40<45:26,  4.12it/s]"
     ]
    },
    {
     "name": "stdout",
     "output_type": "stream",
     "text": [
      "[Step 8000] Train Loss: 0.00041777 | Val Loss: 0.00100357\n"
     ]
    },
    {
     "name": "stderr",
     "output_type": "stream",
     "text": [
      "Epoch 1:  47%|████▋     | 9000/19227 [33:22<41:15,  4.13it/s]"
     ]
    },
    {
     "name": "stdout",
     "output_type": "stream",
     "text": [
      "[Step 9000] Train Loss: 0.00063169 | Val Loss: 0.00135438\n"
     ]
    },
    {
     "name": "stderr",
     "output_type": "stream",
     "text": [
      "Epoch 1:  52%|█████▏    | 10000/19227 [37:03<37:17,  4.12it/s]"
     ]
    },
    {
     "name": "stdout",
     "output_type": "stream",
     "text": [
      "[Step 10000] Train Loss: 0.00090276 | Val Loss: 0.00146801\n"
     ]
    },
    {
     "name": "stderr",
     "output_type": "stream",
     "text": [
      "Epoch 1:  57%|█████▋    | 11000/19227 [40:45<33:41,  4.07it/s]"
     ]
    },
    {
     "name": "stdout",
     "output_type": "stream",
     "text": [
      "[Step 11000] Train Loss: 0.00041832 | Val Loss: 0.00215158\n"
     ]
    },
    {
     "name": "stderr",
     "output_type": "stream",
     "text": [
      "Epoch 1:  62%|██████▏   | 12000/19227 [44:26<28:37,  4.21it/s]"
     ]
    },
    {
     "name": "stdout",
     "output_type": "stream",
     "text": [
      "[Step 12000] Train Loss: 0.00036686 | Val Loss: 0.00128985\n"
     ]
    },
    {
     "name": "stderr",
     "output_type": "stream",
     "text": [
      "Epoch 1:  68%|██████▊   | 13000/19227 [48:07<24:41,  4.20it/s]"
     ]
    },
    {
     "name": "stdout",
     "output_type": "stream",
     "text": [
      "[Step 13000] Train Loss: 0.00026965 | Val Loss: 0.00146475\n"
     ]
    },
    {
     "name": "stderr",
     "output_type": "stream",
     "text": [
      "Epoch 1:  73%|███████▎  | 14000/19227 [51:50<21:10,  4.12it/s]  "
     ]
    },
    {
     "name": "stdout",
     "output_type": "stream",
     "text": [
      "[Step 14000] Train Loss: 0.00025635 | Val Loss: 0.00180194\n"
     ]
    },
    {
     "name": "stderr",
     "output_type": "stream",
     "text": [
      "Epoch 1:  78%|███████▊  | 15000/19227 [55:31<17:11,  4.10it/s]"
     ]
    },
    {
     "name": "stdout",
     "output_type": "stream",
     "text": [
      "[Step 15000] Train Loss: 0.00032984 | Val Loss: 0.00130874\n"
     ]
    },
    {
     "name": "stderr",
     "output_type": "stream",
     "text": [
      "Epoch 1:  83%|████████▎ | 16000/19227 [59:12<12:40,  4.24it/s]"
     ]
    },
    {
     "name": "stdout",
     "output_type": "stream",
     "text": [
      "[Step 16000] Train Loss: 0.00040927 | Val Loss: 0.00109323\n"
     ]
    },
    {
     "name": "stderr",
     "output_type": "stream",
     "text": [
      "Epoch 1:  88%|████████▊ | 17000/19227 [1:02:53<09:03,  4.10it/s]"
     ]
    },
    {
     "name": "stdout",
     "output_type": "stream",
     "text": [
      "[Step 17000] Train Loss: 0.00029052 | Val Loss: 0.00148770\n"
     ]
    },
    {
     "name": "stderr",
     "output_type": "stream",
     "text": [
      "Epoch 1:  94%|█████████▎| 18000/19227 [1:06:33<04:50,  4.22it/s]"
     ]
    },
    {
     "name": "stdout",
     "output_type": "stream",
     "text": [
      "[Step 18000] Train Loss: 0.00073542 | Val Loss: 0.00121277\n"
     ]
    },
    {
     "name": "stderr",
     "output_type": "stream",
     "text": [
      "Epoch 1:  99%|█████████▉| 19000/19227 [1:10:11<00:56,  4.05it/s]"
     ]
    },
    {
     "name": "stdout",
     "output_type": "stream",
     "text": [
      "[Step 19000] Train Loss: 0.00021601 | Val Loss: 0.00134720\n"
     ]
    },
    {
     "name": "stderr",
     "output_type": "stream",
     "text": [
      "Epoch 1: 100%|██████████| 19227/19227 [1:11:01<00:00,  4.51it/s]\n"
     ]
    },
    {
     "name": "stdout",
     "output_type": "stream",
     "text": [
      "Epoch 1/3, Train Loss (sum): 14.3801\n"
     ]
    },
    {
     "name": "stderr",
     "output_type": "stream",
     "text": [
      "Epoch 2:   4%|▍         | 773/19227 [02:48<1:13:06,  4.21it/s]"
     ]
    },
    {
     "name": "stdout",
     "output_type": "stream",
     "text": [
      "[Step 20000] Train Loss: 0.00018985 | Val Loss: 0.00131256\n"
     ]
    },
    {
     "name": "stderr",
     "output_type": "stream",
     "text": [
      "Epoch 2:   9%|▉         | 1714/19227 [06:13<1:03:32,  4.59it/s]IOPub message rate exceeded.\n",
      "The Jupyter server will temporarily stop sending output\n",
      "to the client in order to avoid crashing it.\n",
      "To change this limit, set the config variable\n",
      "`--ServerApp.iopub_msg_rate_limit`.\n",
      "\n",
      "Current values:\n",
      "ServerApp.iopub_msg_rate_limit=1000.0 (msgs/sec)\n",
      "ServerApp.rate_limit_window=3.0 (secs)\n",
      "\n",
      "Epoch 2:  14%|█▍        | 2773/19227 [10:04<1:04:55,  4.22it/s]"
     ]
    },
    {
     "name": "stdout",
     "output_type": "stream",
     "text": [
      "[Step 22000] Train Loss: 0.00031014 | Val Loss: 0.00184194\n"
     ]
    },
    {
     "name": "stderr",
     "output_type": "stream",
     "text": [
      "Epoch 2:  20%|█▉        | 3773/19227 [13:43<1:02:09,  4.14it/s]"
     ]
    },
    {
     "name": "stdout",
     "output_type": "stream",
     "text": [
      "[Step 23000] Train Loss: 0.00027007 | Val Loss: 0.00124741\n"
     ]
    },
    {
     "name": "stderr",
     "output_type": "stream",
     "text": [
      "Epoch 2:  25%|██▍       | 4773/19227 [17:22<56:46,  4.24it/s]  "
     ]
    },
    {
     "name": "stdout",
     "output_type": "stream",
     "text": [
      "[Step 24000] Train Loss: 0.00034522 | Val Loss: 0.00149958\n"
     ]
    },
    {
     "name": "stderr",
     "output_type": "stream",
     "text": [
      "Epoch 2:  30%|███       | 5773/19227 [21:01<53:29,  4.19it/s]"
     ]
    },
    {
     "name": "stdout",
     "output_type": "stream",
     "text": [
      "[Step 25000] Train Loss: 0.00026411 | Val Loss: 0.00176571\n"
     ]
    },
    {
     "name": "stderr",
     "output_type": "stream",
     "text": [
      "Epoch 2:  35%|███▌      | 6773/19227 [24:42<49:09,  4.22it/s]  "
     ]
    },
    {
     "name": "stdout",
     "output_type": "stream",
     "text": [
      "[Step 26000] Train Loss: 0.00023021 | Val Loss: 0.00167876\n"
     ]
    },
    {
     "name": "stderr",
     "output_type": "stream",
     "text": [
      "Epoch 2:  40%|████      | 7773/19227 [28:21<45:05,  4.23it/s]"
     ]
    },
    {
     "name": "stdout",
     "output_type": "stream",
     "text": [
      "[Step 27000] Train Loss: 0.00015723 | Val Loss: 0.00134505\n"
     ]
    },
    {
     "name": "stderr",
     "output_type": "stream",
     "text": [
      "Epoch 2:  46%|████▌     | 8773/19227 [32:00<41:23,  4.21it/s]"
     ]
    },
    {
     "name": "stdout",
     "output_type": "stream",
     "text": [
      "[Step 28000] Train Loss: 0.00022296 | Val Loss: 0.00173203\n"
     ]
    },
    {
     "name": "stderr",
     "output_type": "stream",
     "text": [
      "Epoch 2:  51%|█████     | 9773/19227 [35:39<37:22,  4.22it/s]"
     ]
    },
    {
     "name": "stdout",
     "output_type": "stream",
     "text": [
      "[Step 29000] Train Loss: 0.00041673 | Val Loss: 0.00175072\n"
     ]
    },
    {
     "name": "stderr",
     "output_type": "stream",
     "text": [
      "Epoch 2:  56%|█████▌    | 10773/19227 [39:18<33:29,  4.21it/s]"
     ]
    },
    {
     "name": "stdout",
     "output_type": "stream",
     "text": [
      "[Step 30000] Train Loss: 0.00039654 | Val Loss: 0.00176322\n"
     ]
    },
    {
     "name": "stderr",
     "output_type": "stream",
     "text": [
      "Epoch 2:  61%|██████    | 11773/19227 [42:57<29:27,  4.22it/s]"
     ]
    },
    {
     "name": "stdout",
     "output_type": "stream",
     "text": [
      "[Step 31000] Train Loss: 0.00017748 | Val Loss: 0.00159925\n"
     ]
    },
    {
     "name": "stderr",
     "output_type": "stream",
     "text": [
      "Epoch 2:  66%|██████▋   | 12773/19227 [46:36<25:24,  4.23it/s]"
     ]
    },
    {
     "name": "stdout",
     "output_type": "stream",
     "text": [
      "[Step 32000] Train Loss: 0.00019906 | Val Loss: 0.00207097\n"
     ]
    },
    {
     "name": "stderr",
     "output_type": "stream",
     "text": [
      "Epoch 2:  72%|███████▏  | 13773/19227 [50:16<22:15,  4.08it/s]"
     ]
    },
    {
     "name": "stdout",
     "output_type": "stream",
     "text": [
      "[Step 33000] Train Loss: 0.00027903 | Val Loss: 0.00144008\n"
     ]
    },
    {
     "name": "stderr",
     "output_type": "stream",
     "text": [
      "Epoch 2:  77%|███████▋  | 14773/19227 [53:55<17:36,  4.22it/s]"
     ]
    },
    {
     "name": "stdout",
     "output_type": "stream",
     "text": [
      "[Step 34000] Train Loss: 0.00014511 | Val Loss: 0.00166212\n"
     ]
    },
    {
     "name": "stderr",
     "output_type": "stream",
     "text": [
      "Epoch 2:  82%|████████▏ | 15773/19227 [57:34<13:40,  4.21it/s]"
     ]
    },
    {
     "name": "stdout",
     "output_type": "stream",
     "text": [
      "[Step 35000] Train Loss: 0.00031677 | Val Loss: 0.00176283\n"
     ]
    },
    {
     "name": "stderr",
     "output_type": "stream",
     "text": [
      "Epoch 2:  87%|████████▋ | 16773/19227 [1:01:13<09:43,  4.21it/s]"
     ]
    },
    {
     "name": "stdout",
     "output_type": "stream",
     "text": [
      "[Step 36000] Train Loss: 0.00011819 | Val Loss: 0.00184913\n"
     ]
    },
    {
     "name": "stderr",
     "output_type": "stream",
     "text": [
      "Epoch 2:  92%|█████████▏| 17773/19227 [1:04:54<05:59,  4.04it/s]"
     ]
    },
    {
     "name": "stdout",
     "output_type": "stream",
     "text": [
      "[Step 37000] Train Loss: 0.00025806 | Val Loss: 0.00153832\n"
     ]
    },
    {
     "name": "stderr",
     "output_type": "stream",
     "text": [
      "Epoch 2:  98%|█████████▊| 18773/19227 [1:08:36<01:49,  4.13it/s]"
     ]
    },
    {
     "name": "stdout",
     "output_type": "stream",
     "text": [
      "[Step 38000] Train Loss: 0.00032754 | Val Loss: 0.00238598\n"
     ]
    },
    {
     "name": "stderr",
     "output_type": "stream",
     "text": [
      "Epoch 2: 100%|██████████| 19227/19227 [1:10:15<00:00,  4.56it/s]\n"
     ]
    },
    {
     "name": "stdout",
     "output_type": "stream",
     "text": [
      "Epoch 2/3, Train Loss (sum): 4.7687\n"
     ]
    },
    {
     "name": "stderr",
     "output_type": "stream",
     "text": [
      "Epoch 3:   3%|▎         | 546/19227 [01:59<1:13:37,  4.23it/s]"
     ]
    },
    {
     "name": "stdout",
     "output_type": "stream",
     "text": [
      "[Step 39000] Train Loss: 0.00025792 | Val Loss: 0.00128602\n"
     ]
    },
    {
     "name": "stderr",
     "output_type": "stream",
     "text": [
      "Epoch 3:   8%|▊         | 1546/19227 [05:37<1:10:12,  4.20it/s]"
     ]
    },
    {
     "name": "stdout",
     "output_type": "stream",
     "text": [
      "[Step 40000] Train Loss: 0.00012835 | Val Loss: 0.00176607\n"
     ]
    },
    {
     "name": "stderr",
     "output_type": "stream",
     "text": [
      "Epoch 3:  13%|█▎        | 2546/19227 [09:15<1:05:42,  4.23it/s]"
     ]
    },
    {
     "name": "stdout",
     "output_type": "stream",
     "text": [
      "[Step 41000] Train Loss: 0.00060044 | Val Loss: 0.00206615\n"
     ]
    },
    {
     "name": "stderr",
     "output_type": "stream",
     "text": [
      "Epoch 3:  18%|█▊        | 3546/19227 [12:54<1:02:05,  4.21it/s]"
     ]
    },
    {
     "name": "stdout",
     "output_type": "stream",
     "text": [
      "[Step 42000] Train Loss: 0.00020912 | Val Loss: 0.00173201\n"
     ]
    },
    {
     "name": "stderr",
     "output_type": "stream",
     "text": [
      "Epoch 3:  24%|██▎       | 4546/19227 [16:33<58:14,  4.20it/s]  "
     ]
    },
    {
     "name": "stdout",
     "output_type": "stream",
     "text": [
      "[Step 43000] Train Loss: 0.00027468 | Val Loss: 0.00183031\n"
     ]
    },
    {
     "name": "stderr",
     "output_type": "stream",
     "text": [
      "Epoch 3:  29%|██▉       | 5546/19227 [20:11<53:59,  4.22it/s]"
     ]
    },
    {
     "name": "stdout",
     "output_type": "stream",
     "text": [
      "[Step 44000] Train Loss: 0.00013028 | Val Loss: 0.00145514\n"
     ]
    },
    {
     "name": "stderr",
     "output_type": "stream",
     "text": [
      "Epoch 3:  34%|███▍      | 6546/19227 [23:49<49:50,  4.24it/s]"
     ]
    },
    {
     "name": "stdout",
     "output_type": "stream",
     "text": [
      "[Step 45000] Train Loss: 0.00018046 | Val Loss: 0.00178520\n"
     ]
    },
    {
     "name": "stderr",
     "output_type": "stream",
     "text": [
      "Epoch 3:  39%|███▉      | 7546/19227 [27:28<47:11,  4.13it/s]"
     ]
    },
    {
     "name": "stdout",
     "output_type": "stream",
     "text": [
      "[Step 46000] Train Loss: 0.00011069 | Val Loss: 0.00142039\n"
     ]
    },
    {
     "name": "stderr",
     "output_type": "stream",
     "text": [
      "Epoch 3:  44%|████▍     | 8546/19227 [31:06<42:07,  4.23it/s]"
     ]
    },
    {
     "name": "stdout",
     "output_type": "stream",
     "text": [
      "[Step 47000] Train Loss: 0.00020573 | Val Loss: 0.00180883\n"
     ]
    },
    {
     "name": "stderr",
     "output_type": "stream",
     "text": [
      "Epoch 3:  50%|████▉     | 9546/19227 [34:46<38:12,  4.22it/s]"
     ]
    },
    {
     "name": "stdout",
     "output_type": "stream",
     "text": [
      "[Step 48000] Train Loss: 0.00026364 | Val Loss: 0.00173328\n"
     ]
    },
    {
     "name": "stderr",
     "output_type": "stream",
     "text": [
      "Epoch 3:  55%|█████▍    | 10546/19227 [38:24<34:13,  4.23it/s]"
     ]
    },
    {
     "name": "stdout",
     "output_type": "stream",
     "text": [
      "[Step 49000] Train Loss: 0.00009410 | Val Loss: 0.00191599\n"
     ]
    },
    {
     "name": "stderr",
     "output_type": "stream",
     "text": [
      "Epoch 3:  60%|██████    | 11546/19227 [42:05<30:23,  4.21it/s]  "
     ]
    },
    {
     "name": "stdout",
     "output_type": "stream",
     "text": [
      "[Step 50000] Train Loss: 0.00012410 | Val Loss: 0.00177208\n"
     ]
    },
    {
     "name": "stderr",
     "output_type": "stream",
     "text": [
      "Epoch 3:  65%|██████▌   | 12546/19227 [45:43<26:18,  4.23it/s]"
     ]
    },
    {
     "name": "stdout",
     "output_type": "stream",
     "text": [
      "[Step 51000] Train Loss: 0.00024082 | Val Loss: 0.00216336\n"
     ]
    },
    {
     "name": "stderr",
     "output_type": "stream",
     "text": [
      "Epoch 3:  70%|███████   | 13546/19227 [49:21<22:17,  4.25it/s]"
     ]
    },
    {
     "name": "stdout",
     "output_type": "stream",
     "text": [
      "[Step 52000] Train Loss: 0.00029786 | Val Loss: 0.00162768\n"
     ]
    },
    {
     "name": "stderr",
     "output_type": "stream",
     "text": [
      "Epoch 3:  76%|███████▌  | 14546/19227 [52:59<18:27,  4.23it/s]"
     ]
    },
    {
     "name": "stdout",
     "output_type": "stream",
     "text": [
      "[Step 53000] Train Loss: 0.00019822 | Val Loss: 0.00162791\n"
     ]
    },
    {
     "name": "stderr",
     "output_type": "stream",
     "text": [
      "Epoch 3:  81%|████████  | 15546/19227 [56:38<14:32,  4.22it/s]"
     ]
    },
    {
     "name": "stdout",
     "output_type": "stream",
     "text": [
      "[Step 54000] Train Loss: 0.00008583 | Val Loss: 0.00176010\n"
     ]
    },
    {
     "name": "stderr",
     "output_type": "stream",
     "text": [
      "Epoch 3:  86%|████████▌ | 16546/19227 [1:00:17<11:03,  4.04it/s]"
     ]
    },
    {
     "name": "stdout",
     "output_type": "stream",
     "text": [
      "[Step 55000] Train Loss: 0.00015162 | Val Loss: 0.00243242\n"
     ]
    },
    {
     "name": "stderr",
     "output_type": "stream",
     "text": [
      "Epoch 3:  91%|█████████▏| 17546/19227 [1:03:55<06:39,  4.21it/s]"
     ]
    },
    {
     "name": "stdout",
     "output_type": "stream",
     "text": [
      "[Step 56000] Train Loss: 0.00015551 | Val Loss: 0.00200405\n"
     ]
    },
    {
     "name": "stderr",
     "output_type": "stream",
     "text": [
      "Epoch 3:  96%|█████████▋| 18546/19227 [1:07:33<02:41,  4.21it/s]"
     ]
    },
    {
     "name": "stdout",
     "output_type": "stream",
     "text": [
      "[Step 57000] Train Loss: 0.00023284 | Val Loss: 0.00230887\n"
     ]
    },
    {
     "name": "stderr",
     "output_type": "stream",
     "text": [
      "Epoch 3: 100%|██████████| 19227/19227 [1:10:02<00:00,  4.57it/s]\n"
     ]
    },
    {
     "name": "stdout",
     "output_type": "stream",
     "text": [
      "Epoch 3/3, Train Loss (sum): 4.0807\n"
     ]
    },
    {
     "data": {
      "image/png": "[encoded data removed]",
      "text/plain": [
       "<Figure size 1000x500 with 1 Axes>"
      ]
     },
     "metadata": {},
     "output_type": "display_data"
    }
   ],
   "source": [
    "import torch.optim as optim\n",
    "\n",
    "from tqdm import tqdm\n",
    "import matplotlib.pyplot as plt\n",
    "\n",
    "# 初始化模型\n",
    "\n",
    "model = BERT_CRF(num_labels=6)\n",
    "# 載入預訓練參數\n",
    "state_dict = torch.load(\"models/bert_crf_pretrained_300seed.pth\")\n",
    "# 允許部分 miss（例如你有改一些架構）\n",
    "model.load_state_dict(state_dict, strict=False)\n",
    "model = model.to(device)\n",
    "\n",
    "optimizer = optim.AdamW(model.parameters(), lr=5e-5)\n",
    "\n",
    "num_epochs = 3\n",
    "log_interval = 1000\n",
    "loss_accumulator = 0\n",
    "global_step = 0\n",
    "train_losses = []\n",
    "val_losses = []\n",
    "val_steps = []\n",
    "\n",
    "global_step = 0\n",
    "\n",
    "for epoch in range(num_epochs):\n",
    "    total_loss = 0\n",
    "\n",
    "    for batch_idx, batch in enumerate(tqdm(train_loader, desc=f'Epoch {epoch+1}')):\n",
    "        model.train()\n",
    "\n",
    "        input_ids, attention_mask, labels  = [x.to(device) for x in batch[:3]]\n",
    "        sep_none_type = [x.to(device) for x in batch[5]]\n",
    "        torch.cuda.synchronize() \n",
    "        optimizer.zero_grad()\n",
    "        loss = model(input_ids, attention_mask, labels, sep_none_type)\n",
    "        loss.backward()\n",
    "        optimizer.step()\n",
    "\n",
    "        total_loss += loss.item()\n",
    "        loss_accumulator += loss.item()\n",
    "        global_step += 1\n",
    "\n",
    "        # print(f\"Step {global_step} - Batch Loss: {loss.item():.6f}\")\n",
    "\n",
    "        # === 每 log_interval step 做一次 train/val loss logging ===\n",
    "        if global_step % log_interval == 0:\n",
    "            avg_train_loss = loss_accumulator / log_interval\n",
    "            train_losses.append(avg_train_loss)\n",
    "            val_steps.append(global_step)\n",
    "            loss_accumulator = 0  # reset\n",
    "\n",
    "            # === validation loss ===\n",
    "            model.eval()\n",
    "            val_loss_sum = 0\n",
    "            val_steps_count = 0\n",
    "            with torch.no_grad():\n",
    "                for val_batch in val_loader:\n",
    "                    val_input_ids, val_attention_mask, val_labels = [x.to(device) for x in val_batch[:3]]\n",
    "                    val_loss = model(val_input_ids, val_attention_mask, val_labels)\n",
    "                    val_loss_sum += val_loss.item()\n",
    "                    val_steps_count += 1\n",
    "\n",
    "            avg_val_loss = val_loss_sum / val_steps_count\n",
    "            val_losses.append(avg_val_loss)\n",
    "\n",
    "            print(f\"[Step {global_step}] Train Loss: {avg_train_loss:.8f} | Val Loss: {avg_val_loss:.8f}\")\n",
    "\n",
    "    print(f\"Epoch {epoch+1}/{num_epochs}, Train Loss (sum): {total_loss:.4f}\")\n",
    "\n",
    "\n",
    "plt.figure(figsize=(10, 5))\n",
    "plt.plot(val_steps, train_losses, label='Train Loss (avg per 1000 steps)')\n",
    "plt.plot(val_steps, val_losses, label='Validation Loss (avg)', marker='o')\n",
    "plt.xlabel('Step')\n",
    "plt.ylabel('Loss')\n",
    "plt.title('Train and Validation Loss')\n",
    "plt.legend()\n",
    "plt.grid(True)\n",
    "plt.tight_layout()\n",
    "plt.show()"
   ]
  },
  {
   "cell_type": "code",
   "execution_count": 19,
   "metadata": {},
   "outputs": [],
   "source": [
    "torch.save(model.state_dict(), \"models/bert_crf_pretrained_Mixed_threshold_seed300_non_learnable.pth\")"
   ]
  },
  {
   "cell_type": "code",
   "execution_count": 20,
   "metadata": {},
   "outputs": [],
   "source": [
    "model = BERT_CRF(num_labels=6)\n",
    "# 載入預訓練參數\n",
    "state_dict = torch.load(\"models/bert_crf_pretrained_Mixed_threshold_seed300_non_learnable.pth\")\n",
    "# 允許部分 miss（例如你有改一些架構）\n",
    "model.load_state_dict(state_dict, strict=False)\n",
    "model = model.to(device)"
   ]
  },
  {
   "cell_type": "code",
   "execution_count": 21,
   "metadata": {},
   "outputs": [
    {
     "name": "stdout",
     "output_type": "stream",
     "text": [
      "True Labels: 774, Pred Labels: 774\n",
      "Unique True Labels: {'results', 'conclusions', 'methods', 'objective', 'O', 'background'}\n",
      "Unique Pred Labels: {'results', 'conclusions', 'methods', 'objective', 'O', 'background'}\n",
      "Test Precision: 0.7639\n",
      "Test Recall: 0.6952\n",
      "Test F1 Score: 0.7108\n"
     ]
    }
   ],
   "source": [
    "from sklearn.metrics import precision_recall_fscore_support\n",
    "\n",
    "model.eval()\n",
    "all_true_labels = []\n",
    "all_pred_labels = []\n",
    "\n",
    "with torch.no_grad():\n",
    "    for batch in test_loader:\n",
    "        input_ids, attention_mask, labels = [x.to(device) for x in batch[:3]]\n",
    "        word_lists, word_id_lists = batch[3], batch[4]\n",
    "        # sep_none_type = [x.to(device) for x in batch[5]]\n",
    "        predictions = model(input_ids, attention_mask)\n",
    "\n",
    "        for i in range(len(word_lists)):\n",
    "            word_list = word_lists[i]          # 原始詞 list\n",
    "            word_ids = word_id_lists[i]        # token 對應的 word index\n",
    "            preds = predictions[i]\n",
    "            trues = labels[i]\n",
    "            tokens = input_ids[i]\n",
    "\n",
    "            for idx, word_idx in enumerate(word_ids):\n",
    "                if word_idx is None:\n",
    "                    continue\n",
    "                word = word_list[word_idx]\n",
    "                if word == \"[SEP]\" and trues[idx].item() != -1:\n",
    "                    all_true_labels.append(id2label[trues[idx].item()])\n",
    "                    all_pred_labels.append(id2label[preds[idx]])\n",
    "\n",
    "print(f\"True Labels: {len(all_true_labels)}, Pred Labels: {len(all_pred_labels)}\")\n",
    "print(f\"Unique True Labels: {set(all_true_labels)}\")\n",
    "print(f\"Unique Pred Labels: {set(all_pred_labels)}\")\n",
    "\n",
    "precision, recall, f1, _ = precision_recall_fscore_support(\n",
    "    all_true_labels, all_pred_labels, average=\"macro\"\n",
    ")\n",
    "\n",
    "print(f\"Test Precision: {precision:.4f}\")\n",
    "print(f\"Test Recall: {recall:.4f}\")\n",
    "print(f\"Test F1 Score: {f1:.4f}\")\n"
   ]
  },
  {
   "cell_type": "code",
   "execution_count": 22,
   "metadata": {},
   "outputs": [
    {
     "name": "stdout",
     "output_type": "stream",
     "text": [
      "conclusions: 201 (99.50%)\n",
      "background: 1 (0.50%)\n"
     ]
    }
   ],
   "source": [
    "from collections import Counter\n",
    "\n",
    "conclusion_preds = [\n",
    "    pred for true, pred in zip(all_true_labels, all_pred_labels)\n",
    "    if true == \"conclusions\"\n",
    "]\n",
    "\n",
    "pred_counter = Counter(conclusion_preds)\n",
    "total = sum(pred_counter.values())\n",
    "\n",
    "for label, count in pred_counter.most_common():\n",
    "    percent = count / total * 100\n",
    "    print(f\"{label}: {count} ({percent:.2f}%)\")\n"
   ]
  },
  {
   "cell_type": "code",
   "execution_count": 23,
   "metadata": {},
   "outputs": [
    {
     "name": "stdout",
     "output_type": "stream",
     "text": [
      "conclusions: 201 (86.27%)\n",
      "background: 28 (12.02%)\n",
      "O: 3 (1.29%)\n",
      "objective: 1 (0.43%)\n"
     ]
    }
   ],
   "source": [
    "from collections import Counter\n",
    "\n",
    "conclusion_true = [\n",
    "    true for true, pred in zip(all_true_labels, all_pred_labels)\n",
    "    if pred == \"conclusions\"\n",
    "]\n",
    "\n",
    "pred_counter = Counter(conclusion_true)\n",
    "total = sum(pred_counter.values())\n",
    "\n",
    "for label, count in pred_counter.most_common():\n",
    "    percent = count / total * 100\n",
    "    print(f\"{label}: {count} ({percent:.2f}%)\")\n"
   ]
  },
  {
   "cell_type": "code",
   "execution_count": 24,
   "metadata": {},
   "outputs": [
    {
     "name": "stdout",
     "output_type": "stream",
     "text": [
      "Test Precision: 0.8983\n",
      "Test Recall: 0.8876\n",
      "Test F1 Score: 0.8854\n",
      "Test Accuracy: 0.8875968992248062\n"
     ]
    }
   ],
   "source": [
    "from sklearn.metrics import accuracy_score\n",
    "precision, recall, f1, _ = precision_recall_fscore_support(\n",
    "    all_true_labels, all_pred_labels, average=\"weighted\"\n",
    ")\n",
    "\n",
    "print(f\"Test Precision: {precision:.4f}\")\n",
    "print(f\"Test Recall: {recall:.4f}\")\n",
    "print(f\"Test F1 Score: {f1:.4f}\")\n",
    "\n",
    "print(f\"Test Accuracy: {accuracy_score(all_true_labels, all_pred_labels)}\")"
   ]
  },
  {
   "cell_type": "code",
   "execution_count": 25,
   "metadata": {},
   "outputs": [
    {
     "name": "stdout",
     "output_type": "stream",
     "text": [
      "              precision    recall  f1-score   support\n",
      "\n",
      "           O     0.0000    0.0000    0.0000         8\n",
      "  background     0.9691    0.7994    0.8761       314\n",
      " conclusions     0.8627    0.9950    0.9241       202\n",
      "     methods     0.7714    0.9926    0.8682       136\n",
      "   objective     1.0000    0.5000    0.6667         2\n",
      "     results     0.9802    0.8839    0.9296       112\n",
      "\n",
      "    accuracy                         0.8876       774\n",
      "   macro avg     0.7639    0.6952    0.7108       774\n",
      "weighted avg     0.8983    0.8876    0.8854       774\n",
      "\n"
     ]
    }
   ],
   "source": [
    "from sklearn.metrics import classification_report\n",
    "\n",
    "print(classification_report(all_true_labels, all_pred_labels, digits=4))\n"
   ]
  },
  {
   "cell_type": "code",
   "execution_count": 26,
   "metadata": {},
   "outputs": [
    {
     "name": "stdout",
     "output_type": "stream",
     "text": [
      "Test Precision: 0.8876\n",
      "Test Recall: 0.8876\n",
      "Test F1 Score: 0.8876\n",
      "Test Accuracy: 0.8875968992248062\n"
     ]
    }
   ],
   "source": [
    "from sklearn.metrics import accuracy_score\n",
    "precision, recall, f1, _ = precision_recall_fscore_support(\n",
    "    all_true_labels, all_pred_labels, average=\"micro\"\n",
    ")\n",
    "\n",
    "print(f\"Test Precision: {precision:.4f}\")\n",
    "print(f\"Test Recall: {recall:.4f}\")\n",
    "print(f\"Test F1 Score: {f1:.4f}\")\n",
    "\n",
    "print(f\"Test Accuracy: {accuracy_score(all_true_labels, all_pred_labels)}\")"
   ]
  },
  {
   "cell_type": "code",
   "execution_count": 27,
   "metadata": {},
   "outputs": [
    {
     "data": {
      "text/plain": [
       "<sklearn.metrics._plot.confusion_matrix.ConfusionMatrixDisplay at 0x151aeb666060>"
      ]
     },
     "execution_count": 27,
     "metadata": {},
     "output_type": "execute_result"
    },
    {
     "data": {
      "image/png": "[encoded data removed]",
      "text/plain": [
       "<Figure size 640x480 with 2 Axes>"
      ]
     },
     "metadata": {},
     "output_type": "display_data"
    }
   ],
   "source": [
    "from sklearn.metrics import confusion_matrix, ConfusionMatrixDisplay\n",
    "labels = sorted(set(all_true_labels) | set(all_pred_labels))  # 統一所有可能的 label\n",
    "\n",
    "cm = confusion_matrix(all_true_labels, all_pred_labels, labels=labels)\n",
    "disp = ConfusionMatrixDisplay(confusion_matrix=cm, display_labels=labels)\n",
    "disp.plot(xticks_rotation=45, cmap=\"Blues\")"
   ]
  }
 ],
 "metadata": {
  "kernelspec": {
   "display_name": "Python 3",
   "language": "python",
   "name": "python3"
  },
  "language_info": {
   "codemirror_mode": {
    "name": "ipython",
    "version": 3
   },
   "file_extension": ".py",
   "mimetype": "text/x-python",
   "name": "python",
   "nbconvert_exporter": "python",
   "pygments_lexer": "ipython3",
   "version": "3.9.21"
  }
 },
 "nbformat": 4,
 "nbformat_minor": 4
}
