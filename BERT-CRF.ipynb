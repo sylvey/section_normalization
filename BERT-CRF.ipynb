{
 "cells": [
  {
   "cell_type": "markdown",
   "metadata": {},
   "source": [
    "## None not added"
   ]
  },
  {
   "cell_type": "markdown",
   "metadata": {},
   "source": [
    "### Data Preprocess"
   ]
  },
  {
   "cell_type": "code",
   "execution_count": 90,
   "metadata": {},
   "outputs": [
    {
     "data": {
      "text/html": [
       "<div>\n",
       "<style scoped>\n",
       "    .dataframe tbody tr th:only-of-type {\n",
       "        vertical-align: middle;\n",
       "    }\n",
       "\n",
       "    .dataframe tbody tr th {\n",
       "        vertical-align: top;\n",
       "    }\n",
       "\n",
       "    .dataframe thead th {\n",
       "        text-align: right;\n",
       "    }\n",
       "</style>\n",
       "<table border=\"1\" class=\"dataframe\">\n",
       "  <thead>\n",
       "    <tr style=\"text-align: right;\">\n",
       "      <th></th>\n",
       "      <th>Unnamed: 0</th>\n",
       "      <th>PMCID</th>\n",
       "      <th>PMID</th>\n",
       "      <th>sec-title</th>\n",
       "      <th>sec-norm</th>\n",
       "    </tr>\n",
       "  </thead>\n",
       "  <tbody>\n",
       "    <tr>\n",
       "      <th>0</th>\n",
       "      <td>500</td>\n",
       "      <td>PMC11186413</td>\n",
       "      <td>38899045</td>\n",
       "      <td>['Introduction', 'Materials and methods', 'Res...</td>\n",
       "      <td>['background', 'methods', 'results', 'conclusi...</td>\n",
       "    </tr>\n",
       "    <tr>\n",
       "      <th>1</th>\n",
       "      <td>501</td>\n",
       "      <td>PMC11186417</td>\n",
       "      <td>38903923</td>\n",
       "      <td>['Introduction', 'Materials and Methods', 'Res...</td>\n",
       "      <td>['background', 'methods', 'results', 'conclusi...</td>\n",
       "    </tr>\n",
       "    <tr>\n",
       "      <th>2</th>\n",
       "      <td>502</td>\n",
       "      <td>PMC11186419</td>\n",
       "      <td>38903929</td>\n",
       "      <td>['Introduction', 'Methods', 'Results', 'Discus...</td>\n",
       "      <td>['background', 'methods', 'results', 'conclusi...</td>\n",
       "    </tr>\n",
       "    <tr>\n",
       "      <th>3</th>\n",
       "      <td>503</td>\n",
       "      <td>PMC11186422</td>\n",
       "      <td>38903925</td>\n",
       "      <td>['Introduction', 'Materials and Methods', 'Res...</td>\n",
       "      <td>['background', 'methods', 'results', 'conclusi...</td>\n",
       "    </tr>\n",
       "    <tr>\n",
       "      <th>4</th>\n",
       "      <td>504</td>\n",
       "      <td>PMC11186426</td>\n",
       "      <td>38903919</td>\n",
       "      <td>['1. Introduction', '2. Data and Methods', '3....</td>\n",
       "      <td>['background', 'methods', 'results', 'conclusi...</td>\n",
       "    </tr>\n",
       "    <tr>\n",
       "      <th>...</th>\n",
       "      <td>...</td>\n",
       "      <td>...</td>\n",
       "      <td>...</td>\n",
       "      <td>...</td>\n",
       "      <td>...</td>\n",
       "    </tr>\n",
       "    <tr>\n",
       "      <th>295</th>\n",
       "      <td>795</td>\n",
       "      <td>PMC11192634</td>\n",
       "      <td>38351139</td>\n",
       "      <td>['Introduction', 'RNA modification and lncRNA'...</td>\n",
       "      <td>['background', 'background', 'background', 'co...</td>\n",
       "    </tr>\n",
       "    <tr>\n",
       "      <th>296</th>\n",
       "      <td>796</td>\n",
       "      <td>PMC11192660</td>\n",
       "      <td>38864935</td>\n",
       "      <td>['Introduction', 'Parkinson‚Äôs disease treatm...</td>\n",
       "      <td>['background', 'background', 'background', 'ba...</td>\n",
       "    </tr>\n",
       "    <tr>\n",
       "      <th>297</th>\n",
       "      <td>797</td>\n",
       "      <td>PMC11192662</td>\n",
       "      <td>38581462</td>\n",
       "      <td>['Introduction', 'Methods', 'Results', 'Discus...</td>\n",
       "      <td>['background', 'methods', 'results', 'conclusi...</td>\n",
       "    </tr>\n",
       "    <tr>\n",
       "      <th>298</th>\n",
       "      <td>798</td>\n",
       "      <td>PMC11192683</td>\n",
       "      <td>38602530</td>\n",
       "      <td>['Introduction', 'Methods', 'Results', 'Discus...</td>\n",
       "      <td>['background', 'methods', 'results', 'conclusi...</td>\n",
       "    </tr>\n",
       "    <tr>\n",
       "      <th>299</th>\n",
       "      <td>799</td>\n",
       "      <td>PMC11192717</td>\n",
       "      <td>38906906</td>\n",
       "      <td>['Introduction', 'Results', 'Discussion', 'Met...</td>\n",
       "      <td>['background', 'results', 'conclusions', 'meth...</td>\n",
       "    </tr>\n",
       "  </tbody>\n",
       "</table>\n",
       "<p>300 rows × 5 columns</p>\n",
       "</div>"
      ],
      "text/plain": [
       "     Unnamed: 0        PMCID      PMID  \\\n",
       "0           500  PMC11186413  38899045   \n",
       "1           501  PMC11186417  38903923   \n",
       "2           502  PMC11186419  38903929   \n",
       "3           503  PMC11186422  38903925   \n",
       "4           504  PMC11186426  38903919   \n",
       "..          ...          ...       ...   \n",
       "295         795  PMC11192634  38351139   \n",
       "296         796  PMC11192660  38864935   \n",
       "297         797  PMC11192662  38581462   \n",
       "298         798  PMC11192683  38602530   \n",
       "299         799  PMC11192717  38906906   \n",
       "\n",
       "                                             sec-title  \\\n",
       "0    ['Introduction', 'Materials and methods', 'Res...   \n",
       "1    ['Introduction', 'Materials and Methods', 'Res...   \n",
       "2    ['Introduction', 'Methods', 'Results', 'Discus...   \n",
       "3    ['Introduction', 'Materials and Methods', 'Res...   \n",
       "4    ['1. Introduction', '2. Data and Methods', '3....   \n",
       "..                                                 ...   \n",
       "295  ['Introduction', 'RNA modification and lncRNA'...   \n",
       "296  ['Introduction', 'Parkinson‚Äôs disease treatm...   \n",
       "297  ['Introduction', 'Methods', 'Results', 'Discus...   \n",
       "298  ['Introduction', 'Methods', 'Results', 'Discus...   \n",
       "299  ['Introduction', 'Results', 'Discussion', 'Met...   \n",
       "\n",
       "                                              sec-norm  \n",
       "0    ['background', 'methods', 'results', 'conclusi...  \n",
       "1    ['background', 'methods', 'results', 'conclusi...  \n",
       "2    ['background', 'methods', 'results', 'conclusi...  \n",
       "3    ['background', 'methods', 'results', 'conclusi...  \n",
       "4    ['background', 'methods', 'results', 'conclusi...  \n",
       "..                                                 ...  \n",
       "295  ['background', 'background', 'background', 'co...  \n",
       "296  ['background', 'background', 'background', 'ba...  \n",
       "297  ['background', 'methods', 'results', 'conclusi...  \n",
       "298  ['background', 'methods', 'results', 'conclusi...  \n",
       "299  ['background', 'results', 'conclusions', 'meth...  \n",
       "\n",
       "[300 rows x 5 columns]"
      ]
     },
     "execution_count": 90,
     "metadata": {},
     "output_type": "execute_result"
    }
   ],
   "source": [
    "import pandas as pd\n",
    "train_df = pd.read_csv('Processed_Headings/seq_for_manual_labeled_removed_duplicate3.csv')\n",
    "test_df = pd.read_csv('Processed_Headings/manual_labels_test - first_200.csv')\n",
    "train_df"
   ]
  },
  {
   "cell_type": "code",
   "execution_count": 91,
   "metadata": {},
   "outputs": [
    {
     "data": {
      "text/html": [
       "<div>\n",
       "<style scoped>\n",
       "    .dataframe tbody tr th:only-of-type {\n",
       "        vertical-align: middle;\n",
       "    }\n",
       "\n",
       "    .dataframe tbody tr th {\n",
       "        vertical-align: top;\n",
       "    }\n",
       "\n",
       "    .dataframe thead th {\n",
       "        text-align: right;\n",
       "    }\n",
       "</style>\n",
       "<table border=\"1\" class=\"dataframe\">\n",
       "  <thead>\n",
       "    <tr style=\"text-align: right;\">\n",
       "      <th></th>\n",
       "      <th>PMCID</th>\n",
       "      <th>PMID</th>\n",
       "      <th>sec-title</th>\n",
       "      <th>sec-norm</th>\n",
       "    </tr>\n",
       "  </thead>\n",
       "  <tbody>\n",
       "    <tr>\n",
       "      <th>0</th>\n",
       "      <td>PMC10845090</td>\n",
       "      <td>37559243</td>\n",
       "      <td>['INTRODUCTION', 'INFLAMMATION AND MAJOR DEPRE...</td>\n",
       "      <td>['background', nan, nan, 'conclusions', 'concl...</td>\n",
       "    </tr>\n",
       "    <tr>\n",
       "      <th>1</th>\n",
       "      <td>PMC10845092</td>\n",
       "      <td>37644747</td>\n",
       "      <td>['INTRODUCTION', 'MATERIALS AND METHODS', 'RES...</td>\n",
       "      <td>['background', 'methods', 'results', 'conclusi...</td>\n",
       "    </tr>\n",
       "    <tr>\n",
       "      <th>2</th>\n",
       "      <td>PMC10845093</td>\n",
       "      <td>36815632</td>\n",
       "      <td>['INTRODUCTION', 'GENERALIZED ANXIETY DISORDER...</td>\n",
       "      <td>['background', nan, nan, nan, nan, 'conclusion...</td>\n",
       "    </tr>\n",
       "    <tr>\n",
       "      <th>3</th>\n",
       "      <td>PMC10850428</td>\n",
       "      <td>37553411</td>\n",
       "      <td>['Introduction', 'Methods', 'Results', 'Discus...</td>\n",
       "      <td>['background', 'methods', 'results', 'conclusi...</td>\n",
       "    </tr>\n",
       "    <tr>\n",
       "      <th>4</th>\n",
       "      <td>PMC1087202</td>\n",
       "      <td>15839744</td>\n",
       "      <td>['History and Epidemiology', 'Causative Organi...</td>\n",
       "      <td>[nan, nan, nan, nan, nan, nan, nan, 'conclusio...</td>\n",
       "    </tr>\n",
       "    <tr>\n",
       "      <th>...</th>\n",
       "      <td>...</td>\n",
       "      <td>...</td>\n",
       "      <td>...</td>\n",
       "      <td>...</td>\n",
       "    </tr>\n",
       "    <tr>\n",
       "      <th>95</th>\n",
       "      <td>PMC11141335</td>\n",
       "      <td>38827812</td>\n",
       "      <td>['Introduction', 'Methods and analysis', 'Disc...</td>\n",
       "      <td>['background', 'methods', 'conclusions', 'back...</td>\n",
       "    </tr>\n",
       "    <tr>\n",
       "      <th>96</th>\n",
       "      <td>PMC11142640</td>\n",
       "      <td>38819423</td>\n",
       "      <td>['Introduction', 'Results', 'Discussion', 'Mat...</td>\n",
       "      <td>['background', 'results', 'conclusions', 'meth...</td>\n",
       "    </tr>\n",
       "    <tr>\n",
       "      <th>97</th>\n",
       "      <td>PMC11143364</td>\n",
       "      <td>38822081</td>\n",
       "      <td>['Introduction', 'Results', 'Discussion', 'Mat...</td>\n",
       "      <td>['background', 'results', 'conclusions', 'meth...</td>\n",
       "    </tr>\n",
       "    <tr>\n",
       "      <th>98</th>\n",
       "      <td>PMC11144131</td>\n",
       "      <td>38822893</td>\n",
       "      <td>['Introduction', 'Participants, materials &amp; me...</td>\n",
       "      <td>['background', 'methods', 'results', 'conclusi...</td>\n",
       "    </tr>\n",
       "    <tr>\n",
       "      <th>99</th>\n",
       "      <td>PMC11144342</td>\n",
       "      <td>38824596</td>\n",
       "      <td>['Background', 'Materials and methods', 'Weste...</td>\n",
       "      <td>['background', 'methods', 'methods', 'results'...</td>\n",
       "    </tr>\n",
       "  </tbody>\n",
       "</table>\n",
       "<p>100 rows × 4 columns</p>\n",
       "</div>"
      ],
      "text/plain": [
       "          PMCID      PMID                                          sec-title  \\\n",
       "0   PMC10845090  37559243  ['INTRODUCTION', 'INFLAMMATION AND MAJOR DEPRE...   \n",
       "1   PMC10845092  37644747  ['INTRODUCTION', 'MATERIALS AND METHODS', 'RES...   \n",
       "2   PMC10845093  36815632  ['INTRODUCTION', 'GENERALIZED ANXIETY DISORDER...   \n",
       "3   PMC10850428  37553411  ['Introduction', 'Methods', 'Results', 'Discus...   \n",
       "4    PMC1087202  15839744  ['History and Epidemiology', 'Causative Organi...   \n",
       "..          ...       ...                                                ...   \n",
       "95  PMC11141335  38827812  ['Introduction', 'Methods and analysis', 'Disc...   \n",
       "96  PMC11142640  38819423  ['Introduction', 'Results', 'Discussion', 'Mat...   \n",
       "97  PMC11143364  38822081  ['Introduction', 'Results', 'Discussion', 'Mat...   \n",
       "98  PMC11144131  38822893  ['Introduction', 'Participants, materials & me...   \n",
       "99  PMC11144342  38824596  ['Background', 'Materials and methods', 'Weste...   \n",
       "\n",
       "                                             sec-norm  \n",
       "0   ['background', nan, nan, 'conclusions', 'concl...  \n",
       "1   ['background', 'methods', 'results', 'conclusi...  \n",
       "2   ['background', nan, nan, nan, nan, 'conclusion...  \n",
       "3   ['background', 'methods', 'results', 'conclusi...  \n",
       "4   [nan, nan, nan, nan, nan, nan, nan, 'conclusio...  \n",
       "..                                                ...  \n",
       "95  ['background', 'methods', 'conclusions', 'back...  \n",
       "96  ['background', 'results', 'conclusions', 'meth...  \n",
       "97  ['background', 'results', 'conclusions', 'meth...  \n",
       "98  ['background', 'methods', 'results', 'conclusi...  \n",
       "99  ['background', 'methods', 'methods', 'results'...  \n",
       "\n",
       "[100 rows x 4 columns]"
      ]
     },
     "execution_count": 91,
     "metadata": {},
     "output_type": "execute_result"
    }
   ],
   "source": [
    "test_df"
   ]
  },
  {
   "cell_type": "code",
   "execution_count": 92,
   "metadata": {},
   "outputs": [],
   "source": [
    "import ast\n",
    "import numpy as np\n",
    "\n",
    "# import numpy as np\n",
    "\n",
    "def eval_with_nan(x):\n",
    "    if isinstance(x, list):\n",
    "        return [np.nan if (isinstance(i, float) and np.isnan(i)) else i for i in x]\n",
    "    try:\n",
    "        # 這邊直接 eval 而且給定 locals\n",
    "        val = eval(x, {\"nan\": np.nan, \"NaN\": np.nan, \"np\": np})\n",
    "        if isinstance(val, list):\n",
    "            return [np.nan if (isinstance(i, float) and np.isnan(i)) else i for i in val]\n",
    "        else:\n",
    "            return val\n",
    "    except Exception:\n",
    "        return x  # 如果 eval 還失敗就原樣保留\n",
    "\n",
    "# 用在你的 dataframe 上\n",
    "# df_j['sec-norm'] = df_j['sec-norm'].apply(eval_with_nan)\n",
    "\n",
    "\n"
   ]
  },
  {
   "cell_type": "code",
   "execution_count": 93,
   "metadata": {},
   "outputs": [],
   "source": [
    "\n",
    "train_df['sec-title'] = train_df['sec-title'].apply(ast.literal_eval)\n",
    "test_df['sec-title'] = test_df['sec-title'].apply(ast.literal_eval)\n",
    "train_df['sec-norm'] = train_df['sec-norm'].apply(eval_with_nan)\n",
    "test_df['sec-norm'] = test_df['sec-norm'].apply(eval_with_nan)"
   ]
  },
  {
   "cell_type": "code",
   "execution_count": 94,
   "metadata": {},
   "outputs": [
    {
     "data": {
      "text/html": [
       "<div>\n",
       "<style scoped>\n",
       "    .dataframe tbody tr th:only-of-type {\n",
       "        vertical-align: middle;\n",
       "    }\n",
       "\n",
       "    .dataframe tbody tr th {\n",
       "        vertical-align: top;\n",
       "    }\n",
       "\n",
       "    .dataframe thead th {\n",
       "        text-align: right;\n",
       "    }\n",
       "</style>\n",
       "<table border=\"1\" class=\"dataframe\">\n",
       "  <thead>\n",
       "    <tr style=\"text-align: right;\">\n",
       "      <th></th>\n",
       "      <th>Unnamed: 0</th>\n",
       "      <th>PMCID</th>\n",
       "      <th>PMID</th>\n",
       "      <th>sec-title</th>\n",
       "      <th>sec-norm</th>\n",
       "    </tr>\n",
       "  </thead>\n",
       "  <tbody>\n",
       "    <tr>\n",
       "      <th>0</th>\n",
       "      <td>500</td>\n",
       "      <td>PMC11186413</td>\n",
       "      <td>38899045</td>\n",
       "      <td>[Introduction, Materials and methods, Results,...</td>\n",
       "      <td>[background, methods, results, conclusions, ba...</td>\n",
       "    </tr>\n",
       "    <tr>\n",
       "      <th>1</th>\n",
       "      <td>501</td>\n",
       "      <td>PMC11186417</td>\n",
       "      <td>38903923</td>\n",
       "      <td>[Introduction, Materials and Methods, Results,...</td>\n",
       "      <td>[background, methods, results, conclusions]</td>\n",
       "    </tr>\n",
       "    <tr>\n",
       "      <th>2</th>\n",
       "      <td>502</td>\n",
       "      <td>PMC11186419</td>\n",
       "      <td>38903929</td>\n",
       "      <td>[Introduction, Methods, Results, Discussion, C...</td>\n",
       "      <td>[background, methods, results, conclusions, co...</td>\n",
       "    </tr>\n",
       "    <tr>\n",
       "      <th>3</th>\n",
       "      <td>503</td>\n",
       "      <td>PMC11186422</td>\n",
       "      <td>38903925</td>\n",
       "      <td>[Introduction, Materials and Methods, Results,...</td>\n",
       "      <td>[background, methods, results, conclusions]</td>\n",
       "    </tr>\n",
       "    <tr>\n",
       "      <th>4</th>\n",
       "      <td>504</td>\n",
       "      <td>PMC11186426</td>\n",
       "      <td>38903919</td>\n",
       "      <td>[1. Introduction, 2. Data and Methods, 3. Resu...</td>\n",
       "      <td>[background, methods, results, conclusions, co...</td>\n",
       "    </tr>\n",
       "    <tr>\n",
       "      <th>...</th>\n",
       "      <td>...</td>\n",
       "      <td>...</td>\n",
       "      <td>...</td>\n",
       "      <td>...</td>\n",
       "      <td>...</td>\n",
       "    </tr>\n",
       "    <tr>\n",
       "      <th>295</th>\n",
       "      <td>795</td>\n",
       "      <td>PMC11192634</td>\n",
       "      <td>38351139</td>\n",
       "      <td>[Introduction, RNA modification and lncRNA, Fu...</td>\n",
       "      <td>[background, background, background, conclusions]</td>\n",
       "    </tr>\n",
       "    <tr>\n",
       "      <th>296</th>\n",
       "      <td>796</td>\n",
       "      <td>PMC11192660</td>\n",
       "      <td>38864935</td>\n",
       "      <td>[Introduction, Parkinson‚Äôs disease treatment...</td>\n",
       "      <td>[background, background, background, backgroun...</td>\n",
       "    </tr>\n",
       "    <tr>\n",
       "      <th>297</th>\n",
       "      <td>797</td>\n",
       "      <td>PMC11192662</td>\n",
       "      <td>38581462</td>\n",
       "      <td>[Introduction, Methods, Results, Discussion, C...</td>\n",
       "      <td>[background, methods, results, conclusions, co...</td>\n",
       "    </tr>\n",
       "    <tr>\n",
       "      <th>298</th>\n",
       "      <td>798</td>\n",
       "      <td>PMC11192683</td>\n",
       "      <td>38602530</td>\n",
       "      <td>[Introduction, Methods, Results, Discussion]</td>\n",
       "      <td>[background, methods, results, conclusions]</td>\n",
       "    </tr>\n",
       "    <tr>\n",
       "      <th>299</th>\n",
       "      <td>799</td>\n",
       "      <td>PMC11192717</td>\n",
       "      <td>38906906</td>\n",
       "      <td>[Introduction, Results, Discussion, Methods, S...</td>\n",
       "      <td>[background, results, conclusions, methods, ba...</td>\n",
       "    </tr>\n",
       "  </tbody>\n",
       "</table>\n",
       "<p>300 rows × 5 columns</p>\n",
       "</div>"
      ],
      "text/plain": [
       "     Unnamed: 0        PMCID      PMID  \\\n",
       "0           500  PMC11186413  38899045   \n",
       "1           501  PMC11186417  38903923   \n",
       "2           502  PMC11186419  38903929   \n",
       "3           503  PMC11186422  38903925   \n",
       "4           504  PMC11186426  38903919   \n",
       "..          ...          ...       ...   \n",
       "295         795  PMC11192634  38351139   \n",
       "296         796  PMC11192660  38864935   \n",
       "297         797  PMC11192662  38581462   \n",
       "298         798  PMC11192683  38602530   \n",
       "299         799  PMC11192717  38906906   \n",
       "\n",
       "                                             sec-title  \\\n",
       "0    [Introduction, Materials and methods, Results,...   \n",
       "1    [Introduction, Materials and Methods, Results,...   \n",
       "2    [Introduction, Methods, Results, Discussion, C...   \n",
       "3    [Introduction, Materials and Methods, Results,...   \n",
       "4    [1. Introduction, 2. Data and Methods, 3. Resu...   \n",
       "..                                                 ...   \n",
       "295  [Introduction, RNA modification and lncRNA, Fu...   \n",
       "296  [Introduction, Parkinson‚Äôs disease treatment...   \n",
       "297  [Introduction, Methods, Results, Discussion, C...   \n",
       "298       [Introduction, Methods, Results, Discussion]   \n",
       "299  [Introduction, Results, Discussion, Methods, S...   \n",
       "\n",
       "                                              sec-norm  \n",
       "0    [background, methods, results, conclusions, ba...  \n",
       "1          [background, methods, results, conclusions]  \n",
       "2    [background, methods, results, conclusions, co...  \n",
       "3          [background, methods, results, conclusions]  \n",
       "4    [background, methods, results, conclusions, co...  \n",
       "..                                                 ...  \n",
       "295  [background, background, background, conclusions]  \n",
       "296  [background, background, background, backgroun...  \n",
       "297  [background, methods, results, conclusions, co...  \n",
       "298        [background, methods, results, conclusions]  \n",
       "299  [background, results, conclusions, methods, ba...  \n",
       "\n",
       "[300 rows x 5 columns]"
      ]
     },
     "execution_count": 94,
     "metadata": {},
     "output_type": "execute_result"
    }
   ],
   "source": [
    "train_df"
   ]
  },
  {
   "cell_type": "code",
   "execution_count": 95,
   "metadata": {
    "scrolled": true
   },
   "outputs": [
    {
     "data": {
      "text/html": [
       "<div>\n",
       "<style scoped>\n",
       "    .dataframe tbody tr th:only-of-type {\n",
       "        vertical-align: middle;\n",
       "    }\n",
       "\n",
       "    .dataframe tbody tr th {\n",
       "        vertical-align: top;\n",
       "    }\n",
       "\n",
       "    .dataframe thead th {\n",
       "        text-align: right;\n",
       "    }\n",
       "</style>\n",
       "<table border=\"1\" class=\"dataframe\">\n",
       "  <thead>\n",
       "    <tr style=\"text-align: right;\">\n",
       "      <th></th>\n",
       "      <th>PMCID</th>\n",
       "      <th>PMID</th>\n",
       "      <th>sec-title</th>\n",
       "      <th>sec-norm</th>\n",
       "    </tr>\n",
       "  </thead>\n",
       "  <tbody>\n",
       "    <tr>\n",
       "      <th>0</th>\n",
       "      <td>PMC10845090</td>\n",
       "      <td>37559243</td>\n",
       "      <td>[INTRODUCTION, INFLAMMATION AND MAJOR DEPRESSI...</td>\n",
       "      <td>[background, nan, nan, conclusions, conclusion...</td>\n",
       "    </tr>\n",
       "    <tr>\n",
       "      <th>1</th>\n",
       "      <td>PMC10845092</td>\n",
       "      <td>37644747</td>\n",
       "      <td>[INTRODUCTION, MATERIALS AND METHODS, RESULTS,...</td>\n",
       "      <td>[background, methods, results, conclusions, co...</td>\n",
       "    </tr>\n",
       "    <tr>\n",
       "      <th>2</th>\n",
       "      <td>PMC10845093</td>\n",
       "      <td>36815632</td>\n",
       "      <td>[INTRODUCTION, GENERALIZED ANXIETY DISORDER (G...</td>\n",
       "      <td>[background, nan, nan, nan, nan, conclusions, ...</td>\n",
       "    </tr>\n",
       "    <tr>\n",
       "      <th>3</th>\n",
       "      <td>PMC10850428</td>\n",
       "      <td>37553411</td>\n",
       "      <td>[Introduction, Methods, Results, Discussion, C...</td>\n",
       "      <td>[background, methods, results, conclusions, co...</td>\n",
       "    </tr>\n",
       "    <tr>\n",
       "      <th>4</th>\n",
       "      <td>PMC1087202</td>\n",
       "      <td>15839744</td>\n",
       "      <td>[History and Epidemiology, Causative Organism ...</td>\n",
       "      <td>[nan, nan, nan, nan, nan, nan, nan, conclusion...</td>\n",
       "    </tr>\n",
       "    <tr>\n",
       "      <th>...</th>\n",
       "      <td>...</td>\n",
       "      <td>...</td>\n",
       "      <td>...</td>\n",
       "      <td>...</td>\n",
       "    </tr>\n",
       "    <tr>\n",
       "      <th>95</th>\n",
       "      <td>PMC11141335</td>\n",
       "      <td>38827812</td>\n",
       "      <td>[Introduction, Methods and analysis, Discussio...</td>\n",
       "      <td>[background, methods, conclusions, background,...</td>\n",
       "    </tr>\n",
       "    <tr>\n",
       "      <th>96</th>\n",
       "      <td>PMC11142640</td>\n",
       "      <td>38819423</td>\n",
       "      <td>[Introduction, Results, Discussion, Materials ...</td>\n",
       "      <td>[background, results, conclusions, methods, ba...</td>\n",
       "    </tr>\n",
       "    <tr>\n",
       "      <th>97</th>\n",
       "      <td>PMC11143364</td>\n",
       "      <td>38822081</td>\n",
       "      <td>[Introduction, Results, Discussion, Material a...</td>\n",
       "      <td>[background, results, conclusions, methods, ba...</td>\n",
       "    </tr>\n",
       "    <tr>\n",
       "      <th>98</th>\n",
       "      <td>PMC11144131</td>\n",
       "      <td>38822893</td>\n",
       "      <td>[Introduction, Participants, materials &amp; metho...</td>\n",
       "      <td>[background, methods, results, conclusions, co...</td>\n",
       "    </tr>\n",
       "    <tr>\n",
       "      <th>99</th>\n",
       "      <td>PMC11144342</td>\n",
       "      <td>38824596</td>\n",
       "      <td>[Background, Materials and methods, Western bl...</td>\n",
       "      <td>[background, methods, methods, results, conclu...</td>\n",
       "    </tr>\n",
       "  </tbody>\n",
       "</table>\n",
       "<p>100 rows × 4 columns</p>\n",
       "</div>"
      ],
      "text/plain": [
       "          PMCID      PMID                                          sec-title  \\\n",
       "0   PMC10845090  37559243  [INTRODUCTION, INFLAMMATION AND MAJOR DEPRESSI...   \n",
       "1   PMC10845092  37644747  [INTRODUCTION, MATERIALS AND METHODS, RESULTS,...   \n",
       "2   PMC10845093  36815632  [INTRODUCTION, GENERALIZED ANXIETY DISORDER (G...   \n",
       "3   PMC10850428  37553411  [Introduction, Methods, Results, Discussion, C...   \n",
       "4    PMC1087202  15839744  [History and Epidemiology, Causative Organism ...   \n",
       "..          ...       ...                                                ...   \n",
       "95  PMC11141335  38827812  [Introduction, Methods and analysis, Discussio...   \n",
       "96  PMC11142640  38819423  [Introduction, Results, Discussion, Materials ...   \n",
       "97  PMC11143364  38822081  [Introduction, Results, Discussion, Material a...   \n",
       "98  PMC11144131  38822893  [Introduction, Participants, materials & metho...   \n",
       "99  PMC11144342  38824596  [Background, Materials and methods, Western bl...   \n",
       "\n",
       "                                             sec-norm  \n",
       "0   [background, nan, nan, conclusions, conclusion...  \n",
       "1   [background, methods, results, conclusions, co...  \n",
       "2   [background, nan, nan, nan, nan, conclusions, ...  \n",
       "3   [background, methods, results, conclusions, co...  \n",
       "4   [nan, nan, nan, nan, nan, nan, nan, conclusion...  \n",
       "..                                                ...  \n",
       "95  [background, methods, conclusions, background,...  \n",
       "96  [background, results, conclusions, methods, ba...  \n",
       "97  [background, results, conclusions, methods, ba...  \n",
       "98  [background, methods, results, conclusions, co...  \n",
       "99  [background, methods, methods, results, conclu...  \n",
       "\n",
       "[100 rows x 4 columns]"
      ]
     },
     "execution_count": 95,
     "metadata": {},
     "output_type": "execute_result"
    }
   ],
   "source": [
    "test_df"
   ]
  },
  {
   "cell_type": "code",
   "execution_count": 96,
   "metadata": {},
   "outputs": [],
   "source": [
    "import pandas as pd\n",
    "\n",
    "def convert_to_sep_format(row):\n",
    "    titles = row[\"sec-title\"]  # 取得標題列表\n",
    "    labels = row[\"sec-norm\"]   # 取得標籤列表\n",
    "\n",
    "    inputs_with_sep = []\n",
    "    labels_with_sep = []\n",
    "\n",
    "    for i, title in enumerate(titles):\n",
    "        inputs_with_sep.append(title)\n",
    "        labels_with_sep.append(\"O\")  # 一般 token 標記為 \"O\"\n",
    "        \n",
    "        # 在每個標題後面插入 [SEP]，對應標籤來自 sec-norm\n",
    "        if i < len(labels):  # 確保標籤數量正確\n",
    "            inputs_with_sep.append(\"[SEP]\")\n",
    "            if pd.isna(labels[i]):\n",
    "                labels_with_sep.append('-100') ## none labeled\n",
    "            else:\n",
    "                labels_with_sep.append(labels[i])  # 讓 [SEP] 位置承擔標籤\n",
    "\n",
    "    return pd.Series([inputs_with_sep, labels_with_sep])\n",
    "\n",
    "\n",
    "# 對 DataFrame 進行轉換\n",
    "train_df[[\"inputs_with_sep\", \"labels_with_sep\"]] = train_df.apply(convert_to_sep_format, axis=1)\n",
    "train_df = train_df[\n",
    "    train_df['labels_with_sep'].apply(len) - train_df['labels_with_sep'].apply(lambda x: x.count('O')) > 0\n",
    "]\n",
    "\n",
    "test_df[[\"inputs_with_sep\", \"labels_with_sep\"]] = test_df.apply(convert_to_sep_format, axis=1)\n",
    "test_df = test_df[\n",
    "    test_df['labels_with_sep'].apply(len) - test_df['labels_with_sep'].apply(lambda x: x.count('O')) > 0\n",
    "]"
   ]
  },
  {
   "cell_type": "code",
   "execution_count": 97,
   "metadata": {},
   "outputs": [
    {
     "data": {
      "text/html": [
       "<div>\n",
       "<style scoped>\n",
       "    .dataframe tbody tr th:only-of-type {\n",
       "        vertical-align: middle;\n",
       "    }\n",
       "\n",
       "    .dataframe tbody tr th {\n",
       "        vertical-align: top;\n",
       "    }\n",
       "\n",
       "    .dataframe thead th {\n",
       "        text-align: right;\n",
       "    }\n",
       "</style>\n",
       "<table border=\"1\" class=\"dataframe\">\n",
       "  <thead>\n",
       "    <tr style=\"text-align: right;\">\n",
       "      <th></th>\n",
       "      <th>Unnamed: 0</th>\n",
       "      <th>PMCID</th>\n",
       "      <th>PMID</th>\n",
       "      <th>inputs_with_sep</th>\n",
       "      <th>labels_with_sep</th>\n",
       "    </tr>\n",
       "  </thead>\n",
       "  <tbody>\n",
       "    <tr>\n",
       "      <th>0</th>\n",
       "      <td>500</td>\n",
       "      <td>PMC11186413</td>\n",
       "      <td>38899045</td>\n",
       "      <td>[Introduction, [SEP], Materials and methods, [...</td>\n",
       "      <td>[O, background, O, methods, O, results, O, con...</td>\n",
       "    </tr>\n",
       "    <tr>\n",
       "      <th>1</th>\n",
       "      <td>501</td>\n",
       "      <td>PMC11186417</td>\n",
       "      <td>38903923</td>\n",
       "      <td>[Introduction, [SEP], Materials and Methods, [...</td>\n",
       "      <td>[O, background, O, methods, O, results, O, con...</td>\n",
       "    </tr>\n",
       "    <tr>\n",
       "      <th>2</th>\n",
       "      <td>502</td>\n",
       "      <td>PMC11186419</td>\n",
       "      <td>38903929</td>\n",
       "      <td>[Introduction, [SEP], Methods, [SEP], Results,...</td>\n",
       "      <td>[O, background, O, methods, O, results, O, con...</td>\n",
       "    </tr>\n",
       "    <tr>\n",
       "      <th>3</th>\n",
       "      <td>503</td>\n",
       "      <td>PMC11186422</td>\n",
       "      <td>38903925</td>\n",
       "      <td>[Introduction, [SEP], Materials and Methods, [...</td>\n",
       "      <td>[O, background, O, methods, O, results, O, con...</td>\n",
       "    </tr>\n",
       "    <tr>\n",
       "      <th>4</th>\n",
       "      <td>504</td>\n",
       "      <td>PMC11186426</td>\n",
       "      <td>38903919</td>\n",
       "      <td>[1. Introduction, [SEP], 2. Data and Methods, ...</td>\n",
       "      <td>[O, background, O, methods, O, results, O, con...</td>\n",
       "    </tr>\n",
       "    <tr>\n",
       "      <th>...</th>\n",
       "      <td>...</td>\n",
       "      <td>...</td>\n",
       "      <td>...</td>\n",
       "      <td>...</td>\n",
       "      <td>...</td>\n",
       "    </tr>\n",
       "    <tr>\n",
       "      <th>295</th>\n",
       "      <td>795</td>\n",
       "      <td>PMC11192634</td>\n",
       "      <td>38351139</td>\n",
       "      <td>[Introduction, [SEP], RNA modification and lnc...</td>\n",
       "      <td>[O, background, O, background, O, background, ...</td>\n",
       "    </tr>\n",
       "    <tr>\n",
       "      <th>296</th>\n",
       "      <td>796</td>\n",
       "      <td>PMC11192660</td>\n",
       "      <td>38864935</td>\n",
       "      <td>[Introduction, [SEP], Parkinson‚Äôs disease tr...</td>\n",
       "      <td>[O, background, O, background, O, background, ...</td>\n",
       "    </tr>\n",
       "    <tr>\n",
       "      <th>297</th>\n",
       "      <td>797</td>\n",
       "      <td>PMC11192662</td>\n",
       "      <td>38581462</td>\n",
       "      <td>[Introduction, [SEP], Methods, [SEP], Results,...</td>\n",
       "      <td>[O, background, O, methods, O, results, O, con...</td>\n",
       "    </tr>\n",
       "    <tr>\n",
       "      <th>298</th>\n",
       "      <td>798</td>\n",
       "      <td>PMC11192683</td>\n",
       "      <td>38602530</td>\n",
       "      <td>[Introduction, [SEP], Methods, [SEP], Results,...</td>\n",
       "      <td>[O, background, O, methods, O, results, O, con...</td>\n",
       "    </tr>\n",
       "    <tr>\n",
       "      <th>299</th>\n",
       "      <td>799</td>\n",
       "      <td>PMC11192717</td>\n",
       "      <td>38906906</td>\n",
       "      <td>[Introduction, [SEP], Results, [SEP], Discussi...</td>\n",
       "      <td>[O, background, O, results, O, conclusions, O,...</td>\n",
       "    </tr>\n",
       "  </tbody>\n",
       "</table>\n",
       "<p>300 rows × 5 columns</p>\n",
       "</div>"
      ],
      "text/plain": [
       "     Unnamed: 0        PMCID      PMID  \\\n",
       "0           500  PMC11186413  38899045   \n",
       "1           501  PMC11186417  38903923   \n",
       "2           502  PMC11186419  38903929   \n",
       "3           503  PMC11186422  38903925   \n",
       "4           504  PMC11186426  38903919   \n",
       "..          ...          ...       ...   \n",
       "295         795  PMC11192634  38351139   \n",
       "296         796  PMC11192660  38864935   \n",
       "297         797  PMC11192662  38581462   \n",
       "298         798  PMC11192683  38602530   \n",
       "299         799  PMC11192717  38906906   \n",
       "\n",
       "                                       inputs_with_sep  \\\n",
       "0    [Introduction, [SEP], Materials and methods, [...   \n",
       "1    [Introduction, [SEP], Materials and Methods, [...   \n",
       "2    [Introduction, [SEP], Methods, [SEP], Results,...   \n",
       "3    [Introduction, [SEP], Materials and Methods, [...   \n",
       "4    [1. Introduction, [SEP], 2. Data and Methods, ...   \n",
       "..                                                 ...   \n",
       "295  [Introduction, [SEP], RNA modification and lnc...   \n",
       "296  [Introduction, [SEP], Parkinson‚Äôs disease tr...   \n",
       "297  [Introduction, [SEP], Methods, [SEP], Results,...   \n",
       "298  [Introduction, [SEP], Methods, [SEP], Results,...   \n",
       "299  [Introduction, [SEP], Results, [SEP], Discussi...   \n",
       "\n",
       "                                       labels_with_sep  \n",
       "0    [O, background, O, methods, O, results, O, con...  \n",
       "1    [O, background, O, methods, O, results, O, con...  \n",
       "2    [O, background, O, methods, O, results, O, con...  \n",
       "3    [O, background, O, methods, O, results, O, con...  \n",
       "4    [O, background, O, methods, O, results, O, con...  \n",
       "..                                                 ...  \n",
       "295  [O, background, O, background, O, background, ...  \n",
       "296  [O, background, O, background, O, background, ...  \n",
       "297  [O, background, O, methods, O, results, O, con...  \n",
       "298  [O, background, O, methods, O, results, O, con...  \n",
       "299  [O, background, O, results, O, conclusions, O,...  \n",
       "\n",
       "[300 rows x 5 columns]"
      ]
     },
     "execution_count": 97,
     "metadata": {},
     "output_type": "execute_result"
    }
   ],
   "source": [
    "train_df = train_df.drop(columns=['sec-title', 'sec-norm'])\n",
    "train_df"
   ]
  },
  {
   "cell_type": "code",
   "execution_count": 98,
   "metadata": {},
   "outputs": [],
   "source": [
    "# train_df.to_csv('Processed_Headings/train_df_no_none.csv')"
   ]
  },
  {
   "cell_type": "markdown",
   "metadata": {},
   "source": [
    "### model"
   ]
  },
  {
   "cell_type": "code",
   "execution_count": 99,
   "metadata": {},
   "outputs": [],
   "source": [
    "from torch.utils.data import DataLoader\n",
    "from transformers import BertTokenizerFast\n",
    "\n",
    "from transformers import AutoTokenizer, AutoModel\n",
    "\n",
    "\n",
    "\n",
    "tokenizer = AutoTokenizer.from_pretrained(\"microsoft/BiomedNLP-BiomedBERT-base-uncased-abstract-fulltext\")\n",
    "\n",
    "MAX_LENGTH = 20  # 你希望的最大序列長度\n",
    "\n",
    "def collate_fn(batch):\n",
    "    input_ids, attention_masks, labels, word_lists, word_id_lists = zip(*batch)\n",
    "    return (\n",
    "        torch.stack(input_ids),\n",
    "        torch.stack(attention_masks),\n",
    "        torch.stack(labels),\n",
    "        list(word_lists),\n",
    "        list(word_id_lists)  # list of lists，不要 stack\n",
    "    )\n",
    "\n"
   ]
  },
  {
   "cell_type": "code",
   "execution_count": 100,
   "metadata": {},
   "outputs": [],
   "source": [
    "import torch\n",
    "from transformers import BertTokenizer\n",
    "from torch.utils.data import Dataset, DataLoader\n",
    "from collections import defaultdict\n",
    "\n",
    "# 載入 BERT Tokenizer\n",
    "# tokenizer = BertTokenizer.from_pretrained(\"bert-base-uncased\")\n",
    "\n",
    "# 建立標籤映射表\n",
    "\n",
    "label2id = {\"O\": 0, \"objective\": 1, \"background\": 2, \"methods\": 3, \"results\": 4, \"conclusions\": 5}\n",
    "# label2id = defaultdict(int, label2id)\n",
    "id2label = {v: k for k, v in label2id.items()}\n",
    "\n",
    "class SectionDataset(Dataset):\n",
    "    def __init__(self, df, tokenizer, max_length=MAX_LENGTH):\n",
    "        self.df = df\n",
    "        self.tokenizer = tokenizer\n",
    "        self.max_length = max_length\n",
    "\n",
    "    def __len__(self):\n",
    "        return len(self.df)\n",
    "\n",
    "    def __getitem__(self, idx):\n",
    "        row = self.df.iloc[idx]\n",
    "        inputs_with_sep = ['[CLS]'] + row[\"inputs_with_sep\"]  # 原始詞列表\n",
    "        label_with_sep = [0] + row[\"labels_with_sep\"]\n",
    "\n",
    "        # Tokenize\n",
    "        encoded = self.tokenizer(\n",
    "            inputs_with_sep,\n",
    "            is_split_into_words=True,\n",
    "            padding=\"max_length\",\n",
    "            truncation=True,\n",
    "            max_length=self.max_length,\n",
    "            return_tensors=\"pt\"\n",
    "        )\n",
    "\n",
    "        input_ids = encoded[\"input_ids\"].squeeze(0)\n",
    "        attention_mask = encoded[\"attention_mask\"].squeeze(0)\n",
    "\n",
    "        # 根據 word_ids 展開 label 給每個 token\n",
    "        word_ids = encoded.word_ids(batch_index=0)\n",
    "        labels_per_token = []\n",
    "\n",
    "        for word_idx in word_ids:\n",
    "            if word_idx is None:\n",
    "                labels_per_token.append(-1)  # special tokens\n",
    "            else:\n",
    "                label_name = label_with_sep[word_idx]\n",
    "                label_id = label2id.get(label_name, 0)  # fallback 用 \"O\"\n",
    "                labels_per_token.append(label_id)\n",
    "\n",
    "        labels = torch.tensor(labels_per_token, dtype=torch.long)\n",
    "\n",
    "        return input_ids, attention_mask, labels, inputs_with_sep, word_ids\n",
    "\n",
    "\n",
    "from sklearn.model_selection import train_test_split\n",
    "\n",
    "train_dataset = SectionDataset(train_df, tokenizer)\n",
    "test_dataset = SectionDataset(test_df, tokenizer)\n",
    "\n",
    "train_loader = DataLoader(train_dataset, batch_size=10, shuffle=True, collate_fn=collate_fn)\n",
    "test_loader = DataLoader(test_dataset, batch_size=10, shuffle=True, collate_fn=collate_fn)\n",
    "\n"
   ]
  },
  {
   "cell_type": "code",
   "execution_count": 101,
   "metadata": {},
   "outputs": [
    {
     "name": "stdout",
     "output_type": "stream",
     "text": [
      "(tensor([    2,     2,  6935,     3,  4751,  1930,  2860,     3,  2274,     3,\n",
      "         7248,     3,  2230,  6855, 12977,     3,  7809, 12977,     3,     3]), tensor([1, 1, 1, 1, 1, 1, 1, 1, 1, 1, 1, 1, 1, 1, 1, 1, 1, 1, 1, 1]), tensor([-1,  0,  0,  2,  0,  0,  0,  3,  0,  4,  0,  5,  0,  0,  0,  2,  0,  0,\n",
      "         2, -1]), ['[CLS]', 'Introduction', '[SEP]', 'Materials and methods', '[SEP]', 'Results', '[SEP]', 'Discussion', '[SEP]', 'Data availability statement', '[SEP]', 'Ethics statement', '[SEP]', 'Author contributions', '[SEP]', 'Conflict of interest', '[SEP]', 'Publisher‚Äôs note', '[SEP]', 'Supplementary material', '[SEP]'], [None, 0, 1, 2, 3, 3, 3, 4, 5, 6, 7, 8, 9, 9, 9, 10, 11, 11, 12, None])\n"
     ]
    }
   ],
   "source": [
    "sample = train_dataset[0]\n",
    "print(sample)"
   ]
  },
  {
   "cell_type": "code",
   "execution_count": 102,
   "metadata": {},
   "outputs": [],
   "source": [
    "# !pip uninstall TorchCRF\n",
    "# !pip install transformers==4.30.2\n"
   ]
  },
  {
   "cell_type": "code",
   "execution_count": 103,
   "metadata": {},
   "outputs": [],
   "source": [
    "import torch.nn as nn\n",
    "from transformers import BertModel\n",
    "from torchcrf import CRF\n",
    "\n",
    "class BERT_CRF(nn.Module):\n",
    "    def __init__(self, num_labels):\n",
    "        super(BERT_CRF, self).__init__()\n",
    "        self.bert = AutoModel.from_pretrained(\"microsoft/BiomedNLP-BiomedBERT-base-uncased-abstract-fulltext\")\n",
    "        self.hidden_dim = self.bert.config.hidden_size\n",
    "        self.fc = nn.Linear(self.hidden_dim, num_labels)  # 轉換為標籤 logits\n",
    "        self.crf = CRF(num_labels, batch_first=True)  # CRF 層\n",
    "\n",
    "    def forward(self, input_ids, attention_mask, labels=None):\n",
    "        outputs = self.bert(input_ids, attention_mask=attention_mask)\n",
    "        sequence_output = outputs.last_hidden_state  # (batch_size, seq_len, hidden_dim)\n",
    "        emissions = self.fc(sequence_output)  # (batch_size, seq_len, num_labels)\n",
    "\n",
    "        if labels is not None:\n",
    "            loss = -self.crf(emissions, labels, mask=attention_mask.byte(), reduction=\"mean\")\n",
    "            return loss\n",
    "        else:\n",
    "            predictions = self.crf.decode(emissions, mask=attention_mask.byte())\n",
    "            return predictions\n"
   ]
  },
  {
   "cell_type": "code",
   "execution_count": 104,
   "metadata": {},
   "outputs": [
    {
     "name": "stderr",
     "output_type": "stream",
     "text": [
      "Epoch 1: 100%|██████████| 30/30 [00:01<00:00, 18.82it/s]\n"
     ]
    },
    {
     "name": "stdout",
     "output_type": "stream",
     "text": [
      "Epoch 1/100, Loss: 392.1104\n"
     ]
    },
    {
     "name": "stderr",
     "output_type": "stream",
     "text": [
      "Epoch 2: 100%|██████████| 30/30 [00:01<00:00, 19.47it/s]\n"
     ]
    },
    {
     "name": "stdout",
     "output_type": "stream",
     "text": [
      "Epoch 2/100, Loss: 89.1580\n"
     ]
    },
    {
     "name": "stderr",
     "output_type": "stream",
     "text": [
      "Epoch 3: 100%|██████████| 30/30 [00:01<00:00, 19.45it/s]\n"
     ]
    },
    {
     "name": "stdout",
     "output_type": "stream",
     "text": [
      "Epoch 3/100, Loss: 41.4173\n"
     ]
    },
    {
     "name": "stderr",
     "output_type": "stream",
     "text": [
      "Epoch 4: 100%|██████████| 30/30 [00:01<00:00, 19.46it/s]\n"
     ]
    },
    {
     "name": "stdout",
     "output_type": "stream",
     "text": [
      "Epoch 4/100, Loss: 65.0419\n"
     ]
    },
    {
     "name": "stderr",
     "output_type": "stream",
     "text": [
      "Epoch 5: 100%|██████████| 30/30 [00:01<00:00, 19.52it/s]\n"
     ]
    },
    {
     "name": "stdout",
     "output_type": "stream",
     "text": [
      "Epoch 5/100, Loss: 27.7890\n"
     ]
    },
    {
     "name": "stderr",
     "output_type": "stream",
     "text": [
      "Epoch 6: 100%|██████████| 30/30 [00:01<00:00, 19.45it/s]\n"
     ]
    },
    {
     "name": "stdout",
     "output_type": "stream",
     "text": [
      "Epoch 6/100, Loss: 11.6292\n"
     ]
    },
    {
     "name": "stderr",
     "output_type": "stream",
     "text": [
      "Epoch 7: 100%|██████████| 30/30 [00:01<00:00, 19.33it/s]\n"
     ]
    },
    {
     "name": "stdout",
     "output_type": "stream",
     "text": [
      "Epoch 7/100, Loss: 6.2509\n"
     ]
    },
    {
     "name": "stderr",
     "output_type": "stream",
     "text": [
      "Epoch 8: 100%|██████████| 30/30 [00:01<00:00, 19.50it/s]\n"
     ]
    },
    {
     "name": "stdout",
     "output_type": "stream",
     "text": [
      "Epoch 8/100, Loss: 4.7195\n"
     ]
    },
    {
     "name": "stderr",
     "output_type": "stream",
     "text": [
      "Epoch 9: 100%|██████████| 30/30 [00:01<00:00, 19.40it/s]\n"
     ]
    },
    {
     "name": "stdout",
     "output_type": "stream",
     "text": [
      "Epoch 9/100, Loss: 3.1825\n"
     ]
    },
    {
     "name": "stderr",
     "output_type": "stream",
     "text": [
      "Epoch 10: 100%|██████████| 30/30 [00:01<00:00, 19.51it/s]\n"
     ]
    },
    {
     "name": "stdout",
     "output_type": "stream",
     "text": [
      "Epoch 10/100, Loss: 3.3072\n"
     ]
    },
    {
     "name": "stderr",
     "output_type": "stream",
     "text": [
      "Epoch 11: 100%|██████████| 30/30 [00:01<00:00, 19.46it/s]\n"
     ]
    },
    {
     "name": "stdout",
     "output_type": "stream",
     "text": [
      "Epoch 11/100, Loss: 3.8729\n"
     ]
    },
    {
     "name": "stderr",
     "output_type": "stream",
     "text": [
      "Epoch 12: 100%|██████████| 30/30 [00:01<00:00, 19.51it/s]\n"
     ]
    },
    {
     "name": "stdout",
     "output_type": "stream",
     "text": [
      "Epoch 12/100, Loss: 2.3480\n"
     ]
    },
    {
     "name": "stderr",
     "output_type": "stream",
     "text": [
      "Epoch 13: 100%|██████████| 30/30 [00:01<00:00, 19.46it/s]\n"
     ]
    },
    {
     "name": "stdout",
     "output_type": "stream",
     "text": [
      "Epoch 13/100, Loss: 3.8278\n"
     ]
    },
    {
     "name": "stderr",
     "output_type": "stream",
     "text": [
      "Epoch 14: 100%|██████████| 30/30 [00:01<00:00, 19.42it/s]\n"
     ]
    },
    {
     "name": "stdout",
     "output_type": "stream",
     "text": [
      "Epoch 14/100, Loss: 3.1240\n"
     ]
    },
    {
     "name": "stderr",
     "output_type": "stream",
     "text": [
      "Epoch 15: 100%|██████████| 30/30 [00:01<00:00, 19.23it/s]\n"
     ]
    },
    {
     "name": "stdout",
     "output_type": "stream",
     "text": [
      "Epoch 15/100, Loss: 3.3555\n"
     ]
    },
    {
     "name": "stderr",
     "output_type": "stream",
     "text": [
      "Epoch 16: 100%|██████████| 30/30 [00:01<00:00, 19.24it/s]\n"
     ]
    },
    {
     "name": "stdout",
     "output_type": "stream",
     "text": [
      "Epoch 16/100, Loss: 1.7161\n"
     ]
    },
    {
     "name": "stderr",
     "output_type": "stream",
     "text": [
      "Epoch 17: 100%|██████████| 30/30 [00:01<00:00, 19.21it/s]\n"
     ]
    },
    {
     "name": "stdout",
     "output_type": "stream",
     "text": [
      "Epoch 17/100, Loss: 3.7416\n"
     ]
    },
    {
     "name": "stderr",
     "output_type": "stream",
     "text": [
      "Epoch 18: 100%|██████████| 30/30 [00:01<00:00, 19.23it/s]\n"
     ]
    },
    {
     "name": "stdout",
     "output_type": "stream",
     "text": [
      "Epoch 18/100, Loss: 2.6201\n"
     ]
    },
    {
     "name": "stderr",
     "output_type": "stream",
     "text": [
      "Epoch 19: 100%|██████████| 30/30 [00:01<00:00, 19.23it/s]\n"
     ]
    },
    {
     "name": "stdout",
     "output_type": "stream",
     "text": [
      "Epoch 19/100, Loss: 1.8138\n"
     ]
    },
    {
     "name": "stderr",
     "output_type": "stream",
     "text": [
      "Epoch 20: 100%|██████████| 30/30 [00:01<00:00, 19.22it/s]\n"
     ]
    },
    {
     "name": "stdout",
     "output_type": "stream",
     "text": [
      "Epoch 20/100, Loss: 1.9025\n"
     ]
    },
    {
     "name": "stderr",
     "output_type": "stream",
     "text": [
      "Epoch 21: 100%|██████████| 30/30 [00:01<00:00, 19.22it/s]\n"
     ]
    },
    {
     "name": "stdout",
     "output_type": "stream",
     "text": [
      "Epoch 21/100, Loss: 4.5459\n"
     ]
    },
    {
     "name": "stderr",
     "output_type": "stream",
     "text": [
      "Epoch 22: 100%|██████████| 30/30 [00:01<00:00, 19.26it/s]\n"
     ]
    },
    {
     "name": "stdout",
     "output_type": "stream",
     "text": [
      "Epoch 22/100, Loss: 5.1895\n"
     ]
    },
    {
     "name": "stderr",
     "output_type": "stream",
     "text": [
      "Epoch 23: 100%|██████████| 30/30 [00:01<00:00, 19.34it/s]\n"
     ]
    },
    {
     "name": "stdout",
     "output_type": "stream",
     "text": [
      "Epoch 23/100, Loss: 8.2736\n"
     ]
    },
    {
     "name": "stderr",
     "output_type": "stream",
     "text": [
      "Epoch 24: 100%|██████████| 30/30 [00:01<00:00, 19.52it/s]\n"
     ]
    },
    {
     "name": "stdout",
     "output_type": "stream",
     "text": [
      "Epoch 24/100, Loss: 10.0488\n"
     ]
    },
    {
     "name": "stderr",
     "output_type": "stream",
     "text": [
      "Epoch 25: 100%|██████████| 30/30 [00:01<00:00, 19.38it/s]\n"
     ]
    },
    {
     "name": "stdout",
     "output_type": "stream",
     "text": [
      "Epoch 25/100, Loss: 9.1860\n"
     ]
    },
    {
     "name": "stderr",
     "output_type": "stream",
     "text": [
      "Epoch 26: 100%|██████████| 30/30 [00:01<00:00, 19.52it/s]\n"
     ]
    },
    {
     "name": "stdout",
     "output_type": "stream",
     "text": [
      "Epoch 26/100, Loss: 4.2213\n"
     ]
    },
    {
     "name": "stderr",
     "output_type": "stream",
     "text": [
      "Epoch 27: 100%|██████████| 30/30 [00:01<00:00, 19.51it/s]\n"
     ]
    },
    {
     "name": "stdout",
     "output_type": "stream",
     "text": [
      "Epoch 27/100, Loss: 4.2220\n"
     ]
    },
    {
     "name": "stderr",
     "output_type": "stream",
     "text": [
      "Epoch 28: 100%|██████████| 30/30 [00:01<00:00, 19.52it/s]\n"
     ]
    },
    {
     "name": "stdout",
     "output_type": "stream",
     "text": [
      "Epoch 28/100, Loss: 5.2256\n"
     ]
    },
    {
     "name": "stderr",
     "output_type": "stream",
     "text": [
      "Epoch 29: 100%|██████████| 30/30 [00:01<00:00, 19.55it/s]\n"
     ]
    },
    {
     "name": "stdout",
     "output_type": "stream",
     "text": [
      "Epoch 29/100, Loss: 2.6488\n"
     ]
    },
    {
     "name": "stderr",
     "output_type": "stream",
     "text": [
      "Epoch 30: 100%|██████████| 30/30 [00:01<00:00, 19.33it/s]\n"
     ]
    },
    {
     "name": "stdout",
     "output_type": "stream",
     "text": [
      "Epoch 30/100, Loss: 2.1424\n"
     ]
    },
    {
     "name": "stderr",
     "output_type": "stream",
     "text": [
      "Epoch 31: 100%|██████████| 30/30 [00:01<00:00, 19.27it/s]\n"
     ]
    },
    {
     "name": "stdout",
     "output_type": "stream",
     "text": [
      "Epoch 31/100, Loss: 2.3497\n"
     ]
    },
    {
     "name": "stderr",
     "output_type": "stream",
     "text": [
      "Epoch 32: 100%|██████████| 30/30 [00:01<00:00, 19.19it/s]\n"
     ]
    },
    {
     "name": "stdout",
     "output_type": "stream",
     "text": [
      "Epoch 32/100, Loss: 4.4357\n"
     ]
    },
    {
     "name": "stderr",
     "output_type": "stream",
     "text": [
      "Epoch 33: 100%|██████████| 30/30 [00:01<00:00, 19.24it/s]\n"
     ]
    },
    {
     "name": "stdout",
     "output_type": "stream",
     "text": [
      "Epoch 33/100, Loss: 2.9067\n"
     ]
    },
    {
     "name": "stderr",
     "output_type": "stream",
     "text": [
      "Epoch 34: 100%|██████████| 30/30 [00:01<00:00, 19.24it/s]\n"
     ]
    },
    {
     "name": "stdout",
     "output_type": "stream",
     "text": [
      "Epoch 34/100, Loss: 6.0876\n"
     ]
    },
    {
     "name": "stderr",
     "output_type": "stream",
     "text": [
      "Epoch 35: 100%|██████████| 30/30 [00:01<00:00, 19.18it/s]\n"
     ]
    },
    {
     "name": "stdout",
     "output_type": "stream",
     "text": [
      "Epoch 35/100, Loss: 5.5460\n"
     ]
    },
    {
     "name": "stderr",
     "output_type": "stream",
     "text": [
      "Epoch 36: 100%|██████████| 30/30 [00:01<00:00, 19.23it/s]\n"
     ]
    },
    {
     "name": "stdout",
     "output_type": "stream",
     "text": [
      "Epoch 36/100, Loss: 2.3665\n"
     ]
    },
    {
     "name": "stderr",
     "output_type": "stream",
     "text": [
      "Epoch 37: 100%|██████████| 30/30 [00:01<00:00, 19.19it/s]\n"
     ]
    },
    {
     "name": "stdout",
     "output_type": "stream",
     "text": [
      "Epoch 37/100, Loss: 0.7301\n"
     ]
    },
    {
     "name": "stderr",
     "output_type": "stream",
     "text": [
      "Epoch 38: 100%|██████████| 30/30 [00:01<00:00, 19.23it/s]\n"
     ]
    },
    {
     "name": "stdout",
     "output_type": "stream",
     "text": [
      "Epoch 38/100, Loss: 1.0653\n"
     ]
    },
    {
     "name": "stderr",
     "output_type": "stream",
     "text": [
      "Epoch 39: 100%|██████████| 30/30 [00:01<00:00, 19.27it/s]\n"
     ]
    },
    {
     "name": "stdout",
     "output_type": "stream",
     "text": [
      "Epoch 39/100, Loss: 1.2311\n"
     ]
    },
    {
     "name": "stderr",
     "output_type": "stream",
     "text": [
      "Epoch 40: 100%|██████████| 30/30 [00:01<00:00, 19.11it/s]\n"
     ]
    },
    {
     "name": "stdout",
     "output_type": "stream",
     "text": [
      "Epoch 40/100, Loss: 1.6475\n"
     ]
    },
    {
     "name": "stderr",
     "output_type": "stream",
     "text": [
      "Epoch 41: 100%|██████████| 30/30 [00:01<00:00, 19.21it/s]\n"
     ]
    },
    {
     "name": "stdout",
     "output_type": "stream",
     "text": [
      "Epoch 41/100, Loss: 2.9654\n"
     ]
    },
    {
     "name": "stderr",
     "output_type": "stream",
     "text": [
      "Epoch 42: 100%|██████████| 30/30 [00:01<00:00, 19.23it/s]\n"
     ]
    },
    {
     "name": "stdout",
     "output_type": "stream",
     "text": [
      "Epoch 42/100, Loss: 2.1049\n"
     ]
    },
    {
     "name": "stderr",
     "output_type": "stream",
     "text": [
      "Epoch 43: 100%|██████████| 30/30 [00:01<00:00, 19.47it/s]\n"
     ]
    },
    {
     "name": "stdout",
     "output_type": "stream",
     "text": [
      "Epoch 43/100, Loss: 1.9140\n"
     ]
    },
    {
     "name": "stderr",
     "output_type": "stream",
     "text": [
      "Epoch 44: 100%|██████████| 30/30 [00:01<00:00, 19.41it/s]\n"
     ]
    },
    {
     "name": "stdout",
     "output_type": "stream",
     "text": [
      "Epoch 44/100, Loss: 2.0722\n"
     ]
    },
    {
     "name": "stderr",
     "output_type": "stream",
     "text": [
      "Epoch 45: 100%|██████████| 30/30 [00:01<00:00, 19.55it/s]\n"
     ]
    },
    {
     "name": "stdout",
     "output_type": "stream",
     "text": [
      "Epoch 45/100, Loss: 22.7599\n"
     ]
    },
    {
     "name": "stderr",
     "output_type": "stream",
     "text": [
      "Epoch 46: 100%|██████████| 30/30 [00:01<00:00, 19.40it/s]\n"
     ]
    },
    {
     "name": "stdout",
     "output_type": "stream",
     "text": [
      "Epoch 46/100, Loss: 10.6801\n"
     ]
    },
    {
     "name": "stderr",
     "output_type": "stream",
     "text": [
      "Epoch 47: 100%|██████████| 30/30 [00:01<00:00, 19.58it/s]\n"
     ]
    },
    {
     "name": "stdout",
     "output_type": "stream",
     "text": [
      "Epoch 47/100, Loss: 3.8805\n"
     ]
    },
    {
     "name": "stderr",
     "output_type": "stream",
     "text": [
      "Epoch 48: 100%|██████████| 30/30 [00:01<00:00, 19.56it/s]\n"
     ]
    },
    {
     "name": "stdout",
     "output_type": "stream",
     "text": [
      "Epoch 48/100, Loss: 8.7503\n"
     ]
    },
    {
     "name": "stderr",
     "output_type": "stream",
     "text": [
      "Epoch 49: 100%|██████████| 30/30 [00:01<00:00, 19.54it/s]\n"
     ]
    },
    {
     "name": "stdout",
     "output_type": "stream",
     "text": [
      "Epoch 49/100, Loss: 4.0901\n"
     ]
    },
    {
     "name": "stderr",
     "output_type": "stream",
     "text": [
      "Epoch 50: 100%|██████████| 30/30 [00:01<00:00, 19.52it/s]\n"
     ]
    },
    {
     "name": "stdout",
     "output_type": "stream",
     "text": [
      "Epoch 50/100, Loss: 1.8911\n"
     ]
    },
    {
     "name": "stderr",
     "output_type": "stream",
     "text": [
      "Epoch 51: 100%|██████████| 30/30 [00:01<00:00, 19.50it/s]\n"
     ]
    },
    {
     "name": "stdout",
     "output_type": "stream",
     "text": [
      "Epoch 51/100, Loss: 0.7794\n"
     ]
    },
    {
     "name": "stderr",
     "output_type": "stream",
     "text": [
      "Epoch 52: 100%|██████████| 30/30 [00:01<00:00, 19.47it/s]\n"
     ]
    },
    {
     "name": "stdout",
     "output_type": "stream",
     "text": [
      "Epoch 52/100, Loss: 0.5670\n"
     ]
    },
    {
     "name": "stderr",
     "output_type": "stream",
     "text": [
      "Epoch 53: 100%|██████████| 30/30 [00:01<00:00, 19.23it/s]\n"
     ]
    },
    {
     "name": "stdout",
     "output_type": "stream",
     "text": [
      "Epoch 53/100, Loss: 0.7225\n"
     ]
    },
    {
     "name": "stderr",
     "output_type": "stream",
     "text": [
      "Epoch 54: 100%|██████████| 30/30 [00:01<00:00, 19.11it/s]\n"
     ]
    },
    {
     "name": "stdout",
     "output_type": "stream",
     "text": [
      "Epoch 54/100, Loss: 0.4502\n"
     ]
    },
    {
     "name": "stderr",
     "output_type": "stream",
     "text": [
      "Epoch 55: 100%|██████████| 30/30 [00:01<00:00, 19.13it/s]\n"
     ]
    },
    {
     "name": "stdout",
     "output_type": "stream",
     "text": [
      "Epoch 55/100, Loss: 0.4343\n"
     ]
    },
    {
     "name": "stderr",
     "output_type": "stream",
     "text": [
      "Epoch 56: 100%|██████████| 30/30 [00:01<00:00, 19.07it/s]\n"
     ]
    },
    {
     "name": "stdout",
     "output_type": "stream",
     "text": [
      "Epoch 56/100, Loss: 0.4787\n"
     ]
    },
    {
     "name": "stderr",
     "output_type": "stream",
     "text": [
      "Epoch 57: 100%|██████████| 30/30 [00:01<00:00, 19.12it/s]\n"
     ]
    },
    {
     "name": "stdout",
     "output_type": "stream",
     "text": [
      "Epoch 57/100, Loss: 1.0768\n"
     ]
    },
    {
     "name": "stderr",
     "output_type": "stream",
     "text": [
      "Epoch 58: 100%|██████████| 30/30 [00:01<00:00, 19.06it/s]\n"
     ]
    },
    {
     "name": "stdout",
     "output_type": "stream",
     "text": [
      "Epoch 58/100, Loss: 0.8528\n"
     ]
    },
    {
     "name": "stderr",
     "output_type": "stream",
     "text": [
      "Epoch 59: 100%|██████████| 30/30 [00:01<00:00, 19.12it/s]\n"
     ]
    },
    {
     "name": "stdout",
     "output_type": "stream",
     "text": [
      "Epoch 59/100, Loss: 0.6017\n"
     ]
    },
    {
     "name": "stderr",
     "output_type": "stream",
     "text": [
      "Epoch 60: 100%|██████████| 30/30 [00:01<00:00, 19.15it/s]\n"
     ]
    },
    {
     "name": "stdout",
     "output_type": "stream",
     "text": [
      "Epoch 60/100, Loss: 0.5209\n"
     ]
    },
    {
     "name": "stderr",
     "output_type": "stream",
     "text": [
      "Epoch 61: 100%|██████████| 30/30 [00:01<00:00, 19.13it/s]\n"
     ]
    },
    {
     "name": "stdout",
     "output_type": "stream",
     "text": [
      "Epoch 61/100, Loss: 0.3275\n"
     ]
    },
    {
     "name": "stderr",
     "output_type": "stream",
     "text": [
      "Epoch 62: 100%|██████████| 30/30 [00:01<00:00, 19.12it/s]\n"
     ]
    },
    {
     "name": "stdout",
     "output_type": "stream",
     "text": [
      "Epoch 62/100, Loss: 0.3559\n"
     ]
    },
    {
     "name": "stderr",
     "output_type": "stream",
     "text": [
      "Epoch 63: 100%|██████████| 30/30 [00:01<00:00, 19.57it/s]\n"
     ]
    },
    {
     "name": "stdout",
     "output_type": "stream",
     "text": [
      "Epoch 63/100, Loss: 0.2715\n"
     ]
    },
    {
     "name": "stderr",
     "output_type": "stream",
     "text": [
      "Epoch 64: 100%|██████████| 30/30 [00:01<00:00, 19.54it/s]\n"
     ]
    },
    {
     "name": "stdout",
     "output_type": "stream",
     "text": [
      "Epoch 64/100, Loss: 0.3785\n"
     ]
    },
    {
     "name": "stderr",
     "output_type": "stream",
     "text": [
      "Epoch 65: 100%|██████████| 30/30 [00:01<00:00, 19.54it/s]\n"
     ]
    },
    {
     "name": "stdout",
     "output_type": "stream",
     "text": [
      "Epoch 65/100, Loss: 0.4880\n"
     ]
    },
    {
     "name": "stderr",
     "output_type": "stream",
     "text": [
      "Epoch 66: 100%|██████████| 30/30 [00:01<00:00, 19.55it/s]\n"
     ]
    },
    {
     "name": "stdout",
     "output_type": "stream",
     "text": [
      "Epoch 66/100, Loss: 0.3015\n"
     ]
    },
    {
     "name": "stderr",
     "output_type": "stream",
     "text": [
      "Epoch 67: 100%|██████████| 30/30 [00:01<00:00, 19.54it/s]\n"
     ]
    },
    {
     "name": "stdout",
     "output_type": "stream",
     "text": [
      "Epoch 67/100, Loss: 0.3194\n"
     ]
    },
    {
     "name": "stderr",
     "output_type": "stream",
     "text": [
      "Epoch 68: 100%|██████████| 30/30 [00:01<00:00, 19.54it/s]\n"
     ]
    },
    {
     "name": "stdout",
     "output_type": "stream",
     "text": [
      "Epoch 68/100, Loss: 0.3783\n"
     ]
    },
    {
     "name": "stderr",
     "output_type": "stream",
     "text": [
      "Epoch 69: 100%|██████████| 30/30 [00:01<00:00, 19.43it/s]\n"
     ]
    },
    {
     "name": "stdout",
     "output_type": "stream",
     "text": [
      "Epoch 69/100, Loss: 0.3158\n"
     ]
    },
    {
     "name": "stderr",
     "output_type": "stream",
     "text": [
      "Epoch 70: 100%|██████████| 30/30 [00:01<00:00, 19.32it/s]\n"
     ]
    },
    {
     "name": "stdout",
     "output_type": "stream",
     "text": [
      "Epoch 70/100, Loss: 0.3041\n"
     ]
    },
    {
     "name": "stderr",
     "output_type": "stream",
     "text": [
      "Epoch 71: 100%|██████████| 30/30 [00:01<00:00, 19.50it/s]\n"
     ]
    },
    {
     "name": "stdout",
     "output_type": "stream",
     "text": [
      "Epoch 71/100, Loss: 0.6648\n"
     ]
    },
    {
     "name": "stderr",
     "output_type": "stream",
     "text": [
      "Epoch 72: 100%|██████████| 30/30 [00:01<00:00, 19.52it/s]\n"
     ]
    },
    {
     "name": "stdout",
     "output_type": "stream",
     "text": [
      "Epoch 72/100, Loss: 0.3440\n"
     ]
    },
    {
     "name": "stderr",
     "output_type": "stream",
     "text": [
      "Epoch 73: 100%|██████████| 30/30 [00:01<00:00, 19.43it/s]\n"
     ]
    },
    {
     "name": "stdout",
     "output_type": "stream",
     "text": [
      "Epoch 73/100, Loss: 0.2912\n"
     ]
    },
    {
     "name": "stderr",
     "output_type": "stream",
     "text": [
      "Epoch 74: 100%|██████████| 30/30 [00:01<00:00, 19.28it/s]\n"
     ]
    },
    {
     "name": "stdout",
     "output_type": "stream",
     "text": [
      "Epoch 74/100, Loss: 0.3717\n"
     ]
    },
    {
     "name": "stderr",
     "output_type": "stream",
     "text": [
      "Epoch 75: 100%|██████████| 30/30 [00:01<00:00, 19.30it/s]\n"
     ]
    },
    {
     "name": "stdout",
     "output_type": "stream",
     "text": [
      "Epoch 75/100, Loss: 0.2570\n"
     ]
    },
    {
     "name": "stderr",
     "output_type": "stream",
     "text": [
      "Epoch 76: 100%|██████████| 30/30 [00:01<00:00, 19.58it/s]\n"
     ]
    },
    {
     "name": "stdout",
     "output_type": "stream",
     "text": [
      "Epoch 76/100, Loss: 0.3481\n"
     ]
    },
    {
     "name": "stderr",
     "output_type": "stream",
     "text": [
      "Epoch 77: 100%|██████████| 30/30 [00:01<00:00, 19.55it/s]\n"
     ]
    },
    {
     "name": "stdout",
     "output_type": "stream",
     "text": [
      "Epoch 77/100, Loss: 0.2421\n"
     ]
    },
    {
     "name": "stderr",
     "output_type": "stream",
     "text": [
      "Epoch 78: 100%|██████████| 30/30 [00:01<00:00, 19.46it/s]\n"
     ]
    },
    {
     "name": "stdout",
     "output_type": "stream",
     "text": [
      "Epoch 78/100, Loss: 0.2914\n"
     ]
    },
    {
     "name": "stderr",
     "output_type": "stream",
     "text": [
      "Epoch 79: 100%|██████████| 30/30 [00:01<00:00, 19.33it/s]\n"
     ]
    },
    {
     "name": "stdout",
     "output_type": "stream",
     "text": [
      "Epoch 79/100, Loss: 0.2336\n"
     ]
    },
    {
     "name": "stderr",
     "output_type": "stream",
     "text": [
      "Epoch 80: 100%|██████████| 30/30 [00:01<00:00, 19.35it/s]\n"
     ]
    },
    {
     "name": "stdout",
     "output_type": "stream",
     "text": [
      "Epoch 80/100, Loss: 0.2775\n"
     ]
    },
    {
     "name": "stderr",
     "output_type": "stream",
     "text": [
      "Epoch 81: 100%|██████████| 30/30 [00:01<00:00, 19.21it/s]\n"
     ]
    },
    {
     "name": "stdout",
     "output_type": "stream",
     "text": [
      "Epoch 81/100, Loss: 0.4022\n"
     ]
    },
    {
     "name": "stderr",
     "output_type": "stream",
     "text": [
      "Epoch 82: 100%|██████████| 30/30 [00:01<00:00, 19.39it/s]\n"
     ]
    },
    {
     "name": "stdout",
     "output_type": "stream",
     "text": [
      "Epoch 82/100, Loss: 0.5157\n"
     ]
    },
    {
     "name": "stderr",
     "output_type": "stream",
     "text": [
      "Epoch 83: 100%|██████████| 30/30 [00:01<00:00, 19.33it/s]\n"
     ]
    },
    {
     "name": "stdout",
     "output_type": "stream",
     "text": [
      "Epoch 83/100, Loss: 0.2562\n"
     ]
    },
    {
     "name": "stderr",
     "output_type": "stream",
     "text": [
      "Epoch 84: 100%|██████████| 30/30 [00:01<00:00, 19.30it/s]\n"
     ]
    },
    {
     "name": "stdout",
     "output_type": "stream",
     "text": [
      "Epoch 84/100, Loss: 0.2271\n"
     ]
    },
    {
     "name": "stderr",
     "output_type": "stream",
     "text": [
      "Epoch 85: 100%|██████████| 30/30 [00:01<00:00, 19.18it/s]\n"
     ]
    },
    {
     "name": "stdout",
     "output_type": "stream",
     "text": [
      "Epoch 85/100, Loss: 0.2709\n"
     ]
    },
    {
     "name": "stderr",
     "output_type": "stream",
     "text": [
      "Epoch 86: 100%|██████████| 30/30 [00:01<00:00, 19.18it/s]\n"
     ]
    },
    {
     "name": "stdout",
     "output_type": "stream",
     "text": [
      "Epoch 86/100, Loss: 0.2467\n"
     ]
    },
    {
     "name": "stderr",
     "output_type": "stream",
     "text": [
      "Epoch 87: 100%|██████████| 30/30 [00:01<00:00, 19.12it/s]\n"
     ]
    },
    {
     "name": "stdout",
     "output_type": "stream",
     "text": [
      "Epoch 87/100, Loss: 0.4009\n"
     ]
    },
    {
     "name": "stderr",
     "output_type": "stream",
     "text": [
      "Epoch 88: 100%|██████████| 30/30 [00:01<00:00, 19.17it/s]\n"
     ]
    },
    {
     "name": "stdout",
     "output_type": "stream",
     "text": [
      "Epoch 88/100, Loss: 0.2685\n"
     ]
    },
    {
     "name": "stderr",
     "output_type": "stream",
     "text": [
      "Epoch 89: 100%|██████████| 30/30 [00:01<00:00, 19.34it/s]\n"
     ]
    },
    {
     "name": "stdout",
     "output_type": "stream",
     "text": [
      "Epoch 89/100, Loss: 0.2978\n"
     ]
    },
    {
     "name": "stderr",
     "output_type": "stream",
     "text": [
      "Epoch 90: 100%|██████████| 30/30 [00:01<00:00, 19.52it/s]\n"
     ]
    },
    {
     "name": "stdout",
     "output_type": "stream",
     "text": [
      "Epoch 90/100, Loss: 0.2748\n"
     ]
    },
    {
     "name": "stderr",
     "output_type": "stream",
     "text": [
      "Epoch 91: 100%|██████████| 30/30 [00:01<00:00, 19.54it/s]\n"
     ]
    },
    {
     "name": "stdout",
     "output_type": "stream",
     "text": [
      "Epoch 91/100, Loss: 0.3123\n"
     ]
    },
    {
     "name": "stderr",
     "output_type": "stream",
     "text": [
      "Epoch 92: 100%|██████████| 30/30 [00:01<00:00, 19.47it/s]\n"
     ]
    },
    {
     "name": "stdout",
     "output_type": "stream",
     "text": [
      "Epoch 92/100, Loss: 0.2447\n"
     ]
    },
    {
     "name": "stderr",
     "output_type": "stream",
     "text": [
      "Epoch 93: 100%|██████████| 30/30 [00:01<00:00, 19.45it/s]\n"
     ]
    },
    {
     "name": "stdout",
     "output_type": "stream",
     "text": [
      "Epoch 93/100, Loss: 0.2938\n"
     ]
    },
    {
     "name": "stderr",
     "output_type": "stream",
     "text": [
      "Epoch 94: 100%|██████████| 30/30 [00:01<00:00, 19.49it/s]\n"
     ]
    },
    {
     "name": "stdout",
     "output_type": "stream",
     "text": [
      "Epoch 94/100, Loss: 0.3011\n"
     ]
    },
    {
     "name": "stderr",
     "output_type": "stream",
     "text": [
      "Epoch 95: 100%|██████████| 30/30 [00:01<00:00, 19.53it/s]\n"
     ]
    },
    {
     "name": "stdout",
     "output_type": "stream",
     "text": [
      "Epoch 95/100, Loss: 1.3490\n"
     ]
    },
    {
     "name": "stderr",
     "output_type": "stream",
     "text": [
      "Epoch 96: 100%|██████████| 30/30 [00:01<00:00, 19.50it/s]\n"
     ]
    },
    {
     "name": "stdout",
     "output_type": "stream",
     "text": [
      "Epoch 96/100, Loss: 0.4140\n"
     ]
    },
    {
     "name": "stderr",
     "output_type": "stream",
     "text": [
      "Epoch 97: 100%|██████████| 30/30 [00:01<00:00, 19.56it/s]\n"
     ]
    },
    {
     "name": "stdout",
     "output_type": "stream",
     "text": [
      "Epoch 97/100, Loss: 0.3271\n"
     ]
    },
    {
     "name": "stderr",
     "output_type": "stream",
     "text": [
      "Epoch 98: 100%|██████████| 30/30 [00:01<00:00, 19.42it/s]\n"
     ]
    },
    {
     "name": "stdout",
     "output_type": "stream",
     "text": [
      "Epoch 98/100, Loss: 1.3016\n"
     ]
    },
    {
     "name": "stderr",
     "output_type": "stream",
     "text": [
      "Epoch 99: 100%|██████████| 30/30 [00:01<00:00, 19.44it/s]\n"
     ]
    },
    {
     "name": "stdout",
     "output_type": "stream",
     "text": [
      "Epoch 99/100, Loss: 2.7045\n"
     ]
    },
    {
     "name": "stderr",
     "output_type": "stream",
     "text": [
      "Epoch 100: 100%|██████████| 30/30 [00:01<00:00, 19.35it/s]"
     ]
    },
    {
     "name": "stdout",
     "output_type": "stream",
     "text": [
      "Epoch 100/100, Loss: 3.6827\n"
     ]
    },
    {
     "name": "stderr",
     "output_type": "stream",
     "text": [
      "\n"
     ]
    }
   ],
   "source": [
    "import torch.optim as optim\n",
    "from tqdm import tqdm\n",
    "\n",
    "# 初始化模型\n",
    "device = torch.device(\"cuda\" if torch.cuda.is_available() else \"cpu\")\n",
    "model = BERT_CRF(num_labels=len(label2id)).to(device)\n",
    "\n",
    "optimizer = optim.AdamW(model.parameters(), lr=5e-5)\n",
    "\n",
    "num_epochs = 100\n",
    "for epoch in range(num_epochs):\n",
    "    model.train()\n",
    "    total_loss = 0\n",
    "\n",
    "    for batch in tqdm(train_loader, desc=f'Epoch {epoch+1}'):\n",
    "        input_ids, attention_mask, labels = [x.to(device) for x in batch[:3]]\n",
    "\n",
    "        optimizer.zero_grad()\n",
    "        loss = model(input_ids, attention_mask, labels)\n",
    "        loss.backward()\n",
    "        optimizer.step()\n",
    "\n",
    "        total_loss += loss.item()\n",
    "\n",
    "    print(f\"Epoch {epoch+1}/{num_epochs}, Loss: {total_loss:.4f}\")\n"
   ]
  },
  {
   "cell_type": "code",
   "execution_count": 105,
   "metadata": {},
   "outputs": [
    {
     "name": "stdout",
     "output_type": "stream",
     "text": [
      "True Labels: 497, Pred Labels: 497\n",
      "Unique True Labels: {'methods', 'background', 'conclusions', 'results', 'objective', 'O'}\n",
      "Unique Pred Labels: {'methods', 'background', 'conclusions', 'results'}\n",
      "Test Precision: 0.6289\n",
      "Test Recall: 0.6451\n",
      "Test F1 Score: 0.6366\n"
     ]
    },
    {
     "name": "stderr",
     "output_type": "stream",
     "text": [
      "/opt/packages/anaconda3-2024.10-1/lib/python3.12/site-packages/sklearn/metrics/_classification.py:1531: UndefinedMetricWarning: Precision is ill-defined and being set to 0.0 in labels with no predicted samples. Use `zero_division` parameter to control this behavior.\n",
      "  _warn_prf(average, modifier, f\"{metric.capitalize()} is\", len(result))\n"
     ]
    }
   ],
   "source": [
    "from sklearn.metrics import precision_recall_fscore_support\n",
    "\n",
    "model.eval()\n",
    "all_true_labels = []\n",
    "all_pred_labels = []\n",
    "\n",
    "with torch.no_grad():\n",
    "    for batch in test_loader:\n",
    "        input_ids, attention_mask, labels = [x.to(device) for x in batch[:3]]\n",
    "        word_lists, word_id_lists = batch[3], batch[4]\n",
    "        # sep_none_type = [x.to(device) for x in batch[5]]\n",
    "        predictions = model(input_ids, attention_mask)\n",
    "\n",
    "        for i in range(len(word_lists)):\n",
    "            word_list = word_lists[i]          # 原始詞 list\n",
    "            word_ids = word_id_lists[i]        # token 對應的 word index\n",
    "            preds = predictions[i]\n",
    "            trues = labels[i]\n",
    "            tokens = input_ids[i]\n",
    "\n",
    "            for idx, word_idx in enumerate(word_ids):\n",
    "                if word_idx is None:\n",
    "                    continue\n",
    "                word = word_list[word_idx]\n",
    "                if word == \"[SEP]\" and trues[idx].item() != -1:\n",
    "                    all_true_labels.append(id2label[trues[idx].item()])\n",
    "                    all_pred_labels.append(id2label[preds[idx]])\n",
    "\n",
    "print(f\"True Labels: {len(all_true_labels)}, Pred Labels: {len(all_pred_labels)}\")\n",
    "print(f\"Unique True Labels: {set(all_true_labels)}\")\n",
    "print(f\"Unique Pred Labels: {set(all_pred_labels)}\")\n",
    "\n",
    "precision, recall, f1, _ = precision_recall_fscore_support(\n",
    "    all_true_labels, all_pred_labels, average=\"macro\"\n",
    ")\n",
    "\n",
    "print(f\"Test Precision: {precision:.4f}\")\n",
    "print(f\"Test Recall: {recall:.4f}\")\n",
    "print(f\"Test F1 Score: {f1:.4f}\")\n"
   ]
  },
  {
   "cell_type": "code",
   "execution_count": 106,
   "metadata": {},
   "outputs": [
    {
     "name": "stdout",
     "output_type": "stream",
     "text": [
      "Test Precision: 0.8934\n",
      "Test Recall: 0.9336\n",
      "Test F1 Score: 0.9126\n",
      "Test Accuracy: 0.9336016096579477\n"
     ]
    },
    {
     "name": "stderr",
     "output_type": "stream",
     "text": [
      "/opt/packages/anaconda3-2024.10-1/lib/python3.12/site-packages/sklearn/metrics/_classification.py:1531: UndefinedMetricWarning: Precision is ill-defined and being set to 0.0 in labels with no predicted samples. Use `zero_division` parameter to control this behavior.\n",
      "  _warn_prf(average, modifier, f\"{metric.capitalize()} is\", len(result))\n"
     ]
    }
   ],
   "source": [
    "from sklearn.metrics import accuracy_score\n",
    "precision, recall, f1, _ = precision_recall_fscore_support(\n",
    "    all_true_labels, all_pred_labels, average=\"weighted\"\n",
    ")\n",
    "\n",
    "print(f\"Test Precision: {precision:.4f}\")\n",
    "print(f\"Test Recall: {recall:.4f}\")\n",
    "print(f\"Test F1 Score: {f1:.4f}\")\n",
    "\n",
    "print(f\"Test Accuracy: {accuracy_score(all_true_labels, all_pred_labels)}\")"
   ]
  },
  {
   "cell_type": "code",
   "execution_count": 107,
   "metadata": {},
   "outputs": [
    {
     "name": "stdout",
     "output_type": "stream",
     "text": [
      "              precision    recall  f1-score   support\n",
      "\n",
      "           O     0.0000    0.0000    0.0000        20\n",
      "  background     0.9060    0.9953    0.9485       213\n",
      " conclusions     0.9902    1.0000    0.9951       101\n",
      "     methods     0.9310    0.9419    0.9364        86\n",
      "   objective     0.0000    0.0000    0.0000         2\n",
      "     results     0.9459    0.9333    0.9396        75\n",
      "\n",
      "    accuracy                         0.9336       497\n",
      "   macro avg     0.6289    0.6451    0.6366       497\n",
      "weighted avg     0.8934    0.9336    0.9126       497\n",
      "\n"
     ]
    },
    {
     "name": "stderr",
     "output_type": "stream",
     "text": [
      "/opt/packages/anaconda3-2024.10-1/lib/python3.12/site-packages/sklearn/metrics/_classification.py:1531: UndefinedMetricWarning: Precision is ill-defined and being set to 0.0 in labels with no predicted samples. Use `zero_division` parameter to control this behavior.\n",
      "  _warn_prf(average, modifier, f\"{metric.capitalize()} is\", len(result))\n",
      "/opt/packages/anaconda3-2024.10-1/lib/python3.12/site-packages/sklearn/metrics/_classification.py:1531: UndefinedMetricWarning: Precision is ill-defined and being set to 0.0 in labels with no predicted samples. Use `zero_division` parameter to control this behavior.\n",
      "  _warn_prf(average, modifier, f\"{metric.capitalize()} is\", len(result))\n",
      "/opt/packages/anaconda3-2024.10-1/lib/python3.12/site-packages/sklearn/metrics/_classification.py:1531: UndefinedMetricWarning: Precision is ill-defined and being set to 0.0 in labels with no predicted samples. Use `zero_division` parameter to control this behavior.\n",
      "  _warn_prf(average, modifier, f\"{metric.capitalize()} is\", len(result))\n"
     ]
    }
   ],
   "source": [
    "from sklearn.metrics import classification_report\n",
    "\n",
    "print(classification_report(all_true_labels, all_pred_labels, digits=4))\n"
   ]
  },
  {
   "cell_type": "code",
   "execution_count": 108,
   "metadata": {},
   "outputs": [
    {
     "name": "stdout",
     "output_type": "stream",
     "text": [
      "Test Precision: 0.9336\n",
      "Test Recall: 0.9336\n",
      "Test F1 Score: 0.9336\n",
      "Test Accuracy: 0.9336016096579477\n"
     ]
    }
   ],
   "source": [
    "from sklearn.metrics import accuracy_score\n",
    "precision, recall, f1, _ = precision_recall_fscore_support(\n",
    "    all_true_labels, all_pred_labels, average=\"micro\"\n",
    ")\n",
    "\n",
    "print(f\"Test Precision: {precision:.4f}\")\n",
    "print(f\"Test Recall: {recall:.4f}\")\n",
    "print(f\"Test F1 Score: {f1:.4f}\")\n",
    "\n",
    "print(f\"Test Accuracy: {accuracy_score(all_true_labels, all_pred_labels)}\")"
   ]
  },
  {
   "cell_type": "code",
   "execution_count": 109,
   "metadata": {},
   "outputs": [],
   "source": [
    "torch.save(model.state_dict(), \"models/bert_crf_pubMed_pretrained_300seed.pth\")"
   ]
  },
  {
   "cell_type": "code",
   "execution_count": 110,
   "metadata": {},
   "outputs": [
    {
     "data": {
      "text/plain": [
       "<sklearn.metrics._plot.confusion_matrix.ConfusionMatrixDisplay at 0x15306cad3350>"
      ]
     },
     "execution_count": 110,
     "metadata": {},
     "output_type": "execute_result"
    },
    {
     "data": {
      "image/png": "[encoded data removed]",
      "text/plain": [
       "<Figure size 640x480 with 2 Axes>"
      ]
     },
     "metadata": {},
     "output_type": "display_data"
    }
   ],
   "source": [
    "from sklearn.metrics import confusion_matrix, ConfusionMatrixDisplay\n",
    "labels = sorted(set(all_true_labels) | set(all_pred_labels))  # 統一所有可能的 label\n",
    "\n",
    "cm = confusion_matrix(all_true_labels, all_pred_labels, labels=labels)\n",
    "disp = ConfusionMatrixDisplay(confusion_matrix=cm, display_labels=labels)\n",
    "disp.plot(xticks_rotation=45, cmap=\"Blues\")"
   ]
  },
  {
   "cell_type": "markdown",
   "metadata": {
    "jp-MarkdownHeadingCollapsed": true
   },
   "source": [
    "## MixText"
   ]
  },
  {
   "cell_type": "markdown",
   "metadata": {
    "jp-MarkdownHeadingCollapsed": true
   },
   "source": [
    "### pre-process"
   ]
  },
  {
   "cell_type": "code",
   "execution_count": null,
   "metadata": {},
   "outputs": [],
   "source": [
    "import pandas as pd\n",
    "\n",
    "df = pd.read_csv('Processed_Headings/normalized_section_data 2.csv')\n",
    "df.head()"
   ]
  },
  {
   "cell_type": "code",
   "execution_count": null,
   "metadata": {},
   "outputs": [],
   "source": [
    "# df = df.dropna(subset=['sec-norm'])"
   ]
  },
  {
   "cell_type": "code",
   "execution_count": null,
   "metadata": {},
   "outputs": [],
   "source": [
    "df_grouped = df.groupby([\"PMCID\", \"PMID\"]).agg(list)\n",
    "df_grouped"
   ]
  },
  {
   "cell_type": "code",
   "execution_count": null,
   "metadata": {},
   "outputs": [],
   "source": [
    "from sklearn.model_selection import train_test_split\n",
    "train_df, test_df = train_test_split(df_grouped, test_size=0.1, random_state=49, shuffle=True)\n",
    "len(train_df), len(test_df)"
   ]
  },
  {
   "cell_type": "code",
   "execution_count": null,
   "metadata": {},
   "outputs": [],
   "source": [
    "test_pmc_list = [tup[0] for tup in test_df.index.tolist()]"
   ]
  },
  {
   "cell_type": "code",
   "execution_count": null,
   "metadata": {},
   "outputs": [],
   "source": [
    "# df_test = df.dropna(subset=['sec-norm'])\n",
    "df_test = df"
   ]
  },
  {
   "cell_type": "code",
   "execution_count": null,
   "metadata": {},
   "outputs": [],
   "source": [
    "df_test = df_test[df_test['PMCID'].isin(test_pmc_list)]\n",
    "df_test = df_test[(df_test['PMCID'] != 0) \n",
    "                    & (df_test['PMCID'].notna())\n",
    "                    & (df_test['PMID'] != 0) \n",
    "                    & (df_test['PMID'].notna()) ]\n",
    "df_test = df_test.drop_duplicates(subset=['PMCID', 'PMID', 'sec-title'])\n",
    "df_test"
   ]
  },
  {
   "cell_type": "code",
   "execution_count": null,
   "metadata": {},
   "outputs": [],
   "source": [
    "df_test = df_test.drop(columns=['sec-type'])\n",
    "df_test"
   ]
  },
  {
   "cell_type": "code",
   "execution_count": null,
   "metadata": {},
   "outputs": [],
   "source": [
    "test_df = df_test.groupby([\"PMCID\", \"PMID\"]).agg(list)\n",
    "test_df"
   ]
  },
  {
   "cell_type": "code",
   "execution_count": null,
   "metadata": {},
   "outputs": [],
   "source": [
    "test_df = test_df.reset_index()\n",
    "test_df = test_df.drop_duplicates(subset=['PMCID'])"
   ]
  },
  {
   "cell_type": "code",
   "execution_count": null,
   "metadata": {},
   "outputs": [],
   "source": [
    "test_df"
   ]
  },
  {
   "cell_type": "code",
   "execution_count": null,
   "metadata": {},
   "outputs": [],
   "source": [
    "test_df[500:800].to_csv('seq_for_manual_labeled_removed_duplicate3.csv')"
   ]
  },
  {
   "cell_type": "markdown",
   "metadata": {},
   "source": [
    "### get test from annotation"
   ]
  },
  {
   "cell_type": "code",
   "execution_count": 139,
   "metadata": {},
   "outputs": [
    {
     "data": {
      "text/html": [
       "<div>\n",
       "<style scoped>\n",
       "    .dataframe tbody tr th:only-of-type {\n",
       "        vertical-align: middle;\n",
       "    }\n",
       "\n",
       "    .dataframe tbody tr th {\n",
       "        vertical-align: top;\n",
       "    }\n",
       "\n",
       "    .dataframe thead th {\n",
       "        text-align: right;\n",
       "    }\n",
       "</style>\n",
       "<table border=\"1\" class=\"dataframe\">\n",
       "  <thead>\n",
       "    <tr style=\"text-align: right;\">\n",
       "      <th></th>\n",
       "      <th>PMCID</th>\n",
       "      <th>PMID</th>\n",
       "      <th>sec-title</th>\n",
       "      <th>sec-norm</th>\n",
       "    </tr>\n",
       "  </thead>\n",
       "  <tbody>\n",
       "    <tr>\n",
       "      <th>0</th>\n",
       "      <td>PMC10845090</td>\n",
       "      <td>37559243</td>\n",
       "      <td>['INTRODUCTION', 'INFLAMMATION AND MAJOR DEPRE...</td>\n",
       "      <td>['background', nan, nan, 'conclusions', 'concl...</td>\n",
       "    </tr>\n",
       "    <tr>\n",
       "      <th>1</th>\n",
       "      <td>PMC10845092</td>\n",
       "      <td>37644747</td>\n",
       "      <td>['INTRODUCTION', 'MATERIALS AND METHODS', 'RES...</td>\n",
       "      <td>['background', 'methods', 'results', 'conclusi...</td>\n",
       "    </tr>\n",
       "    <tr>\n",
       "      <th>2</th>\n",
       "      <td>PMC10845093</td>\n",
       "      <td>36815632</td>\n",
       "      <td>['INTRODUCTION', 'GENERALIZED ANXIETY DISORDER...</td>\n",
       "      <td>['background', nan, nan, nan, nan, 'conclusion...</td>\n",
       "    </tr>\n",
       "    <tr>\n",
       "      <th>3</th>\n",
       "      <td>PMC10850428</td>\n",
       "      <td>37553411</td>\n",
       "      <td>['Introduction', 'Methods', 'Results', 'Discus...</td>\n",
       "      <td>['background', 'methods', 'results', 'conclusi...</td>\n",
       "    </tr>\n",
       "    <tr>\n",
       "      <th>4</th>\n",
       "      <td>PMC1087202</td>\n",
       "      <td>15839744</td>\n",
       "      <td>['History and Epidemiology', 'Causative Organi...</td>\n",
       "      <td>[nan, nan, nan, nan, nan, nan, nan, 'conclusio...</td>\n",
       "    </tr>\n",
       "    <tr>\n",
       "      <th>...</th>\n",
       "      <td>...</td>\n",
       "      <td>...</td>\n",
       "      <td>...</td>\n",
       "      <td>...</td>\n",
       "    </tr>\n",
       "    <tr>\n",
       "      <th>95</th>\n",
       "      <td>PMC11141335</td>\n",
       "      <td>38827812</td>\n",
       "      <td>['Introduction', 'Methods and analysis', 'Disc...</td>\n",
       "      <td>['background', 'methods', 'conclusions', 'back...</td>\n",
       "    </tr>\n",
       "    <tr>\n",
       "      <th>96</th>\n",
       "      <td>PMC11142640</td>\n",
       "      <td>38819423</td>\n",
       "      <td>['Introduction', 'Results', 'Discussion', 'Mat...</td>\n",
       "      <td>['background', 'results', 'conclusions', 'meth...</td>\n",
       "    </tr>\n",
       "    <tr>\n",
       "      <th>97</th>\n",
       "      <td>PMC11143364</td>\n",
       "      <td>38822081</td>\n",
       "      <td>['Introduction', 'Results', 'Discussion', 'Mat...</td>\n",
       "      <td>['background', 'results', 'conclusions', 'meth...</td>\n",
       "    </tr>\n",
       "    <tr>\n",
       "      <th>98</th>\n",
       "      <td>PMC11144131</td>\n",
       "      <td>38822893</td>\n",
       "      <td>['Introduction', 'Participants, materials &amp; me...</td>\n",
       "      <td>['background', 'methods', 'results', 'conclusi...</td>\n",
       "    </tr>\n",
       "    <tr>\n",
       "      <th>99</th>\n",
       "      <td>PMC11144342</td>\n",
       "      <td>38824596</td>\n",
       "      <td>['Background', 'Materials and methods', 'Weste...</td>\n",
       "      <td>['background', 'methods', 'methods', 'results'...</td>\n",
       "    </tr>\n",
       "  </tbody>\n",
       "</table>\n",
       "<p>100 rows × 4 columns</p>\n",
       "</div>"
      ],
      "text/plain": [
       "          PMCID      PMID                                          sec-title  \\\n",
       "0   PMC10845090  37559243  ['INTRODUCTION', 'INFLAMMATION AND MAJOR DEPRE...   \n",
       "1   PMC10845092  37644747  ['INTRODUCTION', 'MATERIALS AND METHODS', 'RES...   \n",
       "2   PMC10845093  36815632  ['INTRODUCTION', 'GENERALIZED ANXIETY DISORDER...   \n",
       "3   PMC10850428  37553411  ['Introduction', 'Methods', 'Results', 'Discus...   \n",
       "4    PMC1087202  15839744  ['History and Epidemiology', 'Causative Organi...   \n",
       "..          ...       ...                                                ...   \n",
       "95  PMC11141335  38827812  ['Introduction', 'Methods and analysis', 'Disc...   \n",
       "96  PMC11142640  38819423  ['Introduction', 'Results', 'Discussion', 'Mat...   \n",
       "97  PMC11143364  38822081  ['Introduction', 'Results', 'Discussion', 'Mat...   \n",
       "98  PMC11144131  38822893  ['Introduction', 'Participants, materials & me...   \n",
       "99  PMC11144342  38824596  ['Background', 'Materials and methods', 'Weste...   \n",
       "\n",
       "                                             sec-norm  \n",
       "0   ['background', nan, nan, 'conclusions', 'concl...  \n",
       "1   ['background', 'methods', 'results', 'conclusi...  \n",
       "2   ['background', nan, nan, nan, nan, 'conclusion...  \n",
       "3   ['background', 'methods', 'results', 'conclusi...  \n",
       "4   [nan, nan, nan, nan, nan, nan, nan, 'conclusio...  \n",
       "..                                                ...  \n",
       "95  ['background', 'methods', 'conclusions', 'back...  \n",
       "96  ['background', 'results', 'conclusions', 'meth...  \n",
       "97  ['background', 'results', 'conclusions', 'meth...  \n",
       "98  ['background', 'methods', 'results', 'conclusi...  \n",
       "99  ['background', 'methods', 'methods', 'results'...  \n",
       "\n",
       "[100 rows x 4 columns]"
      ]
     },
     "execution_count": 139,
     "metadata": {},
     "output_type": "execute_result"
    }
   ],
   "source": [
    "import pandas as pd\n",
    "test_df = pd.read_csv('Processed_Headings/manual_labels_test - first_200.csv')\n",
    "test_df"
   ]
  },
  {
   "cell_type": "code",
   "execution_count": 140,
   "metadata": {},
   "outputs": [],
   "source": [
    "import ast\n",
    "import numpy as np\n",
    "\n",
    "# import numpy as np\n",
    "\n",
    "def eval_with_nan(x):\n",
    "    if isinstance(x, list):\n",
    "        return [np.nan if (isinstance(i, float) and np.isnan(i)) else i for i in x]\n",
    "    try:\n",
    "        # 這邊直接 eval 而且給定 locals\n",
    "        val = eval(x, {\"nan\": np.nan, \"NaN\": np.nan, \"np\": np})\n",
    "        if isinstance(val, list):\n",
    "            return [np.nan if (isinstance(i, float) and np.isnan(i)) else i for i in val]\n",
    "        else:\n",
    "            return val\n",
    "    except Exception:\n",
    "        return x  # 如果 eval 還失敗就原樣保留\n",
    "\n",
    "# 用在你的 dataframe 上\n",
    "# df_j['sec-norm'] = df_j['sec-norm'].apply(eval_with_nan)\n",
    "\n",
    "\n"
   ]
  },
  {
   "cell_type": "code",
   "execution_count": 141,
   "metadata": {},
   "outputs": [],
   "source": [
    "test_df['sec-title'] = test_df['sec-title'].apply(ast.literal_eval)\n",
    "test_df['sec-norm'] = test_df['sec-norm'].apply(eval_with_nan)"
   ]
  },
  {
   "cell_type": "code",
   "execution_count": 142,
   "metadata": {},
   "outputs": [
    {
     "data": {
      "text/html": [
       "<div>\n",
       "<style scoped>\n",
       "    .dataframe tbody tr th:only-of-type {\n",
       "        vertical-align: middle;\n",
       "    }\n",
       "\n",
       "    .dataframe tbody tr th {\n",
       "        vertical-align: top;\n",
       "    }\n",
       "\n",
       "    .dataframe thead th {\n",
       "        text-align: right;\n",
       "    }\n",
       "</style>\n",
       "<table border=\"1\" class=\"dataframe\">\n",
       "  <thead>\n",
       "    <tr style=\"text-align: right;\">\n",
       "      <th></th>\n",
       "      <th>PMCID</th>\n",
       "      <th>PMID</th>\n",
       "      <th>sec-title</th>\n",
       "      <th>sec-norm</th>\n",
       "    </tr>\n",
       "  </thead>\n",
       "  <tbody>\n",
       "    <tr>\n",
       "      <th>0</th>\n",
       "      <td>PMC10845090</td>\n",
       "      <td>37559243</td>\n",
       "      <td>[INTRODUCTION, INFLAMMATION AND MAJOR DEPRESSI...</td>\n",
       "      <td>[background, nan, nan, conclusions, conclusion...</td>\n",
       "    </tr>\n",
       "    <tr>\n",
       "      <th>1</th>\n",
       "      <td>PMC10845092</td>\n",
       "      <td>37644747</td>\n",
       "      <td>[INTRODUCTION, MATERIALS AND METHODS, RESULTS,...</td>\n",
       "      <td>[background, methods, results, conclusions, co...</td>\n",
       "    </tr>\n",
       "    <tr>\n",
       "      <th>2</th>\n",
       "      <td>PMC10845093</td>\n",
       "      <td>36815632</td>\n",
       "      <td>[INTRODUCTION, GENERALIZED ANXIETY DISORDER (G...</td>\n",
       "      <td>[background, nan, nan, nan, nan, conclusions, ...</td>\n",
       "    </tr>\n",
       "    <tr>\n",
       "      <th>3</th>\n",
       "      <td>PMC10850428</td>\n",
       "      <td>37553411</td>\n",
       "      <td>[Introduction, Methods, Results, Discussion, C...</td>\n",
       "      <td>[background, methods, results, conclusions, co...</td>\n",
       "    </tr>\n",
       "    <tr>\n",
       "      <th>4</th>\n",
       "      <td>PMC1087202</td>\n",
       "      <td>15839744</td>\n",
       "      <td>[History and Epidemiology, Causative Organism ...</td>\n",
       "      <td>[nan, nan, nan, nan, nan, nan, nan, conclusion...</td>\n",
       "    </tr>\n",
       "    <tr>\n",
       "      <th>...</th>\n",
       "      <td>...</td>\n",
       "      <td>...</td>\n",
       "      <td>...</td>\n",
       "      <td>...</td>\n",
       "    </tr>\n",
       "    <tr>\n",
       "      <th>95</th>\n",
       "      <td>PMC11141335</td>\n",
       "      <td>38827812</td>\n",
       "      <td>[Introduction, Methods and analysis, Discussio...</td>\n",
       "      <td>[background, methods, conclusions, background,...</td>\n",
       "    </tr>\n",
       "    <tr>\n",
       "      <th>96</th>\n",
       "      <td>PMC11142640</td>\n",
       "      <td>38819423</td>\n",
       "      <td>[Introduction, Results, Discussion, Materials ...</td>\n",
       "      <td>[background, results, conclusions, methods, ba...</td>\n",
       "    </tr>\n",
       "    <tr>\n",
       "      <th>97</th>\n",
       "      <td>PMC11143364</td>\n",
       "      <td>38822081</td>\n",
       "      <td>[Introduction, Results, Discussion, Material a...</td>\n",
       "      <td>[background, results, conclusions, methods, ba...</td>\n",
       "    </tr>\n",
       "    <tr>\n",
       "      <th>98</th>\n",
       "      <td>PMC11144131</td>\n",
       "      <td>38822893</td>\n",
       "      <td>[Introduction, Participants, materials &amp; metho...</td>\n",
       "      <td>[background, methods, results, conclusions, co...</td>\n",
       "    </tr>\n",
       "    <tr>\n",
       "      <th>99</th>\n",
       "      <td>PMC11144342</td>\n",
       "      <td>38824596</td>\n",
       "      <td>[Background, Materials and methods, Western bl...</td>\n",
       "      <td>[background, methods, methods, results, conclu...</td>\n",
       "    </tr>\n",
       "  </tbody>\n",
       "</table>\n",
       "<p>100 rows × 4 columns</p>\n",
       "</div>"
      ],
      "text/plain": [
       "          PMCID      PMID                                          sec-title  \\\n",
       "0   PMC10845090  37559243  [INTRODUCTION, INFLAMMATION AND MAJOR DEPRESSI...   \n",
       "1   PMC10845092  37644747  [INTRODUCTION, MATERIALS AND METHODS, RESULTS,...   \n",
       "2   PMC10845093  36815632  [INTRODUCTION, GENERALIZED ANXIETY DISORDER (G...   \n",
       "3   PMC10850428  37553411  [Introduction, Methods, Results, Discussion, C...   \n",
       "4    PMC1087202  15839744  [History and Epidemiology, Causative Organism ...   \n",
       "..          ...       ...                                                ...   \n",
       "95  PMC11141335  38827812  [Introduction, Methods and analysis, Discussio...   \n",
       "96  PMC11142640  38819423  [Introduction, Results, Discussion, Materials ...   \n",
       "97  PMC11143364  38822081  [Introduction, Results, Discussion, Material a...   \n",
       "98  PMC11144131  38822893  [Introduction, Participants, materials & metho...   \n",
       "99  PMC11144342  38824596  [Background, Materials and methods, Western bl...   \n",
       "\n",
       "                                             sec-norm  \n",
       "0   [background, nan, nan, conclusions, conclusion...  \n",
       "1   [background, methods, results, conclusions, co...  \n",
       "2   [background, nan, nan, nan, nan, conclusions, ...  \n",
       "3   [background, methods, results, conclusions, co...  \n",
       "4   [nan, nan, nan, nan, nan, nan, nan, conclusion...  \n",
       "..                                                ...  \n",
       "95  [background, methods, conclusions, background,...  \n",
       "96  [background, results, conclusions, methods, ba...  \n",
       "97  [background, results, conclusions, methods, ba...  \n",
       "98  [background, methods, results, conclusions, co...  \n",
       "99  [background, methods, methods, results, conclu...  \n",
       "\n",
       "[100 rows x 4 columns]"
      ]
     },
     "execution_count": 142,
     "metadata": {},
     "output_type": "execute_result"
    }
   ],
   "source": [
    "test_df"
   ]
  },
  {
   "cell_type": "code",
   "execution_count": 143,
   "metadata": {},
   "outputs": [
    {
     "data": {
      "text/html": [
       "<div>\n",
       "<style scoped>\n",
       "    .dataframe tbody tr th:only-of-type {\n",
       "        vertical-align: middle;\n",
       "    }\n",
       "\n",
       "    .dataframe tbody tr th {\n",
       "        vertical-align: top;\n",
       "    }\n",
       "\n",
       "    .dataframe thead th {\n",
       "        text-align: right;\n",
       "    }\n",
       "</style>\n",
       "<table border=\"1\" class=\"dataframe\">\n",
       "  <thead>\n",
       "    <tr style=\"text-align: right;\">\n",
       "      <th></th>\n",
       "      <th>PMCID</th>\n",
       "      <th>PMID</th>\n",
       "      <th>sec-title</th>\n",
       "      <th>sec-norm</th>\n",
       "      <th>inputs_with_sep</th>\n",
       "      <th>labels_with_sep</th>\n",
       "    </tr>\n",
       "  </thead>\n",
       "  <tbody>\n",
       "    <tr>\n",
       "      <th>0</th>\n",
       "      <td>PMC10845090</td>\n",
       "      <td>37559243</td>\n",
       "      <td>[INTRODUCTION, INFLAMMATION AND MAJOR DEPRESSI...</td>\n",
       "      <td>[background, nan, nan, conclusions, conclusion...</td>\n",
       "      <td>[INTRODUCTION, [SEP], INFLAMMATION AND MAJOR D...</td>\n",
       "      <td>[O, background, O, -100, O, -100, O, conclusio...</td>\n",
       "    </tr>\n",
       "    <tr>\n",
       "      <th>1</th>\n",
       "      <td>PMC10845092</td>\n",
       "      <td>37644747</td>\n",
       "      <td>[INTRODUCTION, MATERIALS AND METHODS, RESULTS,...</td>\n",
       "      <td>[background, methods, results, conclusions, co...</td>\n",
       "      <td>[INTRODUCTION, [SEP], MATERIALS AND METHODS, [...</td>\n",
       "      <td>[O, background, O, methods, O, results, O, con...</td>\n",
       "    </tr>\n",
       "    <tr>\n",
       "      <th>2</th>\n",
       "      <td>PMC10845093</td>\n",
       "      <td>36815632</td>\n",
       "      <td>[INTRODUCTION, GENERALIZED ANXIETY DISORDER (G...</td>\n",
       "      <td>[background, nan, nan, nan, nan, conclusions, ...</td>\n",
       "      <td>[INTRODUCTION, [SEP], GENERALIZED ANXIETY DISO...</td>\n",
       "      <td>[O, background, O, -100, O, -100, O, -100, O, ...</td>\n",
       "    </tr>\n",
       "    <tr>\n",
       "      <th>3</th>\n",
       "      <td>PMC10850428</td>\n",
       "      <td>37553411</td>\n",
       "      <td>[Introduction, Methods, Results, Discussion, C...</td>\n",
       "      <td>[background, methods, results, conclusions, co...</td>\n",
       "      <td>[Introduction, [SEP], Methods, [SEP], Results,...</td>\n",
       "      <td>[O, background, O, methods, O, results, O, con...</td>\n",
       "    </tr>\n",
       "    <tr>\n",
       "      <th>4</th>\n",
       "      <td>PMC1087202</td>\n",
       "      <td>15839744</td>\n",
       "      <td>[History and Epidemiology, Causative Organism ...</td>\n",
       "      <td>[nan, nan, nan, nan, nan, nan, nan, conclusion...</td>\n",
       "      <td>[History and Epidemiology, [SEP], Causative Or...</td>\n",
       "      <td>[O, -100, O, -100, O, -100, O, -100, O, -100, ...</td>\n",
       "    </tr>\n",
       "    <tr>\n",
       "      <th>...</th>\n",
       "      <td>...</td>\n",
       "      <td>...</td>\n",
       "      <td>...</td>\n",
       "      <td>...</td>\n",
       "      <td>...</td>\n",
       "      <td>...</td>\n",
       "    </tr>\n",
       "    <tr>\n",
       "      <th>95</th>\n",
       "      <td>PMC11141335</td>\n",
       "      <td>38827812</td>\n",
       "      <td>[Introduction, Methods and analysis, Discussio...</td>\n",
       "      <td>[background, methods, conclusions, background,...</td>\n",
       "      <td>[Introduction, [SEP], Methods and analysis, [S...</td>\n",
       "      <td>[O, background, O, methods, O, conclusions, O,...</td>\n",
       "    </tr>\n",
       "    <tr>\n",
       "      <th>96</th>\n",
       "      <td>PMC11142640</td>\n",
       "      <td>38819423</td>\n",
       "      <td>[Introduction, Results, Discussion, Materials ...</td>\n",
       "      <td>[background, results, conclusions, methods, ba...</td>\n",
       "      <td>[Introduction, [SEP], Results, [SEP], Discussi...</td>\n",
       "      <td>[O, background, O, results, O, conclusions, O,...</td>\n",
       "    </tr>\n",
       "    <tr>\n",
       "      <th>97</th>\n",
       "      <td>PMC11143364</td>\n",
       "      <td>38822081</td>\n",
       "      <td>[Introduction, Results, Discussion, Material a...</td>\n",
       "      <td>[background, results, conclusions, methods, ba...</td>\n",
       "      <td>[Introduction, [SEP], Results, [SEP], Discussi...</td>\n",
       "      <td>[O, background, O, results, O, conclusions, O,...</td>\n",
       "    </tr>\n",
       "    <tr>\n",
       "      <th>98</th>\n",
       "      <td>PMC11144131</td>\n",
       "      <td>38822893</td>\n",
       "      <td>[Introduction, Participants, materials &amp; metho...</td>\n",
       "      <td>[background, methods, results, conclusions, co...</td>\n",
       "      <td>[Introduction, [SEP], Participants, materials ...</td>\n",
       "      <td>[O, background, O, methods, O, results, O, con...</td>\n",
       "    </tr>\n",
       "    <tr>\n",
       "      <th>99</th>\n",
       "      <td>PMC11144342</td>\n",
       "      <td>38824596</td>\n",
       "      <td>[Background, Materials and methods, Western bl...</td>\n",
       "      <td>[background, methods, methods, results, conclu...</td>\n",
       "      <td>[Background, [SEP], Materials and methods, [SE...</td>\n",
       "      <td>[O, background, O, methods, O, methods, O, res...</td>\n",
       "    </tr>\n",
       "  </tbody>\n",
       "</table>\n",
       "<p>100 rows × 6 columns</p>\n",
       "</div>"
      ],
      "text/plain": [
       "          PMCID      PMID                                          sec-title  \\\n",
       "0   PMC10845090  37559243  [INTRODUCTION, INFLAMMATION AND MAJOR DEPRESSI...   \n",
       "1   PMC10845092  37644747  [INTRODUCTION, MATERIALS AND METHODS, RESULTS,...   \n",
       "2   PMC10845093  36815632  [INTRODUCTION, GENERALIZED ANXIETY DISORDER (G...   \n",
       "3   PMC10850428  37553411  [Introduction, Methods, Results, Discussion, C...   \n",
       "4    PMC1087202  15839744  [History and Epidemiology, Causative Organism ...   \n",
       "..          ...       ...                                                ...   \n",
       "95  PMC11141335  38827812  [Introduction, Methods and analysis, Discussio...   \n",
       "96  PMC11142640  38819423  [Introduction, Results, Discussion, Materials ...   \n",
       "97  PMC11143364  38822081  [Introduction, Results, Discussion, Material a...   \n",
       "98  PMC11144131  38822893  [Introduction, Participants, materials & metho...   \n",
       "99  PMC11144342  38824596  [Background, Materials and methods, Western bl...   \n",
       "\n",
       "                                             sec-norm  \\\n",
       "0   [background, nan, nan, conclusions, conclusion...   \n",
       "1   [background, methods, results, conclusions, co...   \n",
       "2   [background, nan, nan, nan, nan, conclusions, ...   \n",
       "3   [background, methods, results, conclusions, co...   \n",
       "4   [nan, nan, nan, nan, nan, nan, nan, conclusion...   \n",
       "..                                                ...   \n",
       "95  [background, methods, conclusions, background,...   \n",
       "96  [background, results, conclusions, methods, ba...   \n",
       "97  [background, results, conclusions, methods, ba...   \n",
       "98  [background, methods, results, conclusions, co...   \n",
       "99  [background, methods, methods, results, conclu...   \n",
       "\n",
       "                                      inputs_with_sep  \\\n",
       "0   [INTRODUCTION, [SEP], INFLAMMATION AND MAJOR D...   \n",
       "1   [INTRODUCTION, [SEP], MATERIALS AND METHODS, [...   \n",
       "2   [INTRODUCTION, [SEP], GENERALIZED ANXIETY DISO...   \n",
       "3   [Introduction, [SEP], Methods, [SEP], Results,...   \n",
       "4   [History and Epidemiology, [SEP], Causative Or...   \n",
       "..                                                ...   \n",
       "95  [Introduction, [SEP], Methods and analysis, [S...   \n",
       "96  [Introduction, [SEP], Results, [SEP], Discussi...   \n",
       "97  [Introduction, [SEP], Results, [SEP], Discussi...   \n",
       "98  [Introduction, [SEP], Participants, materials ...   \n",
       "99  [Background, [SEP], Materials and methods, [SE...   \n",
       "\n",
       "                                      labels_with_sep  \n",
       "0   [O, background, O, -100, O, -100, O, conclusio...  \n",
       "1   [O, background, O, methods, O, results, O, con...  \n",
       "2   [O, background, O, -100, O, -100, O, -100, O, ...  \n",
       "3   [O, background, O, methods, O, results, O, con...  \n",
       "4   [O, -100, O, -100, O, -100, O, -100, O, -100, ...  \n",
       "..                                                ...  \n",
       "95  [O, background, O, methods, O, conclusions, O,...  \n",
       "96  [O, background, O, results, O, conclusions, O,...  \n",
       "97  [O, background, O, results, O, conclusions, O,...  \n",
       "98  [O, background, O, methods, O, results, O, con...  \n",
       "99  [O, background, O, methods, O, methods, O, res...  \n",
       "\n",
       "[100 rows x 6 columns]"
      ]
     },
     "execution_count": 143,
     "metadata": {},
     "output_type": "execute_result"
    }
   ],
   "source": [
    "import pandas as pd\n",
    "\n",
    "def convert_to_sep_format(row):\n",
    "    titles = row[\"sec-title\"]  # 取得標題列表\n",
    "    labels = row[\"sec-norm\"]   # 取得標籤列表\n",
    "\n",
    "    inputs_with_sep = []\n",
    "    labels_with_sep = []\n",
    "\n",
    "    for i, title in enumerate(titles):\n",
    "        inputs_with_sep.append(title)\n",
    "        labels_with_sep.append(\"O\")  # 一般 token 標記為 \"O\"\n",
    "        \n",
    "        # 在每個標題後面插入 [SEP]，對應標籤來自 sec-norm\n",
    "        if i < len(labels):  # 確保標籤數量正確\n",
    "            inputs_with_sep.append(\"[SEP]\")\n",
    "            if pd.isna(labels[i]):\n",
    "                labels_with_sep.append('-100') ## none labeled\n",
    "            else:\n",
    "                labels_with_sep.append(labels[i])  # 讓 [SEP] 位置承擔標籤\n",
    "\n",
    "    return pd.Series([inputs_with_sep, labels_with_sep])\n",
    "\n",
    "\n",
    "# 對 DataFrame 進行轉換\n",
    "# train_df[[\"inputs_with_sep\", \"labels_with_sep\"]] = train_df.apply(convert_to_sep_format, axis=1)\n",
    "test_df[[\"inputs_with_sep\", \"labels_with_sep\"]] = test_df.apply(convert_to_sep_format, axis=1)\n",
    "\n",
    "\n",
    "# train_df = train_df[\n",
    "#     train_df['labels_with_sep'].apply(len) - train_df['labels_with_sep'].apply(lambda x: x.count('O')) > 0\n",
    "# ]\n",
    "test_df = test_df[\n",
    "    test_df['labels_with_sep'].apply(len) - test_df['labels_with_sep'].apply(lambda x: x.count('O')) > 0\n",
    "]\n",
    "test_df"
   ]
  },
  {
   "cell_type": "code",
   "execution_count": 144,
   "metadata": {},
   "outputs": [],
   "source": [
    "# train_df = train_df.drop(columns=['sec-type', 'sec-title', 'sec-norm'])\n",
    "test_df = test_df.drop(columns=[ 'sec-title', 'sec-norm'])"
   ]
  },
  {
   "cell_type": "code",
   "execution_count": null,
   "metadata": {},
   "outputs": [],
   "source": [
    "# train_df"
   ]
  },
  {
   "cell_type": "code",
   "execution_count": 145,
   "metadata": {},
   "outputs": [
    {
     "data": {
      "text/html": [
       "<div>\n",
       "<style scoped>\n",
       "    .dataframe tbody tr th:only-of-type {\n",
       "        vertical-align: middle;\n",
       "    }\n",
       "\n",
       "    .dataframe tbody tr th {\n",
       "        vertical-align: top;\n",
       "    }\n",
       "\n",
       "    .dataframe thead th {\n",
       "        text-align: right;\n",
       "    }\n",
       "</style>\n",
       "<table border=\"1\" class=\"dataframe\">\n",
       "  <thead>\n",
       "    <tr style=\"text-align: right;\">\n",
       "      <th></th>\n",
       "      <th>PMCID</th>\n",
       "      <th>PMID</th>\n",
       "      <th>inputs_with_sep</th>\n",
       "      <th>labels_with_sep</th>\n",
       "    </tr>\n",
       "  </thead>\n",
       "  <tbody>\n",
       "    <tr>\n",
       "      <th>0</th>\n",
       "      <td>PMC10845090</td>\n",
       "      <td>37559243</td>\n",
       "      <td>[INTRODUCTION, [SEP], INFLAMMATION AND MAJOR D...</td>\n",
       "      <td>[O, background, O, -100, O, -100, O, conclusio...</td>\n",
       "    </tr>\n",
       "    <tr>\n",
       "      <th>1</th>\n",
       "      <td>PMC10845092</td>\n",
       "      <td>37644747</td>\n",
       "      <td>[INTRODUCTION, [SEP], MATERIALS AND METHODS, [...</td>\n",
       "      <td>[O, background, O, methods, O, results, O, con...</td>\n",
       "    </tr>\n",
       "    <tr>\n",
       "      <th>2</th>\n",
       "      <td>PMC10845093</td>\n",
       "      <td>36815632</td>\n",
       "      <td>[INTRODUCTION, [SEP], GENERALIZED ANXIETY DISO...</td>\n",
       "      <td>[O, background, O, -100, O, -100, O, -100, O, ...</td>\n",
       "    </tr>\n",
       "    <tr>\n",
       "      <th>3</th>\n",
       "      <td>PMC10850428</td>\n",
       "      <td>37553411</td>\n",
       "      <td>[Introduction, [SEP], Methods, [SEP], Results,...</td>\n",
       "      <td>[O, background, O, methods, O, results, O, con...</td>\n",
       "    </tr>\n",
       "    <tr>\n",
       "      <th>4</th>\n",
       "      <td>PMC1087202</td>\n",
       "      <td>15839744</td>\n",
       "      <td>[History and Epidemiology, [SEP], Causative Or...</td>\n",
       "      <td>[O, -100, O, -100, O, -100, O, -100, O, -100, ...</td>\n",
       "    </tr>\n",
       "    <tr>\n",
       "      <th>...</th>\n",
       "      <td>...</td>\n",
       "      <td>...</td>\n",
       "      <td>...</td>\n",
       "      <td>...</td>\n",
       "    </tr>\n",
       "    <tr>\n",
       "      <th>95</th>\n",
       "      <td>PMC11141335</td>\n",
       "      <td>38827812</td>\n",
       "      <td>[Introduction, [SEP], Methods and analysis, [S...</td>\n",
       "      <td>[O, background, O, methods, O, conclusions, O,...</td>\n",
       "    </tr>\n",
       "    <tr>\n",
       "      <th>96</th>\n",
       "      <td>PMC11142640</td>\n",
       "      <td>38819423</td>\n",
       "      <td>[Introduction, [SEP], Results, [SEP], Discussi...</td>\n",
       "      <td>[O, background, O, results, O, conclusions, O,...</td>\n",
       "    </tr>\n",
       "    <tr>\n",
       "      <th>97</th>\n",
       "      <td>PMC11143364</td>\n",
       "      <td>38822081</td>\n",
       "      <td>[Introduction, [SEP], Results, [SEP], Discussi...</td>\n",
       "      <td>[O, background, O, results, O, conclusions, O,...</td>\n",
       "    </tr>\n",
       "    <tr>\n",
       "      <th>98</th>\n",
       "      <td>PMC11144131</td>\n",
       "      <td>38822893</td>\n",
       "      <td>[Introduction, [SEP], Participants, materials ...</td>\n",
       "      <td>[O, background, O, methods, O, results, O, con...</td>\n",
       "    </tr>\n",
       "    <tr>\n",
       "      <th>99</th>\n",
       "      <td>PMC11144342</td>\n",
       "      <td>38824596</td>\n",
       "      <td>[Background, [SEP], Materials and methods, [SE...</td>\n",
       "      <td>[O, background, O, methods, O, methods, O, res...</td>\n",
       "    </tr>\n",
       "  </tbody>\n",
       "</table>\n",
       "<p>100 rows × 4 columns</p>\n",
       "</div>"
      ],
      "text/plain": [
       "          PMCID      PMID                                    inputs_with_sep  \\\n",
       "0   PMC10845090  37559243  [INTRODUCTION, [SEP], INFLAMMATION AND MAJOR D...   \n",
       "1   PMC10845092  37644747  [INTRODUCTION, [SEP], MATERIALS AND METHODS, [...   \n",
       "2   PMC10845093  36815632  [INTRODUCTION, [SEP], GENERALIZED ANXIETY DISO...   \n",
       "3   PMC10850428  37553411  [Introduction, [SEP], Methods, [SEP], Results,...   \n",
       "4    PMC1087202  15839744  [History and Epidemiology, [SEP], Causative Or...   \n",
       "..          ...       ...                                                ...   \n",
       "95  PMC11141335  38827812  [Introduction, [SEP], Methods and analysis, [S...   \n",
       "96  PMC11142640  38819423  [Introduction, [SEP], Results, [SEP], Discussi...   \n",
       "97  PMC11143364  38822081  [Introduction, [SEP], Results, [SEP], Discussi...   \n",
       "98  PMC11144131  38822893  [Introduction, [SEP], Participants, materials ...   \n",
       "99  PMC11144342  38824596  [Background, [SEP], Materials and methods, [SE...   \n",
       "\n",
       "                                      labels_with_sep  \n",
       "0   [O, background, O, -100, O, -100, O, conclusio...  \n",
       "1   [O, background, O, methods, O, results, O, con...  \n",
       "2   [O, background, O, -100, O, -100, O, -100, O, ...  \n",
       "3   [O, background, O, methods, O, results, O, con...  \n",
       "4   [O, -100, O, -100, O, -100, O, -100, O, -100, ...  \n",
       "..                                                ...  \n",
       "95  [O, background, O, methods, O, conclusions, O,...  \n",
       "96  [O, background, O, results, O, conclusions, O,...  \n",
       "97  [O, background, O, results, O, conclusions, O,...  \n",
       "98  [O, background, O, methods, O, results, O, con...  \n",
       "99  [O, background, O, methods, O, methods, O, res...  \n",
       "\n",
       "[100 rows x 4 columns]"
      ]
     },
     "execution_count": 145,
     "metadata": {},
     "output_type": "execute_result"
    }
   ],
   "source": [
    "test_df"
   ]
  },
  {
   "cell_type": "code",
   "execution_count": 146,
   "metadata": {},
   "outputs": [],
   "source": [
    "# train_df.to_csv('Processed_Headings/train_df.csv')\n",
    "test_df.to_csv('Processed_Headings/test_df.csv')"
   ]
  },
  {
   "cell_type": "markdown",
   "metadata": {},
   "source": [
    "### from here"
   ]
  },
  {
   "cell_type": "code",
   "execution_count": 147,
   "metadata": {},
   "outputs": [],
   "source": [
    "import pandas as pd\n",
    "train_df = pd.read_csv('Processed_Headings/train_df.csv')\n",
    "test_df = pd.read_csv('Processed_Headings/test_df.csv')"
   ]
  },
  {
   "cell_type": "code",
   "execution_count": 149,
   "metadata": {},
   "outputs": [],
   "source": [
    "import ast\n",
    "\n",
    "train_df['inputs_with_sep'] = train_df['inputs_with_sep'].apply(ast.literal_eval)\n",
    "train_df['labels_with_sep'] = train_df['labels_with_sep'].apply(ast.literal_eval)\n",
    "\n",
    "test_df['inputs_with_sep'] = test_df['inputs_with_sep'].apply(ast.literal_eval)\n",
    "test_df['labels_with_sep'] = test_df['labels_with_sep'].apply(ast.literal_eval)"
   ]
  },
  {
   "cell_type": "code",
   "execution_count": 150,
   "metadata": {},
   "outputs": [
    {
     "data": {
      "text/html": [
       "<div>\n",
       "<style scoped>\n",
       "    .dataframe tbody tr th:only-of-type {\n",
       "        vertical-align: middle;\n",
       "    }\n",
       "\n",
       "    .dataframe tbody tr th {\n",
       "        vertical-align: top;\n",
       "    }\n",
       "\n",
       "    .dataframe thead th {\n",
       "        text-align: right;\n",
       "    }\n",
       "</style>\n",
       "<table border=\"1\" class=\"dataframe\">\n",
       "  <thead>\n",
       "    <tr style=\"text-align: right;\">\n",
       "      <th></th>\n",
       "      <th>PMCID</th>\n",
       "      <th>PMID</th>\n",
       "      <th>inputs_with_sep</th>\n",
       "      <th>labels_with_sep</th>\n",
       "    </tr>\n",
       "  </thead>\n",
       "  <tbody>\n",
       "    <tr>\n",
       "      <th>0</th>\n",
       "      <td>PMC6254157</td>\n",
       "      <td>19384281</td>\n",
       "      <td>[1. Introduction, [SEP], 2. Results and Discus...</td>\n",
       "      <td>[O, -100, O, -100, O, -100, O, -100]</td>\n",
       "    </tr>\n",
       "    <tr>\n",
       "      <th>1</th>\n",
       "      <td>PMC4032680</td>\n",
       "      <td>24955383</td>\n",
       "      <td>[1. Introduction, [SEP], 2. Model Hypotheses, ...</td>\n",
       "      <td>[O, -100, O, -100, O, -100, O, -100, O, -100, ...</td>\n",
       "    </tr>\n",
       "    <tr>\n",
       "      <th>2</th>\n",
       "      <td>PMC6723279</td>\n",
       "      <td>31349708</td>\n",
       "      <td>[1. Introduction, [SEP], 2. Materials and Meth...</td>\n",
       "      <td>[O, -100, O, -100, O, -100, O, -100, O, -100]</td>\n",
       "    </tr>\n",
       "    <tr>\n",
       "      <th>3</th>\n",
       "      <td>PMC5290626</td>\n",
       "      <td>28159004</td>\n",
       "      <td>[Introduction, [SEP], Large scale visualizatio...</td>\n",
       "      <td>[O, background, O, -100, O, -100, O, -100, O, ...</td>\n",
       "    </tr>\n",
       "    <tr>\n",
       "      <th>4</th>\n",
       "      <td>PMC4172818</td>\n",
       "      <td>25193322</td>\n",
       "      <td>[Background, [SEP], Methods, [SEP], Results, [...</td>\n",
       "      <td>[O, background, O, methods, O, results, O, con...</td>\n",
       "    </tr>\n",
       "    <tr>\n",
       "      <th>...</th>\n",
       "      <td>...</td>\n",
       "      <td>...</td>\n",
       "      <td>...</td>\n",
       "      <td>...</td>\n",
       "    </tr>\n",
       "    <tr>\n",
       "      <th>1922647</th>\n",
       "      <td>PMC3786481</td>\n",
       "      <td>24155782</td>\n",
       "      <td>[Introduction, [SEP], Conclusions, [SEP]]</td>\n",
       "      <td>[O, background, O, conclusions]</td>\n",
       "    </tr>\n",
       "    <tr>\n",
       "      <th>1922648</th>\n",
       "      <td>PMC7926844</td>\n",
       "      <td>33671592</td>\n",
       "      <td>[1. Introduction, [SEP], 2. Materials and Meth...</td>\n",
       "      <td>[O, -100, O, -100, O, -100, O, -100, O, -100]</td>\n",
       "    </tr>\n",
       "    <tr>\n",
       "      <th>1922649</th>\n",
       "      <td>PMC11190545</td>\n",
       "      <td>0</td>\n",
       "      <td>[Introduction, [SEP], Dataset description, [SE...</td>\n",
       "      <td>[O, background, O, -100, O, methods, O, -100, ...</td>\n",
       "    </tr>\n",
       "    <tr>\n",
       "      <th>1922650</th>\n",
       "      <td>PMC3952259</td>\n",
       "      <td>0</td>\n",
       "      <td>[Introduction, [SEP], Objectives, [SEP], Metho...</td>\n",
       "      <td>[O, background, O, objective, O, methods, O, r...</td>\n",
       "    </tr>\n",
       "    <tr>\n",
       "      <th>1922651</th>\n",
       "      <td>PMC4857381</td>\n",
       "      <td>27152122</td>\n",
       "      <td>[Background, [SEP], Methods, [SEP], Results, [...</td>\n",
       "      <td>[O, background, O, methods, O, results, O, -10...</td>\n",
       "    </tr>\n",
       "  </tbody>\n",
       "</table>\n",
       "<p>1922652 rows × 4 columns</p>\n",
       "</div>"
      ],
      "text/plain": [
       "               PMCID      PMID  \\\n",
       "0         PMC6254157  19384281   \n",
       "1         PMC4032680  24955383   \n",
       "2         PMC6723279  31349708   \n",
       "3         PMC5290626  28159004   \n",
       "4         PMC4172818  25193322   \n",
       "...              ...       ...   \n",
       "1922647   PMC3786481  24155782   \n",
       "1922648   PMC7926844  33671592   \n",
       "1922649  PMC11190545         0   \n",
       "1922650   PMC3952259         0   \n",
       "1922651   PMC4857381  27152122   \n",
       "\n",
       "                                           inputs_with_sep  \\\n",
       "0        [1. Introduction, [SEP], 2. Results and Discus...   \n",
       "1        [1. Introduction, [SEP], 2. Model Hypotheses, ...   \n",
       "2        [1. Introduction, [SEP], 2. Materials and Meth...   \n",
       "3        [Introduction, [SEP], Large scale visualizatio...   \n",
       "4        [Background, [SEP], Methods, [SEP], Results, [...   \n",
       "...                                                    ...   \n",
       "1922647          [Introduction, [SEP], Conclusions, [SEP]]   \n",
       "1922648  [1. Introduction, [SEP], 2. Materials and Meth...   \n",
       "1922649  [Introduction, [SEP], Dataset description, [SE...   \n",
       "1922650  [Introduction, [SEP], Objectives, [SEP], Metho...   \n",
       "1922651  [Background, [SEP], Methods, [SEP], Results, [...   \n",
       "\n",
       "                                           labels_with_sep  \n",
       "0                     [O, -100, O, -100, O, -100, O, -100]  \n",
       "1        [O, -100, O, -100, O, -100, O, -100, O, -100, ...  \n",
       "2            [O, -100, O, -100, O, -100, O, -100, O, -100]  \n",
       "3        [O, background, O, -100, O, -100, O, -100, O, ...  \n",
       "4        [O, background, O, methods, O, results, O, con...  \n",
       "...                                                    ...  \n",
       "1922647                    [O, background, O, conclusions]  \n",
       "1922648      [O, -100, O, -100, O, -100, O, -100, O, -100]  \n",
       "1922649  [O, background, O, -100, O, methods, O, -100, ...  \n",
       "1922650  [O, background, O, objective, O, methods, O, r...  \n",
       "1922651  [O, background, O, methods, O, results, O, -10...  \n",
       "\n",
       "[1922652 rows x 4 columns]"
      ]
     },
     "execution_count": 150,
     "metadata": {},
     "output_type": "execute_result"
    }
   ],
   "source": [
    "train_df"
   ]
  },
  {
   "cell_type": "code",
   "execution_count": 151,
   "metadata": {},
   "outputs": [
    {
     "data": {
      "text/html": [
       "<div>\n",
       "<style scoped>\n",
       "    .dataframe tbody tr th:only-of-type {\n",
       "        vertical-align: middle;\n",
       "    }\n",
       "\n",
       "    .dataframe tbody tr th {\n",
       "        vertical-align: top;\n",
       "    }\n",
       "\n",
       "    .dataframe thead th {\n",
       "        text-align: right;\n",
       "    }\n",
       "</style>\n",
       "<table border=\"1\" class=\"dataframe\">\n",
       "  <thead>\n",
       "    <tr style=\"text-align: right;\">\n",
       "      <th></th>\n",
       "      <th>Unnamed: 0</th>\n",
       "      <th>PMCID</th>\n",
       "      <th>PMID</th>\n",
       "      <th>inputs_with_sep</th>\n",
       "      <th>labels_with_sep</th>\n",
       "    </tr>\n",
       "  </thead>\n",
       "  <tbody>\n",
       "    <tr>\n",
       "      <th>0</th>\n",
       "      <td>0</td>\n",
       "      <td>PMC10845090</td>\n",
       "      <td>37559243</td>\n",
       "      <td>[INTRODUCTION, [SEP], INFLAMMATION AND MAJOR D...</td>\n",
       "      <td>[O, background, O, -100, O, -100, O, conclusio...</td>\n",
       "    </tr>\n",
       "    <tr>\n",
       "      <th>1</th>\n",
       "      <td>1</td>\n",
       "      <td>PMC10845092</td>\n",
       "      <td>37644747</td>\n",
       "      <td>[INTRODUCTION, [SEP], MATERIALS AND METHODS, [...</td>\n",
       "      <td>[O, background, O, methods, O, results, O, con...</td>\n",
       "    </tr>\n",
       "    <tr>\n",
       "      <th>2</th>\n",
       "      <td>2</td>\n",
       "      <td>PMC10845093</td>\n",
       "      <td>36815632</td>\n",
       "      <td>[INTRODUCTION, [SEP], GENERALIZED ANXIETY DISO...</td>\n",
       "      <td>[O, background, O, -100, O, -100, O, -100, O, ...</td>\n",
       "    </tr>\n",
       "    <tr>\n",
       "      <th>3</th>\n",
       "      <td>3</td>\n",
       "      <td>PMC10850428</td>\n",
       "      <td>37553411</td>\n",
       "      <td>[Introduction, [SEP], Methods, [SEP], Results,...</td>\n",
       "      <td>[O, background, O, methods, O, results, O, con...</td>\n",
       "    </tr>\n",
       "    <tr>\n",
       "      <th>4</th>\n",
       "      <td>4</td>\n",
       "      <td>PMC1087202</td>\n",
       "      <td>15839744</td>\n",
       "      <td>[History and Epidemiology, [SEP], Causative Or...</td>\n",
       "      <td>[O, -100, O, -100, O, -100, O, -100, O, -100, ...</td>\n",
       "    </tr>\n",
       "    <tr>\n",
       "      <th>...</th>\n",
       "      <td>...</td>\n",
       "      <td>...</td>\n",
       "      <td>...</td>\n",
       "      <td>...</td>\n",
       "      <td>...</td>\n",
       "    </tr>\n",
       "    <tr>\n",
       "      <th>95</th>\n",
       "      <td>95</td>\n",
       "      <td>PMC11141335</td>\n",
       "      <td>38827812</td>\n",
       "      <td>[Introduction, [SEP], Methods and analysis, [S...</td>\n",
       "      <td>[O, background, O, methods, O, conclusions, O,...</td>\n",
       "    </tr>\n",
       "    <tr>\n",
       "      <th>96</th>\n",
       "      <td>96</td>\n",
       "      <td>PMC11142640</td>\n",
       "      <td>38819423</td>\n",
       "      <td>[Introduction, [SEP], Results, [SEP], Discussi...</td>\n",
       "      <td>[O, background, O, results, O, conclusions, O,...</td>\n",
       "    </tr>\n",
       "    <tr>\n",
       "      <th>97</th>\n",
       "      <td>97</td>\n",
       "      <td>PMC11143364</td>\n",
       "      <td>38822081</td>\n",
       "      <td>[Introduction, [SEP], Results, [SEP], Discussi...</td>\n",
       "      <td>[O, background, O, results, O, conclusions, O,...</td>\n",
       "    </tr>\n",
       "    <tr>\n",
       "      <th>98</th>\n",
       "      <td>98</td>\n",
       "      <td>PMC11144131</td>\n",
       "      <td>38822893</td>\n",
       "      <td>[Introduction, [SEP], Participants, materials ...</td>\n",
       "      <td>[O, background, O, methods, O, results, O, con...</td>\n",
       "    </tr>\n",
       "    <tr>\n",
       "      <th>99</th>\n",
       "      <td>99</td>\n",
       "      <td>PMC11144342</td>\n",
       "      <td>38824596</td>\n",
       "      <td>[Background, [SEP], Materials and methods, [SE...</td>\n",
       "      <td>[O, background, O, methods, O, methods, O, res...</td>\n",
       "    </tr>\n",
       "  </tbody>\n",
       "</table>\n",
       "<p>100 rows × 5 columns</p>\n",
       "</div>"
      ],
      "text/plain": [
       "    Unnamed: 0        PMCID      PMID  \\\n",
       "0            0  PMC10845090  37559243   \n",
       "1            1  PMC10845092  37644747   \n",
       "2            2  PMC10845093  36815632   \n",
       "3            3  PMC10850428  37553411   \n",
       "4            4   PMC1087202  15839744   \n",
       "..         ...          ...       ...   \n",
       "95          95  PMC11141335  38827812   \n",
       "96          96  PMC11142640  38819423   \n",
       "97          97  PMC11143364  38822081   \n",
       "98          98  PMC11144131  38822893   \n",
       "99          99  PMC11144342  38824596   \n",
       "\n",
       "                                      inputs_with_sep  \\\n",
       "0   [INTRODUCTION, [SEP], INFLAMMATION AND MAJOR D...   \n",
       "1   [INTRODUCTION, [SEP], MATERIALS AND METHODS, [...   \n",
       "2   [INTRODUCTION, [SEP], GENERALIZED ANXIETY DISO...   \n",
       "3   [Introduction, [SEP], Methods, [SEP], Results,...   \n",
       "4   [History and Epidemiology, [SEP], Causative Or...   \n",
       "..                                                ...   \n",
       "95  [Introduction, [SEP], Methods and analysis, [S...   \n",
       "96  [Introduction, [SEP], Results, [SEP], Discussi...   \n",
       "97  [Introduction, [SEP], Results, [SEP], Discussi...   \n",
       "98  [Introduction, [SEP], Participants, materials ...   \n",
       "99  [Background, [SEP], Materials and methods, [SE...   \n",
       "\n",
       "                                      labels_with_sep  \n",
       "0   [O, background, O, -100, O, -100, O, conclusio...  \n",
       "1   [O, background, O, methods, O, results, O, con...  \n",
       "2   [O, background, O, -100, O, -100, O, -100, O, ...  \n",
       "3   [O, background, O, methods, O, results, O, con...  \n",
       "4   [O, -100, O, -100, O, -100, O, -100, O, -100, ...  \n",
       "..                                                ...  \n",
       "95  [O, background, O, methods, O, conclusions, O,...  \n",
       "96  [O, background, O, results, O, conclusions, O,...  \n",
       "97  [O, background, O, results, O, conclusions, O,...  \n",
       "98  [O, background, O, methods, O, results, O, con...  \n",
       "99  [O, background, O, methods, O, methods, O, res...  \n",
       "\n",
       "[100 rows x 5 columns]"
      ]
     },
     "execution_count": 151,
     "metadata": {},
     "output_type": "execute_result"
    }
   ],
   "source": [
    "test_df"
   ]
  },
  {
   "cell_type": "code",
   "execution_count": 117,
   "metadata": {},
   "outputs": [],
   "source": [
    "# df_grouped"
   ]
  },
  {
   "cell_type": "code",
   "execution_count": 118,
   "metadata": {},
   "outputs": [],
   "source": [
    "# type(df_grouped[\"labels_with_sep\"][0])"
   ]
  },
  {
   "cell_type": "code",
   "execution_count": 152,
   "metadata": {},
   "outputs": [],
   "source": [
    "\n",
    "\n",
    "import os\n",
    "os.environ[\"CUDA_LAUNCH_BLOCKING\"] = \"1\"\n",
    "os.environ[\"TORCH_USE_CUDA_DSA\"] = \"1\"\n",
    "\n",
    "import torch\n",
    "\n",
    "device = torch.device(\"cuda\" if torch.cuda.is_available() else \"cpu\")"
   ]
  },
  {
   "cell_type": "code",
   "execution_count": 153,
   "metadata": {},
   "outputs": [],
   "source": [
    "\n",
    "\n",
    "# torch_pad = pad_sequence(sep_none_type, batch_first=True, padding_value=-1)"
   ]
  },
  {
   "cell_type": "code",
   "execution_count": 154,
   "metadata": {},
   "outputs": [],
   "source": [
    "from torch.utils.data import DataLoader\n",
    "from transformers import BertTokenizerFast\n",
    "\n",
    "\n",
    "\n",
    "tokenizer = BertTokenizerFast.from_pretrained(\"bert-base-uncased\")\n",
    "\n",
    "MAX_LENGTH = 20  # 你希望的最大序列長度\n",
    "\n",
    "def collate_fn(batch):\n",
    "    input_ids, attention_masks, labels, word_lists, word_id_lists, sep_none_type = zip(*batch)\n",
    "    return (\n",
    "        torch.stack(input_ids),\n",
    "        torch.stack(attention_masks),\n",
    "        torch.stack(labels),\n",
    "        list(word_lists),\n",
    "        list(word_id_lists),  # list of lists，不要 stack\n",
    "        torch.stack(sep_none_type)\n",
    "    )\n"
   ]
  },
  {
   "cell_type": "code",
   "execution_count": 155,
   "metadata": {},
   "outputs": [],
   "source": [
    "import torch\n",
    "torch.backends.cudnn.deterministic = True\n",
    "torch.backends.cudnn.benchmark = False"
   ]
  },
  {
   "cell_type": "code",
   "execution_count": 156,
   "metadata": {},
   "outputs": [],
   "source": [
    "\n",
    "from transformers import BertTokenizer\n",
    "from torch.utils.data import Dataset, DataLoader\n",
    "from collections import defaultdict\n",
    "\n",
    "# 載入 BERT Tokenizer\n",
    "# tokenizer = BertTokenizer.from_pretrained(\"bert-base-uncased\")\n",
    "\n",
    "# 建立標籤映射表\n",
    "\n",
    "label2id = {\"-100\": 0, \"O\": 0, \"objective\": 1, \"background\": 2, \"methods\": 3, \"results\": 4, \"conclusions\": 5}\n",
    "# label2id = defaultdict(int, label2id)\n",
    "id2label = {v: k for k, v in label2id.items()}\n",
    "class SectionDataset(Dataset):\n",
    "    def __init__(self, df, tokenizer, max_length=MAX_LENGTH):\n",
    "        self.df = df\n",
    "        self.tokenizer = tokenizer\n",
    "        self.max_length = max_length\n",
    "\n",
    "    def __len__(self):\n",
    "        return len(self.df)\n",
    "\n",
    "    def __getitem__(self, idx):\n",
    "        row = self.df.iloc[idx]\n",
    "        inputs_with_sep = ['[CLS]'] + row[\"inputs_with_sep\"]  # 原始詞列表\n",
    "        label_with_sep = ['0'] + row[\"labels_with_sep\"]\n",
    "        sep_none_type = [1 if label == \"-100\" else 0 for label in label_with_sep]\n",
    "\n",
    "        # Tokenize\n",
    "        encoded = self.tokenizer(\n",
    "            inputs_with_sep,\n",
    "            is_split_into_words=True,\n",
    "            padding=\"max_length\",\n",
    "            truncation=True,\n",
    "            max_length=self.max_length,\n",
    "            return_tensors=\"pt\"\n",
    "        )\n",
    "\n",
    "        input_ids = encoded[\"input_ids\"].squeeze(0)\n",
    "        attention_mask = encoded[\"attention_mask\"].squeeze(0)\n",
    "\n",
    "        # 根據 word_ids 展開 label 給每個 token\n",
    "        word_ids = encoded.word_ids(batch_index=0)\n",
    "        labels_per_token = []\n",
    "        sep_none_type_per_token = []\n",
    "\n",
    "        for word_idx in word_ids:\n",
    "            if word_idx is None:\n",
    "                labels_per_token.append(0)  # special tokens\n",
    "                sep_none_type_per_token.append(0)\n",
    "            else:\n",
    "                label_name = label_with_sep[word_idx]\n",
    "                label_id = label2id.get(label_name, 0)  # fallback 用 \"O\"\n",
    "                labels_per_token.append(label_id)\n",
    "                sep_none_type_per_token.append(sep_none_type[word_idx])\n",
    "\n",
    "        labels = torch.tensor(labels_per_token, dtype=torch.long)\n",
    "        sep_none_type = torch.tensor(sep_none_type_per_token, dtype=torch.long)\n",
    "\n",
    "        return input_ids, attention_mask, labels, inputs_with_sep, word_ids, sep_none_type\n",
    "\n",
    "\n",
    "\n",
    "\n",
    "\n",
    "\n",
    "train_dataset = SectionDataset(train_df, tokenizer)\n",
    "test_dataset = SectionDataset(test_df, tokenizer)\n",
    "\n",
    "train_loader = DataLoader(train_dataset, batch_size=100, shuffle=True, collate_fn=collate_fn)\n",
    "test_loader = DataLoader(test_dataset, batch_size=100, shuffle=True, collate_fn=collate_fn)\n",
    "\n"
   ]
  },
  {
   "cell_type": "code",
   "execution_count": 157,
   "metadata": {},
   "outputs": [],
   "source": [
    "# num_tags = 6  # 你模型輸出的類別數，請替換成正確的值\n",
    "\n",
    "# for i, batch in tqdm(enumerate(train_loader)):\n",
    "#     input_ids, attention_mask, labels, word_lists, word_id_lists, sep_none_type = batch\n",
    "    \n",
    "#     # 把資料移到 CPU 來看清楚錯誤\n",
    "#     labels_cpu = labels.cpu()\n",
    "\n",
    "#     # 檢查 label 是否越界\n",
    "#     if labels_cpu.min() < 0 or labels_cpu.max() >= num_tags:\n",
    "#         print(f\"🚨 Label Error in Batch {i}\")\n",
    "#         print(\"labels.shape:\", labels.shape)\n",
    "#         print(\"labels.min():\", labels_cpu.min().item())\n",
    "#         print(\"labels.max():\", labels_cpu.max().item())\n",
    "#         print(\"labels:\", labels_cpu)\n",
    "#         break  # 可以先中止程式跑，或改成 continue 繼續印出所有有問題的 batch"
   ]
  },
  {
   "cell_type": "code",
   "execution_count": 158,
   "metadata": {},
   "outputs": [],
   "source": [
    "# !pip uninstall TorchCRF\n",
    "# !pip install transformers==4.30.2\n"
   ]
  },
  {
   "cell_type": "code",
   "execution_count": 159,
   "metadata": {},
   "outputs": [],
   "source": [
    "import os\n",
    "os.environ[\"TORCH_USE_CUDA_DSA\"] = \"1\""
   ]
  },
  {
   "cell_type": "code",
   "execution_count": 160,
   "metadata": {},
   "outputs": [],
   "source": [
    "import torch\n",
    "import torch.nn as nn\n",
    "from torchcrf import CRF\n",
    "from transformers import BertModel\n",
    "\n",
    "class MixTextCRF(CRF):\n",
    "    def __init__(self, num_tags, batch_first=True):\n",
    "        super().__init__(num_tags=num_tags, batch_first=batch_first)\n",
    "        # 初始化 transition matrix\n",
    "        nn.init.xavier_normal_(self.transitions)\n",
    "\n",
    "    def forward(self, emissions, tags, psuedo_tags=None, mask=None, reduction='mean', none_type=None, threshold=0.85):\n",
    "        \n",
    "        if reduction == 'mix':\n",
    "            # assert psuedo_tags is not None and none_type is not None\n",
    "\n",
    "            # mixed_tags = torch.where(none_type.bool(), psuedo_tags, tags)\n",
    "\n",
    "            # log-likelihood for each position\n",
    "            log_p_true = self.token_level_log_prob(emissions, tags)           # shape: [B, L]\n",
    "            log_p_pseudo = self.token_level_log_prob(emissions, psuedo_tags)  # shape: [B, L]\n",
    "            none_type = torch.stack(none_type)\n",
    "\n",
    "            with torch.no_grad():\n",
    "                log_probs = torch.log_softmax(emissions, dim=-1)\n",
    "                max_probs, _ = torch.max(log_probs, dim=-1)\n",
    "                confidence_mask = (max_probs > threshold)\n",
    "            # print(type(none_type))\n",
    "            # 建立 mask\n",
    "            mask = mask.float()\n",
    "            true_mask = ((none_type == 0).float()) * mask\n",
    "            pseudo_mask = ((none_type == 1).float()) * mask * confidence_mask.float()\n",
    "            \n",
    "            # lambda 可從 Beta 分布，也可以是 N_true / N_total\n",
    "            lambda_val = torch.distributions.Beta(0.3, 0.3).sample().to(emissions.device)\n",
    "            \n",
    "            # 最後做 mix\n",
    "            mixed_log_p = lambda_val * log_p_true * true_mask + (1 - lambda_val) * log_p_pseudo * pseudo_mask\n",
    "            \n",
    "            loss = - mixed_log_p.sum() / mask.sum()\n",
    "            return loss\n",
    "\n",
    "        else:\n",
    "            log_likelihood = self._compute_log_likelihood(emissions, tags, mask)\n",
    "            loss = -log_likelihood\n",
    "            if reduction == 'mean':\n",
    "                return loss.mean()\n",
    "            elif reduction == 'sum':\n",
    "                return loss.sum()\n",
    "            return loss\n",
    "\n",
    "    def token_level_log_prob(self, emissions, tags):\n",
    "        # emissions: [B, L, C]  -- logits\n",
    "        # tags: [B, L] -- gold or pseudo labels\n",
    "        log_probs = torch.log_softmax(emissions, dim=-1)  # shape: [B, L, C]\n",
    "        selected = log_probs.gather(2, tags.unsqueeze(-1)).squeeze(-1)  # shape: [B, L]\n",
    "        return selected\n"
   ]
  },
  {
   "cell_type": "code",
   "execution_count": null,
   "metadata": {},
   "outputs": [],
   "source": [
    "\n",
    "class BERT_CRF(nn.Module):\n",
    "    def __init__(self, num_labels):\n",
    "        super(BERT_CRF, self).__init__()\n",
    "        self.bert = BertModel.from_pretrained(\"bert-base-uncased\")\n",
    "        if hasattr(self.bert.embeddings, 'token_type_ids'):\n",
    "            del self.bert.embeddings.token_type_ids  # 移除有毒 buffer\n",
    "\n",
    "        self.hidden_dim = self.bert.config.hidden_size\n",
    "        self.fc = nn.Linear(self.hidden_dim, num_labels)\n",
    "        self.crf = MixTextCRF(num_labels, batch_first=True)\n",
    "\n",
    "    def forward(self, input_ids, attention_mask, labels=None, sep_none_type=None):\n",
    "        \n",
    "        outputs = self.bert(input_ids, attention_mask=attention_mask)\n",
    "        sequence_output = outputs.last_hidden_state\n",
    "        emissions = self.fc(sequence_output)\n",
    "        # print(emissions.shape)\n",
    "        # print(sep_none_type)\n",
    "        \n",
    "        if labels is not None:\n",
    "            with torch.no_grad():\n",
    "                decoded = self.crf.decode(emissions, mask=attention_mask.bool())\n",
    "                psuedo_labels = []\n",
    "                for i, seq in enumerate(decoded):\n",
    "                    label_tensor = torch.zeros_like(labels[i])  # 全為 0\n",
    "                    valid_mask = ((labels[i] != 0) | (sep_none_type[i] == 1)) & (attention_mask[i] == 1)\n",
    "                    valid_indices = valid_mask.nonzero(as_tuple=True)[0]\n",
    "\n",
    "                    # 按順序填入 decode 的值\n",
    "                    for j, idx in enumerate(valid_indices):\n",
    "                        if j < len(seq):\n",
    "                            label_tensor[idx] = seq[idx]\n",
    "            \n",
    "                    psuedo_labels.append(label_tensor)\n",
    "            \n",
    "                psuedo_labels = torch.stack(psuedo_labels, dim=0)\n",
    "\n",
    "\n",
    "        \n",
    "            if sum(t.sum() for t in sep_none_type) > 0:\n",
    "                loss = self.crf(\n",
    "                    emissions,\n",
    "                    labels,\n",
    "                    psuedo_tags=psuedo_labels,\n",
    "                    mask=attention_mask.bool(),\n",
    "                    reduction=\"mix\",\n",
    "                    none_type=sep_none_type\n",
    "                )\n",
    "                return loss\n",
    "            else:\n",
    "                loss = -self.crf(\n",
    "                    emissions,\n",
    "                    labels,\n",
    "                    mask=attention_mask.bool(),\n",
    "                    reduction=\"mean\"\n",
    "                )\n",
    "        else:\n",
    "            return self.crf.decode(emissions, mask=attention_mask.bool())"
   ]
  },
  {
   "cell_type": "code",
   "execution_count": 162,
   "metadata": {},
   "outputs": [
    {
     "name": "stderr",
     "output_type": "stream",
     "text": [
      "Epoch 1: 100%|██████████| 19227/19227 [39:07<00:00,  8.19it/s]\n"
     ]
    },
    {
     "name": "stdout",
     "output_type": "stream",
     "text": [
      "Epoch 1/2, Loss: 8494.7290\n"
     ]
    },
    {
     "name": "stderr",
     "output_type": "stream",
     "text": [
      "Epoch 2: 100%|██████████| 19227/19227 [39:16<00:00,  8.16it/s] "
     ]
    },
    {
     "name": "stdout",
     "output_type": "stream",
     "text": [
      "Epoch 2/2, Loss: 8418.1012\n"
     ]
    },
    {
     "name": "stderr",
     "output_type": "stream",
     "text": [
      "\n"
     ]
    }
   ],
   "source": [
    "import torch.optim as optim\n",
    "\n",
    "from tqdm import tqdm\n",
    "\n",
    "# 初始化模型\n",
    "\n",
    "model = BERT_CRF(num_labels=6)\n",
    "# 載入預訓練參數\n",
    "state_dict = torch.load(\"models/bert_crf_pretrained_300seed.pth\")\n",
    "# 允許部分 miss（例如你有改一些架構）\n",
    "model.load_state_dict(state_dict, strict=False)\n",
    "model = model.to(device)\n",
    "\n",
    "optimizer = optim.AdamW(model.parameters(), lr=5e-5)\n",
    "\n",
    "num_epochs = 2\n",
    "for epoch in range(num_epochs):\n",
    "    model.train()\n",
    "    total_loss = 0\n",
    "\n",
    "    for batch in tqdm(train_loader, desc=f'Epoch {epoch+1}'):\n",
    "        \n",
    "        input_ids, attention_mask, labels  = [x.to(device) for x in batch[:3]]\n",
    "        sep_none_type = [x.to(device) for x in batch[5]]\n",
    "        # 暫時移到 CPU，這樣錯誤訊息會完整顯示\n",
    "\n",
    "        # print(sep_none_type)\n",
    "        # print(\"attention_mask\")\n",
    "        # # print(attention_mask[0])\n",
    "        # print(labels.shape)\n",
    "        # print(labels.dtype)\n",
    "        # print(labels.min(), labels.max()) \n",
    "        torch.cuda.synchronize() \n",
    "        \n",
    "        \n",
    "        optimizer.zero_grad()\n",
    "        loss = model(input_ids, attention_mask, labels, sep_none_type)\n",
    "        # loss.backward()\n",
    "        optimizer.step()\n",
    "\n",
    "        total_loss += loss.item()\n",
    "\n",
    "    print(f\"Epoch {epoch+1}/{num_epochs}, Loss: {total_loss:.4f}\")\n"
   ]
  },
  {
   "cell_type": "code",
   "execution_count": 163,
   "metadata": {},
   "outputs": [],
   "source": [
    "torch.save(model.state_dict(), \"models/bert_crf_pretrained_Mixed_threshold_seed300.pth\")"
   ]
  },
  {
   "cell_type": "code",
   "execution_count": 81,
   "metadata": {},
   "outputs": [],
   "source": [
    "model = BERT_CRF(num_labels=6)\n",
    "# 載入預訓練參數\n",
    "state_dict = torch.load(\"models/bert_crf_pubMed_pretrained_300seed.pth\")\n",
    "# 允許部分 miss（例如你有改一些架構）\n",
    "model.load_state_dict(state_dict, strict=False)\n",
    "model = model.to(device)"
   ]
  },
  {
   "cell_type": "code",
   "execution_count": 83,
   "metadata": {},
   "outputs": [
    {
     "name": "stdout",
     "output_type": "stream",
     "text": [
      "True Labels: 490, Pred Labels: 490\n",
      "Unique True Labels: {'methods', 'background', 'conclusions', 'results', 'objective', 'O'}\n",
      "Unique Pred Labels: {'O', 'background'}\n",
      "Test Precision: 0.0051\n",
      "Test Recall: 0.1667\n",
      "Test F1 Score: 0.0099\n"
     ]
    },
    {
     "name": "stderr",
     "output_type": "stream",
     "text": [
      "/opt/packages/anaconda3-2024.10-1/lib/python3.12/site-packages/sklearn/metrics/_classification.py:1531: UndefinedMetricWarning: Precision is ill-defined and being set to 0.0 in labels with no predicted samples. Use `zero_division` parameter to control this behavior.\n",
      "  _warn_prf(average, modifier, f\"{metric.capitalize()} is\", len(result))\n"
     ]
    }
   ],
   "source": [
    "from sklearn.metrics import precision_recall_fscore_support\n",
    "\n",
    "model.eval()\n",
    "all_true_labels = []\n",
    "all_pred_labels = []\n",
    "\n",
    "with torch.no_grad():\n",
    "    for batch in test_loader:\n",
    "        input_ids, attention_mask, labels = [x.to(device) for x in batch[:3]]\n",
    "        word_lists, word_id_lists = batch[3], batch[4]\n",
    "        # sep_none_type = [x.to(device) for x in batch[5]]\n",
    "        predictions = model(input_ids, attention_mask)\n",
    "\n",
    "        for i in range(len(word_lists)):\n",
    "            word_list = word_lists[i]          # 原始詞 list\n",
    "            word_ids = word_id_lists[i]        # token 對應的 word index\n",
    "            preds = predictions[i]\n",
    "            trues = labels[i]\n",
    "            tokens = input_ids[i]\n",
    "\n",
    "            for idx, word_idx in enumerate(word_ids):\n",
    "                if word_idx is None:\n",
    "                    continue\n",
    "                word = word_list[word_idx]\n",
    "                if word == \"[SEP]\" and trues[idx].item() != -1:\n",
    "                    all_true_labels.append(id2label[trues[idx].item()])\n",
    "                    all_pred_labels.append(id2label[preds[idx]])\n",
    "\n",
    "print(f\"True Labels: {len(all_true_labels)}, Pred Labels: {len(all_pred_labels)}\")\n",
    "print(f\"Unique True Labels: {set(all_true_labels)}\")\n",
    "print(f\"Unique Pred Labels: {set(all_pred_labels)}\")\n",
    "\n",
    "precision, recall, f1, _ = precision_recall_fscore_support(\n",
    "    all_true_labels, all_pred_labels, average=\"macro\"\n",
    ")\n",
    "\n",
    "print(f\"Test Precision: {precision:.4f}\")\n",
    "print(f\"Test Recall: {recall:.4f}\")\n",
    "print(f\"Test F1 Score: {f1:.4f}\")\n"
   ]
  },
  {
   "cell_type": "code",
   "execution_count": 84,
   "metadata": {},
   "outputs": [
    {
     "name": "stdout",
     "output_type": "stream",
     "text": [
      "O: 101 (100.00%)\n"
     ]
    }
   ],
   "source": [
    "from collections import Counter\n",
    "\n",
    "conclusion_preds = [\n",
    "    pred for true, pred in zip(all_true_labels, all_pred_labels)\n",
    "    if true == \"conclusions\"\n",
    "]\n",
    "\n",
    "pred_counter = Counter(conclusion_preds)\n",
    "total = sum(pred_counter.values())\n",
    "\n",
    "for label, count in pred_counter.most_common():\n",
    "    percent = count / total * 100\n",
    "    print(f\"{label}: {count} ({percent:.2f}%)\")\n"
   ]
  },
  {
   "cell_type": "code",
   "execution_count": 85,
   "metadata": {},
   "outputs": [],
   "source": [
    "from collections import Counter\n",
    "\n",
    "conclusion_true = [\n",
    "    true for true, pred in zip(all_true_labels, all_pred_labels)\n",
    "    if pred == \"conclusions\"\n",
    "]\n",
    "\n",
    "pred_counter = Counter(conclusion_true)\n",
    "total = sum(pred_counter.values())\n",
    "\n",
    "for label, count in pred_counter.most_common():\n",
    "    percent = count / total * 100\n",
    "    print(f\"{label}: {count} ({percent:.2f}%)\")\n"
   ]
  },
  {
   "cell_type": "code",
   "execution_count": 86,
   "metadata": {},
   "outputs": [
    {
     "name": "stdout",
     "output_type": "stream",
     "text": [
      "Test Precision: 0.0009\n",
      "Test Recall: 0.0306\n",
      "Test F1 Score: 0.0018\n",
      "Test Accuracy: 0.030612244897959183\n"
     ]
    },
    {
     "name": "stderr",
     "output_type": "stream",
     "text": [
      "/opt/packages/anaconda3-2024.10-1/lib/python3.12/site-packages/sklearn/metrics/_classification.py:1531: UndefinedMetricWarning: Precision is ill-defined and being set to 0.0 in labels with no predicted samples. Use `zero_division` parameter to control this behavior.\n",
      "  _warn_prf(average, modifier, f\"{metric.capitalize()} is\", len(result))\n"
     ]
    }
   ],
   "source": [
    "from sklearn.metrics import accuracy_score\n",
    "precision, recall, f1, _ = precision_recall_fscore_support(\n",
    "    all_true_labels, all_pred_labels, average=\"weighted\"\n",
    ")\n",
    "\n",
    "print(f\"Test Precision: {precision:.4f}\")\n",
    "print(f\"Test Recall: {recall:.4f}\")\n",
    "print(f\"Test F1 Score: {f1:.4f}\")\n",
    "\n",
    "print(f\"Test Accuracy: {accuracy_score(all_true_labels, all_pred_labels)}\")"
   ]
  },
  {
   "cell_type": "code",
   "execution_count": 87,
   "metadata": {},
   "outputs": [
    {
     "name": "stdout",
     "output_type": "stream",
     "text": [
      "              precision    recall  f1-score   support\n",
      "\n",
      "           O     0.0307    1.0000    0.0595        15\n",
      "  background     0.0000    0.0000    0.0000       212\n",
      " conclusions     0.0000    0.0000    0.0000       101\n",
      "     methods     0.0000    0.0000    0.0000        85\n",
      "   objective     0.0000    0.0000    0.0000         2\n",
      "     results     0.0000    0.0000    0.0000        75\n",
      "\n",
      "    accuracy                         0.0306       490\n",
      "   macro avg     0.0051    0.1667    0.0099       490\n",
      "weighted avg     0.0009    0.0306    0.0018       490\n",
      "\n"
     ]
    },
    {
     "name": "stderr",
     "output_type": "stream",
     "text": [
      "/opt/packages/anaconda3-2024.10-1/lib/python3.12/site-packages/sklearn/metrics/_classification.py:1531: UndefinedMetricWarning: Precision is ill-defined and being set to 0.0 in labels with no predicted samples. Use `zero_division` parameter to control this behavior.\n",
      "  _warn_prf(average, modifier, f\"{metric.capitalize()} is\", len(result))\n",
      "/opt/packages/anaconda3-2024.10-1/lib/python3.12/site-packages/sklearn/metrics/_classification.py:1531: UndefinedMetricWarning: Precision is ill-defined and being set to 0.0 in labels with no predicted samples. Use `zero_division` parameter to control this behavior.\n",
      "  _warn_prf(average, modifier, f\"{metric.capitalize()} is\", len(result))\n",
      "/opt/packages/anaconda3-2024.10-1/lib/python3.12/site-packages/sklearn/metrics/_classification.py:1531: UndefinedMetricWarning: Precision is ill-defined and being set to 0.0 in labels with no predicted samples. Use `zero_division` parameter to control this behavior.\n",
      "  _warn_prf(average, modifier, f\"{metric.capitalize()} is\", len(result))\n"
     ]
    }
   ],
   "source": [
    "from sklearn.metrics import classification_report\n",
    "\n",
    "print(classification_report(all_true_labels, all_pred_labels, digits=4))\n"
   ]
  },
  {
   "cell_type": "code",
   "execution_count": 88,
   "metadata": {},
   "outputs": [
    {
     "name": "stdout",
     "output_type": "stream",
     "text": [
      "Test Precision: 0.0306\n",
      "Test Recall: 0.0306\n",
      "Test F1 Score: 0.0306\n",
      "Test Accuracy: 0.030612244897959183\n"
     ]
    }
   ],
   "source": [
    "from sklearn.metrics import accuracy_score\n",
    "precision, recall, f1, _ = precision_recall_fscore_support(\n",
    "    all_true_labels, all_pred_labels, average=\"micro\"\n",
    ")\n",
    "\n",
    "print(f\"Test Precision: {precision:.4f}\")\n",
    "print(f\"Test Recall: {recall:.4f}\")\n",
    "print(f\"Test F1 Score: {f1:.4f}\")\n",
    "\n",
    "print(f\"Test Accuracy: {accuracy_score(all_true_labels, all_pred_labels)}\")"
   ]
  },
  {
   "cell_type": "code",
   "execution_count": 89,
   "metadata": {},
   "outputs": [
    {
     "data": {
      "text/plain": [
       "<sklearn.metrics._plot.confusion_matrix.ConfusionMatrixDisplay at 0x1530bd0d30b0>"
      ]
     },
     "execution_count": 89,
     "metadata": {},
     "output_type": "execute_result"
    },
    {
     "data": {
      "image/png": "[encoded data removed]",
      "text/plain": [
       "<Figure size 640x480 with 2 Axes>"
      ]
     },
     "metadata": {},
     "output_type": "display_data"
    }
   ],
   "source": [
    "from sklearn.metrics import confusion_matrix, ConfusionMatrixDisplay\n",
    "labels = sorted(set(all_true_labels) | set(all_pred_labels))  # 統一所有可能的 label\n",
    "\n",
    "cm = confusion_matrix(all_true_labels, all_pred_labels, labels=labels)\n",
    "disp = ConfusionMatrixDisplay(confusion_matrix=cm, display_labels=labels)\n",
    "disp.plot(xticks_rotation=45, cmap=\"Blues\")"
   ]
  }
 ],
 "metadata": {
  "kernelspec": {
   "display_name": "Python 3",
   "language": "python",
   "name": "python3"
  },
  "language_info": {
   "codemirror_mode": {
    "name": "ipython",
    "version": 3
   },
   "file_extension": ".py",
   "mimetype": "text/x-python",
   "name": "python",
   "nbconvert_exporter": "python",
   "pygments_lexer": "ipython3",
   "version": "3.9.21"
  }
 },
 "nbformat": 4,
 "nbformat_minor": 4
}
